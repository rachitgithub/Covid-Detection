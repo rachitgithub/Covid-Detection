{
  "nbformat": 4,
  "nbformat_minor": 0,
  "metadata": {
    "colab": {
      "name": "COVID19Training_data-augumentation.ipynb",
      "provenance": [],
      "collapsed_sections": [],
      "include_colab_link": true
    },
    "kernelspec": {
      "name": "python3",
      "display_name": "Python 3"
    },
    "accelerator": "GPU"
  },
  "cells": [
    {
      "cell_type": "markdown",
      "metadata": {
        "id": "view-in-github",
        "colab_type": "text"
      },
      "source": [
        "<a href=\"https://colab.research.google.com/github/rachitgithub/Covid-Detection/blob/main/COVID19Training_data_augumentation.ipynb\" target=\"_parent\"><img src=\"https://colab.research.google.com/assets/colab-badge.svg\" alt=\"Open In Colab\"/></a>"
      ]
    },
    {
      "cell_type": "markdown",
      "metadata": {
        "id": "-gyKOi8EPITT"
      },
      "source": [
        "# **Install TensorFlow GPU**"
      ]
    },
    {
      "cell_type": "code",
      "metadata": {
        "id": "UboFrn87qNVe",
        "colab": {
          "base_uri": "https://localhost:8080/"
        },
        "outputId": "5a3e8ef8-525e-4be7-dca7-a1f73e6a3940"
      },
      "source": [
        "!pip install tensorflow-gpu"
      ],
      "execution_count": 1,
      "outputs": [
        {
          "output_type": "stream",
          "text": [
            "Collecting tensorflow-gpu\n",
            "\u001b[?25l  Downloading https://files.pythonhosted.org/packages/18/99/ac32fd13d56e40d4c3e6150030132519997c0bb1f06f448d970e81b177e5/tensorflow_gpu-2.3.1-cp36-cp36m-manylinux2010_x86_64.whl (320.4MB)\n",
            "\u001b[K     |████████████████████████████████| 320.4MB 49kB/s \n",
            "\u001b[?25hRequirement already satisfied: tensorboard<3,>=2.3.0 in /usr/local/lib/python3.6/dist-packages (from tensorflow-gpu) (2.3.0)\n",
            "Requirement already satisfied: h5py<2.11.0,>=2.10.0 in /usr/local/lib/python3.6/dist-packages (from tensorflow-gpu) (2.10.0)\n",
            "Requirement already satisfied: numpy<1.19.0,>=1.16.0 in /usr/local/lib/python3.6/dist-packages (from tensorflow-gpu) (1.18.5)\n",
            "Requirement already satisfied: protobuf>=3.9.2 in /usr/local/lib/python3.6/dist-packages (from tensorflow-gpu) (3.12.4)\n",
            "Requirement already satisfied: termcolor>=1.1.0 in /usr/local/lib/python3.6/dist-packages (from tensorflow-gpu) (1.1.0)\n",
            "Requirement already satisfied: wheel>=0.26 in /usr/local/lib/python3.6/dist-packages (from tensorflow-gpu) (0.35.1)\n",
            "Requirement already satisfied: astunparse==1.6.3 in /usr/local/lib/python3.6/dist-packages (from tensorflow-gpu) (1.6.3)\n",
            "Requirement already satisfied: absl-py>=0.7.0 in /usr/local/lib/python3.6/dist-packages (from tensorflow-gpu) (0.10.0)\n",
            "Requirement already satisfied: opt-einsum>=2.3.2 in /usr/local/lib/python3.6/dist-packages (from tensorflow-gpu) (3.3.0)\n",
            "Requirement already satisfied: six>=1.12.0 in /usr/local/lib/python3.6/dist-packages (from tensorflow-gpu) (1.15.0)\n",
            "Requirement already satisfied: google-pasta>=0.1.8 in /usr/local/lib/python3.6/dist-packages (from tensorflow-gpu) (0.2.0)\n",
            "Requirement already satisfied: grpcio>=1.8.6 in /usr/local/lib/python3.6/dist-packages (from tensorflow-gpu) (1.33.2)\n",
            "Requirement already satisfied: gast==0.3.3 in /usr/local/lib/python3.6/dist-packages (from tensorflow-gpu) (0.3.3)\n",
            "Requirement already satisfied: wrapt>=1.11.1 in /usr/local/lib/python3.6/dist-packages (from tensorflow-gpu) (1.12.1)\n",
            "Requirement already satisfied: keras-preprocessing<1.2,>=1.1.1 in /usr/local/lib/python3.6/dist-packages (from tensorflow-gpu) (1.1.2)\n",
            "Requirement already satisfied: tensorflow-estimator<2.4.0,>=2.3.0 in /usr/local/lib/python3.6/dist-packages (from tensorflow-gpu) (2.3.0)\n",
            "Requirement already satisfied: requests<3,>=2.21.0 in /usr/local/lib/python3.6/dist-packages (from tensorboard<3,>=2.3.0->tensorflow-gpu) (2.23.0)\n",
            "Requirement already satisfied: google-auth-oauthlib<0.5,>=0.4.1 in /usr/local/lib/python3.6/dist-packages (from tensorboard<3,>=2.3.0->tensorflow-gpu) (0.4.2)\n",
            "Requirement already satisfied: setuptools>=41.0.0 in /usr/local/lib/python3.6/dist-packages (from tensorboard<3,>=2.3.0->tensorflow-gpu) (50.3.2)\n",
            "Requirement already satisfied: werkzeug>=0.11.15 in /usr/local/lib/python3.6/dist-packages (from tensorboard<3,>=2.3.0->tensorflow-gpu) (1.0.1)\n",
            "Requirement already satisfied: tensorboard-plugin-wit>=1.6.0 in /usr/local/lib/python3.6/dist-packages (from tensorboard<3,>=2.3.0->tensorflow-gpu) (1.7.0)\n",
            "Requirement already satisfied: markdown>=2.6.8 in /usr/local/lib/python3.6/dist-packages (from tensorboard<3,>=2.3.0->tensorflow-gpu) (3.3.3)\n",
            "Requirement already satisfied: google-auth<2,>=1.6.3 in /usr/local/lib/python3.6/dist-packages (from tensorboard<3,>=2.3.0->tensorflow-gpu) (1.17.2)\n",
            "Requirement already satisfied: certifi>=2017.4.17 in /usr/local/lib/python3.6/dist-packages (from requests<3,>=2.21.0->tensorboard<3,>=2.3.0->tensorflow-gpu) (2020.11.8)\n",
            "Requirement already satisfied: urllib3!=1.25.0,!=1.25.1,<1.26,>=1.21.1 in /usr/local/lib/python3.6/dist-packages (from requests<3,>=2.21.0->tensorboard<3,>=2.3.0->tensorflow-gpu) (1.24.3)\n",
            "Requirement already satisfied: chardet<4,>=3.0.2 in /usr/local/lib/python3.6/dist-packages (from requests<3,>=2.21.0->tensorboard<3,>=2.3.0->tensorflow-gpu) (3.0.4)\n",
            "Requirement already satisfied: idna<3,>=2.5 in /usr/local/lib/python3.6/dist-packages (from requests<3,>=2.21.0->tensorboard<3,>=2.3.0->tensorflow-gpu) (2.10)\n",
            "Requirement already satisfied: requests-oauthlib>=0.7.0 in /usr/local/lib/python3.6/dist-packages (from google-auth-oauthlib<0.5,>=0.4.1->tensorboard<3,>=2.3.0->tensorflow-gpu) (1.3.0)\n",
            "Requirement already satisfied: importlib-metadata; python_version < \"3.8\" in /usr/local/lib/python3.6/dist-packages (from markdown>=2.6.8->tensorboard<3,>=2.3.0->tensorflow-gpu) (2.0.0)\n",
            "Requirement already satisfied: pyasn1-modules>=0.2.1 in /usr/local/lib/python3.6/dist-packages (from google-auth<2,>=1.6.3->tensorboard<3,>=2.3.0->tensorflow-gpu) (0.2.8)\n",
            "Requirement already satisfied: cachetools<5.0,>=2.0.0 in /usr/local/lib/python3.6/dist-packages (from google-auth<2,>=1.6.3->tensorboard<3,>=2.3.0->tensorflow-gpu) (4.1.1)\n",
            "Requirement already satisfied: rsa<5,>=3.1.4; python_version >= \"3\" in /usr/local/lib/python3.6/dist-packages (from google-auth<2,>=1.6.3->tensorboard<3,>=2.3.0->tensorflow-gpu) (4.6)\n",
            "Requirement already satisfied: oauthlib>=3.0.0 in /usr/local/lib/python3.6/dist-packages (from requests-oauthlib>=0.7.0->google-auth-oauthlib<0.5,>=0.4.1->tensorboard<3,>=2.3.0->tensorflow-gpu) (3.1.0)\n",
            "Requirement already satisfied: zipp>=0.5 in /usr/local/lib/python3.6/dist-packages (from importlib-metadata; python_version < \"3.8\"->markdown>=2.6.8->tensorboard<3,>=2.3.0->tensorflow-gpu) (3.4.0)\n",
            "Requirement already satisfied: pyasn1<0.5.0,>=0.4.6 in /usr/local/lib/python3.6/dist-packages (from pyasn1-modules>=0.2.1->google-auth<2,>=1.6.3->tensorboard<3,>=2.3.0->tensorflow-gpu) (0.4.8)\n",
            "Installing collected packages: tensorflow-gpu\n",
            "Successfully installed tensorflow-gpu-2.3.1\n"
          ],
          "name": "stdout"
        }
      ]
    },
    {
      "cell_type": "markdown",
      "metadata": {
        "id": "FLc0x1XRPPVm"
      },
      "source": [
        "# **Import GDRIVE**"
      ]
    },
    {
      "cell_type": "code",
      "metadata": {
        "colab": {
          "base_uri": "https://localhost:8080/"
        },
        "id": "2SXklTJgqQyV",
        "outputId": "a706fe35-865e-4a3f-e3ec-41f2bca569ba"
      },
      "source": [
        "from google.colab import drive\n",
        "drive.mount('/content/drive')"
      ],
      "execution_count": 2,
      "outputs": [
        {
          "output_type": "stream",
          "text": [
            "Mounted at /content/drive\n"
          ],
          "name": "stdout"
        }
      ]
    },
    {
      "cell_type": "markdown",
      "metadata": {
        "id": "M55jhmwBPTGp"
      },
      "source": [
        "# **Import Tensor Flow**"
      ]
    },
    {
      "cell_type": "code",
      "metadata": {
        "colab": {
          "base_uri": "https://localhost:8080/"
        },
        "id": "yPOllQPgqUky",
        "outputId": "18bd64d3-14b9-424e-a67c-7218e9e52ca3"
      },
      "source": [
        "import tensorflow as tf\n",
        "tf.test.gpu_device_name()\n",
        "print(tf.__version__)"
      ],
      "execution_count": 3,
      "outputs": [
        {
          "output_type": "stream",
          "text": [
            "2.3.1\n"
          ],
          "name": "stdout"
        }
      ]
    },
    {
      "cell_type": "markdown",
      "metadata": {
        "id": "qf3UaO-sPXkz"
      },
      "source": [
        "# **Import Keras Libraries**"
      ]
    },
    {
      "cell_type": "code",
      "metadata": {
        "id": "O6d6JctTqdW2"
      },
      "source": [
        "from keras.models import Sequential,load_model\n",
        "from keras.layers import Conv2D,Activation, MaxPooling2D,Dense,Flatten\n",
        "from keras.optimizers import Adam\n",
        "from keras.preprocessing.image import ImageDataGenerator\n",
        "from sklearn.metrics import accuracy_score,roc_curve,confusion_matrix,precision_score,recall_score,f1_score,roc_auc_score\n",
        "import matplotlib.pyplot as plt\n",
        "import matplotlib.pyplot as plt_False_Positive_vs_True_Positive"
      ],
      "execution_count": 4,
      "outputs": []
    },
    {
      "cell_type": "markdown",
      "metadata": {
        "id": "BoGghyDrPcMl"
      },
      "source": [
        "# **Build Sequential CNN Model with Data Augumentation**\n"
      ]
    },
    {
      "cell_type": "code",
      "metadata": {
        "id": "NHfmSsyapGlw"
      },
      "source": [
        "def Build_CNN_Model():\n",
        "    \n",
        "    # -------------------------------------------------------------------------\n",
        "    #                        Build CNN Model \n",
        "    # -------------------------------------------------------------------------\n",
        "    model = Sequential()\n",
        "    \n",
        "    #  First Block of CNN\n",
        "    model.add(Conv2D(8, (5, 5), padding='same', input_shape=(224, 224, 3)))  \n",
        "    model.add(Activation('relu'))\n",
        "    model.add(MaxPooling2D((2, 2)))\n",
        "    \n",
        "    #  Second Block of CNN\n",
        "    model.add(Conv2D(8, (3, 3),  padding='same'))  \n",
        "    model.add(Activation('relu'))\n",
        "    model.add(MaxPooling2D((2, 2)))\n",
        "\n",
        "    #  Third Block of CNN\n",
        "    model.add(Conv2D(16, (3, 3),  padding='same'))  \n",
        "    model.add(Activation('relu'))\n",
        "\n",
        "\n",
        "    #  Forth Block of CNN\n",
        "    model.add(Conv2D(16, (3, 3),  padding='same'))  \n",
        "    model.add(Activation('relu'))\n",
        "    model.add(MaxPooling2D((2, 2)))\n",
        "\n",
        "    \n",
        "    #  Flatten and Fully Connected Layer\n",
        "    model.add(Flatten())\n",
        "    model.add(Dense(10))\n",
        "    model.add(Activation('relu'))\n",
        "     \n",
        "    #  Softmax Classifier\n",
        "    model.add(Dense(2))\n",
        "    model.add(Activation('softmax'))\n",
        "        \n",
        "    #  Display model\n",
        "    model.summary()\n",
        "    \n",
        "\t# compile model\n",
        "\n",
        "    opt = Adam(learning_rate=0.001, beta_1=0.9, beta_2=0.999)\n",
        "    model.compile(optimizer=opt, loss='categorical_crossentropy', metrics=['accuracy'])\n",
        "    \n",
        "    return model \n"
      ],
      "execution_count": 5,
      "outputs": []
    },
    {
      "cell_type": "markdown",
      "metadata": {
        "id": "EeLn5RJZPnKl"
      },
      "source": [
        "# **Train Sequential CNN Model with Data Augumentation**\n"
      ]
    },
    {
      "cell_type": "code",
      "metadata": {
        "id": "iT6jo0OmquCL"
      },
      "source": [
        "# train and evalluate cnn model\n",
        "def Train_CNN_Model(model):\n",
        "    \n",
        "    # -------------------------------------------------------------------------\n",
        "    #                        Train CNN Model \n",
        "    # -------------------------------------------------------------------------\n",
        "    \n",
        "    \n",
        "    # create data generators    \n",
        "    train_datagen = ImageDataGenerator(\n",
        "                                     rescale=1.0/255.0,\n",
        "                                     featurewise_center= True,\n",
        "                                     featurewise_std_normalization = True,\n",
        "                                     rotation_range=10,\n",
        "                                     width_shift_range=0.1,\n",
        "                                     height_shift_range=0.1,\n",
        "                                     zoom_range=0.2,                                     \n",
        "                                     brightness_range=[0.2,1.0],\n",
        "                                     )\n",
        "    \n",
        "    valid_datagen = ImageDataGenerator(\n",
        "                                     rescale=1.0/255.0,\n",
        "                                     featurewise_center= True,\n",
        "                                     featurewise_std_normalization = True)\n",
        "    \n",
        "    \n",
        "   \n",
        "   \n",
        "    # prepare iterators\n",
        "    batch_size=32\n",
        "    train_it = train_datagen.flow_from_directory('/content/drive/MyDrive/COVID-19-Deep-Learning-Project-Colab/Dataset/train/',classes =('Normal','Covid'),batch_size=batch_size, target_size=(224, 224))\n",
        "    valid_it = valid_datagen.flow_from_directory('/content/drive/MyDrive/COVID-19-Deep-Learning-Project-Colab/Dataset/val/',classes =('Normal','Covid'),batch_size=batch_size, target_size=(224, 224))\n",
        "\n",
        "\n",
        "    epochs=100;\n",
        "    \n",
        "    history = model.fit_generator(train_it, steps_per_epoch=len(train_it),\n",
        "\t\tvalidation_data=valid_it, validation_steps=len(valid_it), epochs=epochs, verbose=1)\n",
        "    \n",
        "    \n",
        "    #  \"Accuracy\"\n",
        "    plt.plot(history.history['accuracy'])\n",
        "    plt.plot(history.history['val_accuracy'])\n",
        "    plt.title('model accuracy')\n",
        "    plt.ylabel('accuracy')\n",
        "    plt.xlabel('epoch')\n",
        "    plt.legend(['train', 'validation'], loc='upper left')\n",
        "    plt.show()\n",
        "    \n",
        "    # \"Loss\"\n",
        "    plt.plot(history.history['loss'])\n",
        "    plt.plot(history.history['val_loss'])\n",
        "    plt.title('model loss')\n",
        "    plt.ylabel('loss')\n",
        "    plt.xlabel('epoch')\n",
        "    plt.legend(['train', 'validation'], loc='upper left')\n",
        "    plt.show()\n",
        "\n",
        "\n",
        "\t# save model\n",
        "    model.save('/content/drive/MyDrive/COVID-19-Deep-Learning-Project-Colab/saved_models/CoVID19-sequential-Augumentation_cnn_model.h5')"
      ],
      "execution_count": 6,
      "outputs": []
    },
    {
      "cell_type": "code",
      "metadata": {
        "id": "6aIG5skmLDx0"
      },
      "source": [
        "%matplotlib inline\n",
        "from sklearn.metrics import confusion_matrix\n",
        "import itertools\n",
        "import matplotlib.pyplot as plt\n",
        "import numpy as np"
      ],
      "execution_count": 7,
      "outputs": []
    },
    {
      "cell_type": "markdown",
      "metadata": {
        "id": "akk2CJw7Pp6O"
      },
      "source": [
        "# **Evaluate Sequential CNN Model with Data Augumentation**\n"
      ]
    },
    {
      "cell_type": "code",
      "metadata": {
        "id": "5eW1T2Ekq5MM"
      },
      "source": [
        "def Evaluate_CNN_Model():\n",
        "    # -------------------------------------------------------------------------\n",
        "    #                        Evaluate CNN Model \n",
        "    # -------------------------------------------------------------------------\n",
        "    \n",
        "    # load model\n",
        "    model = load_model('/content/drive/MyDrive/COVID-19-Deep-Learning-Project-Colab/saved_models/CoVID19-sequential-Augumentation_cnn_model.h5')\n",
        "\n",
        "    \n",
        "     # load test data\n",
        "    batch_size=32\n",
        "    test_datagen = ImageDataGenerator(\n",
        "                                     rescale=1.0/255.0,\n",
        "                                     featurewise_center= True,\n",
        "                                     featurewise_std_normalization = True)\n",
        "    \n",
        "    test_it = test_datagen.flow_from_directory('/content/drive/MyDrive/COVID-19-Deep-Learning-Project-Colab/Dataset/test/',classes =('Normal','Covid'), \n",
        "                                               shuffle=False,batch_size=batch_size, target_size=(224, 224))\n",
        "    \n",
        "    \n",
        "    y_true = test_it.classes;\n",
        "\n",
        "    y_pred = model.predict_generator(test_it, steps=len(test_it), verbose=1)\n",
        "\n",
        "    \n",
        "    y_pred_prob = y_pred[:,1]\n",
        "\n",
        "     \n",
        "    y_pred_binary =  y_pred_prob > 0.5\n",
        "   \n",
        "    #Confution Matrix    \n",
        "    print('\\nConfusion Matrix\\n -------------------------')    \n",
        "    print(confusion_matrix(y_true,y_pred_binary));\n",
        "    \n",
        "    # accuracy: (tp + tn) / (p + n)\n",
        "    accuracy = accuracy_score(y_true, y_pred_binary)\n",
        "    print('Accuracy: %f' % accuracy)\n",
        "    \n",
        "    \n",
        "    # precision tp / (tp + fp)\n",
        "    precision = precision_score(y_true, y_pred_binary)\n",
        "    print('Precision: %f' % precision)\n",
        "    \n",
        "    # recall: tp / (tp + fn)\n",
        "    recall = recall_score(y_true, y_pred_binary)\n",
        "    print('Recall: %f' % recall)\n",
        "    \n",
        "    # f1: 2 tp / (2 tp + fp + fn)\n",
        "    f1 = f1_score(y_true, y_pred_binary)\n",
        "    print('F1 score: %f' % f1)    \n",
        "       \n",
        "    # ROC AUC\n",
        "    auc = roc_auc_score(y_true, y_pred_prob)\n",
        "    print('ROC AUC: %f' % auc)\n",
        "    \n",
        "    \n",
        "    # calculate roc curves\n",
        "    fpr, tpr, _ = roc_curve(y_true, y_pred_prob)\n",
        "        \n",
        "    # plot the roc curve for the model\n",
        "    plt.figure()\n",
        "    plt_False_Positive_vs_True_Positive.plot(fpr, tpr, linestyle='--', label='')\n",
        "    \n",
        "    # axis labels\n",
        "    plt_False_Positive_vs_True_Positive.xlabel('False Positive Rate')\n",
        "    plt_False_Positive_vs_True_Positive.ylabel('True Positive Rate')\n",
        "       \n",
        "    # show the legend\n",
        "    plt_False_Positive_vs_True_Positive.legend()\n",
        "    # show the plot\n",
        "    plt_False_Positive_vs_True_Positive.show()\n",
        "\n",
        "      #for plotting CM graph\n",
        "    cm = confusion_matrix(y_true,y_pred_binary)\n",
        "\n",
        "    def plot_confusion_matrix(cm, classes,\n",
        "                        normalize=False,\n",
        "                        title='Confusion matrix for Augumented CNN',\n",
        "                        cmap=plt.cm.Reds):\n",
        " \n",
        "      plt.imshow(cm, interpolation='nearest', cmap=cmap)\n",
        "      plt.title(title)\n",
        "      plt.colorbar()\n",
        "      tick_marks = np.arange(len(classes))\n",
        "      plt.xticks(tick_marks, classes, rotation=45)\n",
        "      plt.yticks(tick_marks, classes)\n",
        "\n",
        "\n",
        "\n",
        "    thresh = cm.max() / 2.\n",
        "    for i, j in itertools.product(range(cm.shape[0]), range(cm.shape[1])):\n",
        "        plt.text(j, i, cm[i, j],\n",
        "            horizontalalignment=\"center\",\n",
        "            color=\"white\" if cm[i, j] > thresh else \"black\")\n",
        "\n",
        "    plt.tight_layout()\n",
        "    plt.ylabel('Predicted Values')\n",
        "    plt.xlabel('True Values')\n",
        "    cm_plot_labels = ['No Covid','Has Covid']\n",
        "    plot_confusion_matrix(cm=cm, classes=cm_plot_labels, title='Confusion matrix for Augumented CNN')"
      ],
      "execution_count": 8,
      "outputs": []
    },
    {
      "cell_type": "code",
      "metadata": {
        "colab": {
          "base_uri": "https://localhost:8080/",
          "height": 1000
        },
        "id": "PqwwYBQsqysR",
        "outputId": "819afa21-347b-4ec6-8f8e-eafb6922cc88"
      },
      "source": [
        "%%time\n",
        "# main entry    \n",
        "model = Build_CNN_Model()\n",
        "Train_CNN_Model(model)"
      ],
      "execution_count": 9,
      "outputs": [
        {
          "output_type": "stream",
          "text": [
            "Model: \"sequential\"\n",
            "_________________________________________________________________\n",
            "Layer (type)                 Output Shape              Param #   \n",
            "=================================================================\n",
            "conv2d (Conv2D)              (None, 224, 224, 8)       608       \n",
            "_________________________________________________________________\n",
            "activation (Activation)      (None, 224, 224, 8)       0         \n",
            "_________________________________________________________________\n",
            "max_pooling2d (MaxPooling2D) (None, 112, 112, 8)       0         \n",
            "_________________________________________________________________\n",
            "conv2d_1 (Conv2D)            (None, 112, 112, 8)       584       \n",
            "_________________________________________________________________\n",
            "activation_1 (Activation)    (None, 112, 112, 8)       0         \n",
            "_________________________________________________________________\n",
            "max_pooling2d_1 (MaxPooling2 (None, 56, 56, 8)         0         \n",
            "_________________________________________________________________\n",
            "conv2d_2 (Conv2D)            (None, 56, 56, 16)        1168      \n",
            "_________________________________________________________________\n",
            "activation_2 (Activation)    (None, 56, 56, 16)        0         \n",
            "_________________________________________________________________\n",
            "conv2d_3 (Conv2D)            (None, 56, 56, 16)        2320      \n",
            "_________________________________________________________________\n",
            "activation_3 (Activation)    (None, 56, 56, 16)        0         \n",
            "_________________________________________________________________\n",
            "max_pooling2d_2 (MaxPooling2 (None, 28, 28, 16)        0         \n",
            "_________________________________________________________________\n",
            "flatten (Flatten)            (None, 12544)             0         \n",
            "_________________________________________________________________\n",
            "dense (Dense)                (None, 10)                125450    \n",
            "_________________________________________________________________\n",
            "activation_4 (Activation)    (None, 10)                0         \n",
            "_________________________________________________________________\n",
            "dense_1 (Dense)              (None, 2)                 22        \n",
            "_________________________________________________________________\n",
            "activation_5 (Activation)    (None, 2)                 0         \n",
            "=================================================================\n",
            "Total params: 130,152\n",
            "Trainable params: 130,152\n",
            "Non-trainable params: 0\n",
            "_________________________________________________________________\n",
            "Found 1846 images belonging to 2 classes.\n",
            "Found 461 images belonging to 2 classes.\n",
            "WARNING:tensorflow:From <ipython-input-6-acd44b8d37b9>:38: Model.fit_generator (from tensorflow.python.keras.engine.training) is deprecated and will be removed in a future version.\n",
            "Instructions for updating:\n",
            "Please use Model.fit, which supports generators.\n"
          ],
          "name": "stdout"
        },
        {
          "output_type": "stream",
          "text": [
            "/usr/local/lib/python3.6/dist-packages/keras_preprocessing/image/image_data_generator.py:720: UserWarning: This ImageDataGenerator specifies `featurewise_center`, but it hasn't been fit on any training data. Fit it first by calling `.fit(numpy_data)`.\n",
            "  warnings.warn('This ImageDataGenerator specifies '\n",
            "/usr/local/lib/python3.6/dist-packages/keras_preprocessing/image/image_data_generator.py:728: UserWarning: This ImageDataGenerator specifies `featurewise_std_normalization`, but it hasn't been fit on any training data. Fit it first by calling `.fit(numpy_data)`.\n",
            "  warnings.warn('This ImageDataGenerator specifies '\n"
          ],
          "name": "stderr"
        },
        {
          "output_type": "stream",
          "text": [
            "Epoch 1/100\n",
            "58/58 [==============================] - 1707s 29s/step - loss: 0.5538 - accuracy: 0.7801 - val_loss: 0.4247 - val_accuracy: 0.9089\n",
            "Epoch 2/100\n",
            "58/58 [==============================] - 102s 2s/step - loss: 0.4755 - accuracy: 0.8543 - val_loss: 0.3942 - val_accuracy: 0.9219\n",
            "Epoch 3/100\n",
            "58/58 [==============================] - 103s 2s/step - loss: 0.4283 - accuracy: 0.8879 - val_loss: 0.5314 - val_accuracy: 0.7527\n",
            "Epoch 4/100\n",
            "58/58 [==============================] - 104s 2s/step - loss: 0.4125 - accuracy: 0.8933 - val_loss: 0.3656 - val_accuracy: 0.9089\n",
            "Epoch 5/100\n",
            "58/58 [==============================] - 101s 2s/step - loss: 0.3787 - accuracy: 0.9074 - val_loss: 0.3317 - val_accuracy: 0.9306\n",
            "Epoch 6/100\n",
            "58/58 [==============================] - 101s 2s/step - loss: 0.3514 - accuracy: 0.9133 - val_loss: 0.2960 - val_accuracy: 0.9458\n",
            "Epoch 7/100\n",
            "58/58 [==============================] - 99s 2s/step - loss: 0.3198 - accuracy: 0.9290 - val_loss: 0.2897 - val_accuracy: 0.9414\n",
            "Epoch 8/100\n",
            "58/58 [==============================] - 98s 2s/step - loss: 0.3297 - accuracy: 0.9160 - val_loss: 0.2592 - val_accuracy: 0.9588\n",
            "Epoch 9/100\n",
            "58/58 [==============================] - 97s 2s/step - loss: 0.3190 - accuracy: 0.9182 - val_loss: 0.3035 - val_accuracy: 0.9176\n",
            "Epoch 10/100\n",
            "58/58 [==============================] - 99s 2s/step - loss: 0.3031 - accuracy: 0.9225 - val_loss: 0.2844 - val_accuracy: 0.9306\n",
            "Epoch 11/100\n",
            "58/58 [==============================] - 100s 2s/step - loss: 0.2890 - accuracy: 0.9345 - val_loss: 0.2380 - val_accuracy: 0.9501\n",
            "Epoch 12/100\n",
            "58/58 [==============================] - 98s 2s/step - loss: 0.2727 - accuracy: 0.9366 - val_loss: 0.2127 - val_accuracy: 0.9544\n",
            "Epoch 13/100\n",
            "58/58 [==============================] - 100s 2s/step - loss: 0.2548 - accuracy: 0.9437 - val_loss: 0.2096 - val_accuracy: 0.9544\n",
            "Epoch 14/100\n",
            "58/58 [==============================] - 101s 2s/step - loss: 0.2273 - accuracy: 0.9512 - val_loss: 0.1835 - val_accuracy: 0.9718\n",
            "Epoch 15/100\n",
            "58/58 [==============================] - 102s 2s/step - loss: 0.2289 - accuracy: 0.9458 - val_loss: 0.1777 - val_accuracy: 0.9696\n",
            "Epoch 16/100\n",
            "58/58 [==============================] - 102s 2s/step - loss: 0.2335 - accuracy: 0.9415 - val_loss: 0.1593 - val_accuracy: 0.9783\n",
            "Epoch 17/100\n",
            "58/58 [==============================] - 102s 2s/step - loss: 0.2036 - accuracy: 0.9561 - val_loss: 0.1862 - val_accuracy: 0.9566\n",
            "Epoch 18/100\n",
            "58/58 [==============================] - 103s 2s/step - loss: 0.2128 - accuracy: 0.9480 - val_loss: 0.1802 - val_accuracy: 0.9566\n",
            "Epoch 19/100\n",
            "58/58 [==============================] - 104s 2s/step - loss: 0.2025 - accuracy: 0.9453 - val_loss: 0.2440 - val_accuracy: 0.9219\n",
            "Epoch 20/100\n",
            "58/58 [==============================] - 102s 2s/step - loss: 0.1995 - accuracy: 0.9507 - val_loss: 0.1497 - val_accuracy: 0.9740\n",
            "Epoch 21/100\n",
            "58/58 [==============================] - 102s 2s/step - loss: 0.1829 - accuracy: 0.9545 - val_loss: 0.1411 - val_accuracy: 0.9740\n",
            "Epoch 22/100\n",
            "58/58 [==============================] - 102s 2s/step - loss: 0.1639 - accuracy: 0.9642 - val_loss: 0.1633 - val_accuracy: 0.9588\n",
            "Epoch 23/100\n",
            "58/58 [==============================] - 102s 2s/step - loss: 0.1738 - accuracy: 0.9561 - val_loss: 0.1349 - val_accuracy: 0.9718\n",
            "Epoch 24/100\n",
            "58/58 [==============================] - 104s 2s/step - loss: 0.1750 - accuracy: 0.9605 - val_loss: 0.2067 - val_accuracy: 0.9328\n",
            "Epoch 25/100\n",
            "58/58 [==============================] - 104s 2s/step - loss: 0.1721 - accuracy: 0.9475 - val_loss: 0.0708 - val_accuracy: 0.9761\n",
            "Epoch 26/100\n",
            "58/58 [==============================] - 104s 2s/step - loss: 0.1310 - accuracy: 0.9523 - val_loss: 0.1034 - val_accuracy: 0.9610\n",
            "Epoch 27/100\n",
            "58/58 [==============================] - 103s 2s/step - loss: 0.1335 - accuracy: 0.9523 - val_loss: 0.0616 - val_accuracy: 0.9805\n",
            "Epoch 28/100\n",
            "58/58 [==============================] - 104s 2s/step - loss: 0.1015 - accuracy: 0.9680 - val_loss: 0.0735 - val_accuracy: 0.9718\n",
            "Epoch 29/100\n",
            "58/58 [==============================] - 102s 2s/step - loss: 0.1255 - accuracy: 0.9599 - val_loss: 0.0751 - val_accuracy: 0.9783\n",
            "Epoch 30/100\n",
            "58/58 [==============================] - 102s 2s/step - loss: 0.0970 - accuracy: 0.9621 - val_loss: 0.0844 - val_accuracy: 0.9826\n",
            "Epoch 31/100\n",
            "58/58 [==============================] - 104s 2s/step - loss: 0.1092 - accuracy: 0.9615 - val_loss: 0.0635 - val_accuracy: 0.9761\n",
            "Epoch 32/100\n",
            "58/58 [==============================] - 103s 2s/step - loss: 0.1026 - accuracy: 0.9664 - val_loss: 0.0730 - val_accuracy: 0.9675\n",
            "Epoch 33/100\n",
            "58/58 [==============================] - 100s 2s/step - loss: 0.0869 - accuracy: 0.9632 - val_loss: 0.0957 - val_accuracy: 0.9653\n",
            "Epoch 34/100\n",
            "58/58 [==============================] - 102s 2s/step - loss: 0.0929 - accuracy: 0.9637 - val_loss: 0.0955 - val_accuracy: 0.9696\n",
            "Epoch 35/100\n",
            "58/58 [==============================] - 101s 2s/step - loss: 0.1049 - accuracy: 0.9632 - val_loss: 0.1074 - val_accuracy: 0.9588\n",
            "Epoch 36/100\n",
            "58/58 [==============================] - 102s 2s/step - loss: 0.0956 - accuracy: 0.9686 - val_loss: 0.2260 - val_accuracy: 0.9349\n",
            "Epoch 37/100\n",
            "58/58 [==============================] - 103s 2s/step - loss: 0.0757 - accuracy: 0.9724 - val_loss: 0.1380 - val_accuracy: 0.9544\n",
            "Epoch 38/100\n",
            "58/58 [==============================] - 103s 2s/step - loss: 0.0863 - accuracy: 0.9724 - val_loss: 0.1276 - val_accuracy: 0.9610\n",
            "Epoch 39/100\n",
            "58/58 [==============================] - 102s 2s/step - loss: 0.1087 - accuracy: 0.9637 - val_loss: 0.0764 - val_accuracy: 0.9740\n",
            "Epoch 40/100\n",
            "58/58 [==============================] - 104s 2s/step - loss: 0.1002 - accuracy: 0.9626 - val_loss: 0.1188 - val_accuracy: 0.9566\n",
            "Epoch 41/100\n",
            "58/58 [==============================] - 102s 2s/step - loss: 0.0896 - accuracy: 0.9675 - val_loss: 0.1734 - val_accuracy: 0.9458\n",
            "Epoch 42/100\n",
            "58/58 [==============================] - 102s 2s/step - loss: 0.0976 - accuracy: 0.9648 - val_loss: 0.1150 - val_accuracy: 0.9588\n",
            "Epoch 43/100\n",
            "58/58 [==============================] - 104s 2s/step - loss: 0.0957 - accuracy: 0.9751 - val_loss: 0.1694 - val_accuracy: 0.9371\n",
            "Epoch 44/100\n",
            "58/58 [==============================] - 102s 2s/step - loss: 0.0735 - accuracy: 0.9756 - val_loss: 0.1083 - val_accuracy: 0.9501\n",
            "Epoch 45/100\n",
            "58/58 [==============================] - 102s 2s/step - loss: 0.0702 - accuracy: 0.9745 - val_loss: 0.0725 - val_accuracy: 0.9696\n",
            "Epoch 46/100\n",
            "58/58 [==============================] - 104s 2s/step - loss: 0.0657 - accuracy: 0.9751 - val_loss: 0.1748 - val_accuracy: 0.9414\n",
            "Epoch 47/100\n",
            "58/58 [==============================] - 103s 2s/step - loss: 0.0755 - accuracy: 0.9751 - val_loss: 0.0637 - val_accuracy: 0.9761\n",
            "Epoch 48/100\n",
            "58/58 [==============================] - 103s 2s/step - loss: 0.0799 - accuracy: 0.9724 - val_loss: 0.0627 - val_accuracy: 0.9740\n",
            "Epoch 49/100\n",
            "58/58 [==============================] - 104s 2s/step - loss: 0.0665 - accuracy: 0.9756 - val_loss: 0.0430 - val_accuracy: 0.9805\n",
            "Epoch 50/100\n",
            "58/58 [==============================] - 103s 2s/step - loss: 0.0706 - accuracy: 0.9772 - val_loss: 0.0865 - val_accuracy: 0.9718\n",
            "Epoch 51/100\n",
            "58/58 [==============================] - 103s 2s/step - loss: 0.0711 - accuracy: 0.9740 - val_loss: 0.0992 - val_accuracy: 0.9653\n",
            "Epoch 52/100\n",
            "58/58 [==============================] - 104s 2s/step - loss: 0.0792 - accuracy: 0.9735 - val_loss: 0.0675 - val_accuracy: 0.9718\n",
            "Epoch 53/100\n",
            "58/58 [==============================] - 103s 2s/step - loss: 0.0537 - accuracy: 0.9843 - val_loss: 0.1077 - val_accuracy: 0.9675\n",
            "Epoch 54/100\n",
            "58/58 [==============================] - 101s 2s/step - loss: 0.0661 - accuracy: 0.9724 - val_loss: 0.1117 - val_accuracy: 0.9696\n",
            "Epoch 55/100\n",
            "58/58 [==============================] - 102s 2s/step - loss: 0.0666 - accuracy: 0.9789 - val_loss: 0.0571 - val_accuracy: 0.9805\n",
            "Epoch 56/100\n",
            "58/58 [==============================] - 102s 2s/step - loss: 0.0597 - accuracy: 0.9810 - val_loss: 0.0363 - val_accuracy: 0.9870\n",
            "Epoch 57/100\n",
            "58/58 [==============================] - 103s 2s/step - loss: 0.0654 - accuracy: 0.9800 - val_loss: 0.0687 - val_accuracy: 0.9696\n",
            "Epoch 58/100\n",
            "58/58 [==============================] - 104s 2s/step - loss: 0.0544 - accuracy: 0.9805 - val_loss: 0.1004 - val_accuracy: 0.9610\n",
            "Epoch 59/100\n",
            "58/58 [==============================] - 100s 2s/step - loss: 0.0604 - accuracy: 0.9789 - val_loss: 0.0876 - val_accuracy: 0.9696\n",
            "Epoch 60/100\n",
            "58/58 [==============================] - 101s 2s/step - loss: 0.0516 - accuracy: 0.9843 - val_loss: 0.0816 - val_accuracy: 0.9718\n",
            "Epoch 61/100\n",
            "58/58 [==============================] - 103s 2s/step - loss: 0.0539 - accuracy: 0.9800 - val_loss: 0.1252 - val_accuracy: 0.9696\n",
            "Epoch 62/100\n",
            "58/58 [==============================] - 103s 2s/step - loss: 0.0717 - accuracy: 0.9762 - val_loss: 0.1967 - val_accuracy: 0.9523\n",
            "Epoch 63/100\n",
            "58/58 [==============================] - 103s 2s/step - loss: 0.0737 - accuracy: 0.9713 - val_loss: 0.0628 - val_accuracy: 0.9761\n",
            "Epoch 64/100\n",
            "58/58 [==============================] - 104s 2s/step - loss: 0.0596 - accuracy: 0.9832 - val_loss: 0.1089 - val_accuracy: 0.9610\n",
            "Epoch 65/100\n",
            "58/58 [==============================] - 103s 2s/step - loss: 0.0696 - accuracy: 0.9740 - val_loss: 0.0588 - val_accuracy: 0.9696\n",
            "Epoch 66/100\n",
            "58/58 [==============================] - 103s 2s/step - loss: 0.0509 - accuracy: 0.9821 - val_loss: 0.0768 - val_accuracy: 0.9675\n",
            "Epoch 67/100\n",
            "58/58 [==============================] - 103s 2s/step - loss: 0.0534 - accuracy: 0.9794 - val_loss: 0.0525 - val_accuracy: 0.9805\n",
            "Epoch 68/100\n",
            "58/58 [==============================] - 103s 2s/step - loss: 0.0428 - accuracy: 0.9827 - val_loss: 0.0487 - val_accuracy: 0.9826\n",
            "Epoch 69/100\n",
            "58/58 [==============================] - 101s 2s/step - loss: 0.0607 - accuracy: 0.9794 - val_loss: 0.0576 - val_accuracy: 0.9761\n",
            "Epoch 70/100\n",
            "58/58 [==============================] - 101s 2s/step - loss: 0.0591 - accuracy: 0.9767 - val_loss: 0.0621 - val_accuracy: 0.9805\n",
            "Epoch 71/100\n",
            "58/58 [==============================] - 101s 2s/step - loss: 0.0645 - accuracy: 0.9832 - val_loss: 0.1156 - val_accuracy: 0.9588\n",
            "Epoch 72/100\n",
            "58/58 [==============================] - 102s 2s/step - loss: 0.0487 - accuracy: 0.9805 - val_loss: 0.0835 - val_accuracy: 0.9718\n",
            "Epoch 73/100\n",
            "58/58 [==============================] - 103s 2s/step - loss: 0.0605 - accuracy: 0.9805 - val_loss: 0.1140 - val_accuracy: 0.9675\n",
            "Epoch 74/100\n",
            "58/58 [==============================] - 103s 2s/step - loss: 0.0530 - accuracy: 0.9810 - val_loss: 0.0321 - val_accuracy: 0.9892\n",
            "Epoch 75/100\n",
            "58/58 [==============================] - 103s 2s/step - loss: 0.0465 - accuracy: 0.9816 - val_loss: 0.0886 - val_accuracy: 0.9761\n",
            "Epoch 76/100\n",
            "58/58 [==============================] - 101s 2s/step - loss: 0.0572 - accuracy: 0.9805 - val_loss: 0.0528 - val_accuracy: 0.9805\n",
            "Epoch 77/100\n",
            "58/58 [==============================] - 99s 2s/step - loss: 0.0579 - accuracy: 0.9827 - val_loss: 0.0527 - val_accuracy: 0.9805\n",
            "Epoch 78/100\n",
            "58/58 [==============================] - 99s 2s/step - loss: 0.0468 - accuracy: 0.9837 - val_loss: 0.0310 - val_accuracy: 0.9870\n",
            "Epoch 79/100\n",
            "58/58 [==============================] - 102s 2s/step - loss: 0.0579 - accuracy: 0.9800 - val_loss: 0.0598 - val_accuracy: 0.9761\n",
            "Epoch 80/100\n",
            "58/58 [==============================] - 103s 2s/step - loss: 0.0383 - accuracy: 0.9902 - val_loss: 0.0577 - val_accuracy: 0.9761\n",
            "Epoch 81/100\n",
            "58/58 [==============================] - 104s 2s/step - loss: 0.0416 - accuracy: 0.9832 - val_loss: 0.0630 - val_accuracy: 0.9848\n",
            "Epoch 82/100\n",
            "58/58 [==============================] - 104s 2s/step - loss: 0.0523 - accuracy: 0.9821 - val_loss: 0.0501 - val_accuracy: 0.9892\n",
            "Epoch 83/100\n",
            "58/58 [==============================] - 103s 2s/step - loss: 0.0484 - accuracy: 0.9843 - val_loss: 0.1070 - val_accuracy: 0.9718\n",
            "Epoch 84/100\n",
            "58/58 [==============================] - 104s 2s/step - loss: 0.0409 - accuracy: 0.9865 - val_loss: 0.0500 - val_accuracy: 0.9848\n",
            "Epoch 85/100\n",
            "58/58 [==============================] - 103s 2s/step - loss: 0.0428 - accuracy: 0.9854 - val_loss: 0.0887 - val_accuracy: 0.9740\n",
            "Epoch 86/100\n",
            "58/58 [==============================] - 104s 2s/step - loss: 0.0352 - accuracy: 0.9897 - val_loss: 0.0951 - val_accuracy: 0.9740\n",
            "Epoch 87/100\n",
            "58/58 [==============================] - 104s 2s/step - loss: 0.0469 - accuracy: 0.9870 - val_loss: 0.0648 - val_accuracy: 0.9805\n",
            "Epoch 88/100\n",
            "58/58 [==============================] - 104s 2s/step - loss: 0.0400 - accuracy: 0.9881 - val_loss: 0.1844 - val_accuracy: 0.9458\n",
            "Epoch 89/100\n",
            "58/58 [==============================] - 103s 2s/step - loss: 0.0531 - accuracy: 0.9837 - val_loss: 0.0433 - val_accuracy: 0.9870\n",
            "Epoch 90/100\n",
            "58/58 [==============================] - 104s 2s/step - loss: 0.0385 - accuracy: 0.9881 - val_loss: 0.0512 - val_accuracy: 0.9848\n",
            "Epoch 91/100\n",
            "58/58 [==============================] - 103s 2s/step - loss: 0.0430 - accuracy: 0.9854 - val_loss: 0.0362 - val_accuracy: 0.9892\n",
            "Epoch 92/100\n",
            "58/58 [==============================] - 104s 2s/step - loss: 0.0358 - accuracy: 0.9886 - val_loss: 0.0346 - val_accuracy: 0.9892\n",
            "Epoch 93/100\n",
            "58/58 [==============================] - 104s 2s/step - loss: 0.0473 - accuracy: 0.9859 - val_loss: 0.0558 - val_accuracy: 0.9805\n",
            "Epoch 94/100\n",
            "58/58 [==============================] - 103s 2s/step - loss: 0.0446 - accuracy: 0.9870 - val_loss: 0.0471 - val_accuracy: 0.9848\n",
            "Epoch 95/100\n",
            "58/58 [==============================] - 103s 2s/step - loss: 0.0312 - accuracy: 0.9913 - val_loss: 0.0931 - val_accuracy: 0.9653\n",
            "Epoch 96/100\n",
            "58/58 [==============================] - 103s 2s/step - loss: 0.0629 - accuracy: 0.9783 - val_loss: 0.0258 - val_accuracy: 0.9892\n",
            "Epoch 97/100\n",
            "58/58 [==============================] - 102s 2s/step - loss: 0.0454 - accuracy: 0.9827 - val_loss: 0.0308 - val_accuracy: 0.9848\n",
            "Epoch 98/100\n",
            "58/58 [==============================] - 103s 2s/step - loss: 0.0487 - accuracy: 0.9848 - val_loss: 0.0975 - val_accuracy: 0.9631\n",
            "Epoch 99/100\n",
            "58/58 [==============================] - 103s 2s/step - loss: 0.0522 - accuracy: 0.9821 - val_loss: 0.0448 - val_accuracy: 0.9805\n",
            "Epoch 100/100\n",
            "58/58 [==============================] - 103s 2s/step - loss: 0.0398 - accuracy: 0.9843 - val_loss: 0.0730 - val_accuracy: 0.9718\n"
          ],
          "name": "stdout"
        },
        {
          "output_type": "display_data",
          "data": {
            "image/png": "[encoded data removed]",
            "text/plain": [
              "<Figure size 432x288 with 1 Axes>"
            ]
          },
          "metadata": {
            "tags": [],
            "needs_background": "light"
          }
        },
        {
          "output_type": "display_data",
          "data": {
            "image/png": "[encoded data removed]",
            "text/plain": [
              "<Figure size 432x288 with 1 Axes>"
            ]
          },
          "metadata": {
            "tags": [],
            "needs_background": "light"
          }
        },
        {
          "output_type": "stream",
          "text": [
            "CPU times: user 2h 42min 28s, sys: 5min 13s, total: 2h 47min 41s\n",
            "Wall time: 3h 20min 51s\n"
          ],
          "name": "stdout"
        }
      ]
    },
    {
      "cell_type": "code",
      "metadata": {
        "id": "Sxn2m1qIgk4I"
      },
      "source": [
        "%matplotlib inline\n",
        "from sklearn.metrics import confusion_matrix\n",
        "import itertools\n",
        "import matplotlib.pyplot as plt\n",
        "import numpy as np"
      ],
      "execution_count": 10,
      "outputs": []
    },
    {
      "cell_type": "code",
      "metadata": {
        "colab": {
          "base_uri": "https://localhost:8080/",
          "height": 974
        },
        "id": "FUjCk2STKMf3",
        "outputId": "94ac6358-e7b9-4275-8b4d-854f1c5ea1c9"
      },
      "source": [
        "Evaluate_CNN_Model()"
      ],
      "execution_count": 11,
      "outputs": [
        {
          "output_type": "stream",
          "text": [
            "Found 139 images belonging to 2 classes.\n",
            "WARNING:tensorflow:From <ipython-input-8-09d88817587f>:23: Model.predict_generator (from tensorflow.python.keras.engine.training) is deprecated and will be removed in a future version.\n",
            "Instructions for updating:\n",
            "Please use Model.predict, which supports generators.\n"
          ],
          "name": "stdout"
        },
        {
          "output_type": "stream",
          "text": [
            "/usr/local/lib/python3.6/dist-packages/keras_preprocessing/image/image_data_generator.py:720: UserWarning: This ImageDataGenerator specifies `featurewise_center`, but it hasn't been fit on any training data. Fit it first by calling `.fit(numpy_data)`.\n",
            "  warnings.warn('This ImageDataGenerator specifies '\n",
            "/usr/local/lib/python3.6/dist-packages/keras_preprocessing/image/image_data_generator.py:728: UserWarning: This ImageDataGenerator specifies `featurewise_std_normalization`, but it hasn't been fit on any training data. Fit it first by calling `.fit(numpy_data)`.\n",
            "  warnings.warn('This ImageDataGenerator specifies '\n"
          ],
          "name": "stderr"
        },
        {
          "output_type": "stream",
          "text": [
            "5/5 [==============================] - 72s 14s/step\n"
          ],
          "name": "stdout"
        },
        {
          "output_type": "stream",
          "text": [
            "No handles with labels found to put in legend.\n"
          ],
          "name": "stderr"
        },
        {
          "output_type": "stream",
          "text": [
            "\n",
            "Confusion Matrix\n",
            " -------------------------\n",
            "[[70  0]\n",
            " [ 8 61]]\n",
            "Accuracy: 0.942446\n",
            "Precision: 1.000000\n",
            "Recall: 0.884058\n",
            "F1 score: 0.938462\n",
            "ROC AUC: 0.996066\n"
          ],
          "name": "stdout"
        },
        {
          "output_type": "display_data",
          "data": {
            "image/png": "[encoded data removed]",
            "text/plain": [
              "<Figure size 432x288 with 1 Axes>"
            ]
          },
          "metadata": {
            "tags": [],
            "needs_background": "light"
          }
        },
        {
          "output_type": "display_data",
          "data": {
            "image/png": "[encoded data removed]",
            "text/plain": [
              "<Figure size 432x288 with 2 Axes>"
            ]
          },
          "metadata": {
            "tags": [],
            "needs_background": "light"
          }
        }
      ]
    }
  ]
}