{
  "nbformat": 4,
  "nbformat_minor": 0,
  "metadata": {
    "accelerator": "GPU",
    "colab": {
      "name": "COVID19Training-Sequential.ipynb",
      "provenance": [],
      "collapsed_sections": [],
      "toc_visible": true,
      "mount_file_id": "1quBgUo0N1e7wAGUEKvSl-emEVYMEvnin",
      "authorship_tag": "ABX9TyP75Hbkzq3hwaPUEZj4ej7s",
      "include_colab_link": true
    },
    "kernelspec": {
      "display_name": "Python 3",
      "name": "python3"
    }
  },
  "cells": [
    {
      "cell_type": "markdown",
      "metadata": {
        "id": "view-in-github",
        "colab_type": "text"
      },
      "source": [
        "<a href=\"https://colab.research.google.com/github/rachitgithub/Covid-Detection/blob/main/COVID19Training_Sequential.ipynb\" target=\"_parent\"><img src=\"https://colab.research.google.com/assets/colab-badge.svg\" alt=\"Open In Colab\"/></a>"
      ]
    },
    {
      "cell_type": "markdown",
      "metadata": {
        "id": "t_X9m0sG9kc3"
      },
      "source": [
        "## **Install TensorFlow**\n",
        "\n"
      ]
    },
    {
      "cell_type": "code",
      "metadata": {
        "id": "GTg7WqznD-hG"
      },
      "source": [
        "!pip install tensorflow-gpu"
      ],
      "execution_count": null,
      "outputs": []
    },
    {
      "cell_type": "markdown",
      "metadata": {
        "id": "Du10QSPv9y4w"
      },
      "source": [
        "# **Mount Google Drive**"
      ]
    },
    {
      "cell_type": "code",
      "metadata": {
        "colab": {
          "base_uri": "https://localhost:8080/"
        },
        "id": "5rjluwHgGMNC",
        "outputId": "85230b99-33c8-4706-d87b-3b957fc1a7ad"
      },
      "source": [
        "from google.colab import drive\n",
        "drive.mount('/content/drive', force_remount=True)"
      ],
      "execution_count": 2,
      "outputs": [
        {
          "output_type": "stream",
          "text": [
            "Mounted at /content/drive\n"
          ],
          "name": "stdout"
        }
      ]
    },
    {
      "cell_type": "markdown",
      "metadata": {
        "id": "Q3b-V_Ux96rT"
      },
      "source": [
        "# **Import TensorFlow and GPU**"
      ]
    },
    {
      "cell_type": "code",
      "metadata": {
        "colab": {
          "base_uri": "https://localhost:8080/"
        },
        "id": "sx8wt7npFlKf",
        "outputId": "83ac95bb-2073-4cfe-fb75-a8870762a440"
      },
      "source": [
        "import tensorflow as tf\n",
        "tf.test.gpu_device_name()\n",
        "print(tf.__version__)"
      ],
      "execution_count": 1,
      "outputs": [
        {
          "output_type": "stream",
          "text": [
            "2.3.0\n"
          ],
          "name": "stdout"
        }
      ]
    },
    {
      "cell_type": "markdown",
      "metadata": {
        "id": "UYh12rCR9_uS"
      },
      "source": [
        "# ***Create Directory to save model***"
      ]
    },
    {
      "cell_type": "code",
      "metadata": {
        "colab": {
          "base_uri": "https://localhost:8080/"
        },
        "id": "NCDzF7K59f61",
        "outputId": "5da002ba-7086-4f61-ffc6-d87da981e658"
      },
      "source": [
        "#!rmdir -p /content/drive/MyDrive/COVID-19-Deep-Learning-Project-Colab/saved_models\n",
        "#!mkdir -p /content/drive/MyDrive/COVID-19-Deep-Learning-Project-Colab/saved_models"
      ],
      "execution_count": null,
      "outputs": [
        {
          "output_type": "stream",
          "text": [
            "rmdir: failed to remove directory '/content/drive/MyDrive/COVID-19-Deep-Learning-Project-Colab': Directory not empty\n"
          ],
          "name": "stdout"
        }
      ]
    },
    {
      "cell_type": "markdown",
      "metadata": {
        "id": "UiMH5Z1H-Hoh"
      },
      "source": [
        "# Import Keras **Libraries**"
      ]
    },
    {
      "cell_type": "code",
      "metadata": {
        "id": "zQiugSehF8TP"
      },
      "source": [
        "from keras.models import Sequential\n",
        "from keras.layers import Conv2D,Activation, MaxPooling2D,Dense,Flatten\n",
        "from keras.optimizers import SGD\n",
        "from keras.preprocessing.image import ImageDataGenerator\n",
        "import matplotlib.pyplot as plt\n",
        "import re\n",
        "import os"
      ],
      "execution_count": 2,
      "outputs": []
    },
    {
      "cell_type": "markdown",
      "metadata": {
        "id": "_RMkjqMl-LYB"
      },
      "source": [
        "# **Build. Sequential CNN Model**"
      ]
    },
    {
      "cell_type": "code",
      "metadata": {
        "id": "syutrQoAHTVF"
      },
      "source": [
        "def Build_CNN_Model():\n",
        "    \n",
        "    # -------------------------------------------------------------------------\n",
        "    #                        Build CNN Model \n",
        "    # -------------------------------------------------------------------------\n",
        "    model = Sequential()  \n",
        "    \n",
        "    #  First Block of CNN\n",
        "    model.add(Conv2D(32, (3, 3), padding='same', input_shape=(224, 224, 3)))  \n",
        "    model.add(Activation('relu'))\n",
        "    model.add(MaxPooling2D((2, 2)))   \n",
        "    \n",
        "    #  Second Block of CNN\n",
        "    model.add(Conv2D(64, (3, 3),  padding='same'))  \n",
        "    model.add(Activation('relu'))\n",
        "    model.add(MaxPooling2D((2, 2)))\n",
        "    \n",
        "    #  Third Block of CNN\n",
        "    model.add(Conv2D(128, (3, 3), padding='same'))  \n",
        "    model.add(Activation('relu'))\n",
        "    model.add(MaxPooling2D((2, 2)))      \n",
        "    \n",
        "    #  Flatten and Fully Connected Layer\n",
        "    model.add(Flatten())\n",
        "    model.add(Dense(1000))\n",
        "    model.add(Activation('relu'))     \n",
        "    \n",
        "    #  Softmax Classifier\n",
        "    model.add(Dense(2))\n",
        "    model.add(Activation('softmax'))        \n",
        "    \n",
        "    #  Display model\n",
        "    model.summary()    \n",
        "\t\n",
        "    # compile model\n",
        "    opt = SGD(learning_rate=0.001)\n",
        "    model.compile(optimizer=opt, loss='categorical_crossentropy', metrics=['accuracy'])\n",
        "    \n",
        "    return model      \n",
        "   "
      ],
      "execution_count": 3,
      "outputs": []
    },
    {
      "cell_type": "markdown",
      "metadata": {
        "id": "sq2m4MRf-RYU"
      },
      "source": [
        "# **Train the CNN model**"
      ]
    },
    {
      "cell_type": "code",
      "metadata": {
        "id": "b2MGR-RBHX_2"
      },
      "source": [
        "def Train_CNN_Model(model):\n",
        "    \n",
        "    # -------------------------------------------------------------------------\n",
        "    #                        Train CNN Model \n",
        "    # -------------------------------------------------------------------------\n",
        "    \n",
        "    # create data generators    \n",
        "    train_datagen = ImageDataGenerator(\n",
        "                                     rescale=1.0/255.0,\n",
        "                                     featurewise_center= True,\n",
        "                                     featurewise_std_normalization = True)\n",
        "    \n",
        "    valid_datagen = ImageDataGenerator(\n",
        "                                     rescale=1.0/255.0,\n",
        "                                     featurewise_center= True,\n",
        "                                     featurewise_std_normalization = True)\n",
        "    \n",
        "   \n",
        "    # prepare iterators\n",
        "    batch_size=32\n",
        "    train_it = train_datagen.flow_from_directory('/content/drive/MyDrive/COVID-19-Deep-Learning-Project-Colab/Dataset/train/',classes =('Normal','Covid'),batch_size=batch_size, target_size=(224, 224))\n",
        "    valid_it = valid_datagen.flow_from_directory('/content/drive/MyDrive/COVID-19-Deep-Learning-Project-Colab/Dataset/val/',classes =('Normal','Covid'),batch_size=batch_size, target_size=(224, 224))\n",
        "\n",
        "\n",
        "    epochs=100;\n",
        "    \n",
        "    history = model.fit(train_it, steps_per_epoch=len(train_it),\n",
        "\t\tvalidation_data=valid_it, validation_steps=len(valid_it), epochs=epochs, verbose=1)\n",
        "    \n",
        "    \n",
        "    #  \"Accuracy\"\n",
        "    plt.plot(history.history['accuracy'])\n",
        "    plt.plot(history.history['val_accuracy'])\n",
        "    plt.title('model accuracy')\n",
        "    plt.ylabel('accuracy')\n",
        "    plt.xlabel('epoch')\n",
        "    plt.legend(['train', 'validation'], loc='upper left')\n",
        "    plt.show()\n",
        "    \n",
        "    # \"Loss\"\n",
        "    plt.plot(history.history['loss'])\n",
        "    plt.plot(history.history['val_loss'])\n",
        "    plt.title('model loss')\n",
        "    plt.ylabel('loss')\n",
        "    plt.xlabel('epoch')\n",
        "    plt.legend(['train', 'validation'], loc='upper left')\n",
        "    plt.show()\n",
        "\n",
        "\t# save model\n",
        "    model.save('/content/drive/MyDrive/COVID-19-Deep-Learning-Project-Colab/saved_models/CoVID19-normal_cnn_model.h5')\n",
        "    "
      ],
      "execution_count": 4,
      "outputs": []
    },
    {
      "cell_type": "markdown",
      "metadata": {
        "id": "aHhsfp8l-VxX"
      },
      "source": [
        "# **Run the build and train functions**"
      ]
    },
    {
      "cell_type": "code",
      "metadata": {
        "colab": {
          "base_uri": "https://localhost:8080/",
          "height": 1000
        },
        "id": "7dtOXcp4Hcaj",
        "outputId": "b7766792-240c-4143-f25e-b0cc634d0098"
      },
      "source": [
        "%%time\n",
        "# main entry \n",
        "model = Build_CNN_Model()\n",
        "\n",
        "Train_CNN_Model(model)"
      ],
      "execution_count": 5,
      "outputs": [
        {
          "output_type": "stream",
          "text": [
            "Model: \"sequential\"\n",
            "_________________________________________________________________\n",
            "Layer (type)                 Output Shape              Param #   \n",
            "=================================================================\n",
            "conv2d (Conv2D)              (None, 224, 224, 32)      896       \n",
            "_________________________________________________________________\n",
            "activation (Activation)      (None, 224, 224, 32)      0         \n",
            "_________________________________________________________________\n",
            "max_pooling2d (MaxPooling2D) (None, 112, 112, 32)      0         \n",
            "_________________________________________________________________\n",
            "conv2d_1 (Conv2D)            (None, 112, 112, 64)      18496     \n",
            "_________________________________________________________________\n",
            "activation_1 (Activation)    (None, 112, 112, 64)      0         \n",
            "_________________________________________________________________\n",
            "max_pooling2d_1 (MaxPooling2 (None, 56, 56, 64)        0         \n",
            "_________________________________________________________________\n",
            "conv2d_2 (Conv2D)            (None, 56, 56, 128)       73856     \n",
            "_________________________________________________________________\n",
            "activation_2 (Activation)    (None, 56, 56, 128)       0         \n",
            "_________________________________________________________________\n",
            "max_pooling2d_2 (MaxPooling2 (None, 28, 28, 128)       0         \n",
            "_________________________________________________________________\n",
            "flatten (Flatten)            (None, 100352)            0         \n",
            "_________________________________________________________________\n",
            "dense (Dense)                (None, 1000)              100353000 \n",
            "_________________________________________________________________\n",
            "activation_3 (Activation)    (None, 1000)              0         \n",
            "_________________________________________________________________\n",
            "dense_1 (Dense)              (None, 2)                 2002      \n",
            "_________________________________________________________________\n",
            "activation_4 (Activation)    (None, 2)                 0         \n",
            "=================================================================\n",
            "Total params: 100,448,250\n",
            "Trainable params: 100,448,250\n",
            "Non-trainable params: 0\n",
            "_________________________________________________________________\n",
            "Found 1846 images belonging to 2 classes.\n",
            "Found 461 images belonging to 2 classes.\n"
          ],
          "name": "stdout"
        },
        {
          "output_type": "stream",
          "text": [
            "/usr/local/lib/python3.6/dist-packages/keras_preprocessing/image/image_data_generator.py:720: UserWarning: This ImageDataGenerator specifies `featurewise_center`, but it hasn't been fit on any training data. Fit it first by calling `.fit(numpy_data)`.\n",
            "  warnings.warn('This ImageDataGenerator specifies '\n",
            "/usr/local/lib/python3.6/dist-packages/keras_preprocessing/image/image_data_generator.py:728: UserWarning: This ImageDataGenerator specifies `featurewise_std_normalization`, but it hasn't been fit on any training data. Fit it first by calling `.fit(numpy_data)`.\n",
            "  warnings.warn('This ImageDataGenerator specifies '\n"
          ],
          "name": "stderr"
        },
        {
          "output_type": "stream",
          "text": [
            "Epoch 1/100\n",
            "58/58 [==============================] - 1576s 27s/step - loss: 0.5692 - accuracy: 0.8478 - val_loss: 0.4604 - val_accuracy: 0.9024\n",
            "Epoch 2/100\n",
            "58/58 [==============================] - 73s 1s/step - loss: 0.3848 - accuracy: 0.9074 - val_loss: 0.3181 - val_accuracy: 0.9132\n",
            "Epoch 3/100\n",
            "58/58 [==============================] - 72s 1s/step - loss: 0.2835 - accuracy: 0.9155 - val_loss: 0.2459 - val_accuracy: 0.9284\n",
            "Epoch 4/100\n",
            "58/58 [==============================] - 72s 1s/step - loss: 0.2370 - accuracy: 0.9215 - val_loss: 0.2135 - val_accuracy: 0.9328\n",
            "Epoch 5/100\n",
            "58/58 [==============================] - 71s 1s/step - loss: 0.2123 - accuracy: 0.9274 - val_loss: 0.1921 - val_accuracy: 0.9393\n",
            "Epoch 6/100\n",
            "58/58 [==============================] - 72s 1s/step - loss: 0.1956 - accuracy: 0.9274 - val_loss: 0.1798 - val_accuracy: 0.9414\n",
            "Epoch 7/100\n",
            "58/58 [==============================] - 72s 1s/step - loss: 0.1861 - accuracy: 0.9290 - val_loss: 0.1639 - val_accuracy: 0.9414\n",
            "Epoch 8/100\n",
            "58/58 [==============================] - 71s 1s/step - loss: 0.1712 - accuracy: 0.9377 - val_loss: 0.1526 - val_accuracy: 0.9458\n",
            "Epoch 9/100\n",
            "58/58 [==============================] - 72s 1s/step - loss: 0.1610 - accuracy: 0.9420 - val_loss: 0.1522 - val_accuracy: 0.9414\n",
            "Epoch 10/100\n",
            "58/58 [==============================] - 71s 1s/step - loss: 0.1567 - accuracy: 0.9420 - val_loss: 0.1331 - val_accuracy: 0.9479\n",
            "Epoch 11/100\n",
            "58/58 [==============================] - 71s 1s/step - loss: 0.1450 - accuracy: 0.9458 - val_loss: 0.1194 - val_accuracy: 0.9523\n",
            "Epoch 12/100\n",
            "58/58 [==============================] - 71s 1s/step - loss: 0.1417 - accuracy: 0.9475 - val_loss: 0.1134 - val_accuracy: 0.9588\n",
            "Epoch 13/100\n",
            "58/58 [==============================] - 71s 1s/step - loss: 0.1343 - accuracy: 0.9502 - val_loss: 0.1090 - val_accuracy: 0.9610\n",
            "Epoch 14/100\n",
            "58/58 [==============================] - 71s 1s/step - loss: 0.1341 - accuracy: 0.9485 - val_loss: 0.1017 - val_accuracy: 0.9675\n",
            "Epoch 15/100\n",
            "58/58 [==============================] - 68s 1s/step - loss: 0.1283 - accuracy: 0.9512 - val_loss: 0.0980 - val_accuracy: 0.9696\n",
            "Epoch 16/100\n",
            "58/58 [==============================] - 69s 1s/step - loss: 0.1246 - accuracy: 0.9534 - val_loss: 0.0939 - val_accuracy: 0.9696\n",
            "Epoch 17/100\n",
            "58/58 [==============================] - 69s 1s/step - loss: 0.1197 - accuracy: 0.9550 - val_loss: 0.1374 - val_accuracy: 0.9371\n",
            "Epoch 18/100\n",
            "58/58 [==============================] - 69s 1s/step - loss: 0.1209 - accuracy: 0.9540 - val_loss: 0.0865 - val_accuracy: 0.9740\n",
            "Epoch 19/100\n",
            "58/58 [==============================] - 68s 1s/step - loss: 0.1156 - accuracy: 0.9572 - val_loss: 0.0914 - val_accuracy: 0.9610\n",
            "Epoch 20/100\n",
            "58/58 [==============================] - 68s 1s/step - loss: 0.1092 - accuracy: 0.9577 - val_loss: 0.0854 - val_accuracy: 0.9653\n",
            "Epoch 21/100\n",
            "58/58 [==============================] - 68s 1s/step - loss: 0.1091 - accuracy: 0.9594 - val_loss: 0.0930 - val_accuracy: 0.9610\n",
            "Epoch 22/100\n",
            "58/58 [==============================] - 70s 1s/step - loss: 0.1078 - accuracy: 0.9594 - val_loss: 0.0833 - val_accuracy: 0.9675\n",
            "Epoch 23/100\n",
            "58/58 [==============================] - 72s 1s/step - loss: 0.1044 - accuracy: 0.9605 - val_loss: 0.0887 - val_accuracy: 0.9631\n",
            "Epoch 24/100\n",
            "58/58 [==============================] - 73s 1s/step - loss: 0.1041 - accuracy: 0.9588 - val_loss: 0.0710 - val_accuracy: 0.9761\n",
            "Epoch 25/100\n",
            "58/58 [==============================] - 70s 1s/step - loss: 0.0935 - accuracy: 0.9664 - val_loss: 0.0806 - val_accuracy: 0.9696\n",
            "Epoch 26/100\n",
            "58/58 [==============================] - 69s 1s/step - loss: 0.0958 - accuracy: 0.9621 - val_loss: 0.0674 - val_accuracy: 0.9740\n",
            "Epoch 27/100\n",
            "58/58 [==============================] - 69s 1s/step - loss: 0.1101 - accuracy: 0.9540 - val_loss: 0.0675 - val_accuracy: 0.9761\n",
            "Epoch 28/100\n",
            "58/58 [==============================] - 68s 1s/step - loss: 0.0945 - accuracy: 0.9637 - val_loss: 0.1029 - val_accuracy: 0.9566\n",
            "Epoch 29/100\n",
            "58/58 [==============================] - 71s 1s/step - loss: 0.1003 - accuracy: 0.9637 - val_loss: 0.0679 - val_accuracy: 0.9718\n",
            "Epoch 30/100\n",
            "58/58 [==============================] - 73s 1s/step - loss: 0.0969 - accuracy: 0.9642 - val_loss: 0.0796 - val_accuracy: 0.9696\n",
            "Epoch 31/100\n",
            "58/58 [==============================] - 72s 1s/step - loss: 0.0886 - accuracy: 0.9675 - val_loss: 0.0654 - val_accuracy: 0.9740\n",
            "Epoch 32/100\n",
            "58/58 [==============================] - 72s 1s/step - loss: 0.0938 - accuracy: 0.9659 - val_loss: 0.0612 - val_accuracy: 0.9761\n",
            "Epoch 33/100\n",
            "58/58 [==============================] - 69s 1s/step - loss: 0.0893 - accuracy: 0.9664 - val_loss: 0.0622 - val_accuracy: 0.9740\n",
            "Epoch 34/100\n",
            "58/58 [==============================] - 69s 1s/step - loss: 0.0897 - accuracy: 0.9653 - val_loss: 0.0634 - val_accuracy: 0.9718\n",
            "Epoch 35/100\n",
            "58/58 [==============================] - 72s 1s/step - loss: 0.0886 - accuracy: 0.9648 - val_loss: 0.1027 - val_accuracy: 0.9653\n",
            "Epoch 36/100\n",
            "58/58 [==============================] - 75s 1s/step - loss: 0.0896 - accuracy: 0.9675 - val_loss: 0.0615 - val_accuracy: 0.9761\n",
            "Epoch 37/100\n",
            "58/58 [==============================] - 74s 1s/step - loss: 0.0824 - accuracy: 0.9702 - val_loss: 0.0591 - val_accuracy: 0.9761\n",
            "Epoch 38/100\n",
            "58/58 [==============================] - 75s 1s/step - loss: 0.0835 - accuracy: 0.9713 - val_loss: 0.0574 - val_accuracy: 0.9740\n",
            "Epoch 39/100\n",
            "58/58 [==============================] - 75s 1s/step - loss: 0.0789 - accuracy: 0.9680 - val_loss: 0.0718 - val_accuracy: 0.9783\n",
            "Epoch 40/100\n",
            "58/58 [==============================] - 76s 1s/step - loss: 0.1029 - accuracy: 0.9599 - val_loss: 0.0581 - val_accuracy: 0.9761\n",
            "Epoch 41/100\n",
            "58/58 [==============================] - 76s 1s/step - loss: 0.0795 - accuracy: 0.9729 - val_loss: 0.0550 - val_accuracy: 0.9740\n",
            "Epoch 42/100\n",
            "58/58 [==============================] - 76s 1s/step - loss: 0.0797 - accuracy: 0.9680 - val_loss: 0.0916 - val_accuracy: 0.9675\n",
            "Epoch 43/100\n",
            "58/58 [==============================] - 76s 1s/step - loss: 0.0818 - accuracy: 0.9691 - val_loss: 0.0590 - val_accuracy: 0.9761\n",
            "Epoch 44/100\n",
            "58/58 [==============================] - 76s 1s/step - loss: 0.0879 - accuracy: 0.9680 - val_loss: 0.0571 - val_accuracy: 0.9761\n",
            "Epoch 45/100\n",
            "58/58 [==============================] - 76s 1s/step - loss: 0.0785 - accuracy: 0.9697 - val_loss: 0.0593 - val_accuracy: 0.9783\n",
            "Epoch 46/100\n",
            "58/58 [==============================] - 76s 1s/step - loss: 0.0843 - accuracy: 0.9697 - val_loss: 0.0559 - val_accuracy: 0.9761\n",
            "Epoch 47/100\n",
            "58/58 [==============================] - 75s 1s/step - loss: 0.0729 - accuracy: 0.9724 - val_loss: 0.0764 - val_accuracy: 0.9740\n",
            "Epoch 48/100\n",
            "58/58 [==============================] - 75s 1s/step - loss: 0.0755 - accuracy: 0.9702 - val_loss: 0.0630 - val_accuracy: 0.9783\n",
            "Epoch 49/100\n",
            "58/58 [==============================] - 74s 1s/step - loss: 0.0768 - accuracy: 0.9724 - val_loss: 0.0500 - val_accuracy: 0.9826\n",
            "Epoch 50/100\n",
            "58/58 [==============================] - 74s 1s/step - loss: 0.0737 - accuracy: 0.9740 - val_loss: 0.0494 - val_accuracy: 0.9761\n",
            "Epoch 51/100\n",
            "58/58 [==============================] - 73s 1s/step - loss: 0.0724 - accuracy: 0.9740 - val_loss: 0.0658 - val_accuracy: 0.9740\n",
            "Epoch 52/100\n",
            "58/58 [==============================] - 74s 1s/step - loss: 0.0722 - accuracy: 0.9729 - val_loss: 0.0510 - val_accuracy: 0.9783\n",
            "Epoch 53/100\n",
            "58/58 [==============================] - 75s 1s/step - loss: 0.0692 - accuracy: 0.9745 - val_loss: 0.0497 - val_accuracy: 0.9805\n",
            "Epoch 54/100\n",
            "58/58 [==============================] - 75s 1s/step - loss: 0.0674 - accuracy: 0.9745 - val_loss: 0.0478 - val_accuracy: 0.9848\n",
            "Epoch 55/100\n",
            "58/58 [==============================] - 76s 1s/step - loss: 0.0690 - accuracy: 0.9724 - val_loss: 0.0492 - val_accuracy: 0.9805\n",
            "Epoch 56/100\n",
            "58/58 [==============================] - 78s 1s/step - loss: 0.0663 - accuracy: 0.9745 - val_loss: 0.0491 - val_accuracy: 0.9805\n",
            "Epoch 57/100\n",
            "58/58 [==============================] - 75s 1s/step - loss: 0.0730 - accuracy: 0.9702 - val_loss: 0.0495 - val_accuracy: 0.9848\n",
            "Epoch 58/100\n",
            "58/58 [==============================] - 74s 1s/step - loss: 0.0692 - accuracy: 0.9762 - val_loss: 0.1117 - val_accuracy: 0.9523\n",
            "Epoch 59/100\n",
            "58/58 [==============================] - 74s 1s/step - loss: 0.0655 - accuracy: 0.9778 - val_loss: 0.0677 - val_accuracy: 0.9740\n",
            "Epoch 60/100\n",
            "58/58 [==============================] - 74s 1s/step - loss: 0.0682 - accuracy: 0.9756 - val_loss: 0.0485 - val_accuracy: 0.9783\n",
            "Epoch 61/100\n",
            "58/58 [==============================] - 74s 1s/step - loss: 0.0598 - accuracy: 0.9783 - val_loss: 0.0485 - val_accuracy: 0.9805\n",
            "Epoch 62/100\n",
            "58/58 [==============================] - 74s 1s/step - loss: 0.0605 - accuracy: 0.9783 - val_loss: 0.0650 - val_accuracy: 0.9718\n",
            "Epoch 63/100\n",
            "58/58 [==============================] - 74s 1s/step - loss: 0.0668 - accuracy: 0.9735 - val_loss: 0.0439 - val_accuracy: 0.9805\n",
            "Epoch 64/100\n",
            "58/58 [==============================] - 73s 1s/step - loss: 0.0562 - accuracy: 0.9805 - val_loss: 0.0424 - val_accuracy: 0.9805\n",
            "Epoch 65/100\n",
            "58/58 [==============================] - 73s 1s/step - loss: 0.0608 - accuracy: 0.9783 - val_loss: 0.0433 - val_accuracy: 0.9848\n",
            "Epoch 66/100\n",
            "58/58 [==============================] - 73s 1s/step - loss: 0.0577 - accuracy: 0.9810 - val_loss: 0.0444 - val_accuracy: 0.9870\n",
            "Epoch 67/100\n",
            "58/58 [==============================] - 73s 1s/step - loss: 0.0615 - accuracy: 0.9805 - val_loss: 0.0756 - val_accuracy: 0.9718\n",
            "Epoch 68/100\n",
            "58/58 [==============================] - 72s 1s/step - loss: 0.0791 - accuracy: 0.9713 - val_loss: 0.0651 - val_accuracy: 0.9740\n",
            "Epoch 69/100\n",
            "58/58 [==============================] - 73s 1s/step - loss: 0.0653 - accuracy: 0.9756 - val_loss: 0.0463 - val_accuracy: 0.9870\n",
            "Epoch 70/100\n",
            "58/58 [==============================] - 73s 1s/step - loss: 0.0607 - accuracy: 0.9767 - val_loss: 0.0397 - val_accuracy: 0.9848\n",
            "Epoch 71/100\n",
            "58/58 [==============================] - 73s 1s/step - loss: 0.0781 - accuracy: 0.9718 - val_loss: 0.0417 - val_accuracy: 0.9805\n",
            "Epoch 72/100\n",
            "58/58 [==============================] - 73s 1s/step - loss: 0.0569 - accuracy: 0.9832 - val_loss: 0.0486 - val_accuracy: 0.9805\n",
            "Epoch 73/100\n",
            "58/58 [==============================] - 73s 1s/step - loss: 0.0588 - accuracy: 0.9783 - val_loss: 0.0468 - val_accuracy: 0.9826\n",
            "Epoch 74/100\n",
            "58/58 [==============================] - 72s 1s/step - loss: 0.0595 - accuracy: 0.9794 - val_loss: 0.0492 - val_accuracy: 0.9805\n",
            "Epoch 75/100\n",
            "58/58 [==============================] - 72s 1s/step - loss: 0.0534 - accuracy: 0.9805 - val_loss: 0.0944 - val_accuracy: 0.9588\n",
            "Epoch 76/100\n",
            "58/58 [==============================] - 72s 1s/step - loss: 0.0565 - accuracy: 0.9794 - val_loss: 0.0459 - val_accuracy: 0.9892\n",
            "Epoch 77/100\n",
            "58/58 [==============================] - 73s 1s/step - loss: 0.0523 - accuracy: 0.9805 - val_loss: 0.0548 - val_accuracy: 0.9826\n",
            "Epoch 78/100\n",
            "58/58 [==============================] - 72s 1s/step - loss: 0.0496 - accuracy: 0.9843 - val_loss: 0.0421 - val_accuracy: 0.9805\n",
            "Epoch 79/100\n",
            "58/58 [==============================] - 72s 1s/step - loss: 0.0498 - accuracy: 0.9848 - val_loss: 0.0384 - val_accuracy: 0.9826\n",
            "Epoch 80/100\n",
            "58/58 [==============================] - 72s 1s/step - loss: 0.0505 - accuracy: 0.9821 - val_loss: 0.0513 - val_accuracy: 0.9783\n",
            "Epoch 81/100\n",
            "58/58 [==============================] - 73s 1s/step - loss: 0.0466 - accuracy: 0.9859 - val_loss: 0.0603 - val_accuracy: 0.9783\n",
            "Epoch 82/100\n",
            "58/58 [==============================] - 72s 1s/step - loss: 0.0786 - accuracy: 0.9740 - val_loss: 0.0461 - val_accuracy: 0.9870\n",
            "Epoch 83/100\n",
            "58/58 [==============================] - 73s 1s/step - loss: 0.0519 - accuracy: 0.9827 - val_loss: 0.0384 - val_accuracy: 0.9826\n",
            "Epoch 84/100\n",
            "58/58 [==============================] - 72s 1s/step - loss: 0.0516 - accuracy: 0.9832 - val_loss: 0.0394 - val_accuracy: 0.9826\n",
            "Epoch 85/100\n",
            "58/58 [==============================] - 72s 1s/step - loss: 0.0587 - accuracy: 0.9827 - val_loss: 0.0417 - val_accuracy: 0.9826\n",
            "Epoch 86/100\n",
            "58/58 [==============================] - 73s 1s/step - loss: 0.0471 - accuracy: 0.9843 - val_loss: 0.0373 - val_accuracy: 0.9826\n",
            "Epoch 87/100\n",
            "58/58 [==============================] - 72s 1s/step - loss: 0.0480 - accuracy: 0.9816 - val_loss: 0.0417 - val_accuracy: 0.9913\n",
            "Epoch 88/100\n",
            "58/58 [==============================] - 72s 1s/step - loss: 0.0438 - accuracy: 0.9870 - val_loss: 0.0437 - val_accuracy: 0.9826\n",
            "Epoch 89/100\n",
            "58/58 [==============================] - 72s 1s/step - loss: 0.0457 - accuracy: 0.9848 - val_loss: 0.0458 - val_accuracy: 0.9826\n",
            "Epoch 90/100\n",
            "58/58 [==============================] - 71s 1s/step - loss: 0.0528 - accuracy: 0.9816 - val_loss: 0.0517 - val_accuracy: 0.9805\n",
            "Epoch 91/100\n",
            "58/58 [==============================] - 71s 1s/step - loss: 0.0507 - accuracy: 0.9827 - val_loss: 0.0437 - val_accuracy: 0.9826\n",
            "Epoch 92/100\n",
            "58/58 [==============================] - 71s 1s/step - loss: 0.0491 - accuracy: 0.9821 - val_loss: 0.0456 - val_accuracy: 0.9826\n",
            "Epoch 93/100\n",
            "58/58 [==============================] - 71s 1s/step - loss: 0.0441 - accuracy: 0.9843 - val_loss: 0.0383 - val_accuracy: 0.9892\n",
            "Epoch 94/100\n",
            "58/58 [==============================] - 71s 1s/step - loss: 0.0530 - accuracy: 0.9794 - val_loss: 0.2268 - val_accuracy: 0.9176\n",
            "Epoch 95/100\n",
            "58/58 [==============================] - 71s 1s/step - loss: 0.0497 - accuracy: 0.9789 - val_loss: 0.1142 - val_accuracy: 0.9544\n",
            "Epoch 96/100\n",
            "58/58 [==============================] - 71s 1s/step - loss: 0.0607 - accuracy: 0.9751 - val_loss: 0.0452 - val_accuracy: 0.9848\n",
            "Epoch 97/100\n",
            "58/58 [==============================] - 70s 1s/step - loss: 0.0462 - accuracy: 0.9832 - val_loss: 0.0352 - val_accuracy: 0.9826\n",
            "Epoch 98/100\n",
            "58/58 [==============================] - 71s 1s/step - loss: 0.0476 - accuracy: 0.9821 - val_loss: 0.0356 - val_accuracy: 0.9870\n",
            "Epoch 99/100\n",
            "58/58 [==============================] - 70s 1s/step - loss: 0.0600 - accuracy: 0.9751 - val_loss: 0.0358 - val_accuracy: 0.9870\n",
            "Epoch 100/100\n",
            "58/58 [==============================] - 70s 1s/step - loss: 0.0462 - accuracy: 0.9827 - val_loss: 0.1230 - val_accuracy: 0.9631\n"
          ],
          "name": "stdout"
        },
        {
          "output_type": "display_data",
          "data": {
            "image/png": "[encoded data removed]",
            "text/plain": [
              "<Figure size 432x288 with 1 Axes>"
            ]
          },
          "metadata": {
            "tags": [],
            "needs_background": "light"
          }
        },
        {
          "output_type": "display_data",
          "data": {
            "image/png": "[encoded data removed]",
            "text/plain": [
              "<Figure size 432x288 with 1 Axes>"
            ]
          },
          "metadata": {
            "tags": [],
            "needs_background": "light"
          }
        },
        {
          "output_type": "stream",
          "text": [
            "CPU times: user 1h 56min 30s, sys: 5min 46s, total: 2h 2min 16s\n",
            "Wall time: 2h 28min 35s\n"
          ],
          "name": "stdout"
        }
      ]
    },
    {
      "cell_type": "markdown",
      "metadata": {
        "id": "6IRWGbhaAHs2"
      },
      "source": [
        "# **Import Keras Libraries**"
      ]
    },
    {
      "cell_type": "code",
      "metadata": {
        "id": "fv8Vy-BZVakc"
      },
      "source": [
        "from keras.models import Sequential,load_model\n",
        "from keras.layers import Conv2D,Activation, MaxPooling2D,Dense,Flatten\n",
        "from keras.optimizers import SGD\n",
        "from keras.preprocessing.image import ImageDataGenerator\n",
        "\n",
        "\n",
        "from sklearn.metrics import accuracy_score,roc_curve,confusion_matrix,precision_score,recall_score,f1_score,roc_auc_score\n",
        "import matplotlib.pyplot as plt\n",
        "import matplotlib.pyplot as plt_False_Positive_vs_True_Positive"
      ],
      "execution_count": 8,
      "outputs": []
    },
    {
      "cell_type": "markdown",
      "metadata": {
        "id": "aFRrSZWkANWU"
      },
      "source": [
        "# **Evaluate CNN model**"
      ]
    },
    {
      "cell_type": "code",
      "metadata": {
        "id": "EIPpKHo7Vpdy"
      },
      "source": [
        "def Evaluate_CNN_Model():\n",
        "    # -------------------------------------------------------------------------\n",
        "    #                        Evaluate CNN Model \n",
        "    # -------------------------------------------------------------------------\n",
        "    \n",
        "    # load model\n",
        "    model = load_model('/content/drive/MyDrive/COVID-19-Deep-Learning-Project-Colab/saved_models/CoVID19-normal_cnn_model.h5')\n",
        "    \n",
        "    # load test data\n",
        "    batch_size=32\n",
        "    test_datagen = ImageDataGenerator(\n",
        "                                     rescale=1.0/255.0,\n",
        "                                     featurewise_center= True,\n",
        "                                     featurewise_std_normalization = True)\n",
        "    \n",
        "    test_it = test_datagen.flow_from_directory('/content/drive/MyDrive/COVID-19-Deep-Learning-Project-Colab/Dataset/test/',classes =('Normal','Covid'), \n",
        "                                               shuffle=False,batch_size=batch_size, target_size=(224, 224))\n",
        "    \n",
        "    y_true = test_it.classes;\n",
        "\n",
        "    y_pred = model.predict_generator(test_it, steps=len(test_it), verbose=1)\n",
        "\n",
        "    \n",
        "    y_pred_prob = y_pred[:,1]\n",
        "\n",
        "     \n",
        "    y_pred_binary =  y_pred_prob > 0.5\n",
        "   \n",
        "    #Confution Matrix    \n",
        "    print('\\nConfusion Matrix\\n -------------------------')    \n",
        "    print(confusion_matrix(y_true,y_pred_binary));\n",
        "    \n",
        "    # accuracy: (tp + tn) / (p + n)\n",
        "    accuracy = accuracy_score(y_true, y_pred_binary)\n",
        "    print('Accuracy: %f' % accuracy)\n",
        "    \n",
        "    \n",
        "    # precision tp / (tp + fp)\n",
        "    precision = precision_score(y_true, y_pred_binary)\n",
        "    print('Precision: %f' % precision)\n",
        "    \n",
        "    # recall: tp / (tp + fn)\n",
        "    recall = recall_score(y_true, y_pred_binary)\n",
        "    print('Recall: %f' % recall)\n",
        "    \n",
        "    # f1: 2 tp / (2 tp + fp + fn)\n",
        "    f1 = f1_score(y_true, y_pred_binary)\n",
        "    print('F1 score: %f' % f1)    \n",
        "       \n",
        "    # ROC AUC\n",
        "    auc = roc_auc_score(y_true, y_pred_prob)\n",
        "    print('ROC AUC: %f' % auc)\n",
        "    \n",
        "    \n",
        "    # calculate roc curves\n",
        "    fpr, tpr, _ = roc_curve(y_true, y_pred_prob)\n",
        "        \n",
        "    # plot the roc curve for the model\n",
        "    plt.figure()\n",
        "    plt_False_Positive_vs_True_Positive.plot(fpr, tpr, linestyle='--', label='')\n",
        "    \n",
        "    # axis labels\n",
        "    plt_False_Positive_vs_True_Positive.xlabel('False Positive Rate')\n",
        "    plt_False_Positive_vs_True_Positive.ylabel('True Positive Rate')\n",
        "       \n",
        "    # show the legend\n",
        "    plt_False_Positive_vs_True_Positive.legend()\n",
        "    # show the plot\n",
        "    plt_False_Positive_vs_True_Positive.show()\n",
        "\n",
        "    #for plotting CM graph\n",
        "    cm = confusion_matrix(y_true,y_pred_binary)\n",
        "\n",
        "    def plot_confusion_matrix(cm, classes,\n",
        "                        normalize=False,\n",
        "                        title='Confusion matrix for Sequential CNN',\n",
        "                        cmap=plt.cm.prism):\n",
        " \n",
        "      plt.imshow(cm, interpolation='nearest', cmap=cmap)\n",
        "      plt.title(title)\n",
        "      plt.colorbar()\n",
        "      tick_marks = np.arange(len(classes))\n",
        "      plt.xticks(tick_marks, classes, rotation=45)\n",
        "      plt.yticks(tick_marks, classes)\n",
        "\n",
        "\n",
        "\n",
        "    thresh = cm.max() / 2.\n",
        "    for i, j in itertools.product(range(cm.shape[0]), range(cm.shape[1])):\n",
        "        plt.text(j, i, cm[i, j],\n",
        "            horizontalalignment=\"center\",\n",
        "            color=\"white\" if cm[i, j] > thresh else \"black\")\n",
        "\n",
        "    plt.tight_layout()\n",
        "    plt.ylabel('Predicted Values')\n",
        "    plt.xlabel('True Values')\n",
        "    cm_plot_labels = ['No Covid','Has Covid']\n",
        "    plot_confusion_matrix(cm=cm, classes=cm_plot_labels, title='Confusion matrix for Sequential CNN')\n"
      ],
      "execution_count": 7,
      "outputs": []
    },
    {
      "cell_type": "code",
      "metadata": {
        "id": "TNzuN4ZrKqq8"
      },
      "source": [
        "%matplotlib inline\n",
        "from sklearn.metrics import confusion_matrix\n",
        "import itertools\n",
        "import matplotlib.pyplot as plt\n",
        "import numpy as np"
      ],
      "execution_count": 9,
      "outputs": []
    },
    {
      "cell_type": "markdown",
      "metadata": {
        "id": "UlM_3Uv4AR31"
      },
      "source": [
        "# **Call the Evaluate CNN model fucntion for output**"
      ]
    },
    {
      "cell_type": "code",
      "metadata": {
        "colab": {
          "base_uri": "https://localhost:8080/",
          "height": 936
        },
        "id": "MDwGIrhYWOZO",
        "outputId": "f0ecb9b6-aad4-4c8d-eb5c-ca2c736f40e2"
      },
      "source": [
        "Evaluate_CNN_Model ()"
      ],
      "execution_count": 10,
      "outputs": [
        {
          "output_type": "stream",
          "text": [
            "Found 139 images belonging to 2 classes.\n"
          ],
          "name": "stdout"
        },
        {
          "output_type": "stream",
          "text": [
            "/usr/local/lib/python3.6/dist-packages/keras_preprocessing/image/image_data_generator.py:720: UserWarning: This ImageDataGenerator specifies `featurewise_center`, but it hasn't been fit on any training data. Fit it first by calling `.fit(numpy_data)`.\n",
            "  warnings.warn('This ImageDataGenerator specifies '\n",
            "/usr/local/lib/python3.6/dist-packages/keras_preprocessing/image/image_data_generator.py:728: UserWarning: This ImageDataGenerator specifies `featurewise_std_normalization`, but it hasn't been fit on any training data. Fit it first by calling `.fit(numpy_data)`.\n",
            "  warnings.warn('This ImageDataGenerator specifies '\n"
          ],
          "name": "stderr"
        },
        {
          "output_type": "stream",
          "text": [
            "5/5 [==============================] - 2s 424ms/step\n"
          ],
          "name": "stdout"
        },
        {
          "output_type": "stream",
          "text": [
            "No handles with labels found to put in legend.\n"
          ],
          "name": "stderr"
        },
        {
          "output_type": "stream",
          "text": [
            "\n",
            "Confusion Matrix\n",
            " -------------------------\n",
            "[[53 17]\n",
            " [ 0 69]]\n",
            "Accuracy: 0.877698\n",
            "Precision: 0.802326\n",
            "Recall: 1.000000\n",
            "F1 score: 0.890323\n",
            "ROC AUC: 0.987578\n"
          ],
          "name": "stdout"
        },
        {
          "output_type": "display_data",
          "data": {
            "image/png": "[encoded data removed]",
            "text/plain": [
              "<Figure size 432x288 with 1 Axes>"
            ]
          },
          "metadata": {
            "tags": [],
            "needs_background": "light"
          }
        },
        {
          "output_type": "display_data",
          "data": {
            "image/png": "[encoded data removed]",
            "text/plain": [
              "<Figure size 432x288 with 2 Axes>"
            ]
          },
          "metadata": {
            "tags": [],
            "needs_background": "light"
          }
        }
      ]
    },
    {
      "cell_type": "code",
      "metadata": {
        "id": "hYsoUycToWoH"
      },
      "source": [
        "from keras.models import Model,load_model\n",
        "import matplotlib.pyplot as plt\n",
        "from keras.preprocessing.image import load_img,img_to_array"
      ],
      "execution_count": null,
      "outputs": []
    },
    {
      "cell_type": "markdown",
      "metadata": {
        "id": "WQPNasgDmyW9"
      },
      "source": [
        "# **Visualize CNN Model**"
      ]
    },
    {
      "cell_type": "code",
      "metadata": {
        "id": "rh5vWMU2mpYK"
      },
      "source": [
        "def Visualize_CNN_Model():\n",
        "    # -------------------------------------------------------------------------\n",
        "    #                        Visualize CNN Model \n",
        "    # -------------------------------------------------------------------------\n",
        "    # load model\n",
        "    model = load_model('/content/drive/MyDrive/COVID-19-Deep-Learning-Project-Colab/saved_models/CoVID19-normal_cnn_model.h5')\n",
        "    \n",
        "    # load the image    \n",
        "    img = load_img(\"/content/drive/MyDrive/COVID-19-Deep-Learning-Project-Colab/data-COVID/test/Covid/covid-19-pneumonia-15-L.jpg\", target_size=(224, 224))              \n",
        "    \n",
        "    # convert to array\n",
        "    img = img_to_array(img)\n",
        "\n",
        "    # reshape and scale image\n",
        "    img = img.reshape(1, 224, 224, 3)\n",
        "    img = img.astype('float32')    \n",
        "    img = img / 255             \n",
        "\n",
        "    # create a new CNN activation_model\n",
        "    layer_outputs = [layer.output for layer in model.layers[:10]]\n",
        "    activation_model = Model(inputs=model.input, outputs=layer_outputs)\n",
        "    \n",
        "    # pass image through CNN activation_model \n",
        "    activations = activation_model.predict(img)\n",
        "\n",
        "    # Vislalize intermediate layre    \n",
        "    Display_Activation_Layers(activations, 4, 2, 3)\n",
        "    \n",
        "    Display_Activation_Layers(activations, 5, 2, 7)\n",
        " \n",
        "    Display_Activation_Layers(activations, 7, 2, 9)"
      ],
      "execution_count": null,
      "outputs": []
    },
    {
      "cell_type": "code",
      "metadata": {
        "id": "OBSXoSyXmsOu"
      },
      "source": [
        "def Display_Activation_Layers(activations, col_size, row_size, act_index): \n",
        "    \n",
        "    activation = activations[act_index]\n",
        "    \n",
        "    activation_index=0\n",
        "    \n",
        "    fig, ax = plt.subplots(row_size, col_size, figsize=(row_size*2.5,col_size*1.5))\n",
        "    \n",
        "    for row in range(0,row_size):\n",
        "    \n",
        "        for col in range(0,col_size):\n",
        "        \n",
        "            ax[row][col].imshow(activation[0, :, :, activation_index], cmap='gray')\n",
        "            \n",
        "            ax[row][col].axis('off')\n",
        "            \n",
        "            activation_index += 1         "
      ],
      "execution_count": null,
      "outputs": []
    },
    {
      "cell_type": "code",
      "metadata": {
        "id": "Qfv6G5NGmu7R"
      },
      "source": [
        "# main entry            \n",
        "Visualize_CNN_Model()"
      ],
      "execution_count": null,
      "outputs": []
    }
  ]
}