{
  "nbformat": 4,
  "nbformat_minor": 0,
  "metadata": {
    "accelerator": "GPU",
    "colab": {
      "name": "COVID19Training-Sequential.ipynb",
      "provenance": [],
      "collapsed_sections": [],
      "toc_visible": true,
      "mount_file_id": "1quBgUo0N1e7wAGUEKvSl-emEVYMEvnin",
      "authorship_tag": "ABX9TyP8gPucgXrL+Q8LJkLW1C8M",
      "include_colab_link": true
    },
    "kernelspec": {
      "display_name": "Python 3",
      "name": "python3"
    }
  },
  "cells": [
    {
      "cell_type": "markdown",
      "metadata": {
        "id": "view-in-github",
        "colab_type": "text"
      },
      "source": [
        "<a href=\"https://colab.research.google.com/github/rachitgithub/Covid-Detection/blob/main/COVID19Training_Sequential.ipynb\" target=\"_parent\"><img src=\"https://colab.research.google.com/assets/colab-badge.svg\" alt=\"Open In Colab\"/></a>"
      ]
    },
    {
      "cell_type": "markdown",
      "metadata": {
        "id": "t_X9m0sG9kc3"
      },
      "source": [
        "\n",
        "## **Install TensorFlow**\n",
        "\n"
      ]
    },
    {
      "cell_type": "code",
      "metadata": {
        "id": "GTg7WqznD-hG",
        "colab": {
          "base_uri": "https://localhost:8080/",
          "height": 1000
        },
        "outputId": "e78ac0a3-623f-4847-9130-a77f288383ec"
      },
      "source": [
        "!pip install tensorflow-gpu"
      ],
      "execution_count": 2,
      "outputs": [
        {
          "output_type": "stream",
          "text": [
            "Collecting tensorflow-gpu\n",
            "\u001b[?25l  Downloading https://files.pythonhosted.org/packages/f1/aa/ae64be5acaac9055329289e6bfd54c1efa28bfe792f9021cea495fe2b89d/tensorflow_gpu-2.4.0-cp36-cp36m-manylinux2010_x86_64.whl (394.7MB)\n",
            "\u001b[K     |████████████████████████████████| 394.7MB 45kB/s \n",
            "\u001b[?25hRequirement already satisfied: google-pasta~=0.2 in /usr/local/lib/python3.6/dist-packages (from tensorflow-gpu) (0.2.0)\n",
            "Requirement already satisfied: protobuf>=3.9.2 in /usr/local/lib/python3.6/dist-packages (from tensorflow-gpu) (3.12.4)\n",
            "Collecting grpcio~=1.32.0\n",
            "\u001b[?25l  Downloading https://files.pythonhosted.org/packages/f0/00/b393f5d0e92b37592a41357ea3077010c95400c907f6b9af01f4f6abe140/grpcio-1.32.0-cp36-cp36m-manylinux2014_x86_64.whl (3.8MB)\n",
            "\u001b[K     |████████████████████████████████| 3.8MB 53.0MB/s \n",
            "\u001b[?25hCollecting numpy~=1.19.2\n",
            "\u001b[?25l  Downloading https://files.pythonhosted.org/packages/87/86/753182c9085ba4936c0076269a571613387cdb77ae2bf537448bfd63472c/numpy-1.19.4-cp36-cp36m-manylinux2010_x86_64.whl (14.5MB)\n",
            "\u001b[K     |████████████████████████████████| 14.5MB 253kB/s \n",
            "\u001b[?25hRequirement already satisfied: absl-py~=0.10 in /usr/local/lib/python3.6/dist-packages (from tensorflow-gpu) (0.10.0)\n",
            "Requirement already satisfied: termcolor~=1.1.0 in /usr/local/lib/python3.6/dist-packages (from tensorflow-gpu) (1.1.0)\n",
            "Requirement already satisfied: h5py~=2.10.0 in /usr/local/lib/python3.6/dist-packages (from tensorflow-gpu) (2.10.0)\n",
            "Requirement already satisfied: opt-einsum~=3.3.0 in /usr/local/lib/python3.6/dist-packages (from tensorflow-gpu) (3.3.0)\n",
            "Collecting tensorflow-estimator<2.5.0,>=2.4.0rc0\n",
            "\u001b[?25l  Downloading https://files.pythonhosted.org/packages/74/7e/622d9849abf3afb81e482ffc170758742e392ee129ce1540611199a59237/tensorflow_estimator-2.4.0-py2.py3-none-any.whl (462kB)\n",
            "\u001b[K     |████████████████████████████████| 471kB 54.2MB/s \n",
            "\u001b[?25hRequirement already satisfied: wrapt~=1.12.1 in /usr/local/lib/python3.6/dist-packages (from tensorflow-gpu) (1.12.1)\n",
            "Requirement already satisfied: gast==0.3.3 in /usr/local/lib/python3.6/dist-packages (from tensorflow-gpu) (0.3.3)\n",
            "Requirement already satisfied: six~=1.15.0 in /usr/local/lib/python3.6/dist-packages (from tensorflow-gpu) (1.15.0)\n",
            "Collecting tensorboard~=2.4\n",
            "\u001b[?25l  Downloading https://files.pythonhosted.org/packages/02/83/179c8f76e5716030cc3ee9433721161cfcc1d854e9ba20c9205180bb100a/tensorboard-2.4.0-py3-none-any.whl (10.6MB)\n",
            "\u001b[K     |████████████████████████████████| 10.6MB 63.9MB/s \n",
            "\u001b[?25hRequirement already satisfied: typing-extensions~=3.7.4 in /usr/local/lib/python3.6/dist-packages (from tensorflow-gpu) (3.7.4.3)\n",
            "Requirement already satisfied: wheel~=0.35 in /usr/local/lib/python3.6/dist-packages (from tensorflow-gpu) (0.36.1)\n",
            "Requirement already satisfied: astunparse~=1.6.3 in /usr/local/lib/python3.6/dist-packages (from tensorflow-gpu) (1.6.3)\n",
            "Requirement already satisfied: flatbuffers~=1.12.0 in /usr/local/lib/python3.6/dist-packages (from tensorflow-gpu) (1.12)\n",
            "Requirement already satisfied: keras-preprocessing~=1.1.2 in /usr/local/lib/python3.6/dist-packages (from tensorflow-gpu) (1.1.2)\n",
            "Requirement already satisfied: setuptools in /usr/local/lib/python3.6/dist-packages (from protobuf>=3.9.2->tensorflow-gpu) (50.3.2)\n",
            "Requirement already satisfied: google-auth-oauthlib<0.5,>=0.4.1 in /usr/local/lib/python3.6/dist-packages (from tensorboard~=2.4->tensorflow-gpu) (0.4.2)\n",
            "Requirement already satisfied: markdown>=2.6.8 in /usr/local/lib/python3.6/dist-packages (from tensorboard~=2.4->tensorflow-gpu) (3.3.3)\n",
            "Requirement already satisfied: werkzeug>=0.11.15 in /usr/local/lib/python3.6/dist-packages (from tensorboard~=2.4->tensorflow-gpu) (1.0.1)\n",
            "Requirement already satisfied: google-auth<2,>=1.6.3 in /usr/local/lib/python3.6/dist-packages (from tensorboard~=2.4->tensorflow-gpu) (1.17.2)\n",
            "Requirement already satisfied: requests<3,>=2.21.0 in /usr/local/lib/python3.6/dist-packages (from tensorboard~=2.4->tensorflow-gpu) (2.23.0)\n",
            "Requirement already satisfied: tensorboard-plugin-wit>=1.6.0 in /usr/local/lib/python3.6/dist-packages (from tensorboard~=2.4->tensorflow-gpu) (1.7.0)\n",
            "Requirement already satisfied: requests-oauthlib>=0.7.0 in /usr/local/lib/python3.6/dist-packages (from google-auth-oauthlib<0.5,>=0.4.1->tensorboard~=2.4->tensorflow-gpu) (1.3.0)\n",
            "Requirement already satisfied: importlib-metadata; python_version < \"3.8\" in /usr/local/lib/python3.6/dist-packages (from markdown>=2.6.8->tensorboard~=2.4->tensorflow-gpu) (3.1.1)\n",
            "Requirement already satisfied: rsa<5,>=3.1.4; python_version >= \"3\" in /usr/local/lib/python3.6/dist-packages (from google-auth<2,>=1.6.3->tensorboard~=2.4->tensorflow-gpu) (4.6)\n",
            "Requirement already satisfied: cachetools<5.0,>=2.0.0 in /usr/local/lib/python3.6/dist-packages (from google-auth<2,>=1.6.3->tensorboard~=2.4->tensorflow-gpu) (4.1.1)\n",
            "Requirement already satisfied: pyasn1-modules>=0.2.1 in /usr/local/lib/python3.6/dist-packages (from google-auth<2,>=1.6.3->tensorboard~=2.4->tensorflow-gpu) (0.2.8)\n",
            "Requirement already satisfied: chardet<4,>=3.0.2 in /usr/local/lib/python3.6/dist-packages (from requests<3,>=2.21.0->tensorboard~=2.4->tensorflow-gpu) (3.0.4)\n",
            "Requirement already satisfied: idna<3,>=2.5 in /usr/local/lib/python3.6/dist-packages (from requests<3,>=2.21.0->tensorboard~=2.4->tensorflow-gpu) (2.10)\n",
            "Requirement already satisfied: certifi>=2017.4.17 in /usr/local/lib/python3.6/dist-packages (from requests<3,>=2.21.0->tensorboard~=2.4->tensorflow-gpu) (2020.12.5)\n",
            "Requirement already satisfied: urllib3!=1.25.0,!=1.25.1,<1.26,>=1.21.1 in /usr/local/lib/python3.6/dist-packages (from requests<3,>=2.21.0->tensorboard~=2.4->tensorflow-gpu) (1.24.3)\n",
            "Requirement already satisfied: oauthlib>=3.0.0 in /usr/local/lib/python3.6/dist-packages (from requests-oauthlib>=0.7.0->google-auth-oauthlib<0.5,>=0.4.1->tensorboard~=2.4->tensorflow-gpu) (3.1.0)\n",
            "Requirement already satisfied: zipp>=0.5 in /usr/local/lib/python3.6/dist-packages (from importlib-metadata; python_version < \"3.8\"->markdown>=2.6.8->tensorboard~=2.4->tensorflow-gpu) (3.4.0)\n",
            "Requirement already satisfied: pyasn1>=0.1.3 in /usr/local/lib/python3.6/dist-packages (from rsa<5,>=3.1.4; python_version >= \"3\"->google-auth<2,>=1.6.3->tensorboard~=2.4->tensorflow-gpu) (0.4.8)\n",
            "\u001b[31mERROR: tensorflow 2.3.0 has requirement numpy<1.19.0,>=1.16.0, but you'll have numpy 1.19.4 which is incompatible.\u001b[0m\n",
            "\u001b[31mERROR: tensorflow 2.3.0 has requirement tensorflow-estimator<2.4.0,>=2.3.0, but you'll have tensorflow-estimator 2.4.0 which is incompatible.\u001b[0m\n",
            "\u001b[31mERROR: datascience 0.10.6 has requirement folium==0.2.1, but you'll have folium 0.8.3 which is incompatible.\u001b[0m\n",
            "\u001b[31mERROR: albumentations 0.1.12 has requirement imgaug<0.2.7,>=0.2.5, but you'll have imgaug 0.2.9 which is incompatible.\u001b[0m\n",
            "Installing collected packages: grpcio, numpy, tensorflow-estimator, tensorboard, tensorflow-gpu\n",
            "  Found existing installation: grpcio 1.34.0\n",
            "    Uninstalling grpcio-1.34.0:\n",
            "      Successfully uninstalled grpcio-1.34.0\n",
            "  Found existing installation: numpy 1.18.5\n",
            "    Uninstalling numpy-1.18.5:\n",
            "      Successfully uninstalled numpy-1.18.5\n",
            "  Found existing installation: tensorflow-estimator 2.3.0\n",
            "    Uninstalling tensorflow-estimator-2.3.0:\n",
            "      Successfully uninstalled tensorflow-estimator-2.3.0\n",
            "  Found existing installation: tensorboard 2.3.0\n",
            "    Uninstalling tensorboard-2.3.0:\n",
            "      Successfully uninstalled tensorboard-2.3.0\n",
            "Successfully installed grpcio-1.32.0 numpy-1.19.4 tensorboard-2.4.0 tensorflow-estimator-2.4.0 tensorflow-gpu-2.4.0\n"
          ],
          "name": "stdout"
        },
        {
          "output_type": "display_data",
          "data": {
            "application/vnd.colab-display-data+json": {
              "pip_warning": {
                "packages": [
                  "numpy",
                  "tensorboard",
                  "tensorflow"
                ]
              }
            }
          },
          "metadata": {
            "tags": []
          }
        }
      ]
    },
    {
      "cell_type": "markdown",
      "metadata": {
        "id": "Du10QSPv9y4w"
      },
      "source": [
        "# **Mount Google Drive**"
      ]
    },
    {
      "cell_type": "code",
      "metadata": {
        "colab": {
          "base_uri": "https://localhost:8080/"
        },
        "id": "5rjluwHgGMNC",
        "outputId": "34adb53e-883f-4376-e0ca-8e24de91dba1"
      },
      "source": [
        "from google.colab import drive\n",
        "drive.mount('/content/drive', force_remount=True)"
      ],
      "execution_count": 1,
      "outputs": [
        {
          "output_type": "stream",
          "text": [
            "Mounted at /content/drive\n"
          ],
          "name": "stdout"
        }
      ]
    },
    {
      "cell_type": "markdown",
      "metadata": {
        "id": "Q3b-V_Ux96rT"
      },
      "source": [
        "# **Import TensorFlow and GPU**"
      ]
    },
    {
      "cell_type": "code",
      "metadata": {
        "colab": {
          "base_uri": "https://localhost:8080/"
        },
        "id": "sx8wt7npFlKf",
        "outputId": "43e75bdc-5821-4e78-baff-5b23699339d5"
      },
      "source": [
        "import tensorflow as tf\n",
        "tf.test.gpu_device_name()\n",
        "print(tf.__version__)"
      ],
      "execution_count": 2,
      "outputs": [
        {
          "output_type": "stream",
          "text": [
            "2.4.0\n"
          ],
          "name": "stdout"
        }
      ]
    },
    {
      "cell_type": "markdown",
      "metadata": {
        "id": "UYh12rCR9_uS"
      },
      "source": [
        "# ***Create Directory to save model***"
      ]
    },
    {
      "cell_type": "code",
      "metadata": {
        "id": "NCDzF7K59f61"
      },
      "source": [
        "!mkdir -p /content/drive/MyDrive/COVID-19-Deep-Learning-Project-Colab/saved_models"
      ],
      "execution_count": null,
      "outputs": []
    },
    {
      "cell_type": "markdown",
      "metadata": {
        "id": "UiMH5Z1H-Hoh"
      },
      "source": [
        "# Import Keras **Libraries**"
      ]
    },
    {
      "cell_type": "code",
      "metadata": {
        "id": "zQiugSehF8TP"
      },
      "source": [
        "from keras.models import Sequential\n",
        "from keras.layers import Conv2D,Activation, MaxPooling2D,Dense,Flatten\n",
        "from keras.optimizers import SGD\n",
        "from keras.preprocessing.image import ImageDataGenerator\n",
        "import matplotlib.pyplot as plt\n",
        "import re\n",
        "import os"
      ],
      "execution_count": 3,
      "outputs": []
    },
    {
      "cell_type": "markdown",
      "metadata": {
        "id": "_RMkjqMl-LYB"
      },
      "source": [
        "# **Build. Sequential CNN Model**"
      ]
    },
    {
      "cell_type": "code",
      "metadata": {
        "id": "syutrQoAHTVF"
      },
      "source": [
        "def Build_CNN_Model():\n",
        "    \n",
        "    # -------------------------------------------------------------------------\n",
        "    #                        Build CNN Model \n",
        "    # -------------------------------------------------------------------------\n",
        "    model = Sequential()  \n",
        "    \n",
        "    #  First Block of CNN\n",
        "    model.add(Conv2D(32, (3, 3), padding='same', input_shape=(224, 224, 3)))  \n",
        "    model.add(Activation('relu'))\n",
        "    model.add(MaxPooling2D((2, 2)))   \n",
        "    \n",
        "    #  Second Block of CNN\n",
        "    model.add(Conv2D(64, (3, 3),  padding='same'))  \n",
        "    model.add(Activation('relu'))\n",
        "    model.add(MaxPooling2D((2, 2)))\n",
        "    \n",
        "    #  Third Block of CNN\n",
        "    model.add(Conv2D(128, (3, 3), padding='same'))  \n",
        "    model.add(Activation('relu'))\n",
        "    model.add(MaxPooling2D((2, 2)))      \n",
        "    \n",
        "    #  Flatten and Fully Connected Layer\n",
        "    model.add(Flatten())\n",
        "    model.add(Dense(1000))\n",
        "    model.add(Activation('relu'))     \n",
        "    \n",
        "    #  Softmax Classifier\n",
        "    model.add(Dense(2))\n",
        "    model.add(Activation('softmax'))        \n",
        "    \n",
        "    #  Display model\n",
        "    model.summary()    \n",
        "\t\n",
        "    # compile model\n",
        "    opt = SGD(learning_rate=0.001)\n",
        "    model.compile(optimizer=opt, loss='categorical_crossentropy', metrics=['accuracy'])\n",
        "    \n",
        "    return model      \n",
        "   "
      ],
      "execution_count": 5,
      "outputs": []
    },
    {
      "cell_type": "markdown",
      "metadata": {
        "id": "sq2m4MRf-RYU"
      },
      "source": [
        "# **Train the CNN model**"
      ]
    },
    {
      "cell_type": "code",
      "metadata": {
        "id": "b2MGR-RBHX_2"
      },
      "source": [
        "def Train_CNN_Model(model):\n",
        "    \n",
        "    \n",
        "    train_datagen = ImageDataGenerator(\n",
        "                                     rescale=1.0/255.0,\n",
        "                                     featurewise_center= True,\n",
        "                                     featurewise_std_normalization = True)\n",
        "    \n",
        "    valid_datagen = ImageDataGenerator(\n",
        "                                     rescale=1.0/255.0,\n",
        "                                     featurewise_center= True,\n",
        "                                     featurewise_std_normalization = True)\n",
        "    \n",
        "   \n",
        "    # prepare iterators\n",
        "    batch_size=32\n",
        "    train_it = train_datagen.flow_from_directory('/content/drive/MyDrive/COVID-19-Deep-Learning-Project-Colab/Dataset/train/',classes =('Normal','Covid'),batch_size=batch_size, target_size=(224, 224))\n",
        "    valid_it = valid_datagen.flow_from_directory('/content/drive/MyDrive/COVID-19-Deep-Learning-Project-Colab/Dataset/val/',classes =('Normal','Covid'),batch_size=batch_size, target_size=(224, 224))\n",
        "\n",
        "\n",
        "    epochs=100;\n",
        "    \n",
        "    history = model.fit(train_it, steps_per_epoch=len(train_it),\n",
        "\t\tvalidation_data=valid_it, validation_steps=len(valid_it), epochs=epochs, verbose=1)\n",
        "    \n",
        "    \n",
        "    #  \"Accuracy\"\n",
        "    plt.plot(history.history['accuracy'])\n",
        "    plt.plot(history.history['val_accuracy'])\n",
        "    plt.title('model accuracy')\n",
        "    plt.ylabel('accuracy')\n",
        "    plt.xlabel('epoch')\n",
        "    plt.legend(['train', 'validation'], loc='upper left')\n",
        "    plt.show()\n",
        "    \n",
        "    # \"Loss\"\n",
        "    plt.plot(history.history['loss'])\n",
        "    plt.plot(history.history['val_loss'])\n",
        "    plt.title('model loss')\n",
        "    plt.ylabel('loss')\n",
        "    plt.xlabel('epoch')\n",
        "    plt.legend(['train', 'validation'], loc='upper left')\n",
        "    plt.show()\n",
        "\n",
        "\t# save model\n",
        "    model.save('/content/drive/MyDrive/COVID-19-Deep-Learning-Project-Colab/saved_models/CoVID19-normal_cnn_model.h5')\n",
        "    "
      ],
      "execution_count": 6,
      "outputs": []
    },
    {
      "cell_type": "markdown",
      "metadata": {
        "id": "aHhsfp8l-VxX"
      },
      "source": [
        "# **Run the build and train functions**"
      ]
    },
    {
      "cell_type": "code",
      "metadata": {
        "id": "7dtOXcp4Hcaj",
        "colab": {
          "base_uri": "https://localhost:8080/",
          "height": 1000
        },
        "outputId": "19f31e1a-7f99-4ae4-e39e-7162c5467974"
      },
      "source": [
        "%%time\n",
        "# main entry \n",
        "model = Build_CNN_Model()\n",
        "\n",
        "Train_CNN_Model(model)"
      ],
      "execution_count": 7,
      "outputs": [
        {
          "output_type": "stream",
          "text": [
            "Model: \"sequential\"\n",
            "_________________________________________________________________\n",
            "Layer (type)                 Output Shape              Param #   \n",
            "=================================================================\n",
            "conv2d (Conv2D)              (None, 224, 224, 32)      896       \n",
            "_________________________________________________________________\n",
            "activation (Activation)      (None, 224, 224, 32)      0         \n",
            "_________________________________________________________________\n",
            "max_pooling2d (MaxPooling2D) (None, 112, 112, 32)      0         \n",
            "_________________________________________________________________\n",
            "conv2d_1 (Conv2D)            (None, 112, 112, 64)      18496     \n",
            "_________________________________________________________________\n",
            "activation_1 (Activation)    (None, 112, 112, 64)      0         \n",
            "_________________________________________________________________\n",
            "max_pooling2d_1 (MaxPooling2 (None, 56, 56, 64)        0         \n",
            "_________________________________________________________________\n",
            "conv2d_2 (Conv2D)            (None, 56, 56, 128)       73856     \n",
            "_________________________________________________________________\n",
            "activation_2 (Activation)    (None, 56, 56, 128)       0         \n",
            "_________________________________________________________________\n",
            "max_pooling2d_2 (MaxPooling2 (None, 28, 28, 128)       0         \n",
            "_________________________________________________________________\n",
            "flatten (Flatten)            (None, 100352)            0         \n",
            "_________________________________________________________________\n",
            "dense (Dense)                (None, 1000)              100353000 \n",
            "_________________________________________________________________\n",
            "activation_3 (Activation)    (None, 1000)              0         \n",
            "_________________________________________________________________\n",
            "dense_1 (Dense)              (None, 2)                 2002      \n",
            "_________________________________________________________________\n",
            "activation_4 (Activation)    (None, 2)                 0         \n",
            "=================================================================\n",
            "Total params: 100,448,250\n",
            "Trainable params: 100,448,250\n",
            "Non-trainable params: 0\n",
            "_________________________________________________________________\n",
            "Found 1846 images belonging to 2 classes.\n",
            "Found 461 images belonging to 2 classes.\n"
          ],
          "name": "stdout"
        },
        {
          "output_type": "stream",
          "text": [
            "/usr/local/lib/python3.6/dist-packages/keras_preprocessing/image/image_data_generator.py:720: UserWarning: This ImageDataGenerator specifies `featurewise_center`, but it hasn't been fit on any training data. Fit it first by calling `.fit(numpy_data)`.\n",
            "  warnings.warn('This ImageDataGenerator specifies '\n",
            "/usr/local/lib/python3.6/dist-packages/keras_preprocessing/image/image_data_generator.py:728: UserWarning: This ImageDataGenerator specifies `featurewise_std_normalization`, but it hasn't been fit on any training data. Fit it first by calling `.fit(numpy_data)`.\n",
            "  warnings.warn('This ImageDataGenerator specifies '\n"
          ],
          "name": "stderr"
        },
        {
          "output_type": "stream",
          "text": [
            "Epoch 1/100\n",
            "58/58 [==============================] - 1008s 17s/step - loss: 0.6413 - accuracy: 0.7858 - val_loss: 0.5275 - val_accuracy: 0.9197\n",
            "Epoch 2/100\n",
            "58/58 [==============================] - 225s 4s/step - loss: 0.4926 - accuracy: 0.9043 - val_loss: 0.3785 - val_accuracy: 0.9154\n",
            "Epoch 3/100\n",
            "58/58 [==============================] - 223s 4s/step - loss: 0.3621 - accuracy: 0.9054 - val_loss: 0.2836 - val_accuracy: 0.9197\n",
            "Epoch 4/100\n",
            "58/58 [==============================] - 224s 4s/step - loss: 0.2872 - accuracy: 0.9070 - val_loss: 0.2455 - val_accuracy: 0.9197\n",
            "Epoch 5/100\n",
            "58/58 [==============================] - 224s 4s/step - loss: 0.2282 - accuracy: 0.9244 - val_loss: 0.2092 - val_accuracy: 0.9371\n",
            "Epoch 6/100\n",
            "58/58 [==============================] - 223s 4s/step - loss: 0.2188 - accuracy: 0.9248 - val_loss: 0.2064 - val_accuracy: 0.9262\n",
            "Epoch 7/100\n",
            "58/58 [==============================] - 224s 4s/step - loss: 0.2019 - accuracy: 0.9242 - val_loss: 0.1962 - val_accuracy: 0.9262\n",
            "Epoch 8/100\n",
            "58/58 [==============================] - 227s 4s/step - loss: 0.1882 - accuracy: 0.9303 - val_loss: 0.1622 - val_accuracy: 0.9436\n",
            "Epoch 9/100\n",
            "58/58 [==============================] - 224s 4s/step - loss: 0.1797 - accuracy: 0.9355 - val_loss: 0.1775 - val_accuracy: 0.9306\n",
            "Epoch 10/100\n",
            "58/58 [==============================] - 224s 4s/step - loss: 0.1680 - accuracy: 0.9439 - val_loss: 0.1394 - val_accuracy: 0.9458\n",
            "Epoch 11/100\n",
            "58/58 [==============================] - 223s 4s/step - loss: 0.1684 - accuracy: 0.9418 - val_loss: 0.1281 - val_accuracy: 0.9566\n",
            "Epoch 12/100\n",
            "58/58 [==============================] - 224s 4s/step - loss: 0.1486 - accuracy: 0.9466 - val_loss: 0.1209 - val_accuracy: 0.9566\n",
            "Epoch 13/100\n",
            "58/58 [==============================] - 223s 4s/step - loss: 0.1501 - accuracy: 0.9441 - val_loss: 0.1176 - val_accuracy: 0.9588\n",
            "Epoch 14/100\n",
            "58/58 [==============================] - 224s 4s/step - loss: 0.1460 - accuracy: 0.9440 - val_loss: 0.1128 - val_accuracy: 0.9675\n",
            "Epoch 15/100\n",
            "58/58 [==============================] - 224s 4s/step - loss: 0.1388 - accuracy: 0.9509 - val_loss: 0.1128 - val_accuracy: 0.9631\n",
            "Epoch 16/100\n",
            "58/58 [==============================] - 223s 4s/step - loss: 0.1210 - accuracy: 0.9609 - val_loss: 0.0982 - val_accuracy: 0.9675\n",
            "Epoch 17/100\n",
            "58/58 [==============================] - 224s 4s/step - loss: 0.1189 - accuracy: 0.9577 - val_loss: 0.0986 - val_accuracy: 0.9675\n",
            "Epoch 18/100\n",
            "58/58 [==============================] - 225s 4s/step - loss: 0.1200 - accuracy: 0.9505 - val_loss: 0.0918 - val_accuracy: 0.9696\n",
            "Epoch 19/100\n",
            "58/58 [==============================] - 227s 4s/step - loss: 0.1248 - accuracy: 0.9545 - val_loss: 0.1269 - val_accuracy: 0.9371\n",
            "Epoch 20/100\n",
            "58/58 [==============================] - 224s 4s/step - loss: 0.1176 - accuracy: 0.9559 - val_loss: 0.0905 - val_accuracy: 0.9653\n",
            "Epoch 21/100\n",
            "58/58 [==============================] - 222s 4s/step - loss: 0.0959 - accuracy: 0.9661 - val_loss: 0.0878 - val_accuracy: 0.9653\n",
            "Epoch 22/100\n",
            "58/58 [==============================] - 222s 4s/step - loss: 0.1224 - accuracy: 0.9537 - val_loss: 0.0903 - val_accuracy: 0.9566\n",
            "Epoch 23/100\n",
            "58/58 [==============================] - 222s 4s/step - loss: 0.1172 - accuracy: 0.9521 - val_loss: 0.0988 - val_accuracy: 0.9523\n",
            "Epoch 24/100\n",
            "58/58 [==============================] - 222s 4s/step - loss: 0.1197 - accuracy: 0.9598 - val_loss: 0.0784 - val_accuracy: 0.9740\n",
            "Epoch 25/100\n",
            "58/58 [==============================] - 223s 4s/step - loss: 0.1025 - accuracy: 0.9587 - val_loss: 0.0742 - val_accuracy: 0.9740\n",
            "Epoch 26/100\n",
            "58/58 [==============================] - 222s 4s/step - loss: 0.1023 - accuracy: 0.9592 - val_loss: 0.0767 - val_accuracy: 0.9653\n",
            "Epoch 27/100\n",
            "58/58 [==============================] - 222s 4s/step - loss: 0.0999 - accuracy: 0.9619 - val_loss: 0.0772 - val_accuracy: 0.9696\n",
            "Epoch 28/100\n",
            "58/58 [==============================] - 223s 4s/step - loss: 0.0967 - accuracy: 0.9637 - val_loss: 0.0693 - val_accuracy: 0.9761\n",
            "Epoch 29/100\n",
            "58/58 [==============================] - 222s 4s/step - loss: 0.0972 - accuracy: 0.9672 - val_loss: 0.0705 - val_accuracy: 0.9696\n",
            "Epoch 30/100\n",
            "58/58 [==============================] - 223s 4s/step - loss: 0.1005 - accuracy: 0.9597 - val_loss: 0.0705 - val_accuracy: 0.9675\n",
            "Epoch 31/100\n",
            "58/58 [==============================] - 223s 4s/step - loss: 0.0655 - accuracy: 0.9790 - val_loss: 0.0652 - val_accuracy: 0.9740\n",
            "Epoch 32/100\n",
            "58/58 [==============================] - 223s 4s/step - loss: 0.0963 - accuracy: 0.9628 - val_loss: 0.0784 - val_accuracy: 0.9675\n",
            "Epoch 33/100\n",
            "58/58 [==============================] - 226s 4s/step - loss: 0.0862 - accuracy: 0.9714 - val_loss: 0.0649 - val_accuracy: 0.9718\n",
            "Epoch 34/100\n",
            "58/58 [==============================] - 225s 4s/step - loss: 0.0837 - accuracy: 0.9690 - val_loss: 0.0621 - val_accuracy: 0.9740\n",
            "Epoch 35/100\n",
            "58/58 [==============================] - 225s 4s/step - loss: 0.0829 - accuracy: 0.9674 - val_loss: 0.1121 - val_accuracy: 0.9588\n",
            "Epoch 36/100\n",
            "58/58 [==============================] - 224s 4s/step - loss: 0.0979 - accuracy: 0.9551 - val_loss: 0.0746 - val_accuracy: 0.9696\n",
            "Epoch 37/100\n",
            "58/58 [==============================] - 225s 4s/step - loss: 0.0812 - accuracy: 0.9666 - val_loss: 0.0595 - val_accuracy: 0.9761\n",
            "Epoch 38/100\n",
            "58/58 [==============================] - 224s 4s/step - loss: 0.0742 - accuracy: 0.9746 - val_loss: 0.0589 - val_accuracy: 0.9718\n",
            "Epoch 39/100\n",
            "58/58 [==============================] - 225s 4s/step - loss: 0.1127 - accuracy: 0.9611 - val_loss: 0.0587 - val_accuracy: 0.9740\n",
            "Epoch 40/100\n",
            "58/58 [==============================] - 228s 4s/step - loss: 0.0750 - accuracy: 0.9748 - val_loss: 0.0591 - val_accuracy: 0.9718\n",
            "Epoch 41/100\n",
            "58/58 [==============================] - 224s 4s/step - loss: 0.0869 - accuracy: 0.9624 - val_loss: 0.0559 - val_accuracy: 0.9718\n",
            "Epoch 42/100\n",
            "58/58 [==============================] - 222s 4s/step - loss: 0.0859 - accuracy: 0.9670 - val_loss: 0.0622 - val_accuracy: 0.9761\n",
            "Epoch 43/100\n",
            "58/58 [==============================] - 223s 4s/step - loss: 0.0799 - accuracy: 0.9698 - val_loss: 0.0562 - val_accuracy: 0.9783\n",
            "Epoch 44/100\n",
            "58/58 [==============================] - 223s 4s/step - loss: 0.0813 - accuracy: 0.9682 - val_loss: 0.0577 - val_accuracy: 0.9740\n",
            "Epoch 45/100\n",
            "58/58 [==============================] - 225s 4s/step - loss: 0.0862 - accuracy: 0.9652 - val_loss: 0.0616 - val_accuracy: 0.9718\n",
            "Epoch 46/100\n",
            "58/58 [==============================] - 227s 4s/step - loss: 0.0785 - accuracy: 0.9708 - val_loss: 0.0624 - val_accuracy: 0.9740\n",
            "Epoch 47/100\n",
            "58/58 [==============================] - 226s 4s/step - loss: 0.0801 - accuracy: 0.9694 - val_loss: 0.0716 - val_accuracy: 0.9718\n",
            "Epoch 48/100\n",
            "58/58 [==============================] - 226s 4s/step - loss: 0.0763 - accuracy: 0.9732 - val_loss: 0.0525 - val_accuracy: 0.9740\n",
            "Epoch 49/100\n",
            "58/58 [==============================] - 226s 4s/step - loss: 0.0866 - accuracy: 0.9625 - val_loss: 0.0627 - val_accuracy: 0.9783\n",
            "Epoch 50/100\n",
            "58/58 [==============================] - 226s 4s/step - loss: 0.0737 - accuracy: 0.9750 - val_loss: 0.0575 - val_accuracy: 0.9740\n",
            "Epoch 51/100\n",
            "58/58 [==============================] - 227s 4s/step - loss: 0.0673 - accuracy: 0.9763 - val_loss: 0.0522 - val_accuracy: 0.9805\n",
            "Epoch 52/100\n",
            "58/58 [==============================] - 229s 4s/step - loss: 0.0852 - accuracy: 0.9735 - val_loss: 0.0532 - val_accuracy: 0.9740\n",
            "Epoch 53/100\n",
            "58/58 [==============================] - 229s 4s/step - loss: 0.0885 - accuracy: 0.9691 - val_loss: 0.0536 - val_accuracy: 0.9718\n",
            "Epoch 54/100\n",
            "58/58 [==============================] - 228s 4s/step - loss: 0.0855 - accuracy: 0.9681 - val_loss: 0.0688 - val_accuracy: 0.9718\n",
            "Epoch 55/100\n",
            "58/58 [==============================] - 226s 4s/step - loss: 0.0769 - accuracy: 0.9684 - val_loss: 0.0547 - val_accuracy: 0.9783\n",
            "Epoch 56/100\n",
            "58/58 [==============================] - 226s 4s/step - loss: 0.0685 - accuracy: 0.9788 - val_loss: 0.0541 - val_accuracy: 0.9805\n",
            "Epoch 57/100\n",
            "58/58 [==============================] - 227s 4s/step - loss: 0.0716 - accuracy: 0.9676 - val_loss: 0.0469 - val_accuracy: 0.9783\n",
            "Epoch 58/100\n",
            "58/58 [==============================] - 226s 4s/step - loss: 0.0650 - accuracy: 0.9757 - val_loss: 0.0466 - val_accuracy: 0.9783\n",
            "Epoch 59/100\n",
            "58/58 [==============================] - 228s 4s/step - loss: 0.0730 - accuracy: 0.9693 - val_loss: 0.0465 - val_accuracy: 0.9783\n",
            "Epoch 60/100\n",
            "58/58 [==============================] - 232s 4s/step - loss: 0.0632 - accuracy: 0.9766 - val_loss: 0.1125 - val_accuracy: 0.9566\n",
            "Epoch 61/100\n",
            "58/58 [==============================] - 232s 4s/step - loss: 0.0574 - accuracy: 0.9751 - val_loss: 0.0698 - val_accuracy: 0.9718\n",
            "Epoch 62/100\n",
            "58/58 [==============================] - 229s 4s/step - loss: 0.0720 - accuracy: 0.9657 - val_loss: 0.0523 - val_accuracy: 0.9805\n",
            "Epoch 63/100\n",
            "58/58 [==============================] - 229s 4s/step - loss: 0.0637 - accuracy: 0.9758 - val_loss: 0.1129 - val_accuracy: 0.9501\n",
            "Epoch 64/100\n",
            "58/58 [==============================] - 226s 4s/step - loss: 0.0658 - accuracy: 0.9708 - val_loss: 0.0442 - val_accuracy: 0.9805\n",
            "Epoch 65/100\n",
            "58/58 [==============================] - 226s 4s/step - loss: 0.0489 - accuracy: 0.9815 - val_loss: 0.0537 - val_accuracy: 0.9805\n",
            "Epoch 66/100\n",
            "58/58 [==============================] - 224s 4s/step - loss: 0.0481 - accuracy: 0.9811 - val_loss: 0.0568 - val_accuracy: 0.9761\n",
            "Epoch 67/100\n",
            "58/58 [==============================] - 224s 4s/step - loss: 0.0872 - accuracy: 0.9680 - val_loss: 0.0453 - val_accuracy: 0.9826\n",
            "Epoch 68/100\n",
            "58/58 [==============================] - 223s 4s/step - loss: 0.0739 - accuracy: 0.9799 - val_loss: 0.0442 - val_accuracy: 0.9805\n",
            "Epoch 69/100\n",
            "58/58 [==============================] - 223s 4s/step - loss: 0.0745 - accuracy: 0.9803 - val_loss: 0.0571 - val_accuracy: 0.9761\n",
            "Epoch 70/100\n",
            "58/58 [==============================] - 223s 4s/step - loss: 0.0710 - accuracy: 0.9720 - val_loss: 0.0509 - val_accuracy: 0.9870\n",
            "Epoch 71/100\n",
            "58/58 [==============================] - 223s 4s/step - loss: 0.0543 - accuracy: 0.9803 - val_loss: 0.0470 - val_accuracy: 0.9870\n",
            "Epoch 72/100\n",
            "58/58 [==============================] - 223s 4s/step - loss: 0.0546 - accuracy: 0.9813 - val_loss: 0.0426 - val_accuracy: 0.9848\n",
            "Epoch 73/100\n",
            "58/58 [==============================] - 224s 4s/step - loss: 0.0607 - accuracy: 0.9740 - val_loss: 0.0429 - val_accuracy: 0.9826\n",
            "Epoch 74/100\n",
            "58/58 [==============================] - 223s 4s/step - loss: 0.0619 - accuracy: 0.9777 - val_loss: 0.0452 - val_accuracy: 0.9848\n",
            "Epoch 75/100\n",
            "58/58 [==============================] - 225s 4s/step - loss: 0.0595 - accuracy: 0.9761 - val_loss: 0.0678 - val_accuracy: 0.9696\n",
            "Epoch 76/100\n",
            "58/58 [==============================] - 225s 4s/step - loss: 0.0700 - accuracy: 0.9734 - val_loss: 0.0444 - val_accuracy: 0.9805\n",
            "Epoch 77/100\n",
            "58/58 [==============================] - 223s 4s/step - loss: 0.0780 - accuracy: 0.9772 - val_loss: 0.0794 - val_accuracy: 0.9631\n",
            "Epoch 78/100\n",
            "58/58 [==============================] - 226s 4s/step - loss: 0.0519 - accuracy: 0.9849 - val_loss: 0.0452 - val_accuracy: 0.9848\n",
            "Epoch 79/100\n",
            "58/58 [==============================] - 226s 4s/step - loss: 0.0582 - accuracy: 0.9787 - val_loss: 0.0435 - val_accuracy: 0.9826\n",
            "Epoch 80/100\n",
            "58/58 [==============================] - 227s 4s/step - loss: 0.0546 - accuracy: 0.9819 - val_loss: 0.0402 - val_accuracy: 0.9826\n",
            "Epoch 81/100\n",
            "58/58 [==============================] - 225s 4s/step - loss: 0.0527 - accuracy: 0.9770 - val_loss: 0.1030 - val_accuracy: 0.9544\n",
            "Epoch 82/100\n",
            "58/58 [==============================] - 226s 4s/step - loss: 0.0761 - accuracy: 0.9713 - val_loss: 0.0406 - val_accuracy: 0.9892\n",
            "Epoch 83/100\n",
            "58/58 [==============================] - 227s 4s/step - loss: 0.0545 - accuracy: 0.9817 - val_loss: 0.0790 - val_accuracy: 0.9675\n",
            "Epoch 84/100\n",
            "58/58 [==============================] - 227s 4s/step - loss: 0.0677 - accuracy: 0.9717 - val_loss: 0.0501 - val_accuracy: 0.9805\n",
            "Epoch 85/100\n",
            "58/58 [==============================] - 227s 4s/step - loss: 0.0429 - accuracy: 0.9876 - val_loss: 0.0423 - val_accuracy: 0.9892\n",
            "Epoch 86/100\n",
            "58/58 [==============================] - 226s 4s/step - loss: 0.0416 - accuracy: 0.9819 - val_loss: 0.0388 - val_accuracy: 0.9826\n",
            "Epoch 87/100\n",
            "58/58 [==============================] - 226s 4s/step - loss: 0.0502 - accuracy: 0.9811 - val_loss: 0.0391 - val_accuracy: 0.9826\n",
            "Epoch 88/100\n",
            "58/58 [==============================] - 222s 4s/step - loss: 0.0496 - accuracy: 0.9834 - val_loss: 0.0490 - val_accuracy: 0.9805\n",
            "Epoch 89/100\n",
            "58/58 [==============================] - 221s 4s/step - loss: 0.0460 - accuracy: 0.9838 - val_loss: 0.0373 - val_accuracy: 0.9848\n",
            "Epoch 90/100\n",
            "58/58 [==============================] - 221s 4s/step - loss: 0.0586 - accuracy: 0.9768 - val_loss: 0.0784 - val_accuracy: 0.9653\n",
            "Epoch 91/100\n",
            "58/58 [==============================] - 222s 4s/step - loss: 0.0521 - accuracy: 0.9792 - val_loss: 0.0399 - val_accuracy: 0.9848\n",
            "Epoch 92/100\n",
            "58/58 [==============================] - 223s 4s/step - loss: 0.0533 - accuracy: 0.9807 - val_loss: 0.0412 - val_accuracy: 0.9848\n",
            "Epoch 93/100\n",
            "58/58 [==============================] - 223s 4s/step - loss: 0.0479 - accuracy: 0.9833 - val_loss: 0.0368 - val_accuracy: 0.9848\n",
            "Epoch 94/100\n",
            "58/58 [==============================] - 225s 4s/step - loss: 0.0442 - accuracy: 0.9862 - val_loss: 0.0369 - val_accuracy: 0.9826\n",
            "Epoch 95/100\n",
            "58/58 [==============================] - 225s 4s/step - loss: 0.0491 - accuracy: 0.9844 - val_loss: 0.0720 - val_accuracy: 0.9696\n",
            "Epoch 96/100\n",
            "58/58 [==============================] - 226s 4s/step - loss: 0.0440 - accuracy: 0.9815 - val_loss: 0.0363 - val_accuracy: 0.9848\n",
            "Epoch 97/100\n",
            "58/58 [==============================] - 225s 4s/step - loss: 0.0503 - accuracy: 0.9826 - val_loss: 0.0398 - val_accuracy: 0.9848\n",
            "Epoch 98/100\n",
            "58/58 [==============================] - 226s 4s/step - loss: 0.0572 - accuracy: 0.9742 - val_loss: 0.0370 - val_accuracy: 0.9848\n",
            "Epoch 99/100\n",
            "58/58 [==============================] - 228s 4s/step - loss: 0.0412 - accuracy: 0.9876 - val_loss: 0.0367 - val_accuracy: 0.9892\n",
            "Epoch 100/100\n",
            "58/58 [==============================] - 225s 4s/step - loss: 0.0580 - accuracy: 0.9746 - val_loss: 0.0460 - val_accuracy: 0.9805\n"
          ],
          "name": "stdout"
        },
        {
          "output_type": "display_data",
          "data": {
            "image/png": "[encoded data removed]",
            "text/plain": [
              "<Figure size 432x288 with 1 Axes>"
            ]
          },
          "metadata": {
            "tags": [],
            "needs_background": "light"
          }
        },
        {
          "output_type": "display_data",
          "data": {
            "image/png": "[encoded data removed]",
            "text/plain": [
              "<Figure size 432x288 with 1 Axes>"
            ]
          },
          "metadata": {
            "tags": [],
            "needs_background": "light"
          }
        },
        {
          "output_type": "stream",
          "text": [
            "CPU times: user 11h 37min 24s, sys: 9min 59s, total: 11h 47min 24s\n",
            "Wall time: 6h 28min 20s\n"
          ],
          "name": "stdout"
        }
      ]
    },
    {
      "cell_type": "markdown",
      "metadata": {
        "id": "6IRWGbhaAHs2"
      },
      "source": [
        "# **Import Keras Libraries**"
      ]
    },
    {
      "cell_type": "code",
      "metadata": {
        "id": "fv8Vy-BZVakc"
      },
      "source": [
        "from keras.models import Sequential,load_model\n",
        "from keras.layers import Conv2D,Activation, MaxPooling2D,Dense,Flatten\n",
        "from keras.optimizers import SGD\n",
        "from keras.preprocessing.image import ImageDataGenerator\n",
        "\n",
        "\n",
        "from sklearn.metrics import accuracy_score,roc_curve,confusion_matrix,precision_score,recall_score,f1_score,roc_auc_score\n",
        "import matplotlib.pyplot as plt\n",
        "import matplotlib.pyplot as plt_False_Positive_vs_True_Positive"
      ],
      "execution_count": 8,
      "outputs": []
    },
    {
      "cell_type": "markdown",
      "metadata": {
        "id": "aFRrSZWkANWU"
      },
      "source": [
        "# **Evaluate CNN model**"
      ]
    },
    {
      "cell_type": "code",
      "metadata": {
        "id": "EIPpKHo7Vpdy"
      },
      "source": [
        "def Evaluate_CNN_Model():\n",
        "    # -------------------------------------------------------------------------\n",
        "    #                        Evaluate CNN Model \n",
        "    # -------------------------------------------------------------------------\n",
        "    \n",
        "    # load model\n",
        "    model = load_model('/content/drive/MyDrive/COVID-19-Deep-Learning-Project-Colab/saved_models/CoVID19-normal_cnn_model.h5')\n",
        "    \n",
        "    # load test data\n",
        "    batch_size=32\n",
        "    test_datagen = ImageDataGenerator(\n",
        "                                     rescale=1.0/255.0,\n",
        "                                     featurewise_center= True,\n",
        "                                     featurewise_std_normalization = True)\n",
        "    \n",
        "    test_it = test_datagen.flow_from_directory('/content/drive/MyDrive/COVID-19-Deep-Learning-Project-Colab/Dataset/test/',classes =('Normal','Covid'), \n",
        "                                               shuffle=False,batch_size=batch_size, target_size=(224, 224))\n",
        "    \n",
        "    y_true = test_it.classes;\n",
        "\n",
        "    y_pred = model.predict_generator(test_it, steps=len(test_it), verbose=1)\n",
        "\n",
        "    \n",
        "    y_pred_prob = y_pred[:,1]\n",
        "\n",
        "     \n",
        "    y_pred_binary =  y_pred_prob > 0.5\n",
        "   \n",
        "    #Confution Matrix    \n",
        "    print('\\nConfusion Matrix\\n -------------------------')    \n",
        "    print(confusion_matrix(y_true,y_pred_binary));\n",
        "    \n",
        "    # accuracy: (tp + tn) / (p + n)\n",
        "    accuracy = accuracy_score(y_true, y_pred_binary)\n",
        "    print('Accuracy: %f' % accuracy)\n",
        "    \n",
        "    \n",
        "    # precision tp / (tp + fp)\n",
        "    precision = precision_score(y_true, y_pred_binary)\n",
        "    print('Precision: %f' % precision)\n",
        "    \n",
        "    # recall: tp / (tp + fn)\n",
        "    recall = recall_score(y_true, y_pred_binary)\n",
        "    print('Recall: %f' % recall)\n",
        "    \n",
        "    # f1: 2 tp / (2 tp + fp + fn)\n",
        "    f1 = f1_score(y_true, y_pred_binary)\n",
        "    print('F1 score: %f' % f1)    \n",
        "       \n",
        "    # ROC AUC\n",
        "    auc = roc_auc_score(y_true, y_pred_prob)\n",
        "    print('ROC AUC: %f' % auc)\n",
        "    \n",
        "    \n",
        "    # calculate roc curves\n",
        "    fpr, tpr, _ = roc_curve(y_true, y_pred_prob)\n",
        "        \n",
        "    # plot the roc curve for the model\n",
        "    plt.figure()\n",
        "    plt_False_Positive_vs_True_Positive.plot(fpr, tpr, linestyle='--', label='')\n",
        "    \n",
        "    # axis labels\n",
        "    plt_False_Positive_vs_True_Positive.xlabel('False Positive Rate')\n",
        "    plt_False_Positive_vs_True_Positive.ylabel('True Positive Rate')\n",
        "       \n",
        "    # show the legend\n",
        "    plt_False_Positive_vs_True_Positive.legend()\n",
        "    # show the plot\n",
        "    plt_False_Positive_vs_True_Positive.show()\n",
        "\n",
        "    #for plotting CM graph\n",
        "    cm = confusion_matrix(y_true,y_pred_binary)\n",
        "\n",
        "    def plot_confusion_matrix(cm, classes,\n",
        "                        normalize=False,\n",
        "                        title='Confusion matrix for Sequential CNN',\n",
        "                        cmap=plt.cm.prism):\n",
        " \n",
        "      plt.imshow(cm, interpolation='nearest', cmap=cmap)\n",
        "      plt.title(title)\n",
        "      plt.colorbar()\n",
        "      tick_marks = np.arange(len(classes))\n",
        "      plt.xticks(tick_marks, classes, rotation=45)\n",
        "      plt.yticks(tick_marks, classes)\n",
        "\n",
        "\n",
        "\n",
        "    thresh = cm.max() / 2.\n",
        "    for i, j in itertools.product(range(cm.shape[0]), range(cm.shape[1])):\n",
        "        plt.text(j, i, cm[i, j],\n",
        "            horizontalalignment=\"center\",\n",
        "            color=\"white\" if cm[i, j] > thresh else \"black\")\n",
        "\n",
        "    plt.tight_layout()\n",
        "    plt.ylabel('Predicted Values')\n",
        "    plt.xlabel('True Values')\n",
        "    cm_plot_labels = ['No Covid','Has Covid']\n",
        "    plot_confusion_matrix(cm=cm, classes=cm_plot_labels, title='Confusion matrix for Sequential CNN')\n"
      ],
      "execution_count": 9,
      "outputs": []
    },
    {
      "cell_type": "code",
      "metadata": {
        "id": "TNzuN4ZrKqq8"
      },
      "source": [
        "%matplotlib inline\n",
        "from sklearn.metrics import confusion_matrix\n",
        "import itertools\n",
        "import matplotlib.pyplot as plt\n",
        "import numpy as np"
      ],
      "execution_count": 10,
      "outputs": []
    },
    {
      "cell_type": "markdown",
      "metadata": {
        "id": "UlM_3Uv4AR31"
      },
      "source": [
        "# **Call the Evaluate CNN model fucntion for output**"
      ]
    },
    {
      "cell_type": "code",
      "metadata": {
        "id": "MDwGIrhYWOZO",
        "colab": {
          "base_uri": "https://localhost:8080/",
          "height": 957
        },
        "outputId": "517685bb-33a8-48e2-dba7-2fd2652b819e"
      },
      "source": [
        "Evaluate_CNN_Model ()"
      ],
      "execution_count": 11,
      "outputs": [
        {
          "output_type": "stream",
          "text": [
            "Found 139 images belonging to 2 classes.\n"
          ],
          "name": "stdout"
        },
        {
          "output_type": "stream",
          "text": [
            "/usr/local/lib/python3.6/dist-packages/tensorflow/python/keras/engine/training.py:1905: UserWarning: `Model.predict_generator` is deprecated and will be removed in a future version. Please use `Model.predict`, which supports generators.\n",
            "  warnings.warn('`Model.predict_generator` is deprecated and '\n",
            "/usr/local/lib/python3.6/dist-packages/keras_preprocessing/image/image_data_generator.py:720: UserWarning: This ImageDataGenerator specifies `featurewise_center`, but it hasn't been fit on any training data. Fit it first by calling `.fit(numpy_data)`.\n",
            "  warnings.warn('This ImageDataGenerator specifies '\n",
            "/usr/local/lib/python3.6/dist-packages/keras_preprocessing/image/image_data_generator.py:728: UserWarning: This ImageDataGenerator specifies `featurewise_std_normalization`, but it hasn't been fit on any training data. Fit it first by calling `.fit(numpy_data)`.\n",
            "  warnings.warn('This ImageDataGenerator specifies '\n"
          ],
          "name": "stderr"
        },
        {
          "output_type": "stream",
          "text": [
            "5/5 [==============================] - 48s 12s/step\n"
          ],
          "name": "stdout"
        },
        {
          "output_type": "stream",
          "text": [
            "No handles with labels found to put in legend.\n"
          ],
          "name": "stderr"
        },
        {
          "output_type": "stream",
          "text": [
            "\n",
            "Confusion Matrix\n",
            " -------------------------\n",
            "[[63  7]\n",
            " [ 2 67]]\n",
            "Accuracy: 0.935252\n",
            "Precision: 0.905405\n",
            "Recall: 0.971014\n",
            "F1 score: 0.937063\n",
            "ROC AUC: 0.990683\n"
          ],
          "name": "stdout"
        },
        {
          "output_type": "display_data",
          "data": {
            "image/png": "[encoded data removed]",
            "text/plain": [
              "<Figure size 432x288 with 1 Axes>"
            ]
          },
          "metadata": {
            "tags": [],
            "needs_background": "light"
          }
        },
        {
          "output_type": "display_data",
          "data": {
            "image/png": "[encoded data removed]",
            "text/plain": [
              "<Figure size 432x288 with 2 Axes>"
            ]
          },
          "metadata": {
            "tags": [],
            "needs_background": "light"
          }
        }
      ]
    }
  ]
}