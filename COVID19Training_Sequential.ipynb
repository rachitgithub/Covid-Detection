{
  "nbformat": 4,
  "nbformat_minor": 0,
  "metadata": {
    "colab": {
      "name": "COVID19Training-Sequential.ipynb",
      "provenance": [],
      "collapsed_sections": [],
      "toc_visible": true,
      "mount_file_id": "1quBgUo0N1e7wAGUEKvSl-emEVYMEvnin",
      "authorship_tag": "ABX9TyMVrQ6OxQxp5wKSYKzw7f6y",
      "include_colab_link": true
    },
    "kernelspec": {
      "name": "python3",
      "display_name": "Python 3"
    },
    "accelerator": "GPU"
  },
  "cells": [
    {
      "cell_type": "markdown",
      "metadata": {
        "id": "view-in-github",
        "colab_type": "text"
      },
      "source": [
        "<a href=\"https://colab.research.google.com/github/rachitgithub/Covid-Detection/blob/main/COVID19Training_Sequential.ipynb\" target=\"_parent\"><img src=\"https://colab.research.google.com/assets/colab-badge.svg\" alt=\"Open In Colab\"/></a>"
      ]
    },
    {
      "cell_type": "markdown",
      "metadata": {
        "id": "t_X9m0sG9kc3"
      },
      "source": [
        "## **Install TensorFlow**\n",
        "\n"
      ]
    },
    {
      "cell_type": "code",
      "metadata": {
        "id": "GTg7WqznD-hG",
        "colab": {
          "base_uri": "https://localhost:8080/"
        },
        "outputId": "00eced5e-30b6-4bdf-a847-4c49669e30bb"
      },
      "source": [
        "!pip install tensorflow-gpu"
      ],
      "execution_count": null,
      "outputs": [
        {
          "output_type": "stream",
          "text": [
            "Collecting tensorflow-gpu\n",
            "\u001b[?25l  Downloading https://files.pythonhosted.org/packages/18/99/ac32fd13d56e40d4c3e6150030132519997c0bb1f06f448d970e81b177e5/tensorflow_gpu-2.3.1-cp36-cp36m-manylinux2010_x86_64.whl (320.4MB)\n",
            "\u001b[K     |████████████████████████████████| 320.4MB 54kB/s \n",
            "\u001b[?25hRequirement already satisfied: tensorflow-estimator<2.4.0,>=2.3.0 in /usr/local/lib/python3.6/dist-packages (from tensorflow-gpu) (2.3.0)\n",
            "Requirement already satisfied: absl-py>=0.7.0 in /usr/local/lib/python3.6/dist-packages (from tensorflow-gpu) (0.10.0)\n",
            "Requirement already satisfied: termcolor>=1.1.0 in /usr/local/lib/python3.6/dist-packages (from tensorflow-gpu) (1.1.0)\n",
            "Requirement already satisfied: astunparse==1.6.3 in /usr/local/lib/python3.6/dist-packages (from tensorflow-gpu) (1.6.3)\n",
            "Requirement already satisfied: protobuf>=3.9.2 in /usr/local/lib/python3.6/dist-packages (from tensorflow-gpu) (3.12.4)\n",
            "Requirement already satisfied: wheel>=0.26 in /usr/local/lib/python3.6/dist-packages (from tensorflow-gpu) (0.35.1)\n",
            "Requirement already satisfied: google-pasta>=0.1.8 in /usr/local/lib/python3.6/dist-packages (from tensorflow-gpu) (0.2.0)\n",
            "Requirement already satisfied: grpcio>=1.8.6 in /usr/local/lib/python3.6/dist-packages (from tensorflow-gpu) (1.33.2)\n",
            "Requirement already satisfied: wrapt>=1.11.1 in /usr/local/lib/python3.6/dist-packages (from tensorflow-gpu) (1.12.1)\n",
            "Requirement already satisfied: opt-einsum>=2.3.2 in /usr/local/lib/python3.6/dist-packages (from tensorflow-gpu) (3.3.0)\n",
            "Requirement already satisfied: keras-preprocessing<1.2,>=1.1.1 in /usr/local/lib/python3.6/dist-packages (from tensorflow-gpu) (1.1.2)\n",
            "Requirement already satisfied: tensorboard<3,>=2.3.0 in /usr/local/lib/python3.6/dist-packages (from tensorflow-gpu) (2.3.0)\n",
            "Requirement already satisfied: h5py<2.11.0,>=2.10.0 in /usr/local/lib/python3.6/dist-packages (from tensorflow-gpu) (2.10.0)\n",
            "Requirement already satisfied: numpy<1.19.0,>=1.16.0 in /usr/local/lib/python3.6/dist-packages (from tensorflow-gpu) (1.18.5)\n",
            "Requirement already satisfied: six>=1.12.0 in /usr/local/lib/python3.6/dist-packages (from tensorflow-gpu) (1.15.0)\n",
            "Requirement already satisfied: gast==0.3.3 in /usr/local/lib/python3.6/dist-packages (from tensorflow-gpu) (0.3.3)\n",
            "Requirement already satisfied: setuptools in /usr/local/lib/python3.6/dist-packages (from protobuf>=3.9.2->tensorflow-gpu) (50.3.2)\n",
            "Requirement already satisfied: requests<3,>=2.21.0 in /usr/local/lib/python3.6/dist-packages (from tensorboard<3,>=2.3.0->tensorflow-gpu) (2.23.0)\n",
            "Requirement already satisfied: tensorboard-plugin-wit>=1.6.0 in /usr/local/lib/python3.6/dist-packages (from tensorboard<3,>=2.3.0->tensorflow-gpu) (1.7.0)\n",
            "Requirement already satisfied: markdown>=2.6.8 in /usr/local/lib/python3.6/dist-packages (from tensorboard<3,>=2.3.0->tensorflow-gpu) (3.3.3)\n",
            "Requirement already satisfied: google-auth<2,>=1.6.3 in /usr/local/lib/python3.6/dist-packages (from tensorboard<3,>=2.3.0->tensorflow-gpu) (1.17.2)\n",
            "Requirement already satisfied: werkzeug>=0.11.15 in /usr/local/lib/python3.6/dist-packages (from tensorboard<3,>=2.3.0->tensorflow-gpu) (1.0.1)\n",
            "Requirement already satisfied: google-auth-oauthlib<0.5,>=0.4.1 in /usr/local/lib/python3.6/dist-packages (from tensorboard<3,>=2.3.0->tensorflow-gpu) (0.4.2)\n",
            "Requirement already satisfied: idna<3,>=2.5 in /usr/local/lib/python3.6/dist-packages (from requests<3,>=2.21.0->tensorboard<3,>=2.3.0->tensorflow-gpu) (2.10)\n",
            "Requirement already satisfied: certifi>=2017.4.17 in /usr/local/lib/python3.6/dist-packages (from requests<3,>=2.21.0->tensorboard<3,>=2.3.0->tensorflow-gpu) (2020.6.20)\n",
            "Requirement already satisfied: chardet<4,>=3.0.2 in /usr/local/lib/python3.6/dist-packages (from requests<3,>=2.21.0->tensorboard<3,>=2.3.0->tensorflow-gpu) (3.0.4)\n",
            "Requirement already satisfied: urllib3!=1.25.0,!=1.25.1,<1.26,>=1.21.1 in /usr/local/lib/python3.6/dist-packages (from requests<3,>=2.21.0->tensorboard<3,>=2.3.0->tensorflow-gpu) (1.24.3)\n",
            "Requirement already satisfied: importlib-metadata; python_version < \"3.8\" in /usr/local/lib/python3.6/dist-packages (from markdown>=2.6.8->tensorboard<3,>=2.3.0->tensorflow-gpu) (2.0.0)\n",
            "Requirement already satisfied: rsa<5,>=3.1.4; python_version >= \"3\" in /usr/local/lib/python3.6/dist-packages (from google-auth<2,>=1.6.3->tensorboard<3,>=2.3.0->tensorflow-gpu) (4.6)\n",
            "Requirement already satisfied: pyasn1-modules>=0.2.1 in /usr/local/lib/python3.6/dist-packages (from google-auth<2,>=1.6.3->tensorboard<3,>=2.3.0->tensorflow-gpu) (0.2.8)\n",
            "Requirement already satisfied: cachetools<5.0,>=2.0.0 in /usr/local/lib/python3.6/dist-packages (from google-auth<2,>=1.6.3->tensorboard<3,>=2.3.0->tensorflow-gpu) (4.1.1)\n",
            "Requirement already satisfied: requests-oauthlib>=0.7.0 in /usr/local/lib/python3.6/dist-packages (from google-auth-oauthlib<0.5,>=0.4.1->tensorboard<3,>=2.3.0->tensorflow-gpu) (1.3.0)\n",
            "Requirement already satisfied: zipp>=0.5 in /usr/local/lib/python3.6/dist-packages (from importlib-metadata; python_version < \"3.8\"->markdown>=2.6.8->tensorboard<3,>=2.3.0->tensorflow-gpu) (3.4.0)\n",
            "Requirement already satisfied: pyasn1>=0.1.3 in /usr/local/lib/python3.6/dist-packages (from rsa<5,>=3.1.4; python_version >= \"3\"->google-auth<2,>=1.6.3->tensorboard<3,>=2.3.0->tensorflow-gpu) (0.4.8)\n",
            "Requirement already satisfied: oauthlib>=3.0.0 in /usr/local/lib/python3.6/dist-packages (from requests-oauthlib>=0.7.0->google-auth-oauthlib<0.5,>=0.4.1->tensorboard<3,>=2.3.0->tensorflow-gpu) (3.1.0)\n",
            "Installing collected packages: tensorflow-gpu\n",
            "Successfully installed tensorflow-gpu-2.3.1\n"
          ],
          "name": "stdout"
        }
      ]
    },
    {
      "cell_type": "markdown",
      "metadata": {
        "id": "Du10QSPv9y4w"
      },
      "source": [
        "# **Mount Google Drive**"
      ]
    },
    {
      "cell_type": "code",
      "metadata": {
        "id": "5rjluwHgGMNC",
        "colab": {
          "base_uri": "https://localhost:8080/"
        },
        "outputId": "8e3895fd-20c9-4b27-a38d-8422caa6d6d3"
      },
      "source": [
        "from google.colab import drive\n",
        "drive.mount('/content/drive')\n"
      ],
      "execution_count": null,
      "outputs": [
        {
          "output_type": "stream",
          "text": [
            "Drive already mounted at /content/drive; to attempt to forcibly remount, call drive.mount(\"/content/drive\", force_remount=True).\n"
          ],
          "name": "stdout"
        }
      ]
    },
    {
      "cell_type": "markdown",
      "metadata": {
        "id": "Q3b-V_Ux96rT"
      },
      "source": [
        "# **Import TensorFlow and GPU**"
      ]
    },
    {
      "cell_type": "code",
      "metadata": {
        "id": "sx8wt7npFlKf",
        "colab": {
          "base_uri": "https://localhost:8080/"
        },
        "outputId": "c0bdf1b6-0bd7-4159-edd8-c2c6d50df62c"
      },
      "source": [
        "import tensorflow as tf\n",
        "tf.test.gpu_device_name()\n",
        "print(tf.__version__)"
      ],
      "execution_count": null,
      "outputs": [
        {
          "output_type": "stream",
          "text": [
            "2.3.1\n"
          ],
          "name": "stdout"
        }
      ]
    },
    {
      "cell_type": "markdown",
      "metadata": {
        "id": "UYh12rCR9_uS"
      },
      "source": [
        "# ***Create Directory to save model***"
      ]
    },
    {
      "cell_type": "code",
      "metadata": {
        "colab": {
          "base_uri": "https://localhost:8080/"
        },
        "id": "NCDzF7K59f61",
        "outputId": "5da002ba-7086-4f61-ffc6-d87da981e658"
      },
      "source": [
        "#!rmdir -p /content/drive/MyDrive/COVID-19-Deep-Learning-Project-Colab/saved_models\n",
        "!mkdir -p /content/drive/MyDrive/COVID-19-Deep-Learning-Project-Colab/saved_models"
      ],
      "execution_count": null,
      "outputs": [
        {
          "output_type": "stream",
          "text": [
            "rmdir: failed to remove directory '/content/drive/MyDrive/COVID-19-Deep-Learning-Project-Colab': Directory not empty\n"
          ],
          "name": "stdout"
        }
      ]
    },
    {
      "cell_type": "markdown",
      "metadata": {
        "id": "UiMH5Z1H-Hoh"
      },
      "source": [
        "# Import Keras **Libraries**"
      ]
    },
    {
      "cell_type": "code",
      "metadata": {
        "id": "zQiugSehF8TP"
      },
      "source": [
        "from keras.models import Sequential\n",
        "from keras.layers import Conv2D,Activation, MaxPooling2D,Dense,Flatten\n",
        "from keras.optimizers import SGD\n",
        "from keras.preprocessing.image import ImageDataGenerator\n",
        "import matplotlib.pyplot as plt\n",
        "import re\n",
        "import os"
      ],
      "execution_count": null,
      "outputs": []
    },
    {
      "cell_type": "markdown",
      "metadata": {
        "id": "_RMkjqMl-LYB"
      },
      "source": [
        "# **Build. Sequential CNN Model**"
      ]
    },
    {
      "cell_type": "code",
      "metadata": {
        "id": "syutrQoAHTVF"
      },
      "source": [
        "def Build_CNN_Model():\n",
        "    \n",
        "    # -------------------------------------------------------------------------\n",
        "    #                        Build CNN Model \n",
        "    # -------------------------------------------------------------------------\n",
        "    model = Sequential()  \n",
        "    \n",
        "    #  First Block of CNN\n",
        "    model.add(Conv2D(32, (3, 3), padding='same', input_shape=(224, 224, 3)))  \n",
        "    model.add(Activation('relu'))\n",
        "    model.add(MaxPooling2D((2, 2)))   \n",
        "    \n",
        "    #  Second Block of CNN\n",
        "    model.add(Conv2D(64, (3, 3),  padding='same'))  \n",
        "    model.add(Activation('relu'))\n",
        "    model.add(MaxPooling2D((2, 2)))\n",
        "    \n",
        "    #  Third Block of CNN\n",
        "    model.add(Conv2D(128, (3, 3), padding='same'))  \n",
        "    model.add(Activation('relu'))\n",
        "    model.add(MaxPooling2D((2, 2)))      \n",
        "    \n",
        "    #  Flatten and Fully Connected Layer\n",
        "    model.add(Flatten())\n",
        "    model.add(Dense(1000))\n",
        "    model.add(Activation('relu'))     \n",
        "    \n",
        "    #  Softmax Classifier\n",
        "    model.add(Dense(2))\n",
        "    model.add(Activation('softmax'))        \n",
        "    \n",
        "    #  Display model\n",
        "    model.summary()    \n",
        "\t\n",
        "    # compile model\n",
        "    opt = SGD(learning_rate=0.001)\n",
        "    model.compile(optimizer=opt, loss='categorical_crossentropy', metrics=['accuracy'])\n",
        "    \n",
        "    return model      \n",
        "   "
      ],
      "execution_count": null,
      "outputs": []
    },
    {
      "cell_type": "markdown",
      "metadata": {
        "id": "sq2m4MRf-RYU"
      },
      "source": [
        "# **Train the CNN model**"
      ]
    },
    {
      "cell_type": "code",
      "metadata": {
        "id": "b2MGR-RBHX_2"
      },
      "source": [
        "def Train_CNN_Model(model):\n",
        "    \n",
        "    # -------------------------------------------------------------------------\n",
        "    #                        Train CNN Model \n",
        "    # -------------------------------------------------------------------------\n",
        "    \n",
        "    # create data generators    \n",
        "    train_datagen = ImageDataGenerator(\n",
        "                                     rescale=1.0/255.0,\n",
        "                                     featurewise_center= True,\n",
        "                                     featurewise_std_normalization = True)\n",
        "    \n",
        "    valid_datagen = ImageDataGenerator(\n",
        "                                     rescale=1.0/255.0,\n",
        "                                     featurewise_center= True,\n",
        "                                     featurewise_std_normalization = True)\n",
        "    \n",
        "   \n",
        "    # prepare iterators\n",
        "    batch_size=32\n",
        "    train_it = train_datagen.flow_from_directory('/content/drive/MyDrive/COVID-19-Deep-Learning-Project-Colab/Dataset/train/',classes =('Normal','Covid'),batch_size=batch_size, target_size=(224, 224))\n",
        "    valid_it = valid_datagen.flow_from_directory('/content/drive/MyDrive/COVID-19-Deep-Learning-Project-Colab/Dataset/val/',classes =('Normal','Covid'),batch_size=batch_size, target_size=(224, 224))\n",
        "\n",
        "\n",
        "    epochs=100;\n",
        "    \n",
        "    history = model.fit(train_it, steps_per_epoch=len(train_it),\n",
        "\t\tvalidation_data=valid_it, validation_steps=len(valid_it), epochs=epochs, verbose=1)\n",
        "    \n",
        "    \n",
        "    #  \"Accuracy\"\n",
        "    plt.plot(history.history['accuracy'])\n",
        "    plt.plot(history.history['val_accuracy'])\n",
        "    plt.title('model accuracy')\n",
        "    plt.ylabel('accuracy')\n",
        "    plt.xlabel('epoch')\n",
        "    plt.legend(['train', 'validation'], loc='upper left')\n",
        "    plt.show()\n",
        "    \n",
        "    # \"Loss\"\n",
        "    plt.plot(history.history['loss'])\n",
        "    plt.plot(history.history['val_loss'])\n",
        "    plt.title('model loss')\n",
        "    plt.ylabel('loss')\n",
        "    plt.xlabel('epoch')\n",
        "    plt.legend(['train', 'validation'], loc='upper left')\n",
        "    plt.show()\n",
        "\n",
        "\t# save model\n",
        "    model.save('/content/drive/MyDrive/COVID-19-Deep-Learning-Project-Colab/saved_models/CoVID19-normal_cnn_model.h5')\n",
        "    "
      ],
      "execution_count": null,
      "outputs": []
    },
    {
      "cell_type": "markdown",
      "metadata": {
        "id": "aHhsfp8l-VxX"
      },
      "source": [
        "# **Run the build and train functions**"
      ]
    },
    {
      "cell_type": "code",
      "metadata": {
        "id": "7dtOXcp4Hcaj",
        "colab": {
          "base_uri": "https://localhost:8080/",
          "height": 1000
        },
        "outputId": "9060601e-258d-4fb5-da49-456026b9c2b2"
      },
      "source": [
        "# main entry \n",
        "model = Build_CNN_Model()\n",
        "\n",
        "Train_CNN_Model(model)"
      ],
      "execution_count": null,
      "outputs": [
        {
          "output_type": "stream",
          "text": [
            "Model: \"sequential\"\n",
            "_________________________________________________________________\n",
            "Layer (type)                 Output Shape              Param #   \n",
            "=================================================================\n",
            "conv2d (Conv2D)              (None, 224, 224, 32)      896       \n",
            "_________________________________________________________________\n",
            "activation (Activation)      (None, 224, 224, 32)      0         \n",
            "_________________________________________________________________\n",
            "max_pooling2d (MaxPooling2D) (None, 112, 112, 32)      0         \n",
            "_________________________________________________________________\n",
            "conv2d_1 (Conv2D)            (None, 112, 112, 64)      18496     \n",
            "_________________________________________________________________\n",
            "activation_1 (Activation)    (None, 112, 112, 64)      0         \n",
            "_________________________________________________________________\n",
            "max_pooling2d_1 (MaxPooling2 (None, 56, 56, 64)        0         \n",
            "_________________________________________________________________\n",
            "conv2d_2 (Conv2D)            (None, 56, 56, 128)       73856     \n",
            "_________________________________________________________________\n",
            "activation_2 (Activation)    (None, 56, 56, 128)       0         \n",
            "_________________________________________________________________\n",
            "max_pooling2d_2 (MaxPooling2 (None, 28, 28, 128)       0         \n",
            "_________________________________________________________________\n",
            "flatten (Flatten)            (None, 100352)            0         \n",
            "_________________________________________________________________\n",
            "dense (Dense)                (None, 1000)              100353000 \n",
            "_________________________________________________________________\n",
            "activation_3 (Activation)    (None, 1000)              0         \n",
            "_________________________________________________________________\n",
            "dense_1 (Dense)              (None, 2)                 2002      \n",
            "_________________________________________________________________\n",
            "activation_4 (Activation)    (None, 2)                 0         \n",
            "=================================================================\n",
            "Total params: 100,448,250\n",
            "Trainable params: 100,448,250\n",
            "Non-trainable params: 0\n",
            "_________________________________________________________________\n",
            "Found 1463 images belonging to 2 classes.\n",
            "Found 365 images belonging to 2 classes.\n"
          ],
          "name": "stdout"
        },
        {
          "output_type": "stream",
          "text": [
            "/usr/local/lib/python3.6/dist-packages/keras_preprocessing/image/image_data_generator.py:720: UserWarning: This ImageDataGenerator specifies `featurewise_center`, but it hasn't been fit on any training data. Fit it first by calling `.fit(numpy_data)`.\n",
            "  warnings.warn('This ImageDataGenerator specifies '\n",
            "/usr/local/lib/python3.6/dist-packages/keras_preprocessing/image/image_data_generator.py:728: UserWarning: This ImageDataGenerator specifies `featurewise_std_normalization`, but it hasn't been fit on any training data. Fit it first by calling `.fit(numpy_data)`.\n",
            "  warnings.warn('This ImageDataGenerator specifies '\n"
          ],
          "name": "stderr"
        },
        {
          "output_type": "stream",
          "text": [
            "Epoch 1/100\n",
            "46/46 [==============================] - 1049s 23s/step - loss: 0.5985 - accuracy: 0.8373 - val_loss: 0.5233 - val_accuracy: 0.9151\n",
            "Epoch 2/100\n",
            "46/46 [==============================] - 52s 1s/step - loss: 0.4474 - accuracy: 0.9139 - val_loss: 0.3978 - val_accuracy: 0.8932\n",
            "Epoch 3/100\n",
            "46/46 [==============================] - 51s 1s/step - loss: 0.3287 - accuracy: 0.9146 - val_loss: 0.2935 - val_accuracy: 0.9151\n",
            "Epoch 4/100\n",
            "46/46 [==============================] - 50s 1s/step - loss: 0.2578 - accuracy: 0.9241 - val_loss: 0.2485 - val_accuracy: 0.9288\n",
            "Epoch 5/100\n",
            "46/46 [==============================] - 50s 1s/step - loss: 0.2179 - accuracy: 0.9289 - val_loss: 0.2181 - val_accuracy: 0.9288\n",
            "Epoch 6/100\n",
            "46/46 [==============================] - 49s 1s/step - loss: 0.1954 - accuracy: 0.9323 - val_loss: 0.1895 - val_accuracy: 0.9370\n",
            "Epoch 7/100\n",
            "46/46 [==============================] - 49s 1s/step - loss: 0.1753 - accuracy: 0.9371 - val_loss: 0.1763 - val_accuracy: 0.9370\n",
            "Epoch 8/100\n",
            "46/46 [==============================] - 49s 1s/step - loss: 0.1635 - accuracy: 0.9385 - val_loss: 0.1582 - val_accuracy: 0.9425\n",
            "Epoch 9/100\n",
            "46/46 [==============================] - 49s 1s/step - loss: 0.1461 - accuracy: 0.9446 - val_loss: 0.1437 - val_accuracy: 0.9562\n",
            "Epoch 10/100\n",
            "46/46 [==============================] - 49s 1s/step - loss: 0.1415 - accuracy: 0.9453 - val_loss: 0.1409 - val_accuracy: 0.9479\n",
            "Epoch 11/100\n",
            "46/46 [==============================] - 50s 1s/step - loss: 0.1315 - accuracy: 0.9494 - val_loss: 0.1259 - val_accuracy: 0.9562\n",
            "Epoch 12/100\n",
            "46/46 [==============================] - 49s 1s/step - loss: 0.1237 - accuracy: 0.9528 - val_loss: 0.1109 - val_accuracy: 0.9699\n",
            "Epoch 13/100\n",
            "46/46 [==============================] - 49s 1s/step - loss: 0.1172 - accuracy: 0.9542 - val_loss: 0.1028 - val_accuracy: 0.9699\n",
            "Epoch 14/100\n",
            "46/46 [==============================] - 49s 1s/step - loss: 0.1119 - accuracy: 0.9604 - val_loss: 0.1015 - val_accuracy: 0.9671\n",
            "Epoch 15/100\n",
            "46/46 [==============================] - 49s 1s/step - loss: 0.1088 - accuracy: 0.9563 - val_loss: 0.0925 - val_accuracy: 0.9753\n",
            "Epoch 16/100\n",
            "46/46 [==============================] - 49s 1s/step - loss: 0.1040 - accuracy: 0.9604 - val_loss: 0.0888 - val_accuracy: 0.9753\n",
            "Epoch 17/100\n",
            "46/46 [==============================] - 49s 1s/step - loss: 0.1031 - accuracy: 0.9610 - val_loss: 0.0845 - val_accuracy: 0.9753\n",
            "Epoch 18/100\n",
            "46/46 [==============================] - 49s 1s/step - loss: 0.0972 - accuracy: 0.9645 - val_loss: 0.0911 - val_accuracy: 0.9616\n",
            "Epoch 19/100\n",
            "46/46 [==============================] - 49s 1s/step - loss: 0.0936 - accuracy: 0.9645 - val_loss: 0.0774 - val_accuracy: 0.9753\n",
            "Epoch 20/100\n",
            "46/46 [==============================] - 49s 1s/step - loss: 0.0961 - accuracy: 0.9624 - val_loss: 0.0762 - val_accuracy: 0.9781\n",
            "Epoch 21/100\n",
            "46/46 [==============================] - 48s 1s/step - loss: 0.0911 - accuracy: 0.9672 - val_loss: 0.0911 - val_accuracy: 0.9562\n",
            "Epoch 22/100\n",
            "46/46 [==============================] - 49s 1s/step - loss: 0.0894 - accuracy: 0.9706 - val_loss: 0.0743 - val_accuracy: 0.9808\n",
            "Epoch 23/100\n",
            "46/46 [==============================] - 49s 1s/step - loss: 0.0902 - accuracy: 0.9665 - val_loss: 0.0688 - val_accuracy: 0.9808\n",
            "Epoch 24/100\n",
            "46/46 [==============================] - 49s 1s/step - loss: 0.0887 - accuracy: 0.9665 - val_loss: 0.0669 - val_accuracy: 0.9836\n",
            "Epoch 25/100\n",
            "46/46 [==============================] - 49s 1s/step - loss: 0.0842 - accuracy: 0.9672 - val_loss: 0.0800 - val_accuracy: 0.9616\n",
            "Epoch 26/100\n",
            "46/46 [==============================] - 49s 1s/step - loss: 0.0806 - accuracy: 0.9740 - val_loss: 0.0662 - val_accuracy: 0.9808\n",
            "Epoch 27/100\n",
            "46/46 [==============================] - 48s 1s/step - loss: 0.0815 - accuracy: 0.9686 - val_loss: 0.0770 - val_accuracy: 0.9726\n",
            "Epoch 28/100\n",
            "46/46 [==============================] - 49s 1s/step - loss: 0.0818 - accuracy: 0.9672 - val_loss: 0.0651 - val_accuracy: 0.9753\n",
            "Epoch 29/100\n",
            "46/46 [==============================] - 49s 1s/step - loss: 0.0802 - accuracy: 0.9754 - val_loss: 0.0652 - val_accuracy: 0.9753\n",
            "Epoch 30/100\n",
            "46/46 [==============================] - 49s 1s/step - loss: 0.0754 - accuracy: 0.9699 - val_loss: 0.0596 - val_accuracy: 0.9781\n",
            "Epoch 31/100\n",
            "46/46 [==============================] - 49s 1s/step - loss: 0.0748 - accuracy: 0.9699 - val_loss: 0.0584 - val_accuracy: 0.9808\n",
            "Epoch 32/100\n",
            "46/46 [==============================] - 49s 1s/step - loss: 0.0812 - accuracy: 0.9692 - val_loss: 0.0570 - val_accuracy: 0.9781\n",
            "Epoch 33/100\n",
            "46/46 [==============================] - 49s 1s/step - loss: 0.0776 - accuracy: 0.9699 - val_loss: 0.0566 - val_accuracy: 0.9753\n",
            "Epoch 34/100\n",
            "46/46 [==============================] - 49s 1s/step - loss: 0.0729 - accuracy: 0.9720 - val_loss: 0.0651 - val_accuracy: 0.9753\n",
            "Epoch 35/100\n",
            "46/46 [==============================] - 49s 1s/step - loss: 0.0757 - accuracy: 0.9706 - val_loss: 0.0571 - val_accuracy: 0.9836\n",
            "Epoch 36/100\n",
            "46/46 [==============================] - 49s 1s/step - loss: 0.0712 - accuracy: 0.9740 - val_loss: 0.0557 - val_accuracy: 0.9781\n",
            "Epoch 37/100\n",
            "46/46 [==============================] - 49s 1s/step - loss: 0.0716 - accuracy: 0.9733 - val_loss: 0.0528 - val_accuracy: 0.9781\n",
            "Epoch 38/100\n",
            "46/46 [==============================] - 49s 1s/step - loss: 0.0720 - accuracy: 0.9720 - val_loss: 0.0594 - val_accuracy: 0.9781\n",
            "Epoch 39/100\n",
            "46/46 [==============================] - 49s 1s/step - loss: 0.0678 - accuracy: 0.9761 - val_loss: 0.0731 - val_accuracy: 0.9753\n",
            "Epoch 40/100\n",
            "46/46 [==============================] - 49s 1s/step - loss: 0.0707 - accuracy: 0.9733 - val_loss: 0.0505 - val_accuracy: 0.9808\n",
            "Epoch 41/100\n",
            "46/46 [==============================] - 49s 1s/step - loss: 0.0703 - accuracy: 0.9747 - val_loss: 0.0497 - val_accuracy: 0.9808\n",
            "Epoch 42/100\n",
            "46/46 [==============================] - 49s 1s/step - loss: 0.0687 - accuracy: 0.9774 - val_loss: 0.0495 - val_accuracy: 0.9808\n",
            "Epoch 43/100\n",
            "46/46 [==============================] - 49s 1s/step - loss: 0.0726 - accuracy: 0.9740 - val_loss: 0.0510 - val_accuracy: 0.9781\n",
            "Epoch 44/100\n",
            "46/46 [==============================] - 48s 1s/step - loss: 0.0676 - accuracy: 0.9761 - val_loss: 0.0676 - val_accuracy: 0.9753\n",
            "Epoch 45/100\n",
            "46/46 [==============================] - 48s 1s/step - loss: 0.0699 - accuracy: 0.9733 - val_loss: 0.0625 - val_accuracy: 0.9726\n",
            "Epoch 46/100\n",
            "46/46 [==============================] - 49s 1s/step - loss: 0.0649 - accuracy: 0.9754 - val_loss: 0.0528 - val_accuracy: 0.9808\n",
            "Epoch 47/100\n",
            "46/46 [==============================] - 49s 1s/step - loss: 0.0682 - accuracy: 0.9740 - val_loss: 0.0548 - val_accuracy: 0.9808\n",
            "Epoch 48/100\n",
            "46/46 [==============================] - 49s 1s/step - loss: 0.0653 - accuracy: 0.9747 - val_loss: 0.0514 - val_accuracy: 0.9781\n",
            "Epoch 49/100\n",
            "46/46 [==============================] - 49s 1s/step - loss: 0.0653 - accuracy: 0.9740 - val_loss: 0.0456 - val_accuracy: 0.9781\n",
            "Epoch 50/100\n",
            "46/46 [==============================] - 49s 1s/step - loss: 0.0594 - accuracy: 0.9761 - val_loss: 0.0493 - val_accuracy: 0.9753\n",
            "Epoch 51/100\n",
            "46/46 [==============================] - 49s 1s/step - loss: 0.0670 - accuracy: 0.9788 - val_loss: 0.0477 - val_accuracy: 0.9781\n",
            "Epoch 52/100\n",
            "46/46 [==============================] - 48s 1s/step - loss: 0.0651 - accuracy: 0.9727 - val_loss: 0.0450 - val_accuracy: 0.9808\n",
            "Epoch 53/100\n",
            "46/46 [==============================] - 49s 1s/step - loss: 0.0620 - accuracy: 0.9747 - val_loss: 0.0482 - val_accuracy: 0.9781\n",
            "Epoch 54/100\n",
            "46/46 [==============================] - 49s 1s/step - loss: 0.0650 - accuracy: 0.9740 - val_loss: 0.0566 - val_accuracy: 0.9808\n",
            "Epoch 55/100\n",
            "46/46 [==============================] - 49s 1s/step - loss: 0.0644 - accuracy: 0.9761 - val_loss: 0.0430 - val_accuracy: 0.9808\n",
            "Epoch 56/100\n",
            "46/46 [==============================] - 49s 1s/step - loss: 0.0596 - accuracy: 0.9788 - val_loss: 0.0435 - val_accuracy: 0.9808\n",
            "Epoch 57/100\n",
            "46/46 [==============================] - 49s 1s/step - loss: 0.0583 - accuracy: 0.9802 - val_loss: 0.0437 - val_accuracy: 0.9808\n",
            "Epoch 58/100\n",
            "46/46 [==============================] - 48s 1s/step - loss: 0.0595 - accuracy: 0.9795 - val_loss: 0.0501 - val_accuracy: 0.9808\n",
            "Epoch 59/100\n",
            "46/46 [==============================] - 48s 1s/step - loss: 0.0538 - accuracy: 0.9815 - val_loss: 0.0464 - val_accuracy: 0.9781\n",
            "Epoch 60/100\n",
            "46/46 [==============================] - 48s 1s/step - loss: 0.0567 - accuracy: 0.9788 - val_loss: 0.0424 - val_accuracy: 0.9836\n",
            "Epoch 61/100\n",
            "46/46 [==============================] - 48s 1s/step - loss: 0.0587 - accuracy: 0.9802 - val_loss: 0.0401 - val_accuracy: 0.9836\n",
            "Epoch 62/100\n",
            "46/46 [==============================] - 48s 1s/step - loss: 0.0517 - accuracy: 0.9829 - val_loss: 0.0629 - val_accuracy: 0.9699\n",
            "Epoch 63/100\n",
            "46/46 [==============================] - 48s 1s/step - loss: 0.0578 - accuracy: 0.9795 - val_loss: 0.0388 - val_accuracy: 0.9863\n",
            "Epoch 64/100\n",
            "46/46 [==============================] - 48s 1s/step - loss: 0.0585 - accuracy: 0.9795 - val_loss: 0.0388 - val_accuracy: 0.9890\n",
            "Epoch 65/100\n",
            "46/46 [==============================] - 48s 1s/step - loss: 0.0538 - accuracy: 0.9815 - val_loss: 0.0508 - val_accuracy: 0.9836\n",
            "Epoch 66/100\n",
            "46/46 [==============================] - 49s 1s/step - loss: 0.0539 - accuracy: 0.9829 - val_loss: 0.0434 - val_accuracy: 0.9781\n",
            "Epoch 67/100\n",
            "46/46 [==============================] - 49s 1s/step - loss: 0.0565 - accuracy: 0.9815 - val_loss: 0.0394 - val_accuracy: 0.9863\n",
            "Epoch 68/100\n",
            "46/46 [==============================] - 49s 1s/step - loss: 0.0503 - accuracy: 0.9815 - val_loss: 0.0393 - val_accuracy: 0.9836\n",
            "Epoch 69/100\n",
            "46/46 [==============================] - 48s 1s/step - loss: 0.0550 - accuracy: 0.9768 - val_loss: 0.0375 - val_accuracy: 0.9890\n",
            "Epoch 70/100\n",
            "46/46 [==============================] - 49s 1s/step - loss: 0.0510 - accuracy: 0.9822 - val_loss: 0.0791 - val_accuracy: 0.9671\n",
            "Epoch 71/100\n",
            "46/46 [==============================] - 48s 1s/step - loss: 0.0519 - accuracy: 0.9815 - val_loss: 0.0363 - val_accuracy: 0.9890\n",
            "Epoch 72/100\n",
            "46/46 [==============================] - 49s 1s/step - loss: 0.0544 - accuracy: 0.9809 - val_loss: 0.0502 - val_accuracy: 0.9781\n",
            "Epoch 73/100\n",
            "46/46 [==============================] - 48s 1s/step - loss: 0.0521 - accuracy: 0.9836 - val_loss: 0.0512 - val_accuracy: 0.9781\n",
            "Epoch 74/100\n",
            "46/46 [==============================] - 49s 1s/step - loss: 0.0525 - accuracy: 0.9788 - val_loss: 0.0365 - val_accuracy: 0.9863\n",
            "Epoch 75/100\n",
            "46/46 [==============================] - 49s 1s/step - loss: 0.0501 - accuracy: 0.9822 - val_loss: 0.0367 - val_accuracy: 0.9890\n",
            "Epoch 76/100\n",
            "46/46 [==============================] - 49s 1s/step - loss: 0.0452 - accuracy: 0.9850 - val_loss: 0.0345 - val_accuracy: 0.9945\n",
            "Epoch 77/100\n",
            "46/46 [==============================] - 48s 1s/step - loss: 0.0462 - accuracy: 0.9843 - val_loss: 0.0388 - val_accuracy: 0.9863\n",
            "Epoch 78/100\n",
            "46/46 [==============================] - 49s 1s/step - loss: 0.0509 - accuracy: 0.9822 - val_loss: 0.0351 - val_accuracy: 0.9863\n",
            "Epoch 79/100\n",
            "46/46 [==============================] - 49s 1s/step - loss: 0.0503 - accuracy: 0.9788 - val_loss: 0.0350 - val_accuracy: 0.9863\n",
            "Epoch 80/100\n",
            "46/46 [==============================] - 49s 1s/step - loss: 0.0494 - accuracy: 0.9822 - val_loss: 0.0582 - val_accuracy: 0.9726\n",
            "Epoch 81/100\n",
            "46/46 [==============================] - 49s 1s/step - loss: 0.0525 - accuracy: 0.9788 - val_loss: 0.0379 - val_accuracy: 0.9781\n",
            "Epoch 82/100\n",
            "46/46 [==============================] - 49s 1s/step - loss: 0.0458 - accuracy: 0.9856 - val_loss: 0.0359 - val_accuracy: 0.9890\n",
            "Epoch 83/100\n",
            "46/46 [==============================] - 49s 1s/step - loss: 0.0471 - accuracy: 0.9829 - val_loss: 0.0451 - val_accuracy: 0.9781\n",
            "Epoch 84/100\n",
            "46/46 [==============================] - 49s 1s/step - loss: 0.0457 - accuracy: 0.9829 - val_loss: 0.0390 - val_accuracy: 0.9890\n",
            "Epoch 85/100\n",
            "46/46 [==============================] - 48s 1s/step - loss: 0.0406 - accuracy: 0.9850 - val_loss: 0.0367 - val_accuracy: 0.9863\n",
            "Epoch 86/100\n",
            "46/46 [==============================] - 49s 1s/step - loss: 0.0451 - accuracy: 0.9870 - val_loss: 0.0368 - val_accuracy: 0.9863\n",
            "Epoch 87/100\n",
            "46/46 [==============================] - 49s 1s/step - loss: 0.0413 - accuracy: 0.9836 - val_loss: 0.0319 - val_accuracy: 0.9973\n",
            "Epoch 88/100\n",
            "46/46 [==============================] - 49s 1s/step - loss: 0.0438 - accuracy: 0.9856 - val_loss: 0.0311 - val_accuracy: 0.9945\n",
            "Epoch 89/100\n",
            "46/46 [==============================] - 49s 1s/step - loss: 0.0418 - accuracy: 0.9870 - val_loss: 0.0464 - val_accuracy: 0.9808\n",
            "Epoch 90/100\n",
            "46/46 [==============================] - 49s 1s/step - loss: 0.0436 - accuracy: 0.9850 - val_loss: 0.0305 - val_accuracy: 0.9918\n",
            "Epoch 91/100\n",
            "46/46 [==============================] - 49s 1s/step - loss: 0.0592 - accuracy: 0.9788 - val_loss: 0.0330 - val_accuracy: 0.9918\n",
            "Epoch 92/100\n",
            "46/46 [==============================] - 49s 1s/step - loss: 0.0510 - accuracy: 0.9815 - val_loss: 0.0304 - val_accuracy: 0.9918\n",
            "Epoch 93/100\n",
            "46/46 [==============================] - 49s 1s/step - loss: 0.0488 - accuracy: 0.9829 - val_loss: 0.0439 - val_accuracy: 0.9808\n",
            "Epoch 94/100\n",
            "46/46 [==============================] - 49s 1s/step - loss: 0.0436 - accuracy: 0.9822 - val_loss: 0.0307 - val_accuracy: 0.9890\n",
            "Epoch 95/100\n",
            "46/46 [==============================] - 49s 1s/step - loss: 0.0463 - accuracy: 0.9870 - val_loss: 0.0445 - val_accuracy: 0.9836\n",
            "Epoch 96/100\n",
            "46/46 [==============================] - 49s 1s/step - loss: 0.0370 - accuracy: 0.9891 - val_loss: 0.0327 - val_accuracy: 0.9918\n",
            "Epoch 97/100\n",
            "46/46 [==============================] - 49s 1s/step - loss: 0.0398 - accuracy: 0.9856 - val_loss: 0.0660 - val_accuracy: 0.9753\n",
            "Epoch 98/100\n",
            "46/46 [==============================] - 49s 1s/step - loss: 0.0385 - accuracy: 0.9856 - val_loss: 0.0335 - val_accuracy: 0.9918\n",
            "Epoch 99/100\n",
            "46/46 [==============================] - 50s 1s/step - loss: 0.0422 - accuracy: 0.9843 - val_loss: 0.0498 - val_accuracy: 0.9781\n",
            "Epoch 100/100\n",
            "46/46 [==============================] - 50s 1s/step - loss: 0.0429 - accuracy: 0.9843 - val_loss: 0.0374 - val_accuracy: 0.9781\n"
          ],
          "name": "stdout"
        },
        {
          "output_type": "display_data",
          "data": {
            "image/png": "[encoded data removed]",
            "text/plain": [
              "<Figure size 432x288 with 1 Axes>"
            ]
          },
          "metadata": {
            "tags": [],
            "needs_background": "light"
          }
        },
        {
          "output_type": "display_data",
          "data": {
            "image/png": "[encoded data removed]",
            "text/plain": [
              "<Figure size 432x288 with 1 Axes>"
            ]
          },
          "metadata": {
            "tags": [],
            "needs_background": "light"
          }
        }
      ]
    },
    {
      "cell_type": "markdown",
      "metadata": {
        "id": "6IRWGbhaAHs2"
      },
      "source": [
        "# **Import Keras Libraries**"
      ]
    },
    {
      "cell_type": "code",
      "metadata": {
        "id": "fv8Vy-BZVakc"
      },
      "source": [
        "from keras.models import Sequential,load_model\n",
        "from keras.layers import Conv2D,Activation, MaxPooling2D,Dense,Flatten\n",
        "from keras.optimizers import SGD\n",
        "from keras.preprocessing.image import ImageDataGenerator\n",
        "\n",
        "\n",
        "from sklearn.metrics import accuracy_score,roc_curve,confusion_matrix,precision_score,recall_score,f1_score,roc_auc_score\n",
        "import matplotlib.pyplot as plt\n",
        "import matplotlib.pyplot as plt_False_Positive_vs_True_Positive"
      ],
      "execution_count": null,
      "outputs": []
    },
    {
      "cell_type": "markdown",
      "metadata": {
        "id": "aFRrSZWkANWU"
      },
      "source": [
        "# **Evaluate CNN model**"
      ]
    },
    {
      "cell_type": "code",
      "metadata": {
        "id": "EIPpKHo7Vpdy"
      },
      "source": [
        "def Evaluate_CNN_Model():\n",
        "    # -------------------------------------------------------------------------\n",
        "    #                        Evaluate CNN Model \n",
        "    # -------------------------------------------------------------------------\n",
        "    \n",
        "    # load model\n",
        "    model = load_model('/content/drive/MyDrive/COVID-19-Deep-Learning-Project-Colab/saved_models/CoVID19-normal_cnn_model.h5')\n",
        "    \n",
        "    # load test data\n",
        "    batch_size=32\n",
        "    test_datagen = ImageDataGenerator(\n",
        "                                     rescale=1.0/255.0,\n",
        "                                     featurewise_center= True,\n",
        "                                     featurewise_std_normalization = True)\n",
        "    \n",
        "    test_it = test_datagen.flow_from_directory('/content/drive/MyDrive/COVID-19-Deep-Learning-Project-Colab/Dataset/test/',classes =('Normal','Covid'), \n",
        "                                               shuffle=False,batch_size=batch_size, target_size=(224, 224))\n",
        "    \n",
        "    y_true = test_it.classes;\n",
        "\n",
        "    y_pred = model.predict_generator(test_it, steps=len(test_it), verbose=1)\n",
        "\n",
        "    \n",
        "    y_pred_prob = y_pred[:,1]\n",
        "\n",
        "     \n",
        "    y_pred_binary =  y_pred_prob > 0.5\n",
        "   \n",
        "    #Confution Matrix    \n",
        "    print('\\nConfusion Matrix\\n -------------------------')    \n",
        "    print(confusion_matrix(y_true,y_pred_binary));\n",
        "    \n",
        "    # accuracy: (tp + tn) / (p + n)\n",
        "    accuracy = accuracy_score(y_true, y_pred_binary)\n",
        "    print('Accuracy: %f' % accuracy)\n",
        "    \n",
        "    \n",
        "    # precision tp / (tp + fp)\n",
        "    precision = precision_score(y_true, y_pred_binary)\n",
        "    print('Precision: %f' % precision)\n",
        "    \n",
        "    # recall: tp / (tp + fn)\n",
        "    recall = recall_score(y_true, y_pred_binary)\n",
        "    print('Recall: %f' % recall)\n",
        "    \n",
        "    # f1: 2 tp / (2 tp + fp + fn)\n",
        "    f1 = f1_score(y_true, y_pred_binary)\n",
        "    print('F1 score: %f' % f1)    \n",
        "       \n",
        "    # ROC AUC\n",
        "    auc = roc_auc_score(y_true, y_pred_prob)\n",
        "    print('ROC AUC: %f' % auc)\n",
        "    \n",
        "    \n",
        "    # calculate roc curves\n",
        "    fpr, tpr, _ = roc_curve(y_true, y_pred_prob)\n",
        "        \n",
        "    # plot the roc curve for the model\n",
        "    plt.figure()\n",
        "    plt_False_Positive_vs_True_Positive.plot(fpr, tpr, linestyle='--', label='')\n",
        "    \n",
        "    # axis labels\n",
        "    plt_False_Positive_vs_True_Positive.xlabel('False Positive Rate')\n",
        "    plt_False_Positive_vs_True_Positive.ylabel('True Positive Rate')\n",
        "       \n",
        "    # show the legend\n",
        "    plt_False_Positive_vs_True_Positive.legend()\n",
        "    # show the plot\n",
        "    plt_False_Positive_vs_True_Positive.show()"
      ],
      "execution_count": null,
      "outputs": []
    },
    {
      "cell_type": "markdown",
      "metadata": {
        "id": "UlM_3Uv4AR31"
      },
      "source": [
        "# **Call the Evaluate CNN model fucntion for output**"
      ]
    },
    {
      "cell_type": "code",
      "metadata": {
        "id": "MDwGIrhYWOZO",
        "colab": {
          "base_uri": "https://localhost:8080/",
          "height": 639
        },
        "outputId": "ff896f3e-f966-4247-f7e7-ee08b16f9782"
      },
      "source": [
        "Evaluate_CNN_Model ()"
      ],
      "execution_count": null,
      "outputs": [
        {
          "output_type": "stream",
          "text": [
            "Found 31 images belonging to 2 classes.\n",
            "WARNING:tensorflow:From <ipython-input-11-2a2e7a394e83>:21: Model.predict_generator (from tensorflow.python.keras.engine.training) is deprecated and will be removed in a future version.\n",
            "Instructions for updating:\n",
            "Please use Model.predict, which supports generators.\n"
          ],
          "name": "stdout"
        },
        {
          "output_type": "stream",
          "text": [
            "/usr/local/lib/python3.6/dist-packages/keras_preprocessing/image/image_data_generator.py:720: UserWarning: This ImageDataGenerator specifies `featurewise_center`, but it hasn't been fit on any training data. Fit it first by calling `.fit(numpy_data)`.\n",
            "  warnings.warn('This ImageDataGenerator specifies '\n",
            "/usr/local/lib/python3.6/dist-packages/keras_preprocessing/image/image_data_generator.py:728: UserWarning: This ImageDataGenerator specifies `featurewise_std_normalization`, but it hasn't been fit on any training data. Fit it first by calling `.fit(numpy_data)`.\n",
            "  warnings.warn('This ImageDataGenerator specifies '\n"
          ],
          "name": "stderr"
        },
        {
          "output_type": "stream",
          "text": [
            "1/1 [==============================] - 0s 5ms/step\n"
          ],
          "name": "stdout"
        },
        {
          "output_type": "stream",
          "text": [
            "No handles with labels found to put in legend.\n"
          ],
          "name": "stderr"
        },
        {
          "output_type": "stream",
          "text": [
            "\n",
            "Confusion Matrix\n",
            " -------------------------\n",
            "[[ 4 11]\n",
            " [ 0 16]]\n",
            "Accuracy: 0.645161\n",
            "Precision: 0.592593\n",
            "Recall: 1.000000\n",
            "F1 score: 0.744186\n",
            "ROC AUC: 0.937500\n"
          ],
          "name": "stdout"
        },
        {
          "output_type": "display_data",
          "data": {
            "image/png": "[encoded data removed]",
            "text/plain": [
              "<Figure size 432x288 with 1 Axes>"
            ]
          },
          "metadata": {
            "tags": [],
            "needs_background": "light"
          }
        }
      ]
    },
    {
      "cell_type": "code",
      "metadata": {
        "id": "hYsoUycToWoH"
      },
      "source": [
        "from keras.models import Model,load_model\n",
        "import matplotlib.pyplot as plt\n",
        "from keras.preprocessing.image import load_img,img_to_array"
      ],
      "execution_count": null,
      "outputs": []
    },
    {
      "cell_type": "markdown",
      "metadata": {
        "id": "WQPNasgDmyW9"
      },
      "source": [
        "# **Visualize CNN Model**"
      ]
    },
    {
      "cell_type": "code",
      "metadata": {
        "id": "rh5vWMU2mpYK"
      },
      "source": [
        "def Visualize_CNN_Model():\n",
        "    # -------------------------------------------------------------------------\n",
        "    #                        Visualize CNN Model \n",
        "    # -------------------------------------------------------------------------\n",
        "    # load model\n",
        "    model = load_model('/content/drive/MyDrive/COVID-19-Deep-Learning-Project-Colab/saved_models/CoVID19-normal_cnn_model.h5')\n",
        "    \n",
        "    # load the image    \n",
        "    img = load_img(\"/content/drive/MyDrive/COVID-19-Deep-Learning-Project-Colab/data-COVID/test/Covid/covid-19-pneumonia-15-L.jpg\", target_size=(224, 224))              \n",
        "    \n",
        "    # convert to array\n",
        "    img = img_to_array(img)\n",
        "\n",
        "    # reshape and scale image\n",
        "    img = img.reshape(1, 224, 224, 3)\n",
        "    img = img.astype('float32')    \n",
        "    img = img / 255             \n",
        "\n",
        "    # create a new CNN activation_model\n",
        "    layer_outputs = [layer.output for layer in model.layers[:10]]\n",
        "    activation_model = Model(inputs=model.input, outputs=layer_outputs)\n",
        "    \n",
        "    # pass image through CNN activation_model \n",
        "    activations = activation_model.predict(img)\n",
        "\n",
        "    # Vislalize intermediate layre    \n",
        "    Display_Activation_Layers(activations, 4, 2, 3)\n",
        "    \n",
        "    Display_Activation_Layers(activations, 5, 2, 7)\n",
        " \n",
        "    Display_Activation_Layers(activations, 7, 2, 9)"
      ],
      "execution_count": null,
      "outputs": []
    },
    {
      "cell_type": "code",
      "metadata": {
        "id": "OBSXoSyXmsOu"
      },
      "source": [
        "def Display_Activation_Layers(activations, col_size, row_size, act_index): \n",
        "    \n",
        "    activation = activations[act_index]\n",
        "    \n",
        "    activation_index=0\n",
        "    \n",
        "    fig, ax = plt.subplots(row_size, col_size, figsize=(row_size*2.5,col_size*1.5))\n",
        "    \n",
        "    for row in range(0,row_size):\n",
        "    \n",
        "        for col in range(0,col_size):\n",
        "        \n",
        "            ax[row][col].imshow(activation[0, :, :, activation_index], cmap='gray')\n",
        "            \n",
        "            ax[row][col].axis('off')\n",
        "            \n",
        "            activation_index += 1         "
      ],
      "execution_count": null,
      "outputs": []
    },
    {
      "cell_type": "code",
      "metadata": {
        "colab": {
          "base_uri": "https://localhost:8080/",
          "height": 1000
        },
        "id": "Qfv6G5NGmu7R",
        "outputId": "825b7113-1674-43d9-b74c-7151c79abce3"
      },
      "source": [
        "# main entry            \n",
        "Visualize_CNN_Model()"
      ],
      "execution_count": null,
      "outputs": [
        {
          "output_type": "error",
          "ename": "IndexError",
          "evalue": "ignored",
          "traceback": [
            "\u001b[0;31m---------------------------------------------------------------------------\u001b[0m",
            "\u001b[0;31mIndexError\u001b[0m                                Traceback (most recent call last)",
            "\u001b[0;32m<ipython-input-30-dbe992c59bf6>\u001b[0m in \u001b[0;36m<module>\u001b[0;34m()\u001b[0m\n\u001b[1;32m      1\u001b[0m \u001b[0;31m# main entry\u001b[0m\u001b[0;34m\u001b[0m\u001b[0;34m\u001b[0m\u001b[0;34m\u001b[0m\u001b[0m\n\u001b[0;32m----> 2\u001b[0;31m \u001b[0mVisualize_CNN_Model\u001b[0m\u001b[0;34m(\u001b[0m\u001b[0;34m)\u001b[0m\u001b[0;34m\u001b[0m\u001b[0;34m\u001b[0m\u001b[0m\n\u001b[0m",
            "\u001b[0;32m<ipython-input-27-b055970fee03>\u001b[0m in \u001b[0;36mVisualize_CNN_Model\u001b[0;34m()\u001b[0m\n\u001b[1;32m     29\u001b[0m     \u001b[0mDisplay_Activation_Layers\u001b[0m\u001b[0;34m(\u001b[0m\u001b[0mactivations\u001b[0m\u001b[0;34m,\u001b[0m \u001b[0;36m5\u001b[0m\u001b[0;34m,\u001b[0m \u001b[0;36m2\u001b[0m\u001b[0;34m,\u001b[0m \u001b[0;36m7\u001b[0m\u001b[0;34m)\u001b[0m\u001b[0;34m\u001b[0m\u001b[0;34m\u001b[0m\u001b[0m\n\u001b[1;32m     30\u001b[0m \u001b[0;34m\u001b[0m\u001b[0m\n\u001b[0;32m---> 31\u001b[0;31m     \u001b[0mDisplay_Activation_Layers\u001b[0m\u001b[0;34m(\u001b[0m\u001b[0mactivations\u001b[0m\u001b[0;34m,\u001b[0m \u001b[0;36m7\u001b[0m\u001b[0;34m,\u001b[0m \u001b[0;36m2\u001b[0m\u001b[0;34m,\u001b[0m \u001b[0;36m9\u001b[0m\u001b[0;34m)\u001b[0m\u001b[0;34m\u001b[0m\u001b[0;34m\u001b[0m\u001b[0m\n\u001b[0m",
            "\u001b[0;32m<ipython-input-28-8f409c28b42f>\u001b[0m in \u001b[0;36mDisplay_Activation_Layers\u001b[0;34m(activations, col_size, row_size, act_index)\u001b[0m\n\u001b[1;32m     11\u001b[0m         \u001b[0;32mfor\u001b[0m \u001b[0mcol\u001b[0m \u001b[0;32min\u001b[0m \u001b[0mrange\u001b[0m\u001b[0;34m(\u001b[0m\u001b[0;36m0\u001b[0m\u001b[0;34m,\u001b[0m\u001b[0mcol_size\u001b[0m\u001b[0;34m)\u001b[0m\u001b[0;34m:\u001b[0m\u001b[0;34m\u001b[0m\u001b[0;34m\u001b[0m\u001b[0m\n\u001b[1;32m     12\u001b[0m \u001b[0;34m\u001b[0m\u001b[0m\n\u001b[0;32m---> 13\u001b[0;31m             \u001b[0max\u001b[0m\u001b[0;34m[\u001b[0m\u001b[0mrow\u001b[0m\u001b[0;34m]\u001b[0m\u001b[0;34m[\u001b[0m\u001b[0mcol\u001b[0m\u001b[0;34m]\u001b[0m\u001b[0;34m.\u001b[0m\u001b[0mimshow\u001b[0m\u001b[0;34m(\u001b[0m\u001b[0mactivation\u001b[0m\u001b[0;34m[\u001b[0m\u001b[0;36m0\u001b[0m\u001b[0;34m,\u001b[0m \u001b[0;34m:\u001b[0m\u001b[0;34m,\u001b[0m \u001b[0;34m:\u001b[0m\u001b[0;34m,\u001b[0m \u001b[0mactivation_index\u001b[0m\u001b[0;34m]\u001b[0m\u001b[0;34m,\u001b[0m \u001b[0mcmap\u001b[0m\u001b[0;34m=\u001b[0m\u001b[0;34m'gray'\u001b[0m\u001b[0;34m)\u001b[0m\u001b[0;34m\u001b[0m\u001b[0;34m\u001b[0m\u001b[0m\n\u001b[0m\u001b[1;32m     14\u001b[0m \u001b[0;34m\u001b[0m\u001b[0m\n\u001b[1;32m     15\u001b[0m             \u001b[0max\u001b[0m\u001b[0;34m[\u001b[0m\u001b[0mrow\u001b[0m\u001b[0;34m]\u001b[0m\u001b[0;34m[\u001b[0m\u001b[0mcol\u001b[0m\u001b[0;34m]\u001b[0m\u001b[0;34m.\u001b[0m\u001b[0maxis\u001b[0m\u001b[0;34m(\u001b[0m\u001b[0;34m'off'\u001b[0m\u001b[0;34m)\u001b[0m\u001b[0;34m\u001b[0m\u001b[0;34m\u001b[0m\u001b[0m\n",
            "\u001b[0;31mIndexError\u001b[0m: too many indices for array"
          ]
        },
        {
          "output_type": "display_data",
          "data": {
            "image/png": "[encoded data removed]",
            "text/plain": [
              "<Figure size 360x432 with 8 Axes>"
            ]
          },
          "metadata": {
            "tags": [],
            "needs_background": "light"
          }
        },
        {
          "output_type": "display_data",
          "data": {
            "image/png": "[encoded data removed]",
            "text/plain": [
              "<Figure size 360x540 with 10 Axes>"
            ]
          },
          "metadata": {
            "tags": [],
            "needs_background": "light"
          }
        },
        {
          "output_type": "display_data",
          "data": {
            "image/png": "[encoded data removed]",
            "text/plain": [
              "<Figure size 360x756 with 14 Axes>"
            ]
          },
          "metadata": {
            "tags": [],
            "needs_background": "light"
          }
        }
      ]
    }
  ]
}