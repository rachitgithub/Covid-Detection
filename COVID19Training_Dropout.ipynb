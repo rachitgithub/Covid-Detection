{
  "nbformat": 4,
  "nbformat_minor": 0,
  "metadata": {
    "colab": {
      "name": "COVID19Training_Dropout.ipynb",
      "provenance": [],
      "collapsed_sections": [],
      "toc_visible": true,
      "include_colab_link": true
    },
    "kernelspec": {
      "name": "python3",
      "display_name": "Python 3"
    },
    "accelerator": "GPU"
  },
  "cells": [
    {
      "cell_type": "markdown",
      "metadata": {
        "id": "view-in-github",
        "colab_type": "text"
      },
      "source": [
        "<a href=\"https://colab.research.google.com/github/rachitgithub/Covid-Detection/blob/main/COVID19Training_Dropout.ipynb\" target=\"_parent\"><img src=\"https://colab.research.google.com/assets/colab-badge.svg\" alt=\"Open In Colab\"/></a>"
      ]
    },
    {
      "cell_type": "markdown",
      "metadata": {
        "id": "-gyKOi8EPITT"
      },
      "source": [
        "# **Install TensorFlow GPU**"
      ]
    },
    {
      "cell_type": "code",
      "metadata": {
        "id": "UboFrn87qNVe"
      },
      "source": [
        "!pip install tensorflow-gpu"
      ],
      "execution_count": null,
      "outputs": []
    },
    {
      "cell_type": "markdown",
      "metadata": {
        "id": "FLc0x1XRPPVm"
      },
      "source": [
        "# **Import GDRIVE**"
      ]
    },
    {
      "cell_type": "code",
      "metadata": {
        "id": "2SXklTJgqQyV",
        "colab": {
          "base_uri": "https://localhost:8080/"
        },
        "outputId": "f516f499-e5ee-4924-f467-19e75b4661ce"
      },
      "source": [
        "from google.colab import drive\n",
        "drive.mount('/content/drive')"
      ],
      "execution_count": 1,
      "outputs": [
        {
          "output_type": "stream",
          "text": [
            "Mounted at /content/drive\n"
          ],
          "name": "stdout"
        }
      ]
    },
    {
      "cell_type": "markdown",
      "metadata": {
        "id": "M55jhmwBPTGp"
      },
      "source": [
        "# **Import Tensor Flow**"
      ]
    },
    {
      "cell_type": "code",
      "metadata": {
        "id": "yPOllQPgqUky",
        "colab": {
          "base_uri": "https://localhost:8080/"
        },
        "outputId": "3d12468f-3098-4f62-a08e-4763f78a4007"
      },
      "source": [
        "import tensorflow as tf\n",
        "tf.test.gpu_device_name()\n",
        "print(tf.__version__)"
      ],
      "execution_count": 2,
      "outputs": [
        {
          "output_type": "stream",
          "text": [
            "2.3.0\n"
          ],
          "name": "stdout"
        }
      ]
    },
    {
      "cell_type": "markdown",
      "metadata": {
        "id": "qf3UaO-sPXkz"
      },
      "source": [
        "# **Import Keras Libraries**"
      ]
    },
    {
      "cell_type": "code",
      "metadata": {
        "id": "O6d6JctTqdW2"
      },
      "source": [
        "from keras.models import Sequential,load_model\n",
        "from keras.layers import Conv2D,Activation, MaxPooling2D,Dense,Flatten,Dropout\n",
        "from keras.optimizers import Adam\n",
        "from keras.preprocessing.image import ImageDataGenerator\n",
        "from sklearn.metrics import accuracy_score,roc_curve,confusion_matrix,precision_score,recall_score,f1_score,roc_auc_score\n",
        "import matplotlib.pyplot as plt\n",
        "import matplotlib.pyplot as plt_False_Positive_vs_True_Positive"
      ],
      "execution_count": 4,
      "outputs": []
    },
    {
      "cell_type": "markdown",
      "metadata": {
        "id": "BoGghyDrPcMl"
      },
      "source": [
        "# **Build Sequential Dropout CNN Model**\n"
      ]
    },
    {
      "cell_type": "code",
      "metadata": {
        "id": "NHfmSsyapGlw"
      },
      "source": [
        "def Build_CNN_Model():\n",
        "\n",
        "    # -------------------------------------------------------------------------\n",
        "    #                        Build CNN Model \n",
        "    # -------------------------------------------------------------------------\n",
        "\n",
        "    \n",
        "    model = Sequential()\n",
        "    \n",
        "    #  First Block of CNN\n",
        "    model.add(Conv2D(32, (3, 3), padding='same', input_shape=(224, 224, 3)))  \n",
        "    model.add(Activation('relu'))\n",
        "    model.add(MaxPooling2D((2, 2)))\n",
        "    \n",
        "    #  Second Block of CNN\n",
        "    model.add(Conv2D(64, (3, 3),  padding='same'))  \n",
        "    model.add(Activation('relu'))\n",
        "    model.add(MaxPooling2D((2, 2)))\n",
        "\n",
        "    #  Third Block of CNN\n",
        "    model.add(Conv2D(128, (3, 3), padding='same'))  \n",
        "    model.add(Activation('relu'))\n",
        "    model.add(MaxPooling2D((2, 2)))  \n",
        "\n",
        "    \n",
        "    #  Flatten and Fully Connected Layer\n",
        "    model.add(Flatten())\n",
        "    model.add(Dense(1000))\n",
        "    model.add(Activation('relu'))\n",
        "    model.add(Dropout(0.2))\n",
        "     \n",
        "    #  Softmax Classifier\n",
        "    model.add(Dense(2))\n",
        "    model.add(Activation('softmax'))\n",
        "        \n",
        "    #  Display model\n",
        "    model.summary()\n",
        "    \n",
        "  \t# compile model\n",
        "\n",
        "    opt = Adam(learning_rate=0.001, beta_1=0.9, beta_2=0.999)\n",
        "    model.compile(optimizer=opt, loss='categorical_crossentropy', metrics=['accuracy'])\n",
        "    \n",
        "    return model \n"
      ],
      "execution_count": null,
      "outputs": []
    },
    {
      "cell_type": "markdown",
      "metadata": {
        "id": "EeLn5RJZPnKl"
      },
      "source": [
        "# **Train Sequential Dropout CNN Model**\n"
      ]
    },
    {
      "cell_type": "code",
      "metadata": {
        "id": "iT6jo0OmquCL"
      },
      "source": [
        "# train and evalluate cnn model\n",
        "def Train_CNN_Model(model):\n",
        "    \n",
        "    # -------------------------------------------------------------------------\n",
        "    #                        Train CNN Model \n",
        "    # -------------------------------------------------------------------------\n",
        "    \n",
        "     # create data generators    \n",
        "    train_datagen = ImageDataGenerator(\n",
        "                                     rescale=1.0/255.0,\n",
        "                                     featurewise_center= True,\n",
        "                                     featurewise_std_normalization = True,\n",
        "                                     rotation_range=10,\n",
        "                                     width_shift_range=0.1,\n",
        "                                     height_shift_range=0.1,\n",
        "                                     zoom_range=0.2,                                     \n",
        "                                     brightness_range=[0.2,1.0],\n",
        "                                     )\n",
        "    \n",
        "    valid_datagen = ImageDataGenerator(\n",
        "                                     rescale=1.0/255.0,\n",
        "                                     featurewise_center= True,\n",
        "                                     featurewise_std_normalization = True)\n",
        "    \n",
        "    \n",
        "   \n",
        "   \n",
        "    # prepare iterators\n",
        "    batch_size=32\n",
        "    train_it = train_datagen.flow_from_directory('/content/drive/MyDrive/COVID-19-Deep-Learning-Project-Colab/Dataset/train/',classes =('Normal','Covid'),batch_size=batch_size, target_size=(224, 224))\n",
        "    valid_it = valid_datagen.flow_from_directory('/content/drive/MyDrive/COVID-19-Deep-Learning-Project-Colab/Dataset/val/',classes =('Normal','Covid'),batch_size=batch_size, target_size=(224, 224))\n",
        "\n",
        "\n",
        "    epochs=100;\n",
        "    \n",
        "    history = model.fit_generator(train_it, steps_per_epoch=len(train_it),\n",
        "\t\tvalidation_data=valid_it, validation_steps=len(valid_it), epochs=epochs, verbose=1)\n",
        "    \n",
        "    \n",
        "    #  \"Accuracy\"\n",
        "    plt.plot(history.history['accuracy'])\n",
        "    plt.plot(history.history['val_accuracy'])\n",
        "    plt.title('model accuracy')\n",
        "    plt.ylabel('accuracy')\n",
        "    plt.xlabel('epoch')\n",
        "    plt.legend(['train', 'validation'], loc='upper left')\n",
        "    plt.show()\n",
        "    \n",
        "    # \"Loss\"\n",
        "    plt.plot(history.history['loss'])\n",
        "    plt.plot(history.history['val_loss'])\n",
        "    plt.title('model loss')\n",
        "    plt.ylabel('loss')\n",
        "    plt.xlabel('epoch')\n",
        "    plt.legend(['train', 'validation'], loc='upper left')\n",
        "    plt.show()\n",
        "\n",
        "\t# save model\n",
        "    model.save('/content/drive/MyDrive/COVID-19-Deep-Learning-Project-Colab/saved_models/CoVID19-sequential-dropout_cnn_model.h5')\n"
      ],
      "execution_count": null,
      "outputs": []
    },
    {
      "cell_type": "markdown",
      "metadata": {
        "id": "akk2CJw7Pp6O"
      },
      "source": [
        "# **Evaluate Sequential Dropout CNN Model**\n"
      ]
    },
    {
      "cell_type": "code",
      "metadata": {
        "id": "5eW1T2Ekq5MM"
      },
      "source": [
        "def Evaluate_CNN_Model():\n",
        "    # -------------------------------------------------------------------------\n",
        "    #                        Evaluate CNN Model \n",
        "    # -------------------------------------------------------------------------\n",
        "    \n",
        "    # load model\n",
        "    model = load_model('/content/drive/MyDrive/COVID-19-Deep-Learning-Project-Colab/saved_models/CoVID19-sequential-dropout_cnn_model.h5')\n",
        "\n",
        "    \n",
        "    # load test data\n",
        "    batch_size=32\n",
        "    test_datagen = ImageDataGenerator(\n",
        "                                     rescale=1.0/255.0,\n",
        "                                     featurewise_center= True,\n",
        "                                     featurewise_std_normalization = True)\n",
        "  \n",
        "    \n",
        "    test_it = test_datagen.flow_from_directory('/content/drive/MyDrive/COVID-19-Deep-Learning-Project-Colab/Dataset/test/',classes =('Normal','Covid'), \n",
        "                                               shuffle=False,batch_size=batch_size, target_size=(224, 224))\n",
        "    \n",
        "    \n",
        "    y_true = test_it.classes;\n",
        "\n",
        "    y_pred = model.predict_generator(test_it, steps=len(test_it), verbose=1)\n",
        "\n",
        "    \n",
        "    y_pred_prob = y_pred[:,1]\n",
        "\n",
        "     \n",
        "    y_pred_binary =  y_pred_prob > 0.5\n",
        "   \n",
        "    #Confution Matrix    \n",
        "    print('\\nConfusion Matrix\\n -------------------------')    \n",
        "    print(confusion_matrix(y_true,y_pred_binary));\n",
        "    \n",
        "    # accuracy: (tp + tn) / (p + n)\n",
        "    accuracy = accuracy_score(y_true, y_pred_binary)\n",
        "    print('Accuracy: %f' % accuracy)\n",
        "    \n",
        "    \n",
        "    # precision tp / (tp + fp)\n",
        "    precision = precision_score(y_true, y_pred_binary)\n",
        "    print('Precision: %f' % precision)\n",
        "    \n",
        "    # recall: tp / (tp + fn)\n",
        "    recall = recall_score(y_true, y_pred_binary)\n",
        "    print('Recall: %f' % recall)\n",
        "    \n",
        "    # f1: 2 tp / (2 tp + fp + fn)\n",
        "    f1 = f1_score(y_true, y_pred_binary)\n",
        "    print('F1 score: %f' % f1)    \n",
        "       \n",
        "    # ROC AUC\n",
        "    auc = roc_auc_score(y_true, y_pred_prob)\n",
        "    print('ROC AUC: %f' % auc)\n",
        "    \n",
        "    \n",
        "    # calculate roc curves\n",
        "    fpr, tpr, _ = roc_curve(y_true, y_pred_prob)\n",
        "        \n",
        "    # plot the roc curve for the model\n",
        "    plt.figure()\n",
        "    plt_False_Positive_vs_True_Positive.plot(fpr, tpr, linestyle='--', label='')\n",
        "    \n",
        "    # axis labels\n",
        "    plt_False_Positive_vs_True_Positive.xlabel('False Positive Rate')\n",
        "    plt_False_Positive_vs_True_Positive.ylabel('True Positive Rate')\n",
        "       \n",
        "    # show the legend\n",
        "    plt_False_Positive_vs_True_Positive.legend()\n",
        "    # show the plot\n",
        "    plt_False_Positive_vs_True_Positive.show()\n",
        "    \n",
        "          #for plotting CM graph\n",
        "    cm = confusion_matrix(y_true,y_pred_binary)\n",
        "\n",
        "    def plot_confusion_matrix(cm, classes,\n",
        "                        normalize=False,\n",
        "                        title='Confusion matrix for Dropout CNN',\n",
        "                        cmap=plt.cm.OrRd):\n",
        " \n",
        "      plt.imshow(cm, interpolation='nearest', cmap=cmap)\n",
        "      plt.title(title)\n",
        "      plt.colorbar()\n",
        "      tick_marks = np.arange(len(classes))\n",
        "      plt.xticks(tick_marks, classes, rotation=45)\n",
        "      plt.yticks(tick_marks, classes)\n",
        "\n",
        "\n",
        "\n",
        "    thresh = cm.max() / 2.\n",
        "    for i, j in itertools.product(range(cm.shape[0]), range(cm.shape[1])):\n",
        "        plt.text(j, i, cm[i, j],\n",
        "            horizontalalignment=\"center\",\n",
        "            color=\"white\" if cm[i, j] > thresh else \"black\")\n",
        "\n",
        "    plt.tight_layout()\n",
        "    plt.ylabel('Predicted Values')\n",
        "    plt.xlabel('True Values')\n",
        "    cm_plot_labels = ['No Covid','Has Covid']\n",
        "    plot_confusion_matrix(cm=cm, classes=cm_plot_labels, title='Confusion matrix for Dropout CNN')\n"
      ],
      "execution_count": 17,
      "outputs": []
    },
    {
      "cell_type": "code",
      "metadata": {
        "id": "PqwwYBQsqysR",
        "colab": {
          "base_uri": "https://localhost:8080/",
          "height": 1000
        },
        "outputId": "95a6844f-872d-4c35-bdaf-6651a3ebabae"
      },
      "source": [
        "# main entry\n",
        "    \n",
        "model = Build_CNN_Model()\n",
        "\n",
        "Train_CNN_Model(model)"
      ],
      "execution_count": null,
      "outputs": [
        {
          "output_type": "stream",
          "text": [
            "Model: \"sequential\"\n",
            "_________________________________________________________________\n",
            "Layer (type)                 Output Shape              Param #   \n",
            "=================================================================\n",
            "conv2d (Conv2D)              (None, 224, 224, 32)      896       \n",
            "_________________________________________________________________\n",
            "activation (Activation)      (None, 224, 224, 32)      0         \n",
            "_________________________________________________________________\n",
            "max_pooling2d (MaxPooling2D) (None, 112, 112, 32)      0         \n",
            "_________________________________________________________________\n",
            "conv2d_1 (Conv2D)            (None, 112, 112, 64)      18496     \n",
            "_________________________________________________________________\n",
            "activation_1 (Activation)    (None, 112, 112, 64)      0         \n",
            "_________________________________________________________________\n",
            "max_pooling2d_1 (MaxPooling2 (None, 56, 56, 64)        0         \n",
            "_________________________________________________________________\n",
            "conv2d_2 (Conv2D)            (None, 56, 56, 128)       73856     \n",
            "_________________________________________________________________\n",
            "activation_2 (Activation)    (None, 56, 56, 128)       0         \n",
            "_________________________________________________________________\n",
            "max_pooling2d_2 (MaxPooling2 (None, 28, 28, 128)       0         \n",
            "_________________________________________________________________\n",
            "flatten (Flatten)            (None, 100352)            0         \n",
            "_________________________________________________________________\n",
            "dense (Dense)                (None, 1000)              100353000 \n",
            "_________________________________________________________________\n",
            "activation_3 (Activation)    (None, 1000)              0         \n",
            "_________________________________________________________________\n",
            "dropout (Dropout)            (None, 1000)              0         \n",
            "_________________________________________________________________\n",
            "dense_1 (Dense)              (None, 2)                 2002      \n",
            "_________________________________________________________________\n",
            "activation_4 (Activation)    (None, 2)                 0         \n",
            "=================================================================\n",
            "Total params: 100,448,250\n",
            "Trainable params: 100,448,250\n",
            "Non-trainable params: 0\n",
            "_________________________________________________________________\n",
            "Found 1463 images belonging to 2 classes.\n",
            "Found 365 images belonging to 2 classes.\n",
            "WARNING:tensorflow:From <ipython-input-7-3bc0378a9ebf>:37: Model.fit_generator (from tensorflow.python.keras.engine.training) is deprecated and will be removed in a future version.\n",
            "Instructions for updating:\n",
            "Please use Model.fit, which supports generators.\n"
          ],
          "name": "stdout"
        },
        {
          "output_type": "stream",
          "text": [
            "/usr/local/lib/python3.6/dist-packages/keras_preprocessing/image/image_data_generator.py:720: UserWarning: This ImageDataGenerator specifies `featurewise_center`, but it hasn't been fit on any training data. Fit it first by calling `.fit(numpy_data)`.\n",
            "  warnings.warn('This ImageDataGenerator specifies '\n",
            "/usr/local/lib/python3.6/dist-packages/keras_preprocessing/image/image_data_generator.py:728: UserWarning: This ImageDataGenerator specifies `featurewise_std_normalization`, but it hasn't been fit on any training data. Fit it first by calling `.fit(numpy_data)`.\n",
            "  warnings.warn('This ImageDataGenerator specifies '\n"
          ],
          "name": "stderr"
        },
        {
          "output_type": "stream",
          "text": [
            "Epoch 1/100\n",
            "46/46 [==============================] - 745s 16s/step - loss: 0.8315 - accuracy: 0.8004 - val_loss: 0.0820 - val_accuracy: 0.9781\n",
            "Epoch 2/100\n",
            "46/46 [==============================] - 79s 2s/step - loss: 0.1953 - accuracy: 0.9310 - val_loss: 0.0439 - val_accuracy: 0.9863\n",
            "Epoch 3/100\n",
            "46/46 [==============================] - 77s 2s/step - loss: 0.1926 - accuracy: 0.9289 - val_loss: 0.1607 - val_accuracy: 0.9644\n",
            "Epoch 4/100\n",
            "46/46 [==============================] - 78s 2s/step - loss: 0.1460 - accuracy: 0.9528 - val_loss: 0.0517 - val_accuracy: 0.9836\n",
            "Epoch 5/100\n",
            "46/46 [==============================] - 78s 2s/step - loss: 0.1288 - accuracy: 0.9535 - val_loss: 0.1046 - val_accuracy: 0.9616\n",
            "Epoch 6/100\n",
            "46/46 [==============================] - 78s 2s/step - loss: 0.1160 - accuracy: 0.9624 - val_loss: 0.0573 - val_accuracy: 0.9836\n",
            "Epoch 7/100\n",
            "46/46 [==============================] - 78s 2s/step - loss: 0.1266 - accuracy: 0.9556 - val_loss: 0.0653 - val_accuracy: 0.9753\n",
            "Epoch 8/100\n",
            "46/46 [==============================] - 78s 2s/step - loss: 0.1679 - accuracy: 0.9371 - val_loss: 0.0466 - val_accuracy: 0.9836\n",
            "Epoch 9/100\n",
            "46/46 [==============================] - 78s 2s/step - loss: 0.1131 - accuracy: 0.9604 - val_loss: 0.0516 - val_accuracy: 0.9808\n",
            "Epoch 10/100\n",
            "46/46 [==============================] - 78s 2s/step - loss: 0.1013 - accuracy: 0.9658 - val_loss: 0.0316 - val_accuracy: 0.9836\n",
            "Epoch 11/100\n",
            "46/46 [==============================] - 78s 2s/step - loss: 0.0999 - accuracy: 0.9651 - val_loss: 0.0699 - val_accuracy: 0.9781\n",
            "Epoch 12/100\n",
            "46/46 [==============================] - 78s 2s/step - loss: 0.0820 - accuracy: 0.9747 - val_loss: 0.1533 - val_accuracy: 0.9397\n",
            "Epoch 13/100\n",
            "46/46 [==============================] - 79s 2s/step - loss: 0.1076 - accuracy: 0.9569 - val_loss: 0.1523 - val_accuracy: 0.9644\n",
            "Epoch 14/100\n",
            "46/46 [==============================] - 79s 2s/step - loss: 0.0840 - accuracy: 0.9699 - val_loss: 0.1034 - val_accuracy: 0.9699\n",
            "Epoch 15/100\n",
            "46/46 [==============================] - 78s 2s/step - loss: 0.0749 - accuracy: 0.9754 - val_loss: 0.0433 - val_accuracy: 0.9808\n",
            "Epoch 16/100\n",
            "46/46 [==============================] - 78s 2s/step - loss: 0.0753 - accuracy: 0.9754 - val_loss: 0.0716 - val_accuracy: 0.9699\n",
            "Epoch 17/100\n",
            "46/46 [==============================] - 79s 2s/step - loss: 0.0844 - accuracy: 0.9747 - val_loss: 0.1486 - val_accuracy: 0.9671\n",
            "Epoch 18/100\n",
            "46/46 [==============================] - 78s 2s/step - loss: 0.0796 - accuracy: 0.9720 - val_loss: 0.1572 - val_accuracy: 0.9644\n",
            "Epoch 19/100\n",
            "46/46 [==============================] - 79s 2s/step - loss: 0.0787 - accuracy: 0.9727 - val_loss: 0.0651 - val_accuracy: 0.9726\n",
            "Epoch 20/100\n",
            "46/46 [==============================] - 78s 2s/step - loss: 0.0777 - accuracy: 0.9768 - val_loss: 0.1599 - val_accuracy: 0.9671\n",
            "Epoch 21/100\n",
            "46/46 [==============================] - 78s 2s/step - loss: 0.0550 - accuracy: 0.9761 - val_loss: 0.1402 - val_accuracy: 0.9671\n",
            "Epoch 22/100\n",
            "46/46 [==============================] - 78s 2s/step - loss: 0.0587 - accuracy: 0.9774 - val_loss: 0.0973 - val_accuracy: 0.9699\n",
            "Epoch 23/100\n",
            "46/46 [==============================] - 78s 2s/step - loss: 0.0457 - accuracy: 0.9836 - val_loss: 0.0653 - val_accuracy: 0.9726\n",
            "Epoch 24/100\n",
            "46/46 [==============================] - 78s 2s/step - loss: 0.0478 - accuracy: 0.9856 - val_loss: 0.0453 - val_accuracy: 0.9863\n",
            "Epoch 25/100\n",
            "46/46 [==============================] - 78s 2s/step - loss: 0.0655 - accuracy: 0.9774 - val_loss: 0.0982 - val_accuracy: 0.9699\n",
            "Epoch 26/100\n",
            "46/46 [==============================] - 78s 2s/step - loss: 0.0557 - accuracy: 0.9774 - val_loss: 0.0396 - val_accuracy: 0.9890\n",
            "Epoch 27/100\n",
            "46/46 [==============================] - 78s 2s/step - loss: 0.0704 - accuracy: 0.9768 - val_loss: 0.1590 - val_accuracy: 0.9589\n",
            "Epoch 28/100\n",
            "46/46 [==============================] - 78s 2s/step - loss: 0.0637 - accuracy: 0.9815 - val_loss: 0.0765 - val_accuracy: 0.9781\n",
            "Epoch 29/100\n",
            "46/46 [==============================] - 78s 2s/step - loss: 0.0589 - accuracy: 0.9829 - val_loss: 0.1053 - val_accuracy: 0.9808\n",
            "Epoch 30/100\n",
            "46/46 [==============================] - 78s 2s/step - loss: 0.0438 - accuracy: 0.9863 - val_loss: 0.0683 - val_accuracy: 0.9836\n",
            "Epoch 31/100\n",
            "46/46 [==============================] - 78s 2s/step - loss: 0.0456 - accuracy: 0.9850 - val_loss: 0.0431 - val_accuracy: 0.9863\n",
            "Epoch 32/100\n",
            "46/46 [==============================] - 78s 2s/step - loss: 0.0367 - accuracy: 0.9891 - val_loss: 0.1774 - val_accuracy: 0.9452\n",
            "Epoch 33/100\n",
            "46/46 [==============================] - 78s 2s/step - loss: 0.0453 - accuracy: 0.9870 - val_loss: 0.0500 - val_accuracy: 0.9836\n",
            "Epoch 34/100\n",
            "46/46 [==============================] - 78s 2s/step - loss: 0.0381 - accuracy: 0.9884 - val_loss: 0.0749 - val_accuracy: 0.9781\n",
            "Epoch 35/100\n",
            "46/46 [==============================] - 78s 2s/step - loss: 0.0342 - accuracy: 0.9925 - val_loss: 0.0773 - val_accuracy: 0.9699\n",
            "Epoch 36/100\n",
            "46/46 [==============================] - 78s 2s/step - loss: 0.0342 - accuracy: 0.9891 - val_loss: 0.0832 - val_accuracy: 0.9726\n",
            "Epoch 37/100\n",
            "46/46 [==============================] - 79s 2s/step - loss: 0.0271 - accuracy: 0.9911 - val_loss: 0.1399 - val_accuracy: 0.9644\n",
            "Epoch 38/100\n",
            "46/46 [==============================] - 78s 2s/step - loss: 0.0396 - accuracy: 0.9877 - val_loss: 0.0322 - val_accuracy: 0.9890\n",
            "Epoch 39/100\n",
            "46/46 [==============================] - 78s 2s/step - loss: 0.0526 - accuracy: 0.9822 - val_loss: 0.0408 - val_accuracy: 0.9890\n",
            "Epoch 40/100\n",
            "46/46 [==============================] - 79s 2s/step - loss: 0.0340 - accuracy: 0.9870 - val_loss: 0.0222 - val_accuracy: 0.9890\n",
            "Epoch 41/100\n",
            "46/46 [==============================] - 79s 2s/step - loss: 0.0362 - accuracy: 0.9925 - val_loss: 0.1125 - val_accuracy: 0.9726\n",
            "Epoch 42/100\n",
            "46/46 [==============================] - 79s 2s/step - loss: 0.0286 - accuracy: 0.9925 - val_loss: 0.0766 - val_accuracy: 0.9726\n",
            "Epoch 43/100\n",
            "46/46 [==============================] - 78s 2s/step - loss: 0.0383 - accuracy: 0.9870 - val_loss: 0.0869 - val_accuracy: 0.9781\n",
            "Epoch 44/100\n",
            "46/46 [==============================] - 78s 2s/step - loss: 0.0288 - accuracy: 0.9925 - val_loss: 0.0082 - val_accuracy: 0.9973\n",
            "Epoch 45/100\n",
            "46/46 [==============================] - 78s 2s/step - loss: 0.0287 - accuracy: 0.9897 - val_loss: 0.2444 - val_accuracy: 0.9562\n",
            "Epoch 46/100\n",
            "46/46 [==============================] - 78s 2s/step - loss: 0.0420 - accuracy: 0.9843 - val_loss: 0.0369 - val_accuracy: 0.9945\n",
            "Epoch 47/100\n",
            "46/46 [==============================] - 79s 2s/step - loss: 0.0261 - accuracy: 0.9911 - val_loss: 0.0324 - val_accuracy: 0.9836\n",
            "Epoch 48/100\n",
            "46/46 [==============================] - 79s 2s/step - loss: 0.0352 - accuracy: 0.9870 - val_loss: 0.0552 - val_accuracy: 0.9781\n",
            "Epoch 49/100\n",
            "46/46 [==============================] - 79s 2s/step - loss: 0.0275 - accuracy: 0.9877 - val_loss: 0.0377 - val_accuracy: 0.9863\n",
            "Epoch 50/100\n",
            "46/46 [==============================] - 78s 2s/step - loss: 0.0188 - accuracy: 0.9932 - val_loss: 0.0292 - val_accuracy: 0.9918\n",
            "Epoch 51/100\n",
            "46/46 [==============================] - 78s 2s/step - loss: 0.0255 - accuracy: 0.9932 - val_loss: 0.0113 - val_accuracy: 0.9945\n",
            "Epoch 52/100\n",
            "46/46 [==============================] - 78s 2s/step - loss: 0.0231 - accuracy: 0.9918 - val_loss: 0.0953 - val_accuracy: 0.9726\n",
            "Epoch 53/100\n",
            "46/46 [==============================] - 78s 2s/step - loss: 0.0398 - accuracy: 0.9877 - val_loss: 0.0140 - val_accuracy: 0.9945\n",
            "Epoch 54/100\n",
            "46/46 [==============================] - 78s 2s/step - loss: 0.0176 - accuracy: 0.9945 - val_loss: 0.0954 - val_accuracy: 0.9836\n",
            "Epoch 55/100\n",
            "46/46 [==============================] - 77s 2s/step - loss: 0.0160 - accuracy: 0.9938 - val_loss: 0.1344 - val_accuracy: 0.9644\n",
            "Epoch 56/100\n",
            "46/46 [==============================] - 78s 2s/step - loss: 0.0275 - accuracy: 0.9911 - val_loss: 0.0228 - val_accuracy: 0.9890\n",
            "Epoch 57/100\n",
            "46/46 [==============================] - 78s 2s/step - loss: 0.0339 - accuracy: 0.9911 - val_loss: 0.0474 - val_accuracy: 0.9836\n",
            "Epoch 58/100\n",
            "46/46 [==============================] - 78s 2s/step - loss: 0.0218 - accuracy: 0.9938 - val_loss: 0.0159 - val_accuracy: 0.9918\n",
            "Epoch 59/100\n",
            "46/46 [==============================] - 79s 2s/step - loss: 0.0300 - accuracy: 0.9918 - val_loss: 0.1093 - val_accuracy: 0.9671\n",
            "Epoch 60/100\n",
            "46/46 [==============================] - 79s 2s/step - loss: 0.0564 - accuracy: 0.9863 - val_loss: 0.0476 - val_accuracy: 0.9808\n",
            "Epoch 61/100\n",
            "46/46 [==============================] - 79s 2s/step - loss: 0.0344 - accuracy: 0.9877 - val_loss: 0.0266 - val_accuracy: 0.9945\n",
            "Epoch 62/100\n",
            "46/46 [==============================] - 79s 2s/step - loss: 0.0209 - accuracy: 0.9925 - val_loss: 0.1277 - val_accuracy: 0.9562\n",
            "Epoch 63/100\n",
            "46/46 [==============================] - 78s 2s/step - loss: 0.0375 - accuracy: 0.9863 - val_loss: 0.0367 - val_accuracy: 0.9836\n",
            "Epoch 64/100\n",
            "46/46 [==============================] - 79s 2s/step - loss: 0.0369 - accuracy: 0.9891 - val_loss: 0.0101 - val_accuracy: 0.9973\n",
            "Epoch 65/100\n",
            "46/46 [==============================] - 79s 2s/step - loss: 0.0273 - accuracy: 0.9904 - val_loss: 0.0119 - val_accuracy: 0.9945\n",
            "Epoch 66/100\n",
            "46/46 [==============================] - 78s 2s/step - loss: 0.0298 - accuracy: 0.9870 - val_loss: 0.0377 - val_accuracy: 0.9918\n",
            "Epoch 67/100\n",
            "46/46 [==============================] - 79s 2s/step - loss: 0.0209 - accuracy: 0.9918 - val_loss: 0.0069 - val_accuracy: 0.9973\n",
            "Epoch 68/100\n",
            "46/46 [==============================] - 78s 2s/step - loss: 0.0308 - accuracy: 0.9870 - val_loss: 0.0245 - val_accuracy: 0.9918\n",
            "Epoch 69/100\n",
            "46/46 [==============================] - 79s 2s/step - loss: 0.0186 - accuracy: 0.9938 - val_loss: 0.0476 - val_accuracy: 0.9781\n",
            "Epoch 70/100\n",
            "46/46 [==============================] - 79s 2s/step - loss: 0.0350 - accuracy: 0.9904 - val_loss: 0.0062 - val_accuracy: 1.0000\n",
            "Epoch 71/100\n",
            "46/46 [==============================] - 77s 2s/step - loss: 0.0301 - accuracy: 0.9904 - val_loss: 0.0127 - val_accuracy: 0.9945\n",
            "Epoch 72/100\n",
            "46/46 [==============================] - 78s 2s/step - loss: 0.0354 - accuracy: 0.9856 - val_loss: 0.0188 - val_accuracy: 0.9918\n",
            "Epoch 73/100\n",
            "46/46 [==============================] - 78s 2s/step - loss: 0.0212 - accuracy: 0.9932 - val_loss: 0.0040 - val_accuracy: 1.0000\n",
            "Epoch 74/100\n",
            "46/46 [==============================] - 79s 2s/step - loss: 0.0202 - accuracy: 0.9932 - val_loss: 0.1667 - val_accuracy: 0.9397\n",
            "Epoch 75/100\n",
            "46/46 [==============================] - 78s 2s/step - loss: 0.0358 - accuracy: 0.9918 - val_loss: 0.0046 - val_accuracy: 1.0000\n",
            "Epoch 76/100\n",
            "46/46 [==============================] - 78s 2s/step - loss: 0.0221 - accuracy: 0.9938 - val_loss: 0.0136 - val_accuracy: 0.9890\n",
            "Epoch 77/100\n",
            "46/46 [==============================] - 78s 2s/step - loss: 0.0432 - accuracy: 0.9904 - val_loss: 0.0640 - val_accuracy: 0.9781\n",
            "Epoch 78/100\n",
            "46/46 [==============================] - 79s 2s/step - loss: 0.0269 - accuracy: 0.9884 - val_loss: 0.0041 - val_accuracy: 1.0000\n",
            "Epoch 79/100\n",
            "46/46 [==============================] - 78s 2s/step - loss: 0.0267 - accuracy: 0.9932 - val_loss: 0.0100 - val_accuracy: 1.0000\n",
            "Epoch 80/100\n",
            "46/46 [==============================] - 79s 2s/step - loss: 0.0209 - accuracy: 0.9932 - val_loss: 0.0036 - val_accuracy: 1.0000\n",
            "Epoch 81/100\n",
            "46/46 [==============================] - 79s 2s/step - loss: 0.0183 - accuracy: 0.9938 - val_loss: 0.0044 - val_accuracy: 1.0000\n",
            "Epoch 82/100\n",
            "46/46 [==============================] - 78s 2s/step - loss: 0.0308 - accuracy: 0.9911 - val_loss: 0.0155 - val_accuracy: 0.9973\n",
            "Epoch 83/100\n",
            "46/46 [==============================] - 77s 2s/step - loss: 0.0191 - accuracy: 0.9932 - val_loss: 0.0899 - val_accuracy: 0.9699\n",
            "Epoch 84/100\n",
            "46/46 [==============================] - 79s 2s/step - loss: 0.0198 - accuracy: 0.9952 - val_loss: 0.0574 - val_accuracy: 0.9890\n",
            "Epoch 85/100\n",
            "46/46 [==============================] - 77s 2s/step - loss: 0.0328 - accuracy: 0.9904 - val_loss: 0.0044 - val_accuracy: 1.0000\n",
            "Epoch 86/100\n",
            "46/46 [==============================] - 78s 2s/step - loss: 0.0319 - accuracy: 0.9877 - val_loss: 0.0368 - val_accuracy: 0.9890\n",
            "Epoch 87/100\n",
            "46/46 [==============================] - 79s 2s/step - loss: 0.0185 - accuracy: 0.9925 - val_loss: 0.0291 - val_accuracy: 0.9918\n",
            "Epoch 88/100\n",
            "46/46 [==============================] - 78s 2s/step - loss: 0.0125 - accuracy: 0.9938 - val_loss: 0.0527 - val_accuracy: 0.9918\n",
            "Epoch 89/100\n",
            "46/46 [==============================] - 77s 2s/step - loss: 0.0159 - accuracy: 0.9945 - val_loss: 0.0289 - val_accuracy: 0.9918\n",
            "Epoch 90/100\n",
            "46/46 [==============================] - 79s 2s/step - loss: 0.0170 - accuracy: 0.9952 - val_loss: 0.0081 - val_accuracy: 0.9973\n",
            "Epoch 91/100\n",
            "46/46 [==============================] - 79s 2s/step - loss: 0.0156 - accuracy: 0.9925 - val_loss: 0.0297 - val_accuracy: 0.9890\n",
            "Epoch 92/100\n",
            "46/46 [==============================] - 78s 2s/step - loss: 0.0194 - accuracy: 0.9918 - val_loss: 0.1604 - val_accuracy: 0.9534\n",
            "Epoch 93/100\n",
            "46/46 [==============================] - 79s 2s/step - loss: 0.0270 - accuracy: 0.9904 - val_loss: 0.1746 - val_accuracy: 0.9671\n",
            "Epoch 94/100\n",
            "46/46 [==============================] - 79s 2s/step - loss: 0.0205 - accuracy: 0.9938 - val_loss: 0.0247 - val_accuracy: 0.9945\n",
            "Epoch 95/100\n",
            "46/46 [==============================] - 79s 2s/step - loss: 0.0196 - accuracy: 0.9952 - val_loss: 0.0171 - val_accuracy: 0.9945\n",
            "Epoch 96/100\n",
            "46/46 [==============================] - 79s 2s/step - loss: 0.0296 - accuracy: 0.9918 - val_loss: 0.0595 - val_accuracy: 0.9808\n",
            "Epoch 97/100\n",
            "46/46 [==============================] - 79s 2s/step - loss: 0.0296 - accuracy: 0.9897 - val_loss: 0.2341 - val_accuracy: 0.9562\n",
            "Epoch 98/100\n",
            "46/46 [==============================] - 79s 2s/step - loss: 0.0277 - accuracy: 0.9911 - val_loss: 0.0047 - val_accuracy: 1.0000\n",
            "Epoch 99/100\n",
            "46/46 [==============================] - 79s 2s/step - loss: 0.0399 - accuracy: 0.9891 - val_loss: 0.0713 - val_accuracy: 0.9863\n",
            "Epoch 100/100\n",
            "46/46 [==============================] - 78s 2s/step - loss: 0.0137 - accuracy: 0.9966 - val_loss: 0.0312 - val_accuracy: 0.9836\n"
          ],
          "name": "stdout"
        },
        {
          "output_type": "display_data",
          "data": {
            "image/png": "[encoded data removed]",
            "text/plain": [
              "<Figure size 432x288 with 1 Axes>"
            ]
          },
          "metadata": {
            "tags": [],
            "needs_background": "light"
          }
        },
        {
          "output_type": "display_data",
          "data": {
            "image/png": "[encoded data removed]",
            "text/plain": [
              "<Figure size 432x288 with 1 Axes>"
            ]
          },
          "metadata": {
            "tags": [],
            "needs_background": "light"
          }
        },
        {
          "output_type": "stream",
          "text": [
            "Found 31 images belonging to 2 classes.\n",
            "WARNING:tensorflow:From <ipython-input-8-8026b8c5093b>:24: Model.predict_generator (from tensorflow.python.keras.engine.training) is deprecated and will be removed in a future version.\n",
            "Instructions for updating:\n",
            "Please use Model.predict, which supports generators.\n",
            "1/1 [==============================] - 0s 7ms/step\n"
          ],
          "name": "stdout"
        },
        {
          "output_type": "stream",
          "text": [
            "No handles with labels found to put in legend.\n"
          ],
          "name": "stderr"
        },
        {
          "output_type": "stream",
          "text": [
            "\n",
            "Confusion Matrix\n",
            " -------------------------\n",
            "[[14  1]\n",
            " [ 0 16]]\n",
            "Accuracy: 0.967742\n",
            "Precision: 0.941176\n",
            "Recall: 1.000000\n",
            "F1 score: 0.969697\n",
            "ROC AUC: 1.000000\n"
          ],
          "name": "stdout"
        },
        {
          "output_type": "display_data",
          "data": {
            "image/png": "[encoded data removed]",
            "text/plain": [
              "<Figure size 432x288 with 1 Axes>"
            ]
          },
          "metadata": {
            "tags": [],
            "needs_background": "light"
          }
        }
      ]
    },
    {
      "cell_type": "code",
      "metadata": {
        "id": "UvVVw7tniX3j"
      },
      "source": [
        "    %matplotlib inline\n",
        "from sklearn.metrics import confusion_matrix\n",
        "import itertools\n",
        "import matplotlib.pyplot as plt\n",
        "import numpy as np"
      ],
      "execution_count": 8,
      "outputs": []
    },
    {
      "cell_type": "code",
      "metadata": {
        "colab": {
          "base_uri": "https://localhost:8080/",
          "height": 940
        },
        "id": "vnG0cC4tiXkh",
        "outputId": "5f5cee39-9291-4b8b-8973-2c4cd3cd3cc5"
      },
      "source": [
        "Evaluate_CNN_Model()"
      ],
      "execution_count": 18,
      "outputs": [
        {
          "output_type": "stream",
          "text": [
            "Found 31 images belonging to 2 classes.\n"
          ],
          "name": "stdout"
        },
        {
          "output_type": "stream",
          "text": [
            "/usr/local/lib/python3.6/dist-packages/keras_preprocessing/image/image_data_generator.py:720: UserWarning: This ImageDataGenerator specifies `featurewise_center`, but it hasn't been fit on any training data. Fit it first by calling `.fit(numpy_data)`.\n",
            "  warnings.warn('This ImageDataGenerator specifies '\n",
            "/usr/local/lib/python3.6/dist-packages/keras_preprocessing/image/image_data_generator.py:728: UserWarning: This ImageDataGenerator specifies `featurewise_std_normalization`, but it hasn't been fit on any training data. Fit it first by calling `.fit(numpy_data)`.\n",
            "  warnings.warn('This ImageDataGenerator specifies '\n"
          ],
          "name": "stderr"
        },
        {
          "output_type": "stream",
          "text": [
            "WARNING:tensorflow:5 out of the last 5 calls to <function Model.make_predict_function.<locals>.predict_function at 0x7fd3df77aa60> triggered tf.function retracing. Tracing is expensive and the excessive number of tracings could be due to (1) creating @tf.function repeatedly in a loop, (2) passing tensors with different shapes, (3) passing Python objects instead of tensors. For (1), please define your @tf.function outside of the loop. For (2), @tf.function has experimental_relax_shapes=True option that relaxes argument shapes that can avoid unnecessary retracing. For (3), please refer to https://www.tensorflow.org/tutorials/customization/performance#python_or_tensor_args and https://www.tensorflow.org/api_docs/python/tf/function for  more details.\n",
            "1/1 [==============================] - 0s 3ms/step\n"
          ],
          "name": "stdout"
        },
        {
          "output_type": "stream",
          "text": [
            "No handles with labels found to put in legend.\n"
          ],
          "name": "stderr"
        },
        {
          "output_type": "stream",
          "text": [
            "\n",
            "Confusion Matrix\n",
            " -------------------------\n",
            "[[14  1]\n",
            " [ 0 16]]\n",
            "Accuracy: 0.967742\n",
            "Precision: 0.941176\n",
            "Recall: 1.000000\n",
            "F1 score: 0.969697\n",
            "ROC AUC: 1.000000\n"
          ],
          "name": "stdout"
        },
        {
          "output_type": "display_data",
          "data": {
            "image/png": "[encoded data removed]",
            "text/plain": [
              "<Figure size 432x288 with 1 Axes>"
            ]
          },
          "metadata": {
            "tags": [],
            "needs_background": "light"
          }
        },
        {
          "output_type": "display_data",
          "data": {
            "image/png": "[encoded data removed]",
            "text/plain": [
              "<Figure size 432x288 with 2 Axes>"
            ]
          },
          "metadata": {
            "tags": [],
            "needs_background": "light"
          }
        }
      ]
    }
  ]
}