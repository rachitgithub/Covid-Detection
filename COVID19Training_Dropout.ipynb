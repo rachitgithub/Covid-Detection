{
  "nbformat": 4,
  "nbformat_minor": 0,
  "metadata": {
    "colab": {
      "name": "COVID19Training_Dropout.ipynb",
      "provenance": [],
      "collapsed_sections": [],
      "include_colab_link": true
    },
    "kernelspec": {
      "name": "python3",
      "display_name": "Python 3"
    },
    "accelerator": "GPU"
  },
  "cells": [
    {
      "cell_type": "markdown",
      "metadata": {
        "id": "view-in-github",
        "colab_type": "text"
      },
      "source": [
        "<a href=\"https://colab.research.google.com/github/rachitgithub/Covid-Detection/blob/main/COVID19Training_Dropout.ipynb\" target=\"_parent\"><img src=\"https://colab.research.google.com/assets/colab-badge.svg\" alt=\"Open In Colab\"/></a>"
      ]
    },
    {
      "cell_type": "markdown",
      "metadata": {
        "id": "-gyKOi8EPITT"
      },
      "source": [
        "# **Install TensorFlow GPU**"
      ]
    },
    {
      "cell_type": "code",
      "metadata": {
        "id": "UboFrn87qNVe"
      },
      "source": [
        "!pip install tensorflow-gpu"
      ],
      "execution_count": null,
      "outputs": []
    },
    {
      "cell_type": "markdown",
      "metadata": {
        "id": "FLc0x1XRPPVm"
      },
      "source": [
        "# **Import GDRIVE**"
      ]
    },
    {
      "cell_type": "code",
      "metadata": {
        "id": "2SXklTJgqQyV",
        "colab": {
          "base_uri": "https://localhost:8080/"
        },
        "outputId": "3d392fd2-e3ae-4c68-e64a-80ec00534708"
      },
      "source": [
        "from google.colab import drive\n",
        "drive.mount('/content/drive')"
      ],
      "execution_count": 2,
      "outputs": [
        {
          "output_type": "stream",
          "text": [
            "Mounted at /content/drive\n"
          ],
          "name": "stdout"
        }
      ]
    },
    {
      "cell_type": "markdown",
      "metadata": {
        "id": "M55jhmwBPTGp"
      },
      "source": [
        "# **Import Tensor Flow**"
      ]
    },
    {
      "cell_type": "code",
      "metadata": {
        "id": "yPOllQPgqUky",
        "colab": {
          "base_uri": "https://localhost:8080/"
        },
        "outputId": "fffe4a39-58aa-4af0-cbb1-0d309a60f2b3"
      },
      "source": [
        "import tensorflow as tf\n",
        "tf.test.gpu_device_name()\n",
        "print(tf.__version__)"
      ],
      "execution_count": 3,
      "outputs": [
        {
          "output_type": "stream",
          "text": [
            "2.3.0\n"
          ],
          "name": "stdout"
        }
      ]
    },
    {
      "cell_type": "markdown",
      "metadata": {
        "id": "qf3UaO-sPXkz"
      },
      "source": [
        "# **Import Keras Libraries**"
      ]
    },
    {
      "cell_type": "code",
      "metadata": {
        "id": "O6d6JctTqdW2"
      },
      "source": [
        "from keras.models import Sequential,load_model\n",
        "from keras.layers import Conv2D,Activation, MaxPooling2D,Dense,Flatten,Dropout\n",
        "from keras.optimizers import Adam\n",
        "from keras.preprocessing.image import ImageDataGenerator\n",
        "from sklearn.metrics import accuracy_score,roc_curve,confusion_matrix,precision_score,recall_score,f1_score,roc_auc_score\n",
        "import matplotlib.pyplot as plt\n",
        "import matplotlib.pyplot as plt_False_Positive_vs_True_Positive"
      ],
      "execution_count": 4,
      "outputs": []
    },
    {
      "cell_type": "markdown",
      "metadata": {
        "id": "BoGghyDrPcMl"
      },
      "source": [
        "# **Build Sequential Dropout CNN Model**\n"
      ]
    },
    {
      "cell_type": "code",
      "metadata": {
        "id": "NHfmSsyapGlw"
      },
      "source": [
        "def Build_CNN_Model():\n",
        "\n",
        "    # -------------------------------------------------------------------------\n",
        "    #                        Build CNN Model \n",
        "    # -------------------------------------------------------------------------\n",
        "\n",
        "    \n",
        "    model = Sequential()\n",
        "    \n",
        "    #  First Block of CNN\n",
        "    model.add(Conv2D(32, (3, 3), padding='same', input_shape=(224, 224, 3)))  \n",
        "    model.add(Activation('relu'))\n",
        "    model.add(MaxPooling2D((2, 2)))\n",
        "    \n",
        "    #  Second Block of CNN\n",
        "    model.add(Conv2D(64, (3, 3),  padding='same'))  \n",
        "    model.add(Activation('relu'))\n",
        "    model.add(MaxPooling2D((2, 2)))\n",
        "\n",
        "    #  Third Block of CNN\n",
        "    model.add(Conv2D(128, (3, 3), padding='same'))  \n",
        "    model.add(Activation('relu'))\n",
        "    model.add(MaxPooling2D((2, 2)))  \n",
        "\n",
        "    \n",
        "    #  Flatten and Fully Connected Layer\n",
        "    model.add(Flatten())\n",
        "    model.add(Dense(1000))\n",
        "    model.add(Activation('relu'))\n",
        "    model.add(Dropout(0.2))\n",
        "     \n",
        "    #  Softmax Classifier\n",
        "    model.add(Dense(2))\n",
        "    model.add(Activation('softmax'))\n",
        "        \n",
        "    #  Display model\n",
        "    model.summary()\n",
        "    \n",
        "  \t# compile model\n",
        "\n",
        "    opt = Adam(learning_rate=0.001, beta_1=0.9, beta_2=0.999)\n",
        "    model.compile(optimizer=opt, loss='categorical_crossentropy', metrics=['accuracy'])\n",
        "    \n",
        "    return model \n"
      ],
      "execution_count": 5,
      "outputs": []
    },
    {
      "cell_type": "markdown",
      "metadata": {
        "id": "EeLn5RJZPnKl"
      },
      "source": [
        "# **Train Sequential Dropout CNN Model**\n"
      ]
    },
    {
      "cell_type": "code",
      "metadata": {
        "id": "iT6jo0OmquCL"
      },
      "source": [
        "# train and evalluate cnn model\n",
        "def Train_CNN_Model(model):\n",
        "    \n",
        "    # -------------------------------------------------------------------------\n",
        "    #                        Train CNN Model \n",
        "    # -------------------------------------------------------------------------\n",
        "    \n",
        "     # create data generators    \n",
        "    train_datagen = ImageDataGenerator(\n",
        "                                     rescale=1.0/255.0,\n",
        "                                     featurewise_center= True,\n",
        "                                     featurewise_std_normalization = True,\n",
        "                                     rotation_range=10,\n",
        "                                     width_shift_range=0.1,\n",
        "                                     height_shift_range=0.1,\n",
        "                                     zoom_range=0.2,                                     \n",
        "                                     brightness_range=[0.2,1.0],\n",
        "                                     )\n",
        "    \n",
        "    valid_datagen = ImageDataGenerator(\n",
        "                                     rescale=1.0/255.0,\n",
        "                                     featurewise_center= True,\n",
        "                                     featurewise_std_normalization = True)\n",
        "    \n",
        "    \n",
        "   \n",
        "   \n",
        "    # prepare iterators\n",
        "    batch_size=32\n",
        "    train_it = train_datagen.flow_from_directory('/content/drive/MyDrive/COVID-19-Deep-Learning-Project-Colab/Dataset/train/',classes =('Normal','Covid'),batch_size=batch_size, target_size=(224, 224))\n",
        "    valid_it = valid_datagen.flow_from_directory('/content/drive/MyDrive/COVID-19-Deep-Learning-Project-Colab/Dataset/val/',classes =('Normal','Covid'),batch_size=batch_size, target_size=(224, 224))\n",
        "\n",
        "\n",
        "    epochs=100;\n",
        "    \n",
        "    history = model.fit_generator(train_it, steps_per_epoch=len(train_it),\n",
        "\t\tvalidation_data=valid_it, validation_steps=len(valid_it), epochs=epochs, verbose=1)\n",
        "    \n",
        "    \n",
        "    #  \"Accuracy\"\n",
        "    plt.plot(history.history['accuracy'])\n",
        "    plt.plot(history.history['val_accuracy'])\n",
        "    plt.title('model accuracy')\n",
        "    plt.ylabel('accuracy')\n",
        "    plt.xlabel('epoch')\n",
        "    plt.legend(['train', 'validation'], loc='upper left')\n",
        "    plt.show()\n",
        "    \n",
        "    # \"Loss\"\n",
        "    plt.plot(history.history['loss'])\n",
        "    plt.plot(history.history['val_loss'])\n",
        "    plt.title('model loss')\n",
        "    plt.ylabel('loss')\n",
        "    plt.xlabel('epoch')\n",
        "    plt.legend(['train', 'validation'], loc='upper left')\n",
        "    plt.show()\n",
        "\n",
        "\t# save model\n",
        "    model.save('/content/drive/MyDrive/COVID-19-Deep-Learning-Project-Colab/saved_models/CoVID19-sequential-dropout_cnn_model.h5')\n"
      ],
      "execution_count": 6,
      "outputs": []
    },
    {
      "cell_type": "markdown",
      "metadata": {
        "id": "akk2CJw7Pp6O"
      },
      "source": [
        "# **Evaluate Sequential Dropout CNN Model**\n"
      ]
    },
    {
      "cell_type": "code",
      "metadata": {
        "id": "5eW1T2Ekq5MM"
      },
      "source": [
        "def Evaluate_CNN_Model():\n",
        "    # -------------------------------------------------------------------------\n",
        "    #                        Evaluate CNN Model \n",
        "    # -------------------------------------------------------------------------\n",
        "    \n",
        "    # load model\n",
        "    model = load_model('/content/drive/MyDrive/COVID-19-Deep-Learning-Project-Colab/saved_models/CoVID19-sequential-dropout_cnn_model.h5')\n",
        "\n",
        "    \n",
        "    # load test data\n",
        "    batch_size=32\n",
        "    test_datagen = ImageDataGenerator(\n",
        "                                     rescale=1.0/255.0,\n",
        "                                     featurewise_center= True,\n",
        "                                     featurewise_std_normalization = True)\n",
        "  \n",
        "    \n",
        "    test_it = test_datagen.flow_from_directory('/content/drive/MyDrive/COVID-19-Deep-Learning-Project-Colab/Dataset/test/',classes =('Normal','Covid'), \n",
        "                                               shuffle=False,batch_size=batch_size, target_size=(224, 224))\n",
        "    \n",
        "    \n",
        "    y_true = test_it.classes;\n",
        "\n",
        "    y_pred = model.predict_generator(test_it, steps=len(test_it), verbose=1)\n",
        "\n",
        "    \n",
        "    y_pred_prob = y_pred[:,1]\n",
        "\n",
        "     \n",
        "    y_pred_binary =  y_pred_prob > 0.5\n",
        "   \n",
        "    #Confution Matrix    \n",
        "    print('\\nConfusion Matrix\\n -------------------------')    \n",
        "    print(confusion_matrix(y_true,y_pred_binary));\n",
        "    \n",
        "    # accuracy: (tp + tn) / (p + n)\n",
        "    accuracy = accuracy_score(y_true, y_pred_binary)\n",
        "    print('Accuracy: %f' % accuracy)\n",
        "    \n",
        "    \n",
        "    # precision tp / (tp + fp)\n",
        "    precision = precision_score(y_true, y_pred_binary)\n",
        "    print('Precision: %f' % precision)\n",
        "    \n",
        "    # recall: tp / (tp + fn)\n",
        "    recall = recall_score(y_true, y_pred_binary)\n",
        "    print('Recall: %f' % recall)\n",
        "    \n",
        "    # f1: 2 tp / (2 tp + fp + fn)\n",
        "    f1 = f1_score(y_true, y_pred_binary)\n",
        "    print('F1 score: %f' % f1)    \n",
        "       \n",
        "    # ROC AUC\n",
        "    auc = roc_auc_score(y_true, y_pred_prob)\n",
        "    print('ROC AUC: %f' % auc)\n",
        "    \n",
        "    \n",
        "    # calculate roc curves\n",
        "    fpr, tpr, _ = roc_curve(y_true, y_pred_prob)\n",
        "        \n",
        "    # plot the roc curve for the model\n",
        "    plt.figure()\n",
        "    plt_False_Positive_vs_True_Positive.plot(fpr, tpr, linestyle='--', label='')\n",
        "    \n",
        "    # axis labels\n",
        "    plt_False_Positive_vs_True_Positive.xlabel('False Positive Rate')\n",
        "    plt_False_Positive_vs_True_Positive.ylabel('True Positive Rate')\n",
        "       \n",
        "    # show the legend\n",
        "    plt_False_Positive_vs_True_Positive.legend()\n",
        "    # show the plot\n",
        "    plt_False_Positive_vs_True_Positive.show()\n",
        "    \n",
        "          #for plotting CM graph\n",
        "    cm = confusion_matrix(y_true,y_pred_binary)\n",
        "\n",
        "    def plot_confusion_matrix(cm, classes,\n",
        "                        normalize=False,\n",
        "                        title='Confusion matrix for Dropout CNN',\n",
        "                        cmap=plt.cm.OrRd):\n",
        " \n",
        "      plt.imshow(cm, interpolation='nearest', cmap=cmap)\n",
        "      plt.title(title)\n",
        "      plt.colorbar()\n",
        "      tick_marks = np.arange(len(classes))\n",
        "      plt.xticks(tick_marks, classes, rotation=45)\n",
        "      plt.yticks(tick_marks, classes)\n",
        "\n",
        "\n",
        "\n",
        "    thresh = cm.max() / 2.\n",
        "    for i, j in itertools.product(range(cm.shape[0]), range(cm.shape[1])):\n",
        "        plt.text(j, i, cm[i, j],\n",
        "            horizontalalignment=\"center\",\n",
        "            color=\"white\" if cm[i, j] > thresh else \"black\")\n",
        "\n",
        "    plt.tight_layout()\n",
        "    plt.ylabel('Predicted Values')\n",
        "    plt.xlabel('True Values')\n",
        "    cm_plot_labels = ['No Covid','Has Covid']\n",
        "    plot_confusion_matrix(cm=cm, classes=cm_plot_labels, title='Confusion matrix for Dropout CNN')\n"
      ],
      "execution_count": 7,
      "outputs": []
    },
    {
      "cell_type": "code",
      "metadata": {
        "id": "PqwwYBQsqysR",
        "colab": {
          "base_uri": "https://localhost:8080/",
          "height": 1000
        },
        "outputId": "c14685fb-b932-48c9-a100-5e624b17b7a3"
      },
      "source": [
        "%%time\n",
        "# main entry\n",
        "    \n",
        "model = Build_CNN_Model()\n",
        "\n",
        "Train_CNN_Model(model)"
      ],
      "execution_count": 8,
      "outputs": [
        {
          "output_type": "stream",
          "text": [
            "Model: \"sequential\"\n",
            "_________________________________________________________________\n",
            "Layer (type)                 Output Shape              Param #   \n",
            "=================================================================\n",
            "conv2d (Conv2D)              (None, 224, 224, 32)      896       \n",
            "_________________________________________________________________\n",
            "activation (Activation)      (None, 224, 224, 32)      0         \n",
            "_________________________________________________________________\n",
            "max_pooling2d (MaxPooling2D) (None, 112, 112, 32)      0         \n",
            "_________________________________________________________________\n",
            "conv2d_1 (Conv2D)            (None, 112, 112, 64)      18496     \n",
            "_________________________________________________________________\n",
            "activation_1 (Activation)    (None, 112, 112, 64)      0         \n",
            "_________________________________________________________________\n",
            "max_pooling2d_1 (MaxPooling2 (None, 56, 56, 64)        0         \n",
            "_________________________________________________________________\n",
            "conv2d_2 (Conv2D)            (None, 56, 56, 128)       73856     \n",
            "_________________________________________________________________\n",
            "activation_2 (Activation)    (None, 56, 56, 128)       0         \n",
            "_________________________________________________________________\n",
            "max_pooling2d_2 (MaxPooling2 (None, 28, 28, 128)       0         \n",
            "_________________________________________________________________\n",
            "flatten (Flatten)            (None, 100352)            0         \n",
            "_________________________________________________________________\n",
            "dense (Dense)                (None, 1000)              100353000 \n",
            "_________________________________________________________________\n",
            "activation_3 (Activation)    (None, 1000)              0         \n",
            "_________________________________________________________________\n",
            "dropout (Dropout)            (None, 1000)              0         \n",
            "_________________________________________________________________\n",
            "dense_1 (Dense)              (None, 2)                 2002      \n",
            "_________________________________________________________________\n",
            "activation_4 (Activation)    (None, 2)                 0         \n",
            "=================================================================\n",
            "Total params: 100,448,250\n",
            "Trainable params: 100,448,250\n",
            "Non-trainable params: 0\n",
            "_________________________________________________________________\n",
            "Found 1846 images belonging to 2 classes.\n",
            "Found 461 images belonging to 2 classes.\n",
            "WARNING:tensorflow:From <ipython-input-6-f0c881bf4a46>:37: Model.fit_generator (from tensorflow.python.keras.engine.training) is deprecated and will be removed in a future version.\n",
            "Instructions for updating:\n",
            "Please use Model.fit, which supports generators.\n"
          ],
          "name": "stdout"
        },
        {
          "output_type": "stream",
          "text": [
            "/usr/local/lib/python3.6/dist-packages/keras_preprocessing/image/image_data_generator.py:720: UserWarning: This ImageDataGenerator specifies `featurewise_center`, but it hasn't been fit on any training data. Fit it first by calling `.fit(numpy_data)`.\n",
            "  warnings.warn('This ImageDataGenerator specifies '\n",
            "/usr/local/lib/python3.6/dist-packages/keras_preprocessing/image/image_data_generator.py:728: UserWarning: This ImageDataGenerator specifies `featurewise_std_normalization`, but it hasn't been fit on any training data. Fit it first by calling `.fit(numpy_data)`.\n",
            "  warnings.warn('This ImageDataGenerator specifies '\n"
          ],
          "name": "stderr"
        },
        {
          "output_type": "stream",
          "text": [
            "Epoch 1/100\n",
            "58/58 [==============================] - 1649s 28s/step - loss: 0.7330 - accuracy: 0.8034 - val_loss: 0.3980 - val_accuracy: 0.8720\n",
            "Epoch 2/100\n",
            "58/58 [==============================] - 327s 6s/step - loss: 0.2341 - accuracy: 0.9150 - val_loss: 0.2108 - val_accuracy: 0.9176\n",
            "Epoch 3/100\n",
            "58/58 [==============================] - 325s 6s/step - loss: 0.1711 - accuracy: 0.9323 - val_loss: 0.2470 - val_accuracy: 0.8959\n",
            "Epoch 4/100\n",
            "58/58 [==============================] - 320s 6s/step - loss: 0.1847 - accuracy: 0.9345 - val_loss: 0.1994 - val_accuracy: 0.9523\n",
            "Epoch 5/100\n",
            "58/58 [==============================] - 319s 5s/step - loss: 0.1497 - accuracy: 0.9518 - val_loss: 0.1131 - val_accuracy: 0.9588\n",
            "Epoch 6/100\n",
            "58/58 [==============================] - 321s 6s/step - loss: 0.1300 - accuracy: 0.9626 - val_loss: 0.1742 - val_accuracy: 0.9436\n",
            "Epoch 7/100\n",
            "58/58 [==============================] - 323s 6s/step - loss: 0.1352 - accuracy: 0.9534 - val_loss: 0.1477 - val_accuracy: 0.9675\n",
            "Epoch 8/100\n",
            "58/58 [==============================] - 320s 6s/step - loss: 0.1064 - accuracy: 0.9626 - val_loss: 0.1652 - val_accuracy: 0.9631\n",
            "Epoch 9/100\n",
            "58/58 [==============================] - 320s 6s/step - loss: 0.1023 - accuracy: 0.9632 - val_loss: 0.2718 - val_accuracy: 0.9349\n",
            "Epoch 10/100\n",
            "58/58 [==============================] - 323s 6s/step - loss: 0.1126 - accuracy: 0.9615 - val_loss: 0.1427 - val_accuracy: 0.9566\n",
            "Epoch 11/100\n",
            "58/58 [==============================] - 327s 6s/step - loss: 0.0924 - accuracy: 0.9702 - val_loss: 0.1084 - val_accuracy: 0.9653\n",
            "Epoch 12/100\n",
            "58/58 [==============================] - 327s 6s/step - loss: 0.0816 - accuracy: 0.9675 - val_loss: 0.1291 - val_accuracy: 0.9566\n",
            "Epoch 13/100\n",
            "58/58 [==============================] - 327s 6s/step - loss: 0.1190 - accuracy: 0.9556 - val_loss: 0.0906 - val_accuracy: 0.9588\n",
            "Epoch 14/100\n",
            "58/58 [==============================] - 326s 6s/step - loss: 0.1033 - accuracy: 0.9615 - val_loss: 0.0932 - val_accuracy: 0.9610\n",
            "Epoch 15/100\n",
            "58/58 [==============================] - 331s 6s/step - loss: 0.0767 - accuracy: 0.9702 - val_loss: 0.0798 - val_accuracy: 0.9740\n",
            "Epoch 16/100\n",
            "58/58 [==============================] - 330s 6s/step - loss: 0.0816 - accuracy: 0.9713 - val_loss: 0.1637 - val_accuracy: 0.9501\n",
            "Epoch 17/100\n",
            "58/58 [==============================] - 328s 6s/step - loss: 0.0871 - accuracy: 0.9691 - val_loss: 0.0408 - val_accuracy: 0.9826\n",
            "Epoch 18/100\n",
            "58/58 [==============================] - 329s 6s/step - loss: 0.0904 - accuracy: 0.9675 - val_loss: 0.0803 - val_accuracy: 0.9696\n",
            "Epoch 19/100\n",
            "58/58 [==============================] - 330s 6s/step - loss: 0.0891 - accuracy: 0.9718 - val_loss: 0.1111 - val_accuracy: 0.9631\n",
            "Epoch 20/100\n",
            "58/58 [==============================] - 326s 6s/step - loss: 0.0853 - accuracy: 0.9697 - val_loss: 0.1126 - val_accuracy: 0.9566\n",
            "Epoch 21/100\n",
            "58/58 [==============================] - 325s 6s/step - loss: 0.0832 - accuracy: 0.9713 - val_loss: 0.1586 - val_accuracy: 0.9479\n",
            "Epoch 22/100\n",
            "58/58 [==============================] - 324s 6s/step - loss: 0.0684 - accuracy: 0.9751 - val_loss: 0.0577 - val_accuracy: 0.9761\n",
            "Epoch 23/100\n",
            "58/58 [==============================] - 327s 6s/step - loss: 0.0691 - accuracy: 0.9783 - val_loss: 0.0663 - val_accuracy: 0.9740\n",
            "Epoch 24/100\n",
            "58/58 [==============================] - 324s 6s/step - loss: 0.0767 - accuracy: 0.9745 - val_loss: 0.1245 - val_accuracy: 0.9523\n",
            "Epoch 25/100\n",
            "58/58 [==============================] - 324s 6s/step - loss: 0.0594 - accuracy: 0.9816 - val_loss: 0.1055 - val_accuracy: 0.9718\n",
            "Epoch 26/100\n",
            "58/58 [==============================] - 323s 6s/step - loss: 0.0597 - accuracy: 0.9800 - val_loss: 0.1677 - val_accuracy: 0.9544\n",
            "Epoch 27/100\n",
            "58/58 [==============================] - 323s 6s/step - loss: 0.0842 - accuracy: 0.9702 - val_loss: 0.0444 - val_accuracy: 0.9761\n",
            "Epoch 28/100\n",
            "58/58 [==============================] - 319s 5s/step - loss: 0.0904 - accuracy: 0.9702 - val_loss: 0.0407 - val_accuracy: 0.9826\n",
            "Epoch 29/100\n",
            "58/58 [==============================] - 319s 6s/step - loss: 0.0602 - accuracy: 0.9772 - val_loss: 0.0871 - val_accuracy: 0.9675\n",
            "Epoch 30/100\n",
            "58/58 [==============================] - 319s 6s/step - loss: 0.0708 - accuracy: 0.9718 - val_loss: 0.1281 - val_accuracy: 0.9675\n",
            "Epoch 31/100\n",
            "58/58 [==============================] - 321s 6s/step - loss: 0.0699 - accuracy: 0.9735 - val_loss: 0.0561 - val_accuracy: 0.9826\n",
            "Epoch 32/100\n",
            "58/58 [==============================] - 321s 6s/step - loss: 0.0534 - accuracy: 0.9794 - val_loss: 0.0825 - val_accuracy: 0.9761\n",
            "Epoch 33/100\n",
            "58/58 [==============================] - 320s 6s/step - loss: 0.0414 - accuracy: 0.9865 - val_loss: 0.1863 - val_accuracy: 0.9631\n",
            "Epoch 34/100\n",
            "58/58 [==============================] - 324s 6s/step - loss: 0.0672 - accuracy: 0.9740 - val_loss: 0.2435 - val_accuracy: 0.9328\n",
            "Epoch 35/100\n",
            "58/58 [==============================] - 320s 6s/step - loss: 0.0545 - accuracy: 0.9816 - val_loss: 0.0706 - val_accuracy: 0.9783\n",
            "Epoch 36/100\n",
            "58/58 [==============================] - 320s 6s/step - loss: 0.0519 - accuracy: 0.9859 - val_loss: 0.1665 - val_accuracy: 0.9458\n",
            "Epoch 37/100\n",
            "58/58 [==============================] - 318s 5s/step - loss: 0.0591 - accuracy: 0.9772 - val_loss: 0.0524 - val_accuracy: 0.9805\n",
            "Epoch 38/100\n",
            "58/58 [==============================] - 318s 5s/step - loss: 0.0515 - accuracy: 0.9837 - val_loss: 0.1097 - val_accuracy: 0.9566\n",
            "Epoch 39/100\n",
            "58/58 [==============================] - 319s 6s/step - loss: 0.0589 - accuracy: 0.9805 - val_loss: 0.1439 - val_accuracy: 0.9544\n",
            "Epoch 40/100\n",
            "58/58 [==============================] - 319s 5s/step - loss: 0.0529 - accuracy: 0.9827 - val_loss: 0.1031 - val_accuracy: 0.9588\n",
            "Epoch 41/100\n",
            "58/58 [==============================] - 318s 5s/step - loss: 0.0493 - accuracy: 0.9800 - val_loss: 0.0947 - val_accuracy: 0.9718\n",
            "Epoch 42/100\n",
            "58/58 [==============================] - 319s 5s/step - loss: 0.0577 - accuracy: 0.9794 - val_loss: 0.3439 - val_accuracy: 0.9284\n",
            "Epoch 43/100\n",
            "58/58 [==============================] - 319s 5s/step - loss: 0.0474 - accuracy: 0.9854 - val_loss: 0.0515 - val_accuracy: 0.9848\n",
            "Epoch 44/100\n",
            "58/58 [==============================] - 316s 5s/step - loss: 0.0520 - accuracy: 0.9805 - val_loss: 0.0570 - val_accuracy: 0.9761\n",
            "Epoch 45/100\n",
            "58/58 [==============================] - 316s 5s/step - loss: 0.0385 - accuracy: 0.9848 - val_loss: 0.1493 - val_accuracy: 0.9479\n",
            "Epoch 46/100\n",
            "58/58 [==============================] - 318s 5s/step - loss: 0.0483 - accuracy: 0.9827 - val_loss: 0.0703 - val_accuracy: 0.9740\n",
            "Epoch 47/100\n",
            "58/58 [==============================] - 317s 5s/step - loss: 0.0664 - accuracy: 0.9821 - val_loss: 0.0589 - val_accuracy: 0.9783\n",
            "Epoch 48/100\n",
            "58/58 [==============================] - 317s 5s/step - loss: 0.0532 - accuracy: 0.9821 - val_loss: 0.0520 - val_accuracy: 0.9805\n",
            "Epoch 49/100\n",
            "58/58 [==============================] - 316s 5s/step - loss: 0.0525 - accuracy: 0.9805 - val_loss: 0.5364 - val_accuracy: 0.8894\n",
            "Epoch 50/100\n",
            "58/58 [==============================] - 315s 5s/step - loss: 0.0500 - accuracy: 0.9832 - val_loss: 0.0670 - val_accuracy: 0.9826\n",
            "Epoch 51/100\n",
            "58/58 [==============================] - 314s 5s/step - loss: 0.0432 - accuracy: 0.9843 - val_loss: 0.0902 - val_accuracy: 0.9696\n",
            "Epoch 52/100\n",
            "58/58 [==============================] - 312s 5s/step - loss: 0.0430 - accuracy: 0.9816 - val_loss: 0.1171 - val_accuracy: 0.9696\n",
            "Epoch 53/100\n",
            "58/58 [==============================] - 314s 5s/step - loss: 0.0424 - accuracy: 0.9848 - val_loss: 0.0729 - val_accuracy: 0.9761\n",
            "Epoch 54/100\n",
            "58/58 [==============================] - 315s 5s/step - loss: 0.0369 - accuracy: 0.9870 - val_loss: 0.0827 - val_accuracy: 0.9783\n",
            "Epoch 55/100\n",
            "58/58 [==============================] - 314s 5s/step - loss: 0.0745 - accuracy: 0.9794 - val_loss: 0.2046 - val_accuracy: 0.9349\n",
            "Epoch 56/100\n",
            "58/58 [==============================] - 316s 5s/step - loss: 0.0487 - accuracy: 0.9827 - val_loss: 0.1520 - val_accuracy: 0.9631\n",
            "Epoch 57/100\n",
            "58/58 [==============================] - 318s 5s/step - loss: 0.0397 - accuracy: 0.9854 - val_loss: 0.0640 - val_accuracy: 0.9805\n",
            "Epoch 58/100\n",
            "58/58 [==============================] - 316s 5s/step - loss: 0.0385 - accuracy: 0.9892 - val_loss: 0.1287 - val_accuracy: 0.9588\n",
            "Epoch 59/100\n",
            "58/58 [==============================] - 319s 5s/step - loss: 0.0334 - accuracy: 0.9902 - val_loss: 0.0416 - val_accuracy: 0.9892\n",
            "Epoch 60/100\n",
            "58/58 [==============================] - 316s 5s/step - loss: 0.0350 - accuracy: 0.9892 - val_loss: 0.0512 - val_accuracy: 0.9826\n",
            "Epoch 61/100\n",
            "58/58 [==============================] - 315s 5s/step - loss: 0.0371 - accuracy: 0.9870 - val_loss: 0.1005 - val_accuracy: 0.9740\n",
            "Epoch 62/100\n",
            "58/58 [==============================] - 314s 5s/step - loss: 0.0497 - accuracy: 0.9859 - val_loss: 0.0545 - val_accuracy: 0.9805\n",
            "Epoch 63/100\n",
            "58/58 [==============================] - 315s 5s/step - loss: 0.0333 - accuracy: 0.9902 - val_loss: 0.0506 - val_accuracy: 0.9848\n",
            "Epoch 64/100\n",
            "58/58 [==============================] - 314s 5s/step - loss: 0.0433 - accuracy: 0.9854 - val_loss: 0.0638 - val_accuracy: 0.9740\n",
            "Epoch 65/100\n",
            "58/58 [==============================] - 312s 5s/step - loss: 0.0268 - accuracy: 0.9902 - val_loss: 0.0457 - val_accuracy: 0.9805\n",
            "Epoch 66/100\n",
            "58/58 [==============================] - 313s 5s/step - loss: 0.0346 - accuracy: 0.9875 - val_loss: 0.0316 - val_accuracy: 0.9892\n",
            "Epoch 67/100\n",
            "58/58 [==============================] - 316s 5s/step - loss: 0.0402 - accuracy: 0.9875 - val_loss: 0.0355 - val_accuracy: 0.9870\n",
            "Epoch 68/100\n",
            "58/58 [==============================] - 313s 5s/step - loss: 0.0512 - accuracy: 0.9848 - val_loss: 0.1160 - val_accuracy: 0.9588\n",
            "Epoch 69/100\n",
            "58/58 [==============================] - 313s 5s/step - loss: 0.0345 - accuracy: 0.9848 - val_loss: 0.1182 - val_accuracy: 0.9696\n",
            "Epoch 70/100\n",
            "58/58 [==============================] - 314s 5s/step - loss: 0.0283 - accuracy: 0.9902 - val_loss: 0.0508 - val_accuracy: 0.9870\n",
            "Epoch 71/100\n",
            "58/58 [==============================] - 312s 5s/step - loss: 0.0354 - accuracy: 0.9875 - val_loss: 0.0936 - val_accuracy: 0.9675\n",
            "Epoch 72/100\n",
            "58/58 [==============================] - 312s 5s/step - loss: 0.0485 - accuracy: 0.9816 - val_loss: 0.0424 - val_accuracy: 0.9805\n",
            "Epoch 73/100\n",
            "58/58 [==============================] - 312s 5s/step - loss: 0.0499 - accuracy: 0.9859 - val_loss: 0.0383 - val_accuracy: 0.9870\n",
            "Epoch 74/100\n",
            "58/58 [==============================] - 312s 5s/step - loss: 0.0457 - accuracy: 0.9843 - val_loss: 0.0434 - val_accuracy: 0.9826\n",
            "Epoch 75/100\n",
            "58/58 [==============================] - 311s 5s/step - loss: 0.0400 - accuracy: 0.9854 - val_loss: 0.0284 - val_accuracy: 0.9913\n",
            "Epoch 76/100\n",
            "58/58 [==============================] - 310s 5s/step - loss: 0.0198 - accuracy: 0.9919 - val_loss: 0.0527 - val_accuracy: 0.9913\n",
            "Epoch 77/100\n",
            "58/58 [==============================] - 317s 5s/step - loss: 0.0390 - accuracy: 0.9865 - val_loss: 0.0699 - val_accuracy: 0.9696\n",
            "Epoch 78/100\n",
            "58/58 [==============================] - 311s 5s/step - loss: 0.0474 - accuracy: 0.9902 - val_loss: 0.0817 - val_accuracy: 0.9761\n",
            "Epoch 79/100\n",
            "58/58 [==============================] - 310s 5s/step - loss: 0.0508 - accuracy: 0.9816 - val_loss: 0.0916 - val_accuracy: 0.9675\n",
            "Epoch 80/100\n",
            "58/58 [==============================] - 311s 5s/step - loss: 0.0327 - accuracy: 0.9902 - val_loss: 0.0732 - val_accuracy: 0.9718\n",
            "Epoch 81/100\n",
            "58/58 [==============================] - 310s 5s/step - loss: 0.0284 - accuracy: 0.9913 - val_loss: 0.0594 - val_accuracy: 0.9783\n",
            "Epoch 82/100\n",
            "58/58 [==============================] - 311s 5s/step - loss: 0.0306 - accuracy: 0.9892 - val_loss: 0.0201 - val_accuracy: 0.9978\n",
            "Epoch 83/100\n",
            "58/58 [==============================] - 314s 5s/step - loss: 0.0296 - accuracy: 0.9902 - val_loss: 0.0351 - val_accuracy: 0.9870\n",
            "Epoch 84/100\n",
            "58/58 [==============================] - 312s 5s/step - loss: 0.0349 - accuracy: 0.9897 - val_loss: 0.0770 - val_accuracy: 0.9740\n",
            "Epoch 85/100\n",
            "58/58 [==============================] - 310s 5s/step - loss: 0.0301 - accuracy: 0.9913 - val_loss: 0.0810 - val_accuracy: 0.9740\n",
            "Epoch 86/100\n",
            "58/58 [==============================] - 311s 5s/step - loss: 0.0338 - accuracy: 0.9902 - val_loss: 0.0338 - val_accuracy: 0.9892\n",
            "Epoch 87/100\n",
            "58/58 [==============================] - 311s 5s/step - loss: 0.0288 - accuracy: 0.9892 - val_loss: 0.0783 - val_accuracy: 0.9740\n",
            "Epoch 88/100\n",
            "58/58 [==============================] - 313s 5s/step - loss: 0.0385 - accuracy: 0.9870 - val_loss: 0.0318 - val_accuracy: 0.9913\n",
            "Epoch 89/100\n",
            "58/58 [==============================] - 313s 5s/step - loss: 0.0333 - accuracy: 0.9886 - val_loss: 0.0354 - val_accuracy: 0.9892\n",
            "Epoch 90/100\n",
            "58/58 [==============================] - 313s 5s/step - loss: 0.0263 - accuracy: 0.9892 - val_loss: 0.0884 - val_accuracy: 0.9718\n",
            "Epoch 91/100\n",
            "58/58 [==============================] - 313s 5s/step - loss: 0.0225 - accuracy: 0.9908 - val_loss: 0.0789 - val_accuracy: 0.9740\n",
            "Epoch 92/100\n",
            "58/58 [==============================] - 314s 5s/step - loss: 0.0361 - accuracy: 0.9886 - val_loss: 0.0263 - val_accuracy: 0.9870\n",
            "Epoch 93/100\n",
            "58/58 [==============================] - 316s 5s/step - loss: 0.0351 - accuracy: 0.9886 - val_loss: 0.0702 - val_accuracy: 0.9805\n",
            "Epoch 94/100\n",
            "58/58 [==============================] - 314s 5s/step - loss: 0.0170 - accuracy: 0.9919 - val_loss: 0.0453 - val_accuracy: 0.9913\n",
            "Epoch 95/100\n",
            "58/58 [==============================] - 315s 5s/step - loss: 0.0304 - accuracy: 0.9892 - val_loss: 0.0964 - val_accuracy: 0.9740\n",
            "Epoch 96/100\n",
            "58/58 [==============================] - 314s 5s/step - loss: 0.0305 - accuracy: 0.9902 - val_loss: 0.7056 - val_accuracy: 0.8525\n",
            "Epoch 97/100\n",
            "58/58 [==============================] - 315s 5s/step - loss: 0.0499 - accuracy: 0.9837 - val_loss: 0.0545 - val_accuracy: 0.9848\n",
            "Epoch 98/100\n",
            "58/58 [==============================] - 314s 5s/step - loss: 0.0245 - accuracy: 0.9908 - val_loss: 0.0388 - val_accuracy: 0.9848\n",
            "Epoch 99/100\n",
            "58/58 [==============================] - 315s 5s/step - loss: 0.0249 - accuracy: 0.9946 - val_loss: 0.0258 - val_accuracy: 0.9848\n",
            "Epoch 100/100\n",
            "58/58 [==============================] - 315s 5s/step - loss: 0.0237 - accuracy: 0.9902 - val_loss: 0.0864 - val_accuracy: 0.9805\n"
          ],
          "name": "stdout"
        },
        {
          "output_type": "display_data",
          "data": {
            "image/png": "[encoded data removed]",
            "text/plain": [
              "<Figure size 432x288 with 1 Axes>"
            ]
          },
          "metadata": {
            "tags": [],
            "needs_background": "light"
          }
        },
        {
          "output_type": "display_data",
          "data": {
            "image/png": "[encoded data removed]",
            "text/plain": [
              "<Figure size 432x288 with 1 Axes>"
            ]
          },
          "metadata": {
            "tags": [],
            "needs_background": "light"
          }
        },
        {
          "output_type": "stream",
          "text": [
            "CPU times: user 16h 42min 51s, sys: 13min 20s, total: 16h 56min 11s\n",
            "Wall time: 9h 24min 13s\n"
          ],
          "name": "stdout"
        }
      ]
    },
    {
      "cell_type": "code",
      "metadata": {
        "id": "UvVVw7tniX3j"
      },
      "source": [
        "    %matplotlib inline\n",
        "from sklearn.metrics import confusion_matrix\n",
        "import itertools\n",
        "import matplotlib.pyplot as plt\n",
        "import numpy as np"
      ],
      "execution_count": 9,
      "outputs": []
    },
    {
      "cell_type": "code",
      "metadata": {
        "colab": {
          "base_uri": "https://localhost:8080/",
          "height": 1000
        },
        "id": "vnG0cC4tiXkh",
        "outputId": "7f49d9b7-49e3-4902-a01d-47a4defd934e"
      },
      "source": [
        "%%time\n",
        "Evaluate_CNN_Model()"
      ],
      "execution_count": 10,
      "outputs": [
        {
          "output_type": "stream",
          "text": [
            "Found 139 images belonging to 2 classes.\n",
            "WARNING:tensorflow:From <ipython-input-7-3dec08f6483e>:24: Model.predict_generator (from tensorflow.python.keras.engine.training) is deprecated and will be removed in a future version.\n",
            "Instructions for updating:\n",
            "Please use Model.predict, which supports generators.\n"
          ],
          "name": "stdout"
        },
        {
          "output_type": "stream",
          "text": [
            "/usr/local/lib/python3.6/dist-packages/keras_preprocessing/image/image_data_generator.py:720: UserWarning: This ImageDataGenerator specifies `featurewise_center`, but it hasn't been fit on any training data. Fit it first by calling `.fit(numpy_data)`.\n",
            "  warnings.warn('This ImageDataGenerator specifies '\n",
            "/usr/local/lib/python3.6/dist-packages/keras_preprocessing/image/image_data_generator.py:728: UserWarning: This ImageDataGenerator specifies `featurewise_std_normalization`, but it hasn't been fit on any training data. Fit it first by calling `.fit(numpy_data)`.\n",
            "  warnings.warn('This ImageDataGenerator specifies '\n"
          ],
          "name": "stderr"
        },
        {
          "output_type": "stream",
          "text": [
            "5/5 [==============================] - 86s 17s/step\n"
          ],
          "name": "stdout"
        },
        {
          "output_type": "stream",
          "text": [
            "No handles with labels found to put in legend.\n"
          ],
          "name": "stderr"
        },
        {
          "output_type": "stream",
          "text": [
            "\n",
            "Confusion Matrix\n",
            " -------------------------\n",
            "[[70  0]\n",
            " [ 4 65]]\n",
            "Accuracy: 0.971223\n",
            "Precision: 1.000000\n",
            "Recall: 0.942029\n",
            "F1 score: 0.970149\n",
            "ROC AUC: 0.993168\n"
          ],
          "name": "stdout"
        },
        {
          "output_type": "display_data",
          "data": {
            "image/png": "[encoded data removed]",
            "text/plain": [
              "<Figure size 432x288 with 1 Axes>"
            ]
          },
          "metadata": {
            "tags": [],
            "needs_background": "light"
          }
        },
        {
          "output_type": "stream",
          "text": [
            "CPU times: user 15 s, sys: 4.1 s, total: 19.2 s\n",
            "Wall time: 2min 6s\n"
          ],
          "name": "stdout"
        },
        {
          "output_type": "display_data",
          "data": {
            "image/png": "[encoded data removed]",
            "text/plain": [
              "<Figure size 432x288 with 2 Axes>"
            ]
          },
          "metadata": {
            "tags": [],
            "needs_background": "light"
          }
        }
      ]
    }
  ]
}