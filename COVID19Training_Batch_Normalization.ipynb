{
  "nbformat": 4,
  "nbformat_minor": 0,
  "metadata": {
    "colab": {
      "name": "COVID19Training_Batch Normalization.ipynb",
      "provenance": [],
      "collapsed_sections": [],
      "toc_visible": true,
      "include_colab_link": true
    },
    "kernelspec": {
      "name": "python3",
      "display_name": "Python 3"
    },
    "accelerator": "GPU"
  },
  "cells": [
    {
      "cell_type": "markdown",
      "metadata": {
        "id": "view-in-github",
        "colab_type": "text"
      },
      "source": [
        "<a href=\"https://colab.research.google.com/github/rachitgithub/Covid-Detection/blob/main/COVID19Training_Batch_Normalization.ipynb\" target=\"_parent\"><img src=\"https://colab.research.google.com/assets/colab-badge.svg\" alt=\"Open In Colab\"/></a>"
      ]
    },
    {
      "cell_type": "markdown",
      "metadata": {
        "id": "-gyKOi8EPITT"
      },
      "source": [
        "# **Install TensorFlow GPU**"
      ]
    },
    {
      "cell_type": "code",
      "metadata": {
        "id": "UboFrn87qNVe"
      },
      "source": [
        "!pip install tensorflow-gpu"
      ],
      "execution_count": null,
      "outputs": []
    },
    {
      "cell_type": "markdown",
      "metadata": {
        "id": "FLc0x1XRPPVm"
      },
      "source": [
        "# **Import GDRIVE**"
      ]
    },
    {
      "cell_type": "code",
      "metadata": {
        "colab": {
          "base_uri": "https://localhost:8080/"
        },
        "id": "2SXklTJgqQyV",
        "outputId": "0a88ad13-6328-41c6-f3c7-9e969ee20d4b"
      },
      "source": [
        "from google.colab import drive\n",
        "drive.mount('/content/drive')"
      ],
      "execution_count": 2,
      "outputs": [
        {
          "output_type": "stream",
          "text": [
            "Mounted at /content/drive\n"
          ],
          "name": "stdout"
        }
      ]
    },
    {
      "cell_type": "markdown",
      "metadata": {
        "id": "M55jhmwBPTGp"
      },
      "source": [
        "# **Import Tensor Flow**"
      ]
    },
    {
      "cell_type": "code",
      "metadata": {
        "colab": {
          "base_uri": "https://localhost:8080/"
        },
        "id": "yPOllQPgqUky",
        "outputId": "5a8eb055-39fe-4be4-e6ce-7f370be8eb10"
      },
      "source": [
        "import tensorflow as tf\n",
        "tf.test.gpu_device_name()\n",
        "print(tf.__version__)"
      ],
      "execution_count": 3,
      "outputs": [
        {
          "output_type": "stream",
          "text": [
            "2.3.1\n"
          ],
          "name": "stdout"
        }
      ]
    },
    {
      "cell_type": "markdown",
      "metadata": {
        "id": "qf3UaO-sPXkz"
      },
      "source": [
        "# **Import Keras Libraries**"
      ]
    },
    {
      "cell_type": "code",
      "metadata": {
        "id": "O6d6JctTqdW2"
      },
      "source": [
        "from keras.models import Sequential,load_model\n",
        "from keras.layers import Conv2D,Activation, MaxPooling2D,Dense,Flatten,BatchNormalization\n",
        "from keras.optimizers import Adam\n",
        "from keras.preprocessing.image import ImageDataGenerator\n",
        "from sklearn.metrics import accuracy_score,roc_curve,confusion_matrix,precision_score,recall_score,f1_score,roc_auc_score\n",
        "import matplotlib.pyplot as plt\n",
        "import matplotlib.pyplot as plt_False_Positive_vs_True_Positive"
      ],
      "execution_count": 4,
      "outputs": []
    },
    {
      "cell_type": "markdown",
      "metadata": {
        "id": "BoGghyDrPcMl"
      },
      "source": [
        "# **Build Sequential Batch Normalization CNN Model**\n",
        "\n"
      ]
    },
    {
      "cell_type": "code",
      "metadata": {
        "id": "NHfmSsyapGlw"
      },
      "source": [
        "def Build_CNN_Model():\n",
        "    \n",
        "    # -------------------------------------------------------------------------\n",
        "    #                        Build CNN Model \n",
        "    # -------------------------------------------------------------------------\n",
        "    model = Sequential()\n",
        "    \n",
        "    #  First Block of CNN\n",
        "    model.add(Conv2D(8, (5, 5), padding='same', input_shape=(224, 224, 3)))  \n",
        "    model.add(Activation('relu'))\n",
        "    model.add(MaxPooling2D((2, 2)))\n",
        "    \n",
        "    #  Second Block of CNN\n",
        "    model.add(Conv2D(8, (3, 3),  padding='same'))  \n",
        "    model.add(Activation('relu'))\n",
        "    model.add(MaxPooling2D((2, 2)))\n",
        "\n",
        "    #  Third Block of CNN\n",
        "    model.add(Conv2D(16, (3, 3),  padding='same'))  \n",
        "    model.add(Activation('relu'))\n",
        "\n",
        "\n",
        "    #  Forth Block of CNN\n",
        "    model.add(Conv2D(16, (3, 3),  padding='same'))  \n",
        "    model.add(Activation('relu'))\n",
        "    model.add(BatchNormalization())\n",
        "    model.add(MaxPooling2D((2, 2)))\n",
        "    \n",
        "    \n",
        "    #  Flatten and Fully Connected Layer\n",
        "    model.add(Flatten())\n",
        "    model.add(Dense(10))\n",
        "    model.add(Activation('relu'))\n",
        "     \n",
        "    #  Softmax Classifier\n",
        "    model.add(Dense(2))\n",
        "    model.add(Activation('softmax'))\n",
        "        \n",
        "    #  Display model\n",
        "    model.summary()\n",
        "    \n",
        "\t# compile model\n",
        "\n",
        "    opt = Adam(learning_rate=0.001, beta_1=0.9, beta_2=0.999)\n",
        "    model.compile(optimizer=opt, loss='categorical_crossentropy', metrics=['accuracy'])\n",
        "    \n",
        "    return model \n"
      ],
      "execution_count": 5,
      "outputs": []
    },
    {
      "cell_type": "markdown",
      "metadata": {
        "id": "JqlNTD0lUS1h"
      },
      "source": [
        "# **Train Sequential Batch Normalization CNN Model**"
      ]
    },
    {
      "cell_type": "code",
      "metadata": {
        "id": "DHilYg3RUOsG"
      },
      "source": [
        "# train and evalluate cnn model\n",
        "def Train_CNN_Model(model):\n",
        "    \n",
        "    # -------------------------------------------------------------------------\n",
        "    #                        Train CNN Model \n",
        "    # -------------------------------------------------------------------------\n",
        "    \n",
        "    \n",
        "    # create data generators    \n",
        "    train_datagen = ImageDataGenerator(\n",
        "                                     rescale=1.0/255.0,\n",
        "                                     featurewise_center= True,\n",
        "                                     featurewise_std_normalization = True,\n",
        "                                     rotation_range=10,\n",
        "                                     width_shift_range=0.1,\n",
        "                                     height_shift_range=0.1,\n",
        "                                     zoom_range=0.2,                                     \n",
        "                                     brightness_range=[0.2,1.0],\n",
        "                                     )\n",
        "    \n",
        "    valid_datagen = ImageDataGenerator(\n",
        "                                     rescale=1.0/255.0,\n",
        "                                     featurewise_center= True,\n",
        "                                     featurewise_std_normalization = True)\n",
        "    \n",
        "  \n",
        "   \n",
        "    # prepare iterators\n",
        "    batch_size=32\n",
        "    train_it = train_datagen.flow_from_directory('/content/drive/MyDrive/COVID-19-Deep-Learning-Project-Colab/Dataset/train/',classes =('Normal','Covid'),batch_size=batch_size, target_size=(224, 224))\n",
        "    valid_it = valid_datagen.flow_from_directory('/content/drive/MyDrive/COVID-19-Deep-Learning-Project-Colab/Dataset/val/',classes =('Normal','Covid'),batch_size=batch_size, target_size=(224, 224))\n",
        "\n",
        "\n",
        "    epochs=100;\n",
        "    \n",
        "    history = model.fit_generator(train_it, steps_per_epoch=len(train_it),\n",
        "\t\tvalidation_data=valid_it, validation_steps=len(valid_it), epochs=epochs, verbose=1)\n",
        "    \n",
        "    \n",
        "    #  \"Accuracy\"\n",
        "    plt.plot(history.history['accuracy'])\n",
        "    plt.plot(history.history['val_accuracy'])\n",
        "    plt.title('model accuracy')\n",
        "    plt.ylabel('accuracy')\n",
        "    plt.xlabel('epoch')\n",
        "    plt.legend(['train', 'validation'], loc='upper left')\n",
        "    plt.show()\n",
        "    \n",
        "    # \"Loss\"\n",
        "    plt.plot(history.history['loss'])\n",
        "    plt.plot(history.history['val_loss'])\n",
        "    plt.title('model loss')\n",
        "    plt.ylabel('loss')\n",
        "    plt.xlabel('epoch')\n",
        "    plt.legend(['train', 'validation'], loc='upper left')\n",
        "    plt.show()\n",
        "\n",
        "\t# save model\n",
        "    model.save('/content/drive/MyDrive/COVID-19-Deep-Learning-Project-Colab/saved_models/CoVID19-sequential-batch-normalization_cnn_model.h5')"
      ],
      "execution_count": 6,
      "outputs": []
    },
    {
      "cell_type": "markdown",
      "metadata": {
        "id": "akk2CJw7Pp6O"
      },
      "source": [
        "# **Evaluate Batch Normalization Sequential CNN Model**\n"
      ]
    },
    {
      "cell_type": "code",
      "metadata": {
        "id": "5eW1T2Ekq5MM"
      },
      "source": [
        "def Evaluate_CNN_Model():\n",
        "    # -------------------------------------------------------------------------\n",
        "    #                        Evaluate CNN Model \n",
        "    # -------------------------------------------------------------------------\n",
        "    \n",
        "    # load model\n",
        "    model = load_model('/content/drive/MyDrive/COVID-19-Deep-Learning-Project-Colab/saved_models/CoVID19-sequential-batch-normalization_cnn_model.h5')\n",
        "    \n",
        "    # load test data\n",
        "    batch_size=32\n",
        "    test_datagen = ImageDataGenerator(\n",
        "                                     rescale=1.0/255.0,\n",
        "                                     featurewise_center= True,\n",
        "                                     featurewise_std_normalization = True)\n",
        "    \n",
        "    \n",
        "    test_it = test_datagen.flow_from_directory('/content/drive/MyDrive/COVID-19-Deep-Learning-Project-Colab/Dataset/test/',classes =('Normal','Covid'), \n",
        "                                               shuffle=False,batch_size=batch_size, target_size=(224, 224))\n",
        "    \n",
        "    \n",
        "    y_true = test_it.classes;\n",
        "\n",
        "    y_pred = model.predict_generator(test_it, steps=len(test_it), verbose=1)\n",
        "\n",
        "    \n",
        "    y_pred_prob = y_pred[:,1]\n",
        "\n",
        "     \n",
        "    y_pred_binary =  y_pred_prob > 0.5\n",
        "   \n",
        "    #Confution Matrix    \n",
        "    print('\\nConfusion Matrix\\n -------------------------')    \n",
        "    print(confusion_matrix(y_true,y_pred_binary));\n",
        "    \n",
        "    # accuracy: (tp + tn) / (p + n)\n",
        "    accuracy = accuracy_score(y_true, y_pred_binary)\n",
        "    print('Accuracy: %f' % accuracy)\n",
        "    \n",
        "    \n",
        "    # precision tp / (tp + fp)\n",
        "    precision = precision_score(y_true, y_pred_binary)\n",
        "    print('Precision: %f' % precision)\n",
        "    \n",
        "    # recall: tp / (tp + fn)\n",
        "    recall = recall_score(y_true, y_pred_binary)\n",
        "    print('Recall: %f' % recall)\n",
        "    \n",
        "    # f1: 2 tp / (2 tp + fp + fn)\n",
        "    f1 = f1_score(y_true, y_pred_binary)\n",
        "    print('F1 score: %f' % f1)    \n",
        "       \n",
        "    # ROC AUC\n",
        "    auc = roc_auc_score(y_true, y_pred_prob)\n",
        "    print('ROC AUC: %f' % auc)\n",
        "    \n",
        "    \n",
        "    # calculate roc curves\n",
        "    fpr, tpr, _ = roc_curve(y_true, y_pred_prob)\n",
        "        \n",
        "    # plot the roc curve for the model\n",
        "    plt.figure()\n",
        "    plt_False_Positive_vs_True_Positive.plot(fpr, tpr, linestyle='--', label='')\n",
        "    \n",
        "    # axis labels\n",
        "    plt_False_Positive_vs_True_Positive.xlabel('False Positive Rate')\n",
        "    plt_False_Positive_vs_True_Positive.ylabel('True Positive Rate')\n",
        "       \n",
        "    # show the legend\n",
        "    plt_False_Positive_vs_True_Positive.legend()\n",
        "    # show the plot\n",
        "    plt_False_Positive_vs_True_Positive.show()  \n",
        "\n",
        "          #for plotting CM graph\n",
        "    cm = confusion_matrix(y_true,y_pred_binary)\n",
        "\n",
        "    def plot_confusion_matrix(cm, classes,\n",
        "                        normalize=False,\n",
        "                        title='Confusion matrix for Batch Normalized CNN',\n",
        "                        cmap=plt.cm.PiYG):\n",
        " \n",
        "      plt.imshow(cm, interpolation='nearest', cmap=cmap)\n",
        "      plt.title(title)\n",
        "      plt.colorbar()\n",
        "      tick_marks = np.arange(len(classes))\n",
        "      plt.xticks(tick_marks, classes, rotation=45)\n",
        "      plt.yticks(tick_marks, classes)\n",
        "\n",
        "\n",
        "\n",
        "    thresh = cm.max() / 2.\n",
        "    for i, j in itertools.product(range(cm.shape[0]), range(cm.shape[1])):\n",
        "        plt.text(j, i, cm[i, j],\n",
        "            horizontalalignment=\"center\",\n",
        "            color=\"white\" if cm[i, j] > thresh else \"black\")\n",
        "\n",
        "    plt.tight_layout()\n",
        "    plt.ylabel('Predicted Values')\n",
        "    plt.xlabel('True Values')\n",
        "    cm_plot_labels = ['No Covid','Has Covid']\n",
        "    plot_confusion_matrix(cm=cm, classes=cm_plot_labels, title='Confusion matrix for Batch Normalized CNN')\n",
        "\n",
        "    "
      ],
      "execution_count": 7,
      "outputs": []
    },
    {
      "cell_type": "code",
      "metadata": {
        "colab": {
          "base_uri": "https://localhost:8080/",
          "height": 1000
        },
        "id": "PqwwYBQsqysR",
        "outputId": "cdc3ca33-2404-41e4-84f8-7ceeadfe7ef9"
      },
      "source": [
        "%%time\n",
        "# main entry\n",
        "    \n",
        "model = Build_CNN_Model()\n",
        "\n",
        "Train_CNN_Model(model)"
      ],
      "execution_count": 8,
      "outputs": [
        {
          "output_type": "stream",
          "text": [
            "Model: \"sequential\"\n",
            "_________________________________________________________________\n",
            "Layer (type)                 Output Shape              Param #   \n",
            "=================================================================\n",
            "conv2d (Conv2D)              (None, 224, 224, 8)       608       \n",
            "_________________________________________________________________\n",
            "activation (Activation)      (None, 224, 224, 8)       0         \n",
            "_________________________________________________________________\n",
            "max_pooling2d (MaxPooling2D) (None, 112, 112, 8)       0         \n",
            "_________________________________________________________________\n",
            "conv2d_1 (Conv2D)            (None, 112, 112, 8)       584       \n",
            "_________________________________________________________________\n",
            "activation_1 (Activation)    (None, 112, 112, 8)       0         \n",
            "_________________________________________________________________\n",
            "max_pooling2d_1 (MaxPooling2 (None, 56, 56, 8)         0         \n",
            "_________________________________________________________________\n",
            "conv2d_2 (Conv2D)            (None, 56, 56, 16)        1168      \n",
            "_________________________________________________________________\n",
            "activation_2 (Activation)    (None, 56, 56, 16)        0         \n",
            "_________________________________________________________________\n",
            "conv2d_3 (Conv2D)            (None, 56, 56, 16)        2320      \n",
            "_________________________________________________________________\n",
            "activation_3 (Activation)    (None, 56, 56, 16)        0         \n",
            "_________________________________________________________________\n",
            "batch_normalization (BatchNo (None, 56, 56, 16)        64        \n",
            "_________________________________________________________________\n",
            "max_pooling2d_2 (MaxPooling2 (None, 28, 28, 16)        0         \n",
            "_________________________________________________________________\n",
            "flatten (Flatten)            (None, 12544)             0         \n",
            "_________________________________________________________________\n",
            "dense (Dense)                (None, 10)                125450    \n",
            "_________________________________________________________________\n",
            "activation_4 (Activation)    (None, 10)                0         \n",
            "_________________________________________________________________\n",
            "dense_1 (Dense)              (None, 2)                 22        \n",
            "_________________________________________________________________\n",
            "activation_5 (Activation)    (None, 2)                 0         \n",
            "=================================================================\n",
            "Total params: 130,216\n",
            "Trainable params: 130,184\n",
            "Non-trainable params: 32\n",
            "_________________________________________________________________\n",
            "Found 1846 images belonging to 2 classes.\n",
            "Found 461 images belonging to 2 classes.\n",
            "WARNING:tensorflow:From <ipython-input-6-60a75398a8d4>:37: Model.fit_generator (from tensorflow.python.keras.engine.training) is deprecated and will be removed in a future version.\n",
            "Instructions for updating:\n",
            "Please use Model.fit, which supports generators.\n"
          ],
          "name": "stdout"
        },
        {
          "output_type": "stream",
          "text": [
            "/usr/local/lib/python3.6/dist-packages/keras_preprocessing/image/image_data_generator.py:720: UserWarning: This ImageDataGenerator specifies `featurewise_center`, but it hasn't been fit on any training data. Fit it first by calling `.fit(numpy_data)`.\n",
            "  warnings.warn('This ImageDataGenerator specifies '\n",
            "/usr/local/lib/python3.6/dist-packages/keras_preprocessing/image/image_data_generator.py:728: UserWarning: This ImageDataGenerator specifies `featurewise_std_normalization`, but it hasn't been fit on any training data. Fit it first by calling `.fit(numpy_data)`.\n",
            "  warnings.warn('This ImageDataGenerator specifies '\n"
          ],
          "name": "stderr"
        },
        {
          "output_type": "stream",
          "text": [
            "Epoch 1/100\n",
            "58/58 [==============================] - 1262s 22s/step - loss: 0.2851 - accuracy: 0.8879 - val_loss: 0.5329 - val_accuracy: 0.9458\n",
            "Epoch 2/100\n",
            "58/58 [==============================] - 88s 2s/step - loss: 0.1875 - accuracy: 0.9307 - val_loss: 0.5325 - val_accuracy: 0.9544\n",
            "Epoch 3/100\n",
            "58/58 [==============================] - 89s 2s/step - loss: 0.1488 - accuracy: 0.9415 - val_loss: 0.4485 - val_accuracy: 0.9761\n",
            "Epoch 4/100\n",
            "58/58 [==============================] - 87s 2s/step - loss: 0.1596 - accuracy: 0.9399 - val_loss: 0.3692 - val_accuracy: 0.9566\n",
            "Epoch 5/100\n",
            "58/58 [==============================] - 91s 2s/step - loss: 0.1490 - accuracy: 0.9447 - val_loss: 0.2602 - val_accuracy: 0.9631\n",
            "Epoch 6/100\n",
            "58/58 [==============================] - 90s 2s/step - loss: 0.1193 - accuracy: 0.9545 - val_loss: 0.2015 - val_accuracy: 0.9610\n",
            "Epoch 7/100\n",
            "58/58 [==============================] - 90s 2s/step - loss: 0.1198 - accuracy: 0.9567 - val_loss: 0.1181 - val_accuracy: 0.9805\n",
            "Epoch 8/100\n",
            "58/58 [==============================] - 89s 2s/step - loss: 0.1033 - accuracy: 0.9626 - val_loss: 0.1076 - val_accuracy: 0.9740\n",
            "Epoch 9/100\n",
            "58/58 [==============================] - 88s 2s/step - loss: 0.0974 - accuracy: 0.9621 - val_loss: 0.0950 - val_accuracy: 0.9675\n",
            "Epoch 10/100\n",
            "58/58 [==============================] - 86s 1s/step - loss: 0.0915 - accuracy: 0.9686 - val_loss: 0.1061 - val_accuracy: 0.9696\n",
            "Epoch 11/100\n",
            "58/58 [==============================] - 86s 1s/step - loss: 0.0970 - accuracy: 0.9632 - val_loss: 0.1611 - val_accuracy: 0.9414\n",
            "Epoch 12/100\n",
            "58/58 [==============================] - 86s 1s/step - loss: 0.0907 - accuracy: 0.9653 - val_loss: 0.0504 - val_accuracy: 0.9826\n",
            "Epoch 13/100\n",
            "58/58 [==============================] - 85s 1s/step - loss: 0.0818 - accuracy: 0.9707 - val_loss: 0.1179 - val_accuracy: 0.9675\n",
            "Epoch 14/100\n",
            "58/58 [==============================] - 85s 1s/step - loss: 0.0706 - accuracy: 0.9756 - val_loss: 0.0854 - val_accuracy: 0.9805\n",
            "Epoch 15/100\n",
            "58/58 [==============================] - 86s 1s/step - loss: 0.1043 - accuracy: 0.9621 - val_loss: 0.0585 - val_accuracy: 0.9761\n",
            "Epoch 16/100\n",
            "58/58 [==============================] - 85s 1s/step - loss: 0.0978 - accuracy: 0.9632 - val_loss: 0.1199 - val_accuracy: 0.9588\n",
            "Epoch 17/100\n",
            "58/58 [==============================] - 84s 1s/step - loss: 0.0771 - accuracy: 0.9713 - val_loss: 0.0640 - val_accuracy: 0.9805\n",
            "Epoch 18/100\n",
            "58/58 [==============================] - 85s 1s/step - loss: 0.0693 - accuracy: 0.9756 - val_loss: 0.1468 - val_accuracy: 0.9544\n",
            "Epoch 19/100\n",
            "58/58 [==============================] - 85s 1s/step - loss: 0.0779 - accuracy: 0.9675 - val_loss: 0.1230 - val_accuracy: 0.9718\n",
            "Epoch 20/100\n",
            "58/58 [==============================] - 85s 1s/step - loss: 0.0750 - accuracy: 0.9756 - val_loss: 0.1159 - val_accuracy: 0.9740\n",
            "Epoch 21/100\n",
            "58/58 [==============================] - 85s 1s/step - loss: 0.0628 - accuracy: 0.9735 - val_loss: 0.1244 - val_accuracy: 0.9761\n",
            "Epoch 22/100\n",
            "58/58 [==============================] - 85s 1s/step - loss: 0.0796 - accuracy: 0.9691 - val_loss: 0.0842 - val_accuracy: 0.9761\n",
            "Epoch 23/100\n",
            "58/58 [==============================] - 85s 1s/step - loss: 0.0712 - accuracy: 0.9745 - val_loss: 0.2093 - val_accuracy: 0.9631\n",
            "Epoch 24/100\n",
            "58/58 [==============================] - 86s 1s/step - loss: 0.0470 - accuracy: 0.9821 - val_loss: 0.1631 - val_accuracy: 0.9610\n",
            "Epoch 25/100\n",
            "58/58 [==============================] - 86s 1s/step - loss: 0.0715 - accuracy: 0.9740 - val_loss: 0.1009 - val_accuracy: 0.9675\n",
            "Epoch 26/100\n",
            "58/58 [==============================] - 86s 1s/step - loss: 0.0820 - accuracy: 0.9724 - val_loss: 0.1114 - val_accuracy: 0.9610\n",
            "Epoch 27/100\n",
            "58/58 [==============================] - 86s 1s/step - loss: 0.0796 - accuracy: 0.9675 - val_loss: 0.0948 - val_accuracy: 0.9718\n",
            "Epoch 28/100\n",
            "58/58 [==============================] - 87s 2s/step - loss: 0.0615 - accuracy: 0.9783 - val_loss: 0.2622 - val_accuracy: 0.9436\n",
            "Epoch 29/100\n",
            "58/58 [==============================] - 88s 2s/step - loss: 0.0698 - accuracy: 0.9800 - val_loss: 0.1549 - val_accuracy: 0.9631\n",
            "Epoch 30/100\n",
            "58/58 [==============================] - 88s 2s/step - loss: 0.0625 - accuracy: 0.9794 - val_loss: 0.0671 - val_accuracy: 0.9783\n",
            "Epoch 31/100\n",
            "58/58 [==============================] - 89s 2s/step - loss: 0.0669 - accuracy: 0.9778 - val_loss: 0.1758 - val_accuracy: 0.9544\n",
            "Epoch 32/100\n",
            "58/58 [==============================] - 88s 2s/step - loss: 0.0643 - accuracy: 0.9762 - val_loss: 0.2933 - val_accuracy: 0.9523\n",
            "Epoch 33/100\n",
            "58/58 [==============================] - 88s 2s/step - loss: 0.0903 - accuracy: 0.9670 - val_loss: 0.1472 - val_accuracy: 0.9544\n",
            "Epoch 34/100\n",
            "58/58 [==============================] - 89s 2s/step - loss: 0.0784 - accuracy: 0.9745 - val_loss: 0.0674 - val_accuracy: 0.9718\n",
            "Epoch 35/100\n",
            "58/58 [==============================] - 89s 2s/step - loss: 0.0631 - accuracy: 0.9772 - val_loss: 0.0672 - val_accuracy: 0.9761\n",
            "Epoch 36/100\n",
            "58/58 [==============================] - 89s 2s/step - loss: 0.0534 - accuracy: 0.9816 - val_loss: 0.4199 - val_accuracy: 0.9241\n",
            "Epoch 37/100\n",
            "58/58 [==============================] - 89s 2s/step - loss: 0.0505 - accuracy: 0.9837 - val_loss: 0.0732 - val_accuracy: 0.9848\n",
            "Epoch 38/100\n",
            "58/58 [==============================] - 89s 2s/step - loss: 0.0588 - accuracy: 0.9789 - val_loss: 0.1711 - val_accuracy: 0.9544\n",
            "Epoch 39/100\n",
            "58/58 [==============================] - 90s 2s/step - loss: 0.0688 - accuracy: 0.9800 - val_loss: 0.0998 - val_accuracy: 0.9761\n",
            "Epoch 40/100\n",
            "58/58 [==============================] - 89s 2s/step - loss: 0.0636 - accuracy: 0.9794 - val_loss: 0.0822 - val_accuracy: 0.9675\n",
            "Epoch 41/100\n",
            "58/58 [==============================] - 88s 2s/step - loss: 0.0510 - accuracy: 0.9848 - val_loss: 0.1004 - val_accuracy: 0.9718\n",
            "Epoch 42/100\n",
            "58/58 [==============================] - 87s 2s/step - loss: 0.0640 - accuracy: 0.9783 - val_loss: 0.4230 - val_accuracy: 0.8850\n",
            "Epoch 43/100\n",
            "58/58 [==============================] - 86s 1s/step - loss: 0.0600 - accuracy: 0.9772 - val_loss: 0.3597 - val_accuracy: 0.9371\n",
            "Epoch 44/100\n",
            "58/58 [==============================] - 87s 1s/step - loss: 0.0454 - accuracy: 0.9816 - val_loss: 0.0542 - val_accuracy: 0.9870\n",
            "Epoch 45/100\n",
            "58/58 [==============================] - 87s 1s/step - loss: 0.0535 - accuracy: 0.9810 - val_loss: 0.2643 - val_accuracy: 0.9479\n",
            "Epoch 46/100\n",
            "58/58 [==============================] - 87s 1s/step - loss: 0.0597 - accuracy: 0.9772 - val_loss: 0.1059 - val_accuracy: 0.9761\n",
            "Epoch 47/100\n",
            "58/58 [==============================] - 85s 1s/step - loss: 0.0599 - accuracy: 0.9800 - val_loss: 0.0921 - val_accuracy: 0.9718\n",
            "Epoch 48/100\n",
            "58/58 [==============================] - 86s 1s/step - loss: 0.0537 - accuracy: 0.9816 - val_loss: 0.0536 - val_accuracy: 0.9826\n",
            "Epoch 49/100\n",
            "58/58 [==============================] - 86s 1s/step - loss: 0.0537 - accuracy: 0.9821 - val_loss: 0.0561 - val_accuracy: 0.9805\n",
            "Epoch 50/100\n",
            "58/58 [==============================] - 87s 1s/step - loss: 0.0456 - accuracy: 0.9837 - val_loss: 0.1446 - val_accuracy: 0.9653\n",
            "Epoch 51/100\n",
            "58/58 [==============================] - 86s 1s/step - loss: 0.0523 - accuracy: 0.9810 - val_loss: 0.1447 - val_accuracy: 0.9696\n",
            "Epoch 52/100\n",
            "58/58 [==============================] - 87s 2s/step - loss: 0.0404 - accuracy: 0.9859 - val_loss: 0.1228 - val_accuracy: 0.9826\n",
            "Epoch 53/100\n",
            "58/58 [==============================] - 87s 2s/step - loss: 0.0598 - accuracy: 0.9789 - val_loss: 0.1323 - val_accuracy: 0.9631\n",
            "Epoch 54/100\n",
            "58/58 [==============================] - 87s 2s/step - loss: 0.0408 - accuracy: 0.9848 - val_loss: 0.1239 - val_accuracy: 0.9761\n",
            "Epoch 55/100\n",
            "58/58 [==============================] - 87s 1s/step - loss: 0.0486 - accuracy: 0.9832 - val_loss: 0.1048 - val_accuracy: 0.9783\n",
            "Epoch 56/100\n",
            "58/58 [==============================] - 87s 1s/step - loss: 0.0435 - accuracy: 0.9837 - val_loss: 0.1673 - val_accuracy: 0.9675\n",
            "Epoch 57/100\n",
            "58/58 [==============================] - 88s 2s/step - loss: 0.0497 - accuracy: 0.9854 - val_loss: 0.0707 - val_accuracy: 0.9826\n",
            "Epoch 58/100\n",
            "58/58 [==============================] - 88s 2s/step - loss: 0.0480 - accuracy: 0.9859 - val_loss: 0.1137 - val_accuracy: 0.9783\n",
            "Epoch 59/100\n",
            "58/58 [==============================] - 89s 2s/step - loss: 0.0494 - accuracy: 0.9843 - val_loss: 0.1233 - val_accuracy: 0.9675\n",
            "Epoch 60/100\n",
            "58/58 [==============================] - 88s 2s/step - loss: 0.0376 - accuracy: 0.9870 - val_loss: 0.0454 - val_accuracy: 0.9870\n",
            "Epoch 61/100\n",
            "58/58 [==============================] - 88s 2s/step - loss: 0.0367 - accuracy: 0.9859 - val_loss: 0.1532 - val_accuracy: 0.9631\n",
            "Epoch 62/100\n",
            "58/58 [==============================] - 88s 2s/step - loss: 0.0503 - accuracy: 0.9865 - val_loss: 0.1115 - val_accuracy: 0.9740\n",
            "Epoch 63/100\n",
            "58/58 [==============================] - 87s 2s/step - loss: 0.0678 - accuracy: 0.9810 - val_loss: 0.0536 - val_accuracy: 0.9805\n",
            "Epoch 64/100\n",
            "58/58 [==============================] - 86s 1s/step - loss: 0.0366 - accuracy: 0.9897 - val_loss: 0.0742 - val_accuracy: 0.9718\n",
            "Epoch 65/100\n",
            "58/58 [==============================] - 87s 2s/step - loss: 0.0459 - accuracy: 0.9865 - val_loss: 0.0777 - val_accuracy: 0.9783\n",
            "Epoch 66/100\n",
            "58/58 [==============================] - 88s 2s/step - loss: 0.0586 - accuracy: 0.9794 - val_loss: 0.2325 - val_accuracy: 0.9653\n",
            "Epoch 67/100\n",
            "58/58 [==============================] - 88s 2s/step - loss: 0.0400 - accuracy: 0.9875 - val_loss: 0.0608 - val_accuracy: 0.9892\n",
            "Epoch 68/100\n",
            "58/58 [==============================] - 87s 1s/step - loss: 0.0460 - accuracy: 0.9843 - val_loss: 0.3180 - val_accuracy: 0.9306\n",
            "Epoch 69/100\n",
            "58/58 [==============================] - 87s 1s/step - loss: 0.0507 - accuracy: 0.9832 - val_loss: 0.2763 - val_accuracy: 0.9393\n",
            "Epoch 70/100\n",
            "58/58 [==============================] - 85s 1s/step - loss: 0.0316 - accuracy: 0.9902 - val_loss: 0.1338 - val_accuracy: 0.9783\n",
            "Epoch 71/100\n",
            "58/58 [==============================] - 86s 1s/step - loss: 0.0793 - accuracy: 0.9789 - val_loss: 0.3611 - val_accuracy: 0.9111\n",
            "Epoch 72/100\n",
            "58/58 [==============================] - 89s 2s/step - loss: 0.0367 - accuracy: 0.9865 - val_loss: 0.2867 - val_accuracy: 0.9393\n",
            "Epoch 73/100\n",
            "58/58 [==============================] - 87s 1s/step - loss: 0.0412 - accuracy: 0.9859 - val_loss: 0.1654 - val_accuracy: 0.9718\n",
            "Epoch 74/100\n",
            "58/58 [==============================] - 87s 1s/step - loss: 0.0427 - accuracy: 0.9843 - val_loss: 0.0575 - val_accuracy: 0.9870\n",
            "Epoch 75/100\n",
            "58/58 [==============================] - 86s 1s/step - loss: 0.0265 - accuracy: 0.9919 - val_loss: 0.1179 - val_accuracy: 0.9805\n",
            "Epoch 76/100\n",
            "58/58 [==============================] - 87s 1s/step - loss: 0.0470 - accuracy: 0.9816 - val_loss: 0.1862 - val_accuracy: 0.9631\n",
            "Epoch 77/100\n",
            "58/58 [==============================] - 86s 1s/step - loss: 0.0675 - accuracy: 0.9778 - val_loss: 0.1542 - val_accuracy: 0.9631\n",
            "Epoch 78/100\n",
            "58/58 [==============================] - 86s 1s/step - loss: 0.0546 - accuracy: 0.9843 - val_loss: 0.1608 - val_accuracy: 0.9610\n",
            "Epoch 79/100\n",
            "58/58 [==============================] - 86s 1s/step - loss: 0.0349 - accuracy: 0.9854 - val_loss: 0.1430 - val_accuracy: 0.9718\n",
            "Epoch 80/100\n",
            "58/58 [==============================] - 86s 1s/step - loss: 0.0439 - accuracy: 0.9854 - val_loss: 0.0836 - val_accuracy: 0.9826\n",
            "Epoch 81/100\n",
            "58/58 [==============================] - 86s 1s/step - loss: 0.0427 - accuracy: 0.9832 - val_loss: 0.1298 - val_accuracy: 0.9783\n",
            "Epoch 82/100\n",
            "58/58 [==============================] - 85s 1s/step - loss: 0.0376 - accuracy: 0.9886 - val_loss: 0.0986 - val_accuracy: 0.9740\n",
            "Epoch 83/100\n",
            "58/58 [==============================] - 86s 1s/step - loss: 0.0420 - accuracy: 0.9865 - val_loss: 0.2196 - val_accuracy: 0.9631\n",
            "Epoch 84/100\n",
            "58/58 [==============================] - 85s 1s/step - loss: 0.0376 - accuracy: 0.9832 - val_loss: 0.1098 - val_accuracy: 0.9740\n",
            "Epoch 85/100\n",
            "58/58 [==============================] - 85s 1s/step - loss: 0.0316 - accuracy: 0.9881 - val_loss: 0.1044 - val_accuracy: 0.9870\n",
            "Epoch 86/100\n",
            "58/58 [==============================] - 85s 1s/step - loss: 0.0413 - accuracy: 0.9870 - val_loss: 0.1727 - val_accuracy: 0.9653\n",
            "Epoch 87/100\n",
            "58/58 [==============================] - 85s 1s/step - loss: 0.0397 - accuracy: 0.9886 - val_loss: 0.0621 - val_accuracy: 0.9870\n",
            "Epoch 88/100\n",
            "58/58 [==============================] - 85s 1s/step - loss: 0.0475 - accuracy: 0.9854 - val_loss: 0.0574 - val_accuracy: 0.9826\n",
            "Epoch 89/100\n",
            "58/58 [==============================] - 85s 1s/step - loss: 0.0327 - accuracy: 0.9875 - val_loss: 0.0505 - val_accuracy: 0.9892\n",
            "Epoch 90/100\n",
            "58/58 [==============================] - 85s 1s/step - loss: 0.0322 - accuracy: 0.9870 - val_loss: 0.1030 - val_accuracy: 0.9783\n",
            "Epoch 91/100\n",
            "58/58 [==============================] - 85s 1s/step - loss: 0.0213 - accuracy: 0.9913 - val_loss: 0.0855 - val_accuracy: 0.9783\n",
            "Epoch 92/100\n",
            "58/58 [==============================] - 85s 1s/step - loss: 0.0424 - accuracy: 0.9892 - val_loss: 0.1883 - val_accuracy: 0.9566\n",
            "Epoch 93/100\n",
            "58/58 [==============================] - 85s 1s/step - loss: 0.0251 - accuracy: 0.9930 - val_loss: 0.1575 - val_accuracy: 0.9718\n",
            "Epoch 94/100\n",
            "58/58 [==============================] - 85s 1s/step - loss: 0.0197 - accuracy: 0.9930 - val_loss: 0.1555 - val_accuracy: 0.9653\n",
            "Epoch 95/100\n",
            "58/58 [==============================] - 84s 1s/step - loss: 0.0260 - accuracy: 0.9930 - val_loss: 0.2237 - val_accuracy: 0.9631\n",
            "Epoch 96/100\n",
            "58/58 [==============================] - 84s 1s/step - loss: 0.0427 - accuracy: 0.9859 - val_loss: 0.0458 - val_accuracy: 0.9870\n",
            "Epoch 97/100\n",
            "58/58 [==============================] - 85s 1s/step - loss: 0.0345 - accuracy: 0.9881 - val_loss: 0.0690 - val_accuracy: 0.9826\n",
            "Epoch 98/100\n",
            "58/58 [==============================] - 85s 1s/step - loss: 0.0204 - accuracy: 0.9940 - val_loss: 0.1556 - val_accuracy: 0.9718\n",
            "Epoch 99/100\n",
            "58/58 [==============================] - 84s 1s/step - loss: 0.0378 - accuracy: 0.9881 - val_loss: 0.0857 - val_accuracy: 0.9718\n",
            "Epoch 100/100\n",
            "58/58 [==============================] - 84s 1s/step - loss: 0.0277 - accuracy: 0.9897 - val_loss: 0.1074 - val_accuracy: 0.9761\n"
          ],
          "name": "stdout"
        },
        {
          "output_type": "display_data",
          "data": {
            "image/png": "[encoded data removed]",
            "text/plain": [
              "<Figure size 432x288 with 1 Axes>"
            ]
          },
          "metadata": {
            "tags": [],
            "needs_background": "light"
          }
        },
        {
          "output_type": "display_data",
          "data": {
            "image/png": "[encoded data removed]",
            "text/plain": [
              "<Figure size 432x288 with 1 Axes>"
            ]
          },
          "metadata": {
            "tags": [],
            "needs_background": "light"
          }
        },
        {
          "output_type": "stream",
          "text": [
            "CPU times: user 2h 18min 15s, sys: 3min 48s, total: 2h 22min 3s\n",
            "Wall time: 2h 47min 1s\n"
          ],
          "name": "stdout"
        }
      ]
    },
    {
      "cell_type": "code",
      "metadata": {
        "id": "ixGXheIJo8EI"
      },
      "source": [
        "    %matplotlib inline\n",
        "from sklearn.metrics import confusion_matrix\n",
        "import itertools\n",
        "import matplotlib.pyplot as plt\n",
        "import numpy as np"
      ],
      "execution_count": 9,
      "outputs": []
    },
    {
      "cell_type": "code",
      "metadata": {
        "colab": {
          "base_uri": "https://localhost:8080/",
          "height": 1000
        },
        "id": "iABIKL5DJ9Rj",
        "outputId": "76c20b43-728b-4a05-ea16-c71040447122"
      },
      "source": [
        "%%time\n",
        "Evaluate_CNN_Model()"
      ],
      "execution_count": 10,
      "outputs": [
        {
          "output_type": "stream",
          "text": [
            "Found 139 images belonging to 2 classes.\n",
            "WARNING:tensorflow:From <ipython-input-7-22f39ddc6c5f>:23: Model.predict_generator (from tensorflow.python.keras.engine.training) is deprecated and will be removed in a future version.\n",
            "Instructions for updating:\n",
            "Please use Model.predict, which supports generators.\n"
          ],
          "name": "stdout"
        },
        {
          "output_type": "stream",
          "text": [
            "/usr/local/lib/python3.6/dist-packages/keras_preprocessing/image/image_data_generator.py:720: UserWarning: This ImageDataGenerator specifies `featurewise_center`, but it hasn't been fit on any training data. Fit it first by calling `.fit(numpy_data)`.\n",
            "  warnings.warn('This ImageDataGenerator specifies '\n",
            "/usr/local/lib/python3.6/dist-packages/keras_preprocessing/image/image_data_generator.py:728: UserWarning: This ImageDataGenerator specifies `featurewise_std_normalization`, but it hasn't been fit on any training data. Fit it first by calling `.fit(numpy_data)`.\n",
            "  warnings.warn('This ImageDataGenerator specifies '\n"
          ],
          "name": "stderr"
        },
        {
          "output_type": "stream",
          "text": [
            "5/5 [==============================] - 55s 11s/step\n"
          ],
          "name": "stdout"
        },
        {
          "output_type": "stream",
          "text": [
            "No handles with labels found to put in legend.\n"
          ],
          "name": "stderr"
        },
        {
          "output_type": "stream",
          "text": [
            "\n",
            "Confusion Matrix\n",
            " -------------------------\n",
            "[[69  1]\n",
            " [ 4 65]]\n",
            "Accuracy: 0.964029\n",
            "Precision: 0.984848\n",
            "Recall: 0.942029\n",
            "F1 score: 0.962963\n",
            "ROC AUC: 0.992754\n"
          ],
          "name": "stdout"
        },
        {
          "output_type": "display_data",
          "data": {
            "image/png": "[encoded data removed]",
            "text/plain": [
              "<Figure size 432x288 with 1 Axes>"
            ]
          },
          "metadata": {
            "tags": [],
            "needs_background": "light"
          }
        },
        {
          "output_type": "stream",
          "text": [
            "CPU times: user 3.08 s, sys: 147 ms, total: 3.22 s\n",
            "Wall time: 1min 18s\n"
          ],
          "name": "stdout"
        },
        {
          "output_type": "display_data",
          "data": {
            "image/png": "[encoded data removed]",
            "text/plain": [
              "<Figure size 432x288 with 2 Axes>"
            ]
          },
          "metadata": {
            "tags": [],
            "needs_background": "light"
          }
        }
      ]
    }
  ]
}