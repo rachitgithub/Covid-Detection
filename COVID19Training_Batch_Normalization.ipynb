{
  "nbformat": 4,
  "nbformat_minor": 0,
  "metadata": {
    "colab": {
      "name": "COVID19Training_Batch Normalization.ipynb",
      "provenance": [],
      "collapsed_sections": [],
      "toc_visible": true,
      "include_colab_link": true
    },
    "kernelspec": {
      "name": "python3",
      "display_name": "Python 3"
    },
    "accelerator": "GPU"
  },
  "cells": [
    {
      "cell_type": "markdown",
      "metadata": {
        "id": "view-in-github",
        "colab_type": "text"
      },
      "source": [
        "<a href=\"https://colab.research.google.com/github/rachitgithub/Covid-Detection/blob/main/COVID19Training_Batch_Normalization.ipynb\" target=\"_parent\"><img src=\"https://colab.research.google.com/assets/colab-badge.svg\" alt=\"Open In Colab\"/></a>"
      ]
    },
    {
      "cell_type": "markdown",
      "metadata": {
        "id": "-gyKOi8EPITT"
      },
      "source": [
        "# **Install TensorFlow GPU**"
      ]
    },
    {
      "cell_type": "code",
      "metadata": {
        "colab": {
          "base_uri": "https://localhost:8080/"
        },
        "id": "UboFrn87qNVe",
        "outputId": "1716485e-0fee-4912-8e5d-714fd95c8a67"
      },
      "source": [
        "!pip install tensorflow-gpu"
      ],
      "execution_count": 1,
      "outputs": [
        {
          "output_type": "stream",
          "text": [
            "Collecting tensorflow-gpu\n",
            "\u001b[?25l  Downloading https://files.pythonhosted.org/packages/18/99/ac32fd13d56e40d4c3e6150030132519997c0bb1f06f448d970e81b177e5/tensorflow_gpu-2.3.1-cp36-cp36m-manylinux2010_x86_64.whl (320.4MB)\n",
            "\u001b[K     |████████████████████████████████| 320.4MB 54kB/s \n",
            "\u001b[?25hRequirement already satisfied: absl-py>=0.7.0 in /usr/local/lib/python3.6/dist-packages (from tensorflow-gpu) (0.10.0)\n",
            "Requirement already satisfied: wheel>=0.26 in /usr/local/lib/python3.6/dist-packages (from tensorflow-gpu) (0.35.1)\n",
            "Requirement already satisfied: grpcio>=1.8.6 in /usr/local/lib/python3.6/dist-packages (from tensorflow-gpu) (1.33.2)\n",
            "Requirement already satisfied: keras-preprocessing<1.2,>=1.1.1 in /usr/local/lib/python3.6/dist-packages (from tensorflow-gpu) (1.1.2)\n",
            "Requirement already satisfied: wrapt>=1.11.1 in /usr/local/lib/python3.6/dist-packages (from tensorflow-gpu) (1.12.1)\n",
            "Requirement already satisfied: six>=1.12.0 in /usr/local/lib/python3.6/dist-packages (from tensorflow-gpu) (1.15.0)\n",
            "Requirement already satisfied: tensorboard<3,>=2.3.0 in /usr/local/lib/python3.6/dist-packages (from tensorflow-gpu) (2.3.0)\n",
            "Requirement already satisfied: numpy<1.19.0,>=1.16.0 in /usr/local/lib/python3.6/dist-packages (from tensorflow-gpu) (1.18.5)\n",
            "Requirement already satisfied: tensorflow-estimator<2.4.0,>=2.3.0 in /usr/local/lib/python3.6/dist-packages (from tensorflow-gpu) (2.3.0)\n",
            "Requirement already satisfied: google-pasta>=0.1.8 in /usr/local/lib/python3.6/dist-packages (from tensorflow-gpu) (0.2.0)\n",
            "Requirement already satisfied: termcolor>=1.1.0 in /usr/local/lib/python3.6/dist-packages (from tensorflow-gpu) (1.1.0)\n",
            "Requirement already satisfied: gast==0.3.3 in /usr/local/lib/python3.6/dist-packages (from tensorflow-gpu) (0.3.3)\n",
            "Requirement already satisfied: opt-einsum>=2.3.2 in /usr/local/lib/python3.6/dist-packages (from tensorflow-gpu) (3.3.0)\n",
            "Requirement already satisfied: protobuf>=3.9.2 in /usr/local/lib/python3.6/dist-packages (from tensorflow-gpu) (3.12.4)\n",
            "Requirement already satisfied: h5py<2.11.0,>=2.10.0 in /usr/local/lib/python3.6/dist-packages (from tensorflow-gpu) (2.10.0)\n",
            "Requirement already satisfied: astunparse==1.6.3 in /usr/local/lib/python3.6/dist-packages (from tensorflow-gpu) (1.6.3)\n",
            "Requirement already satisfied: requests<3,>=2.21.0 in /usr/local/lib/python3.6/dist-packages (from tensorboard<3,>=2.3.0->tensorflow-gpu) (2.23.0)\n",
            "Requirement already satisfied: google-auth-oauthlib<0.5,>=0.4.1 in /usr/local/lib/python3.6/dist-packages (from tensorboard<3,>=2.3.0->tensorflow-gpu) (0.4.2)\n",
            "Requirement already satisfied: google-auth<2,>=1.6.3 in /usr/local/lib/python3.6/dist-packages (from tensorboard<3,>=2.3.0->tensorflow-gpu) (1.17.2)\n",
            "Requirement already satisfied: markdown>=2.6.8 in /usr/local/lib/python3.6/dist-packages (from tensorboard<3,>=2.3.0->tensorflow-gpu) (3.3.3)\n",
            "Requirement already satisfied: tensorboard-plugin-wit>=1.6.0 in /usr/local/lib/python3.6/dist-packages (from tensorboard<3,>=2.3.0->tensorflow-gpu) (1.7.0)\n",
            "Requirement already satisfied: werkzeug>=0.11.15 in /usr/local/lib/python3.6/dist-packages (from tensorboard<3,>=2.3.0->tensorflow-gpu) (1.0.1)\n",
            "Requirement already satisfied: setuptools>=41.0.0 in /usr/local/lib/python3.6/dist-packages (from tensorboard<3,>=2.3.0->tensorflow-gpu) (50.3.2)\n",
            "Requirement already satisfied: certifi>=2017.4.17 in /usr/local/lib/python3.6/dist-packages (from requests<3,>=2.21.0->tensorboard<3,>=2.3.0->tensorflow-gpu) (2020.6.20)\n",
            "Requirement already satisfied: chardet<4,>=3.0.2 in /usr/local/lib/python3.6/dist-packages (from requests<3,>=2.21.0->tensorboard<3,>=2.3.0->tensorflow-gpu) (3.0.4)\n",
            "Requirement already satisfied: urllib3!=1.25.0,!=1.25.1,<1.26,>=1.21.1 in /usr/local/lib/python3.6/dist-packages (from requests<3,>=2.21.0->tensorboard<3,>=2.3.0->tensorflow-gpu) (1.24.3)\n",
            "Requirement already satisfied: idna<3,>=2.5 in /usr/local/lib/python3.6/dist-packages (from requests<3,>=2.21.0->tensorboard<3,>=2.3.0->tensorflow-gpu) (2.10)\n",
            "Requirement already satisfied: requests-oauthlib>=0.7.0 in /usr/local/lib/python3.6/dist-packages (from google-auth-oauthlib<0.5,>=0.4.1->tensorboard<3,>=2.3.0->tensorflow-gpu) (1.3.0)\n",
            "Requirement already satisfied: cachetools<5.0,>=2.0.0 in /usr/local/lib/python3.6/dist-packages (from google-auth<2,>=1.6.3->tensorboard<3,>=2.3.0->tensorflow-gpu) (4.1.1)\n",
            "Requirement already satisfied: rsa<5,>=3.1.4; python_version >= \"3\" in /usr/local/lib/python3.6/dist-packages (from google-auth<2,>=1.6.3->tensorboard<3,>=2.3.0->tensorflow-gpu) (4.6)\n",
            "Requirement already satisfied: pyasn1-modules>=0.2.1 in /usr/local/lib/python3.6/dist-packages (from google-auth<2,>=1.6.3->tensorboard<3,>=2.3.0->tensorflow-gpu) (0.2.8)\n",
            "Requirement already satisfied: importlib-metadata; python_version < \"3.8\" in /usr/local/lib/python3.6/dist-packages (from markdown>=2.6.8->tensorboard<3,>=2.3.0->tensorflow-gpu) (2.0.0)\n",
            "Requirement already satisfied: oauthlib>=3.0.0 in /usr/local/lib/python3.6/dist-packages (from requests-oauthlib>=0.7.0->google-auth-oauthlib<0.5,>=0.4.1->tensorboard<3,>=2.3.0->tensorflow-gpu) (3.1.0)\n",
            "Requirement already satisfied: pyasn1>=0.1.3 in /usr/local/lib/python3.6/dist-packages (from rsa<5,>=3.1.4; python_version >= \"3\"->google-auth<2,>=1.6.3->tensorboard<3,>=2.3.0->tensorflow-gpu) (0.4.8)\n",
            "Requirement already satisfied: zipp>=0.5 in /usr/local/lib/python3.6/dist-packages (from importlib-metadata; python_version < \"3.8\"->markdown>=2.6.8->tensorboard<3,>=2.3.0->tensorflow-gpu) (3.4.0)\n",
            "Installing collected packages: tensorflow-gpu\n",
            "Successfully installed tensorflow-gpu-2.3.1\n"
          ],
          "name": "stdout"
        }
      ]
    },
    {
      "cell_type": "markdown",
      "metadata": {
        "id": "FLc0x1XRPPVm"
      },
      "source": [
        "# **Import GDRIVE**"
      ]
    },
    {
      "cell_type": "code",
      "metadata": {
        "colab": {
          "base_uri": "https://localhost:8080/"
        },
        "id": "2SXklTJgqQyV",
        "outputId": "804df21f-3074-4c21-a064-0e9ed7622748"
      },
      "source": [
        "from google.colab import drive\n",
        "drive.mount('/content/drive')"
      ],
      "execution_count": 2,
      "outputs": [
        {
          "output_type": "stream",
          "text": [
            "Mounted at /content/drive\n"
          ],
          "name": "stdout"
        }
      ]
    },
    {
      "cell_type": "markdown",
      "metadata": {
        "id": "M55jhmwBPTGp"
      },
      "source": [
        "# **Import Tensor Flow**"
      ]
    },
    {
      "cell_type": "code",
      "metadata": {
        "colab": {
          "base_uri": "https://localhost:8080/"
        },
        "id": "yPOllQPgqUky",
        "outputId": "321d47f5-e06f-4bd2-e74d-c02286fa1bcb"
      },
      "source": [
        "import tensorflow as tf\n",
        "tf.test.gpu_device_name()\n",
        "print(tf.__version__)"
      ],
      "execution_count": 3,
      "outputs": [
        {
          "output_type": "stream",
          "text": [
            "2.3.0\n"
          ],
          "name": "stdout"
        }
      ]
    },
    {
      "cell_type": "markdown",
      "metadata": {
        "id": "qf3UaO-sPXkz"
      },
      "source": [
        "# **Import Keras Libraries**"
      ]
    },
    {
      "cell_type": "code",
      "metadata": {
        "id": "O6d6JctTqdW2"
      },
      "source": [
        "from keras.models import Sequential,load_model\n",
        "from keras.layers import Conv2D,Activation, MaxPooling2D,Dense,Flatten,BatchNormalization\n",
        "from keras.optimizers import Adam\n",
        "from keras.preprocessing.image import ImageDataGenerator\n",
        "from sklearn.metrics import accuracy_score,roc_curve,confusion_matrix,precision_score,recall_score,f1_score,roc_auc_score\n",
        "import matplotlib.pyplot as plt\n",
        "import matplotlib.pyplot as plt_False_Positive_vs_True_Positive"
      ],
      "execution_count": 4,
      "outputs": []
    },
    {
      "cell_type": "markdown",
      "metadata": {
        "id": "BoGghyDrPcMl"
      },
      "source": [
        "# **Build Sequential Batch Normalization CNN Model**\n",
        "\n"
      ]
    },
    {
      "cell_type": "code",
      "metadata": {
        "id": "NHfmSsyapGlw"
      },
      "source": [
        "def Build_CNN_Model():\n",
        "    \n",
        "    # -------------------------------------------------------------------------\n",
        "    #                        Build CNN Model \n",
        "    # -------------------------------------------------------------------------\n",
        "    model = Sequential()\n",
        "    \n",
        "    #  First Block of CNN\n",
        "    model.add(Conv2D(8, (5, 5), padding='same', input_shape=(224, 224, 3)))  \n",
        "    model.add(Activation('relu'))\n",
        "    model.add(MaxPooling2D((2, 2)))\n",
        "    \n",
        "    #  Second Block of CNN\n",
        "    model.add(Conv2D(8, (3, 3),  padding='same'))  \n",
        "    model.add(Activation('relu'))\n",
        "    model.add(MaxPooling2D((2, 2)))\n",
        "\n",
        "    #  Third Block of CNN\n",
        "    model.add(Conv2D(16, (3, 3),  padding='same'))  \n",
        "    model.add(Activation('relu'))\n",
        "\n",
        "\n",
        "    #  Forth Block of CNN\n",
        "    model.add(Conv2D(16, (3, 3),  padding='same'))  \n",
        "    model.add(Activation('relu'))\n",
        "    model.add(BatchNormalization())\n",
        "    model.add(MaxPooling2D((2, 2)))\n",
        "    \n",
        "    \n",
        "    #  Flatten and Fully Connected Layer\n",
        "    model.add(Flatten())\n",
        "    model.add(Dense(10))\n",
        "    model.add(Activation('relu'))\n",
        "     \n",
        "    #  Softmax Classifier\n",
        "    model.add(Dense(2))\n",
        "    model.add(Activation('softmax'))\n",
        "        \n",
        "    #  Display model\n",
        "    model.summary()\n",
        "    \n",
        "\t# compile model\n",
        "\n",
        "    opt = Adam(learning_rate=0.001, beta_1=0.9, beta_2=0.999)\n",
        "    model.compile(optimizer=opt, loss='categorical_crossentropy', metrics=['accuracy'])\n",
        "    \n",
        "    return model \n"
      ],
      "execution_count": 5,
      "outputs": []
    },
    {
      "cell_type": "markdown",
      "metadata": {
        "id": "JqlNTD0lUS1h"
      },
      "source": [
        "# **Train Sequential Batch Normalization CNN Model**"
      ]
    },
    {
      "cell_type": "code",
      "metadata": {
        "id": "DHilYg3RUOsG"
      },
      "source": [
        "# train and evalluate cnn model\n",
        "def Train_CNN_Model(model):\n",
        "    \n",
        "    # -------------------------------------------------------------------------\n",
        "    #                        Train CNN Model \n",
        "    # -------------------------------------------------------------------------\n",
        "    \n",
        "    \n",
        "    # create data generators    \n",
        "    train_datagen = ImageDataGenerator(\n",
        "                                     rescale=1.0/255.0,\n",
        "                                     featurewise_center= True,\n",
        "                                     featurewise_std_normalization = True,\n",
        "                                     rotation_range=10,\n",
        "                                     width_shift_range=0.1,\n",
        "                                     height_shift_range=0.1,\n",
        "                                     zoom_range=0.2,                                     \n",
        "                                     brightness_range=[0.2,1.0],\n",
        "                                     )\n",
        "    \n",
        "    valid_datagen = ImageDataGenerator(\n",
        "                                     rescale=1.0/255.0,\n",
        "                                     featurewise_center= True,\n",
        "                                     featurewise_std_normalization = True)\n",
        "    \n",
        "  \n",
        "   \n",
        "    # prepare iterators\n",
        "    batch_size=32\n",
        "    train_it = train_datagen.flow_from_directory('/content/drive/MyDrive/COVID-19-Deep-Learning-Project-Colab/Dataset/train/',classes =('Normal','Covid'),batch_size=batch_size, target_size=(224, 224))\n",
        "    valid_it = valid_datagen.flow_from_directory('/content/drive/MyDrive/COVID-19-Deep-Learning-Project-Colab/Dataset/val/',classes =('Normal','Covid'),batch_size=batch_size, target_size=(224, 224))\n",
        "\n",
        "\n",
        "    epochs=100;\n",
        "    \n",
        "    history = model.fit_generator(train_it, steps_per_epoch=len(train_it),\n",
        "\t\tvalidation_data=valid_it, validation_steps=len(valid_it), epochs=epochs, verbose=1)\n",
        "    \n",
        "    \n",
        "    #  \"Accuracy\"\n",
        "    plt.plot(history.history['accuracy'])\n",
        "    plt.plot(history.history['val_accuracy'])\n",
        "    plt.title('model accuracy')\n",
        "    plt.ylabel('accuracy')\n",
        "    plt.xlabel('epoch')\n",
        "    plt.legend(['train', 'validation'], loc='upper left')\n",
        "    plt.show()\n",
        "    \n",
        "    # \"Loss\"\n",
        "    plt.plot(history.history['loss'])\n",
        "    plt.plot(history.history['val_loss'])\n",
        "    plt.title('model loss')\n",
        "    plt.ylabel('loss')\n",
        "    plt.xlabel('epoch')\n",
        "    plt.legend(['train', 'validation'], loc='upper left')\n",
        "    plt.show()\n",
        "\n",
        "\t# save model\n",
        "    model.save('/content/drive/MyDrive/COVID-19-Deep-Learning-Project-Colab/saved_models/CoVID19-sequential-batch-normalization_cnn_model.h5')"
      ],
      "execution_count": 6,
      "outputs": []
    },
    {
      "cell_type": "markdown",
      "metadata": {
        "id": "akk2CJw7Pp6O"
      },
      "source": [
        "# **Evaluate Batch Normalization Sequential CNN Model**\n"
      ]
    },
    {
      "cell_type": "code",
      "metadata": {
        "id": "5eW1T2Ekq5MM"
      },
      "source": [
        "def Evaluate_CNN_Model():\n",
        "    # -------------------------------------------------------------------------\n",
        "    #                        Evaluate CNN Model \n",
        "    # -------------------------------------------------------------------------\n",
        "    \n",
        "    # load model\n",
        "    model = load_model('/content/drive/MyDrive/COVID-19-Deep-Learning-Project-Colab/saved_models/CoVID19-sequential-batch-normalization_cnn_model.h5')\n",
        "    \n",
        "    # load test data\n",
        "    batch_size=32\n",
        "    test_datagen = ImageDataGenerator(\n",
        "                                     rescale=1.0/255.0,\n",
        "                                     featurewise_center= True,\n",
        "                                     featurewise_std_normalization = True)\n",
        "    \n",
        "    \n",
        "    test_it = test_datagen.flow_from_directory('/content/drive/MyDrive/COVID-19-Deep-Learning-Project-Colab/Dataset/test/',classes =('Normal','Covid'), \n",
        "                                               shuffle=False,batch_size=batch_size, target_size=(224, 224))\n",
        "    \n",
        "    \n",
        "    y_true = test_it.classes;\n",
        "\n",
        "    y_pred = model.predict_generator(test_it, steps=len(test_it), verbose=1)\n",
        "\n",
        "    \n",
        "    y_pred_prob = y_pred[:,1]\n",
        "\n",
        "     \n",
        "    y_pred_binary =  y_pred_prob > 0.5\n",
        "   \n",
        "    #Confution Matrix    \n",
        "    print('\\nConfusion Matrix\\n -------------------------')    \n",
        "    print(confusion_matrix(y_true,y_pred_binary));\n",
        "    \n",
        "    # accuracy: (tp + tn) / (p + n)\n",
        "    accuracy = accuracy_score(y_true, y_pred_binary)\n",
        "    print('Accuracy: %f' % accuracy)\n",
        "    \n",
        "    \n",
        "    # precision tp / (tp + fp)\n",
        "    precision = precision_score(y_true, y_pred_binary)\n",
        "    print('Precision: %f' % precision)\n",
        "    \n",
        "    # recall: tp / (tp + fn)\n",
        "    recall = recall_score(y_true, y_pred_binary)\n",
        "    print('Recall: %f' % recall)\n",
        "    \n",
        "    # f1: 2 tp / (2 tp + fp + fn)\n",
        "    f1 = f1_score(y_true, y_pred_binary)\n",
        "    print('F1 score: %f' % f1)    \n",
        "       \n",
        "    # ROC AUC\n",
        "    auc = roc_auc_score(y_true, y_pred_prob)\n",
        "    print('ROC AUC: %f' % auc)\n",
        "    \n",
        "    \n",
        "    # calculate roc curves\n",
        "    fpr, tpr, _ = roc_curve(y_true, y_pred_prob)\n",
        "        \n",
        "    # plot the roc curve for the model\n",
        "    plt.figure()\n",
        "    plt_False_Positive_vs_True_Positive.plot(fpr, tpr, linestyle='--', label='')\n",
        "    \n",
        "    # axis labels\n",
        "    plt_False_Positive_vs_True_Positive.xlabel('False Positive Rate')\n",
        "    plt_False_Positive_vs_True_Positive.ylabel('True Positive Rate')\n",
        "       \n",
        "    # show the legend\n",
        "    plt_False_Positive_vs_True_Positive.legend()\n",
        "    # show the plot\n",
        "    plt_False_Positive_vs_True_Positive.show()  \n",
        "    "
      ],
      "execution_count": 9,
      "outputs": []
    },
    {
      "cell_type": "code",
      "metadata": {
        "colab": {
          "base_uri": "https://localhost:8080/",
          "height": 1000
        },
        "id": "PqwwYBQsqysR",
        "outputId": "612117b1-d8ef-4e18-cb11-ea00d66b2c32"
      },
      "source": [
        "# main entry\n",
        "    \n",
        "model = Build_CNN_Model()\n",
        "\n",
        "Train_CNN_Model(model)"
      ],
      "execution_count": 8,
      "outputs": [
        {
          "output_type": "stream",
          "text": [
            "Model: \"sequential\"\n",
            "_________________________________________________________________\n",
            "Layer (type)                 Output Shape              Param #   \n",
            "=================================================================\n",
            "conv2d (Conv2D)              (None, 224, 224, 8)       608       \n",
            "_________________________________________________________________\n",
            "activation (Activation)      (None, 224, 224, 8)       0         \n",
            "_________________________________________________________________\n",
            "max_pooling2d (MaxPooling2D) (None, 112, 112, 8)       0         \n",
            "_________________________________________________________________\n",
            "conv2d_1 (Conv2D)            (None, 112, 112, 8)       584       \n",
            "_________________________________________________________________\n",
            "activation_1 (Activation)    (None, 112, 112, 8)       0         \n",
            "_________________________________________________________________\n",
            "max_pooling2d_1 (MaxPooling2 (None, 56, 56, 8)         0         \n",
            "_________________________________________________________________\n",
            "conv2d_2 (Conv2D)            (None, 56, 56, 16)        1168      \n",
            "_________________________________________________________________\n",
            "activation_2 (Activation)    (None, 56, 56, 16)        0         \n",
            "_________________________________________________________________\n",
            "conv2d_3 (Conv2D)            (None, 56, 56, 16)        2320      \n",
            "_________________________________________________________________\n",
            "activation_3 (Activation)    (None, 56, 56, 16)        0         \n",
            "_________________________________________________________________\n",
            "batch_normalization (BatchNo (None, 56, 56, 16)        64        \n",
            "_________________________________________________________________\n",
            "max_pooling2d_2 (MaxPooling2 (None, 28, 28, 16)        0         \n",
            "_________________________________________________________________\n",
            "flatten (Flatten)            (None, 12544)             0         \n",
            "_________________________________________________________________\n",
            "dense (Dense)                (None, 10)                125450    \n",
            "_________________________________________________________________\n",
            "activation_4 (Activation)    (None, 10)                0         \n",
            "_________________________________________________________________\n",
            "dense_1 (Dense)              (None, 2)                 22        \n",
            "_________________________________________________________________\n",
            "activation_5 (Activation)    (None, 2)                 0         \n",
            "=================================================================\n",
            "Total params: 130,216\n",
            "Trainable params: 130,184\n",
            "Non-trainable params: 32\n",
            "_________________________________________________________________\n",
            "Found 1463 images belonging to 2 classes.\n",
            "Found 365 images belonging to 2 classes.\n",
            "WARNING:tensorflow:From <ipython-input-6-60a75398a8d4>:37: Model.fit_generator (from tensorflow.python.keras.engine.training) is deprecated and will be removed in a future version.\n",
            "Instructions for updating:\n",
            "Please use Model.fit, which supports generators.\n"
          ],
          "name": "stdout"
        },
        {
          "output_type": "stream",
          "text": [
            "/usr/local/lib/python3.6/dist-packages/keras_preprocessing/image/image_data_generator.py:720: UserWarning: This ImageDataGenerator specifies `featurewise_center`, but it hasn't been fit on any training data. Fit it first by calling `.fit(numpy_data)`.\n",
            "  warnings.warn('This ImageDataGenerator specifies '\n",
            "/usr/local/lib/python3.6/dist-packages/keras_preprocessing/image/image_data_generator.py:728: UserWarning: This ImageDataGenerator specifies `featurewise_std_normalization`, but it hasn't been fit on any training data. Fit it first by calling `.fit(numpy_data)`.\n",
            "  warnings.warn('This ImageDataGenerator specifies '\n"
          ],
          "name": "stderr"
        },
        {
          "output_type": "stream",
          "text": [
            "Epoch 1/100\n",
            "46/46 [==============================] - 458s 10s/step - loss: 0.3474 - accuracy: 0.8462 - val_loss: 0.5525 - val_accuracy: 0.8849\n",
            "Epoch 2/100\n",
            "46/46 [==============================] - 68s 1s/step - loss: 0.1871 - accuracy: 0.9310 - val_loss: 0.4808 - val_accuracy: 0.9781\n",
            "Epoch 3/100\n",
            "46/46 [==============================] - 66s 1s/step - loss: 0.1354 - accuracy: 0.9508 - val_loss: 0.4490 - val_accuracy: 0.9589\n",
            "Epoch 4/100\n",
            "46/46 [==============================] - 65s 1s/step - loss: 0.1085 - accuracy: 0.9576 - val_loss: 0.3052 - val_accuracy: 0.9836\n",
            "Epoch 5/100\n",
            "46/46 [==============================] - 65s 1s/step - loss: 0.1152 - accuracy: 0.9631 - val_loss: 0.2781 - val_accuracy: 0.9808\n",
            "Epoch 6/100\n",
            "46/46 [==============================] - 64s 1s/step - loss: 0.1166 - accuracy: 0.9672 - val_loss: 0.2527 - val_accuracy: 0.9836\n",
            "Epoch 7/100\n",
            "46/46 [==============================] - 64s 1s/step - loss: 0.0850 - accuracy: 0.9699 - val_loss: 0.1516 - val_accuracy: 0.9836\n",
            "Epoch 8/100\n",
            "46/46 [==============================] - 64s 1s/step - loss: 0.1133 - accuracy: 0.9576 - val_loss: 0.1444 - val_accuracy: 0.9781\n",
            "Epoch 9/100\n",
            "46/46 [==============================] - 64s 1s/step - loss: 0.0772 - accuracy: 0.9720 - val_loss: 0.1209 - val_accuracy: 0.9808\n",
            "Epoch 10/100\n",
            "46/46 [==============================] - 63s 1s/step - loss: 0.0702 - accuracy: 0.9781 - val_loss: 0.0503 - val_accuracy: 0.9918\n",
            "Epoch 11/100\n",
            "46/46 [==============================] - 63s 1s/step - loss: 0.1210 - accuracy: 0.9651 - val_loss: 0.0907 - val_accuracy: 0.9836\n",
            "Epoch 12/100\n",
            "46/46 [==============================] - 63s 1s/step - loss: 0.0697 - accuracy: 0.9761 - val_loss: 0.0597 - val_accuracy: 0.9836\n",
            "Epoch 13/100\n",
            "46/46 [==============================] - 63s 1s/step - loss: 0.0768 - accuracy: 0.9727 - val_loss: 0.0903 - val_accuracy: 0.9644\n",
            "Epoch 14/100\n",
            "46/46 [==============================] - 64s 1s/step - loss: 0.0630 - accuracy: 0.9788 - val_loss: 0.0380 - val_accuracy: 0.9836\n",
            "Epoch 15/100\n",
            "46/46 [==============================] - 63s 1s/step - loss: 0.0699 - accuracy: 0.9706 - val_loss: 0.0391 - val_accuracy: 0.9836\n",
            "Epoch 16/100\n",
            "46/46 [==============================] - 63s 1s/step - loss: 0.0663 - accuracy: 0.9747 - val_loss: 0.0306 - val_accuracy: 0.9808\n",
            "Epoch 17/100\n",
            "46/46 [==============================] - 63s 1s/step - loss: 0.0608 - accuracy: 0.9795 - val_loss: 0.0550 - val_accuracy: 0.9836\n",
            "Epoch 18/100\n",
            "46/46 [==============================] - 63s 1s/step - loss: 0.0692 - accuracy: 0.9733 - val_loss: 0.0751 - val_accuracy: 0.9836\n",
            "Epoch 19/100\n",
            "46/46 [==============================] - 63s 1s/step - loss: 0.0687 - accuracy: 0.9754 - val_loss: 0.0686 - val_accuracy: 0.9836\n",
            "Epoch 20/100\n",
            "46/46 [==============================] - 63s 1s/step - loss: 0.0810 - accuracy: 0.9713 - val_loss: 0.0365 - val_accuracy: 0.9863\n",
            "Epoch 21/100\n",
            "46/46 [==============================] - 62s 1s/step - loss: 0.0730 - accuracy: 0.9740 - val_loss: 0.0253 - val_accuracy: 0.9836\n",
            "Epoch 22/100\n",
            "46/46 [==============================] - 63s 1s/step - loss: 0.0582 - accuracy: 0.9774 - val_loss: 0.0508 - val_accuracy: 0.9836\n",
            "Epoch 23/100\n",
            "46/46 [==============================] - 63s 1s/step - loss: 0.0761 - accuracy: 0.9733 - val_loss: 0.0244 - val_accuracy: 0.9836\n",
            "Epoch 24/100\n",
            "46/46 [==============================] - 63s 1s/step - loss: 0.0566 - accuracy: 0.9795 - val_loss: 0.0565 - val_accuracy: 0.9808\n",
            "Epoch 25/100\n",
            "46/46 [==============================] - 62s 1s/step - loss: 0.0574 - accuracy: 0.9781 - val_loss: 0.0586 - val_accuracy: 0.9836\n",
            "Epoch 26/100\n",
            "46/46 [==============================] - 63s 1s/step - loss: 0.0678 - accuracy: 0.9761 - val_loss: 0.0377 - val_accuracy: 0.9836\n",
            "Epoch 27/100\n",
            "46/46 [==============================] - 63s 1s/step - loss: 0.0624 - accuracy: 0.9788 - val_loss: 0.0481 - val_accuracy: 0.9836\n",
            "Epoch 28/100\n",
            "46/46 [==============================] - 63s 1s/step - loss: 0.0447 - accuracy: 0.9836 - val_loss: 0.0220 - val_accuracy: 0.9863\n",
            "Epoch 29/100\n",
            "46/46 [==============================] - 63s 1s/step - loss: 0.0457 - accuracy: 0.9815 - val_loss: 0.0222 - val_accuracy: 0.9863\n",
            "Epoch 30/100\n",
            "46/46 [==============================] - 62s 1s/step - loss: 0.0462 - accuracy: 0.9795 - val_loss: 0.0227 - val_accuracy: 0.9836\n",
            "Epoch 31/100\n",
            "46/46 [==============================] - 62s 1s/step - loss: 0.0505 - accuracy: 0.9774 - val_loss: 0.0504 - val_accuracy: 0.9836\n",
            "Epoch 32/100\n",
            "46/46 [==============================] - 63s 1s/step - loss: 0.0481 - accuracy: 0.9781 - val_loss: 0.0311 - val_accuracy: 0.9836\n",
            "Epoch 33/100\n",
            "46/46 [==============================] - 63s 1s/step - loss: 0.0410 - accuracy: 0.9843 - val_loss: 0.0214 - val_accuracy: 0.9808\n",
            "Epoch 34/100\n",
            "46/46 [==============================] - 63s 1s/step - loss: 0.0642 - accuracy: 0.9740 - val_loss: 0.0374 - val_accuracy: 0.9836\n",
            "Epoch 35/100\n",
            "46/46 [==============================] - 64s 1s/step - loss: 0.0413 - accuracy: 0.9836 - val_loss: 0.0222 - val_accuracy: 0.9836\n",
            "Epoch 36/100\n",
            "46/46 [==============================] - 64s 1s/step - loss: 0.0505 - accuracy: 0.9761 - val_loss: 0.0483 - val_accuracy: 0.9808\n",
            "Epoch 37/100\n",
            "46/46 [==============================] - 65s 1s/step - loss: 0.0535 - accuracy: 0.9836 - val_loss: 0.0478 - val_accuracy: 0.9808\n",
            "Epoch 38/100\n",
            "46/46 [==============================] - 66s 1s/step - loss: 0.0442 - accuracy: 0.9843 - val_loss: 0.0244 - val_accuracy: 0.9863\n",
            "Epoch 39/100\n",
            "46/46 [==============================] - 65s 1s/step - loss: 0.0461 - accuracy: 0.9822 - val_loss: 0.0266 - val_accuracy: 0.9863\n",
            "Epoch 40/100\n",
            "46/46 [==============================] - 66s 1s/step - loss: 0.0508 - accuracy: 0.9788 - val_loss: 0.0341 - val_accuracy: 0.9863\n",
            "Epoch 41/100\n",
            "46/46 [==============================] - 67s 1s/step - loss: 0.0407 - accuracy: 0.9863 - val_loss: 0.0310 - val_accuracy: 0.9863\n",
            "Epoch 42/100\n",
            "46/46 [==============================] - 67s 1s/step - loss: 0.0468 - accuracy: 0.9850 - val_loss: 0.0235 - val_accuracy: 0.9890\n",
            "Epoch 43/100\n",
            "46/46 [==============================] - 67s 1s/step - loss: 0.0489 - accuracy: 0.9809 - val_loss: 0.0275 - val_accuracy: 0.9890\n",
            "Epoch 44/100\n",
            "46/46 [==============================] - 66s 1s/step - loss: 0.0367 - accuracy: 0.9863 - val_loss: 0.1825 - val_accuracy: 0.9699\n",
            "Epoch 45/100\n",
            "46/46 [==============================] - 66s 1s/step - loss: 0.0460 - accuracy: 0.9788 - val_loss: 0.0284 - val_accuracy: 0.9836\n",
            "Epoch 46/100\n",
            "46/46 [==============================] - 65s 1s/step - loss: 0.0390 - accuracy: 0.9843 - val_loss: 0.0217 - val_accuracy: 0.9890\n",
            "Epoch 47/100\n",
            "46/46 [==============================] - 66s 1s/step - loss: 0.0287 - accuracy: 0.9877 - val_loss: 0.0215 - val_accuracy: 0.9863\n",
            "Epoch 48/100\n",
            "46/46 [==============================] - 64s 1s/step - loss: 0.0448 - accuracy: 0.9836 - val_loss: 0.0694 - val_accuracy: 0.9836\n",
            "Epoch 49/100\n",
            "46/46 [==============================] - 63s 1s/step - loss: 0.0385 - accuracy: 0.9836 - val_loss: 0.0262 - val_accuracy: 0.9918\n",
            "Epoch 50/100\n",
            "46/46 [==============================] - 63s 1s/step - loss: 0.0354 - accuracy: 0.9843 - val_loss: 0.0325 - val_accuracy: 0.9890\n",
            "Epoch 51/100\n",
            "46/46 [==============================] - 63s 1s/step - loss: 0.0415 - accuracy: 0.9843 - val_loss: 0.0274 - val_accuracy: 0.9836\n",
            "Epoch 52/100\n",
            "46/46 [==============================] - 63s 1s/step - loss: 0.0358 - accuracy: 0.9877 - val_loss: 0.0221 - val_accuracy: 0.9973\n",
            "Epoch 53/100\n",
            "46/46 [==============================] - 63s 1s/step - loss: 0.0398 - accuracy: 0.9877 - val_loss: 0.0209 - val_accuracy: 0.9890\n",
            "Epoch 54/100\n",
            "46/46 [==============================] - 63s 1s/step - loss: 0.0350 - accuracy: 0.9870 - val_loss: 0.0597 - val_accuracy: 0.9836\n",
            "Epoch 55/100\n",
            "46/46 [==============================] - 63s 1s/step - loss: 0.0437 - accuracy: 0.9856 - val_loss: 0.1790 - val_accuracy: 0.9205\n",
            "Epoch 56/100\n",
            "46/46 [==============================] - 64s 1s/step - loss: 0.0461 - accuracy: 0.9843 - val_loss: 0.0305 - val_accuracy: 0.9863\n",
            "Epoch 57/100\n",
            "46/46 [==============================] - 66s 1s/step - loss: 0.0341 - accuracy: 0.9877 - val_loss: 0.0182 - val_accuracy: 0.9890\n",
            "Epoch 58/100\n",
            "46/46 [==============================] - 67s 1s/step - loss: 0.0396 - accuracy: 0.9877 - val_loss: 0.0675 - val_accuracy: 0.9808\n",
            "Epoch 59/100\n",
            "46/46 [==============================] - 67s 1s/step - loss: 0.0501 - accuracy: 0.9836 - val_loss: 0.0216 - val_accuracy: 0.9945\n",
            "Epoch 60/100\n",
            "46/46 [==============================] - 67s 1s/step - loss: 0.0296 - accuracy: 0.9877 - val_loss: 0.0152 - val_accuracy: 0.9973\n",
            "Epoch 61/100\n",
            "46/46 [==============================] - 67s 1s/step - loss: 0.0334 - accuracy: 0.9884 - val_loss: 0.0388 - val_accuracy: 0.9836\n",
            "Epoch 62/100\n",
            "46/46 [==============================] - 67s 1s/step - loss: 0.0295 - accuracy: 0.9918 - val_loss: 0.0152 - val_accuracy: 0.9973\n",
            "Epoch 63/100\n",
            "46/46 [==============================] - 67s 1s/step - loss: 0.0347 - accuracy: 0.9891 - val_loss: 0.0344 - val_accuracy: 0.9945\n",
            "Epoch 64/100\n",
            "46/46 [==============================] - 68s 1s/step - loss: 0.0435 - accuracy: 0.9877 - val_loss: 0.0180 - val_accuracy: 0.9945\n",
            "Epoch 65/100\n",
            "46/46 [==============================] - 67s 1s/step - loss: 0.0321 - accuracy: 0.9925 - val_loss: 0.0192 - val_accuracy: 0.9945\n",
            "Epoch 66/100\n",
            "46/46 [==============================] - 68s 1s/step - loss: 0.0484 - accuracy: 0.9850 - val_loss: 0.0234 - val_accuracy: 0.9836\n",
            "Epoch 67/100\n",
            "46/46 [==============================] - 69s 1s/step - loss: 0.0268 - accuracy: 0.9870 - val_loss: 0.0402 - val_accuracy: 0.9890\n",
            "Epoch 68/100\n",
            "46/46 [==============================] - 69s 2s/step - loss: 0.0601 - accuracy: 0.9795 - val_loss: 0.0636 - val_accuracy: 0.9534\n",
            "Epoch 69/100\n",
            "46/46 [==============================] - 68s 1s/step - loss: 0.0664 - accuracy: 0.9836 - val_loss: 0.1085 - val_accuracy: 0.9589\n",
            "Epoch 70/100\n",
            "46/46 [==============================] - 69s 1s/step - loss: 0.0322 - accuracy: 0.9911 - val_loss: 0.0210 - val_accuracy: 0.9973\n",
            "Epoch 71/100\n",
            "46/46 [==============================] - 69s 1s/step - loss: 0.0290 - accuracy: 0.9897 - val_loss: 0.0207 - val_accuracy: 0.9945\n",
            "Epoch 72/100\n",
            "46/46 [==============================] - 67s 1s/step - loss: 0.0377 - accuracy: 0.9884 - val_loss: 0.0210 - val_accuracy: 0.9918\n",
            "Epoch 73/100\n",
            "46/46 [==============================] - 68s 1s/step - loss: 0.0385 - accuracy: 0.9884 - val_loss: 0.0268 - val_accuracy: 0.9918\n",
            "Epoch 74/100\n",
            "46/46 [==============================] - 68s 1s/step - loss: 0.0226 - accuracy: 0.9918 - val_loss: 0.0151 - val_accuracy: 0.9945\n",
            "Epoch 75/100\n",
            "46/46 [==============================] - 68s 1s/step - loss: 0.0287 - accuracy: 0.9904 - val_loss: 0.0433 - val_accuracy: 0.9918\n",
            "Epoch 76/100\n",
            "46/46 [==============================] - 67s 1s/step - loss: 0.0285 - accuracy: 0.9918 - val_loss: 0.0259 - val_accuracy: 0.9863\n",
            "Epoch 77/100\n",
            "46/46 [==============================] - 67s 1s/step - loss: 0.0499 - accuracy: 0.9829 - val_loss: 0.0433 - val_accuracy: 0.9808\n",
            "Epoch 78/100\n",
            "46/46 [==============================] - 67s 1s/step - loss: 0.0211 - accuracy: 0.9911 - val_loss: 0.0259 - val_accuracy: 0.9890\n",
            "Epoch 79/100\n",
            "46/46 [==============================] - 66s 1s/step - loss: 0.0240 - accuracy: 0.9932 - val_loss: 0.0371 - val_accuracy: 0.9918\n",
            "Epoch 80/100\n",
            "46/46 [==============================] - 66s 1s/step - loss: 0.0286 - accuracy: 0.9897 - val_loss: 0.0186 - val_accuracy: 0.9945\n",
            "Epoch 81/100\n",
            "46/46 [==============================] - 65s 1s/step - loss: 0.0236 - accuracy: 0.9918 - val_loss: 0.0508 - val_accuracy: 0.9918\n",
            "Epoch 82/100\n",
            "46/46 [==============================] - 64s 1s/step - loss: 0.0267 - accuracy: 0.9904 - val_loss: 0.0292 - val_accuracy: 0.9836\n",
            "Epoch 83/100\n",
            "46/46 [==============================] - 64s 1s/step - loss: 0.0345 - accuracy: 0.9891 - val_loss: 0.0930 - val_accuracy: 0.9315\n",
            "Epoch 84/100\n",
            "46/46 [==============================] - 65s 1s/step - loss: 0.0419 - accuracy: 0.9856 - val_loss: 0.0751 - val_accuracy: 0.9726\n",
            "Epoch 85/100\n",
            "46/46 [==============================] - 66s 1s/step - loss: 0.0260 - accuracy: 0.9904 - val_loss: 0.0238 - val_accuracy: 0.9863\n",
            "Epoch 86/100\n",
            "46/46 [==============================] - 66s 1s/step - loss: 0.0335 - accuracy: 0.9911 - val_loss: 0.0172 - val_accuracy: 0.9945\n",
            "Epoch 87/100\n",
            "46/46 [==============================] - 67s 1s/step - loss: 0.0226 - accuracy: 0.9911 - val_loss: 0.0329 - val_accuracy: 0.9836\n",
            "Epoch 88/100\n",
            "46/46 [==============================] - 67s 1s/step - loss: 0.0189 - accuracy: 0.9925 - val_loss: 0.0137 - val_accuracy: 0.9918\n",
            "Epoch 89/100\n",
            "46/46 [==============================] - 67s 1s/step - loss: 0.0350 - accuracy: 0.9897 - val_loss: 0.0182 - val_accuracy: 0.9945\n",
            "Epoch 90/100\n",
            "46/46 [==============================] - 66s 1s/step - loss: 0.0330 - accuracy: 0.9891 - val_loss: 0.0155 - val_accuracy: 0.9918\n",
            "Epoch 91/100\n",
            "46/46 [==============================] - 66s 1s/step - loss: 0.0375 - accuracy: 0.9877 - val_loss: 0.0673 - val_accuracy: 0.9753\n",
            "Epoch 92/100\n",
            "46/46 [==============================] - 66s 1s/step - loss: 0.0202 - accuracy: 0.9938 - val_loss: 0.0251 - val_accuracy: 0.9918\n",
            "Epoch 93/100\n",
            "46/46 [==============================] - 67s 1s/step - loss: 0.0223 - accuracy: 0.9918 - val_loss: 0.0440 - val_accuracy: 0.9890\n",
            "Epoch 94/100\n",
            "46/46 [==============================] - 67s 1s/step - loss: 0.0189 - accuracy: 0.9918 - val_loss: 0.0504 - val_accuracy: 0.9808\n",
            "Epoch 95/100\n",
            "46/46 [==============================] - 67s 1s/step - loss: 0.1339 - accuracy: 0.9631 - val_loss: 0.1300 - val_accuracy: 0.9288\n",
            "Epoch 96/100\n",
            "46/46 [==============================] - 67s 1s/step - loss: 0.0691 - accuracy: 0.9795 - val_loss: 0.0577 - val_accuracy: 0.9781\n",
            "Epoch 97/100\n",
            "46/46 [==============================] - 66s 1s/step - loss: 0.0497 - accuracy: 0.9850 - val_loss: 0.0397 - val_accuracy: 0.9890\n",
            "Epoch 98/100\n",
            "46/46 [==============================] - 67s 1s/step - loss: 0.0370 - accuracy: 0.9863 - val_loss: 0.0159 - val_accuracy: 0.9973\n",
            "Epoch 99/100\n",
            "46/46 [==============================] - 66s 1s/step - loss: 0.0371 - accuracy: 0.9884 - val_loss: 0.0185 - val_accuracy: 0.9918\n",
            "Epoch 100/100\n",
            "46/46 [==============================] - 65s 1s/step - loss: 0.0213 - accuracy: 0.9925 - val_loss: 0.0313 - val_accuracy: 0.9890\n"
          ],
          "name": "stdout"
        },
        {
          "output_type": "display_data",
          "data": {
            "image/png": "[encoded data removed]",
            "text/plain": [
              "<Figure size 432x288 with 1 Axes>"
            ]
          },
          "metadata": {
            "tags": [],
            "needs_background": "light"
          }
        },
        {
          "output_type": "display_data",
          "data": {
            "image/png": "[encoded data removed]",
            "text/plain": [
              "<Figure size 432x288 with 1 Axes>"
            ]
          },
          "metadata": {
            "tags": [],
            "needs_background": "light"
          }
        },
        {
          "output_type": "error",
          "ename": "OSError",
          "evalue": "ignored",
          "traceback": [
            "\u001b[0;31m---------------------------------------------------------------------------\u001b[0m",
            "\u001b[0;31mOSError\u001b[0m                                   Traceback (most recent call last)",
            "\u001b[0;32m<ipython-input-8-3119050f7a58>\u001b[0m in \u001b[0;36m<module>\u001b[0;34m()\u001b[0m\n\u001b[1;32m      5\u001b[0m \u001b[0mTrain_CNN_Model\u001b[0m\u001b[0;34m(\u001b[0m\u001b[0mmodel\u001b[0m\u001b[0;34m)\u001b[0m\u001b[0;34m\u001b[0m\u001b[0;34m\u001b[0m\u001b[0m\n\u001b[1;32m      6\u001b[0m \u001b[0;34m\u001b[0m\u001b[0m\n\u001b[0;32m----> 7\u001b[0;31m \u001b[0mEvaluate_CNN_Model\u001b[0m\u001b[0;34m(\u001b[0m\u001b[0;34m)\u001b[0m\u001b[0;34m\u001b[0m\u001b[0;34m\u001b[0m\u001b[0m\n\u001b[0m",
            "\u001b[0;32m<ipython-input-7-d74028e59532>\u001b[0m in \u001b[0;36mEvaluate_CNN_Model\u001b[0;34m()\u001b[0m\n\u001b[1;32m      5\u001b[0m \u001b[0;34m\u001b[0m\u001b[0m\n\u001b[1;32m      6\u001b[0m     \u001b[0;31m# load model\u001b[0m\u001b[0;34m\u001b[0m\u001b[0;34m\u001b[0m\u001b[0;34m\u001b[0m\u001b[0m\n\u001b[0;32m----> 7\u001b[0;31m     \u001b[0mmodel\u001b[0m \u001b[0;34m=\u001b[0m \u001b[0mload_model\u001b[0m\u001b[0;34m(\u001b[0m\u001b[0;34m'medical_diagnosis_cnn_model.h5'\u001b[0m\u001b[0;34m)\u001b[0m\u001b[0;34m\u001b[0m\u001b[0;34m\u001b[0m\u001b[0m\n\u001b[0m\u001b[1;32m      8\u001b[0m \u001b[0;34m\u001b[0m\u001b[0m\n\u001b[1;32m      9\u001b[0m     \u001b[0;31m# load test data\u001b[0m\u001b[0;34m\u001b[0m\u001b[0;34m\u001b[0m\u001b[0;34m\u001b[0m\u001b[0m\n",
            "\u001b[0;32m/usr/local/lib/python3.6/dist-packages/tensorflow/python/keras/saving/save.py\u001b[0m in \u001b[0;36mload_model\u001b[0;34m(filepath, custom_objects, compile, options)\u001b[0m\n\u001b[1;32m    184\u001b[0m     \u001b[0mfilepath\u001b[0m \u001b[0;34m=\u001b[0m \u001b[0mpath_to_string\u001b[0m\u001b[0;34m(\u001b[0m\u001b[0mfilepath\u001b[0m\u001b[0;34m)\u001b[0m\u001b[0;34m\u001b[0m\u001b[0;34m\u001b[0m\u001b[0m\n\u001b[1;32m    185\u001b[0m     \u001b[0;32mif\u001b[0m \u001b[0misinstance\u001b[0m\u001b[0;34m(\u001b[0m\u001b[0mfilepath\u001b[0m\u001b[0;34m,\u001b[0m \u001b[0msix\u001b[0m\u001b[0;34m.\u001b[0m\u001b[0mstring_types\u001b[0m\u001b[0;34m)\u001b[0m\u001b[0;34m:\u001b[0m\u001b[0;34m\u001b[0m\u001b[0;34m\u001b[0m\u001b[0m\n\u001b[0;32m--> 186\u001b[0;31m       \u001b[0mloader_impl\u001b[0m\u001b[0;34m.\u001b[0m\u001b[0mparse_saved_model\u001b[0m\u001b[0;34m(\u001b[0m\u001b[0mfilepath\u001b[0m\u001b[0;34m)\u001b[0m\u001b[0;34m\u001b[0m\u001b[0;34m\u001b[0m\u001b[0m\n\u001b[0m\u001b[1;32m    187\u001b[0m       \u001b[0;32mreturn\u001b[0m \u001b[0msaved_model_load\u001b[0m\u001b[0;34m.\u001b[0m\u001b[0mload\u001b[0m\u001b[0;34m(\u001b[0m\u001b[0mfilepath\u001b[0m\u001b[0;34m,\u001b[0m \u001b[0mcompile\u001b[0m\u001b[0;34m,\u001b[0m \u001b[0moptions\u001b[0m\u001b[0;34m)\u001b[0m\u001b[0;34m\u001b[0m\u001b[0;34m\u001b[0m\u001b[0m\n\u001b[1;32m    188\u001b[0m \u001b[0;34m\u001b[0m\u001b[0m\n",
            "\u001b[0;32m/usr/local/lib/python3.6/dist-packages/tensorflow/python/saved_model/loader_impl.py\u001b[0m in \u001b[0;36mparse_saved_model\u001b[0;34m(export_dir)\u001b[0m\n\u001b[1;32m    111\u001b[0m                   (export_dir,\n\u001b[1;32m    112\u001b[0m                    \u001b[0mconstants\u001b[0m\u001b[0;34m.\u001b[0m\u001b[0mSAVED_MODEL_FILENAME_PBTXT\u001b[0m\u001b[0;34m,\u001b[0m\u001b[0;34m\u001b[0m\u001b[0;34m\u001b[0m\u001b[0m\n\u001b[0;32m--> 113\u001b[0;31m                    constants.SAVED_MODEL_FILENAME_PB))\n\u001b[0m\u001b[1;32m    114\u001b[0m \u001b[0;34m\u001b[0m\u001b[0m\n\u001b[1;32m    115\u001b[0m \u001b[0;34m\u001b[0m\u001b[0m\n",
            "\u001b[0;31mOSError\u001b[0m: SavedModel file does not exist at: medical_diagnosis_cnn_model.h5/{saved_model.pbtxt|saved_model.pb}"
          ]
        }
      ]
    },
    {
      "cell_type": "code",
      "metadata": {
        "colab": {
          "base_uri": "https://localhost:8080/",
          "height": 639
        },
        "id": "iABIKL5DJ9Rj",
        "outputId": "ec0641d3-2a9b-4357-bab2-3c2a4f9ed426"
      },
      "source": [
        "Evaluate_CNN_Model()"
      ],
      "execution_count": 10,
      "outputs": [
        {
          "output_type": "stream",
          "text": [
            "Found 31 images belonging to 2 classes.\n",
            "WARNING:tensorflow:From <ipython-input-9-b92c72c76bf0>:23: Model.predict_generator (from tensorflow.python.keras.engine.training) is deprecated and will be removed in a future version.\n",
            "Instructions for updating:\n",
            "Please use Model.predict, which supports generators.\n"
          ],
          "name": "stdout"
        },
        {
          "output_type": "stream",
          "text": [
            "/usr/local/lib/python3.6/dist-packages/keras_preprocessing/image/image_data_generator.py:720: UserWarning: This ImageDataGenerator specifies `featurewise_center`, but it hasn't been fit on any training data. Fit it first by calling `.fit(numpy_data)`.\n",
            "  warnings.warn('This ImageDataGenerator specifies '\n",
            "/usr/local/lib/python3.6/dist-packages/keras_preprocessing/image/image_data_generator.py:728: UserWarning: This ImageDataGenerator specifies `featurewise_std_normalization`, but it hasn't been fit on any training data. Fit it first by calling `.fit(numpy_data)`.\n",
            "  warnings.warn('This ImageDataGenerator specifies '\n"
          ],
          "name": "stderr"
        },
        {
          "output_type": "stream",
          "text": [
            "1/1 [==============================] - 0s 3ms/step\n"
          ],
          "name": "stdout"
        },
        {
          "output_type": "stream",
          "text": [
            "No handles with labels found to put in legend.\n"
          ],
          "name": "stderr"
        },
        {
          "output_type": "stream",
          "text": [
            "\n",
            "Confusion Matrix\n",
            " -------------------------\n",
            "[[14  1]\n",
            " [ 1 15]]\n",
            "Accuracy: 0.935484\n",
            "Precision: 0.937500\n",
            "Recall: 0.937500\n",
            "F1 score: 0.937500\n",
            "ROC AUC: 0.975000\n"
          ],
          "name": "stdout"
        },
        {
          "output_type": "display_data",
          "data": {
            "image/png": "[encoded data removed]",
            "text/plain": [
              "<Figure size 432x288 with 1 Axes>"
            ]
          },
          "metadata": {
            "tags": [],
            "needs_background": "light"
          }
        }
      ]
    }
  ]
}