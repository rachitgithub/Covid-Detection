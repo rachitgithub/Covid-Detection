{
  "nbformat": 4,
  "nbformat_minor": 0,
  "metadata": {
    "colab": {
      "name": "COVID19Training_Adam.ipynb",
      "provenance": [],
      "collapsed_sections": [],
      "include_colab_link": true
    },
    "kernelspec": {
      "name": "python3",
      "display_name": "Python 3"
    },
    "accelerator": "GPU"
  },
  "cells": [
    {
      "cell_type": "markdown",
      "metadata": {
        "id": "view-in-github",
        "colab_type": "text"
      },
      "source": [
        "<a href=\"https://colab.research.google.com/github/rachitgithub/Covid-Detection/blob/main/COVID19Training_Adam.ipynb\" target=\"_parent\"><img src=\"https://colab.research.google.com/assets/colab-badge.svg\" alt=\"Open In Colab\"/></a>"
      ]
    },
    {
      "cell_type": "markdown",
      "metadata": {
        "id": "-gyKOi8EPITT"
      },
      "source": [
        "# **Install TensorFlow GPU**"
      ]
    },
    {
      "cell_type": "code",
      "metadata": {
        "id": "UboFrn87qNVe",
        "colab": {
          "base_uri": "https://localhost:8080/"
        },
        "outputId": "d9c7235a-a054-4900-a146-6efb9da87de2"
      },
      "source": [
        "!pip install tensorflow-gpu"
      ],
      "execution_count": 1,
      "outputs": [
        {
          "output_type": "stream",
          "text": [
            "Collecting tensorflow-gpu\n",
            "\u001b[?25l  Downloading https://files.pythonhosted.org/packages/18/99/ac32fd13d56e40d4c3e6150030132519997c0bb1f06f448d970e81b177e5/tensorflow_gpu-2.3.1-cp36-cp36m-manylinux2010_x86_64.whl (320.4MB)\n",
            "\u001b[K     |████████████████████████████████| 320.4MB 54kB/s \n",
            "\u001b[?25hRequirement already satisfied: six>=1.12.0 in /usr/local/lib/python3.6/dist-packages (from tensorflow-gpu) (1.15.0)\n",
            "Requirement already satisfied: protobuf>=3.9.2 in /usr/local/lib/python3.6/dist-packages (from tensorflow-gpu) (3.12.4)\n",
            "Requirement already satisfied: google-pasta>=0.1.8 in /usr/local/lib/python3.6/dist-packages (from tensorflow-gpu) (0.2.0)\n",
            "Requirement already satisfied: tensorboard<3,>=2.3.0 in /usr/local/lib/python3.6/dist-packages (from tensorflow-gpu) (2.3.0)\n",
            "Requirement already satisfied: h5py<2.11.0,>=2.10.0 in /usr/local/lib/python3.6/dist-packages (from tensorflow-gpu) (2.10.0)\n",
            "Requirement already satisfied: grpcio>=1.8.6 in /usr/local/lib/python3.6/dist-packages (from tensorflow-gpu) (1.33.2)\n",
            "Requirement already satisfied: astunparse==1.6.3 in /usr/local/lib/python3.6/dist-packages (from tensorflow-gpu) (1.6.3)\n",
            "Requirement already satisfied: numpy<1.19.0,>=1.16.0 in /usr/local/lib/python3.6/dist-packages (from tensorflow-gpu) (1.18.5)\n",
            "Requirement already satisfied: keras-preprocessing<1.2,>=1.1.1 in /usr/local/lib/python3.6/dist-packages (from tensorflow-gpu) (1.1.2)\n",
            "Requirement already satisfied: gast==0.3.3 in /usr/local/lib/python3.6/dist-packages (from tensorflow-gpu) (0.3.3)\n",
            "Requirement already satisfied: absl-py>=0.7.0 in /usr/local/lib/python3.6/dist-packages (from tensorflow-gpu) (0.10.0)\n",
            "Requirement already satisfied: tensorflow-estimator<2.4.0,>=2.3.0 in /usr/local/lib/python3.6/dist-packages (from tensorflow-gpu) (2.3.0)\n",
            "Requirement already satisfied: opt-einsum>=2.3.2 in /usr/local/lib/python3.6/dist-packages (from tensorflow-gpu) (3.3.0)\n",
            "Requirement already satisfied: termcolor>=1.1.0 in /usr/local/lib/python3.6/dist-packages (from tensorflow-gpu) (1.1.0)\n",
            "Requirement already satisfied: wheel>=0.26 in /usr/local/lib/python3.6/dist-packages (from tensorflow-gpu) (0.35.1)\n",
            "Requirement already satisfied: wrapt>=1.11.1 in /usr/local/lib/python3.6/dist-packages (from tensorflow-gpu) (1.12.1)\n",
            "Requirement already satisfied: setuptools in /usr/local/lib/python3.6/dist-packages (from protobuf>=3.9.2->tensorflow-gpu) (50.3.2)\n",
            "Requirement already satisfied: google-auth-oauthlib<0.5,>=0.4.1 in /usr/local/lib/python3.6/dist-packages (from tensorboard<3,>=2.3.0->tensorflow-gpu) (0.4.2)\n",
            "Requirement already satisfied: tensorboard-plugin-wit>=1.6.0 in /usr/local/lib/python3.6/dist-packages (from tensorboard<3,>=2.3.0->tensorflow-gpu) (1.7.0)\n",
            "Requirement already satisfied: werkzeug>=0.11.15 in /usr/local/lib/python3.6/dist-packages (from tensorboard<3,>=2.3.0->tensorflow-gpu) (1.0.1)\n",
            "Requirement already satisfied: google-auth<2,>=1.6.3 in /usr/local/lib/python3.6/dist-packages (from tensorboard<3,>=2.3.0->tensorflow-gpu) (1.17.2)\n",
            "Requirement already satisfied: markdown>=2.6.8 in /usr/local/lib/python3.6/dist-packages (from tensorboard<3,>=2.3.0->tensorflow-gpu) (3.3.3)\n",
            "Requirement already satisfied: requests<3,>=2.21.0 in /usr/local/lib/python3.6/dist-packages (from tensorboard<3,>=2.3.0->tensorflow-gpu) (2.23.0)\n",
            "Requirement already satisfied: requests-oauthlib>=0.7.0 in /usr/local/lib/python3.6/dist-packages (from google-auth-oauthlib<0.5,>=0.4.1->tensorboard<3,>=2.3.0->tensorflow-gpu) (1.3.0)\n",
            "Requirement already satisfied: cachetools<5.0,>=2.0.0 in /usr/local/lib/python3.6/dist-packages (from google-auth<2,>=1.6.3->tensorboard<3,>=2.3.0->tensorflow-gpu) (4.1.1)\n",
            "Requirement already satisfied: pyasn1-modules>=0.2.1 in /usr/local/lib/python3.6/dist-packages (from google-auth<2,>=1.6.3->tensorboard<3,>=2.3.0->tensorflow-gpu) (0.2.8)\n",
            "Requirement already satisfied: rsa<5,>=3.1.4; python_version >= \"3\" in /usr/local/lib/python3.6/dist-packages (from google-auth<2,>=1.6.3->tensorboard<3,>=2.3.0->tensorflow-gpu) (4.6)\n",
            "Requirement already satisfied: importlib-metadata; python_version < \"3.8\" in /usr/local/lib/python3.6/dist-packages (from markdown>=2.6.8->tensorboard<3,>=2.3.0->tensorflow-gpu) (2.0.0)\n",
            "Requirement already satisfied: urllib3!=1.25.0,!=1.25.1,<1.26,>=1.21.1 in /usr/local/lib/python3.6/dist-packages (from requests<3,>=2.21.0->tensorboard<3,>=2.3.0->tensorflow-gpu) (1.24.3)\n",
            "Requirement already satisfied: certifi>=2017.4.17 in /usr/local/lib/python3.6/dist-packages (from requests<3,>=2.21.0->tensorboard<3,>=2.3.0->tensorflow-gpu) (2020.11.8)\n",
            "Requirement already satisfied: chardet<4,>=3.0.2 in /usr/local/lib/python3.6/dist-packages (from requests<3,>=2.21.0->tensorboard<3,>=2.3.0->tensorflow-gpu) (3.0.4)\n",
            "Requirement already satisfied: idna<3,>=2.5 in /usr/local/lib/python3.6/dist-packages (from requests<3,>=2.21.0->tensorboard<3,>=2.3.0->tensorflow-gpu) (2.10)\n",
            "Requirement already satisfied: oauthlib>=3.0.0 in /usr/local/lib/python3.6/dist-packages (from requests-oauthlib>=0.7.0->google-auth-oauthlib<0.5,>=0.4.1->tensorboard<3,>=2.3.0->tensorflow-gpu) (3.1.0)\n",
            "Requirement already satisfied: pyasn1<0.5.0,>=0.4.6 in /usr/local/lib/python3.6/dist-packages (from pyasn1-modules>=0.2.1->google-auth<2,>=1.6.3->tensorboard<3,>=2.3.0->tensorflow-gpu) (0.4.8)\n",
            "Requirement already satisfied: zipp>=0.5 in /usr/local/lib/python3.6/dist-packages (from importlib-metadata; python_version < \"3.8\"->markdown>=2.6.8->tensorboard<3,>=2.3.0->tensorflow-gpu) (3.4.0)\n",
            "Installing collected packages: tensorflow-gpu\n",
            "Successfully installed tensorflow-gpu-2.3.1\n"
          ],
          "name": "stdout"
        }
      ]
    },
    {
      "cell_type": "markdown",
      "metadata": {
        "id": "FLc0x1XRPPVm"
      },
      "source": [
        "# **Import GDRIVE**"
      ]
    },
    {
      "cell_type": "code",
      "metadata": {
        "colab": {
          "base_uri": "https://localhost:8080/"
        },
        "id": "2SXklTJgqQyV",
        "outputId": "4ddbffb8-5ce6-49fd-e70f-5c6280c94771"
      },
      "source": [
        "from google.colab import drive\n",
        "drive.mount('/content/drive')"
      ],
      "execution_count": 1,
      "outputs": [
        {
          "output_type": "stream",
          "text": [
            "Mounted at /content/drive\n"
          ],
          "name": "stdout"
        }
      ]
    },
    {
      "cell_type": "markdown",
      "metadata": {
        "id": "M55jhmwBPTGp"
      },
      "source": [
        "# **Import Tensor Flow**"
      ]
    },
    {
      "cell_type": "code",
      "metadata": {
        "colab": {
          "base_uri": "https://localhost:8080/"
        },
        "id": "yPOllQPgqUky",
        "outputId": "ffb17004-9305-4404-ae1c-3720975f0111"
      },
      "source": [
        "import tensorflow as tf\n",
        "tf.test.gpu_device_name()\n",
        "print(tf.__version__)"
      ],
      "execution_count": 2,
      "outputs": [
        {
          "output_type": "stream",
          "text": [
            "2.3.0\n"
          ],
          "name": "stdout"
        }
      ]
    },
    {
      "cell_type": "markdown",
      "metadata": {
        "id": "qf3UaO-sPXkz"
      },
      "source": [
        "# **Import Keras Libraries**"
      ]
    },
    {
      "cell_type": "code",
      "metadata": {
        "id": "O6d6JctTqdW2"
      },
      "source": [
        "from keras.models import Sequential,load_model\n",
        "from keras.layers import Conv2D,Activation, MaxPooling2D,Dense,Flatten\n",
        "from keras.optimizers import Adam\n",
        "from keras.preprocessing.image import ImageDataGenerator\n",
        "\n",
        "from sklearn.metrics import accuracy_score,roc_curve,confusion_matrix,precision_score,recall_score,f1_score,roc_auc_score\n",
        "import matplotlib.pyplot as plt\n",
        "import matplotlib.pyplot as plt_False_Positive_vs_True_Positive"
      ],
      "execution_count": 3,
      "outputs": []
    },
    {
      "cell_type": "markdown",
      "metadata": {
        "id": "BoGghyDrPcMl"
      },
      "source": [
        "# **Build Sequential Adam CNN Model**\n"
      ]
    },
    {
      "cell_type": "code",
      "metadata": {
        "id": "NHfmSsyapGlw"
      },
      "source": [
        "def Build_CNN_Model():\n",
        "\n",
        "    # -------------------------------------------------------------------------\n",
        "    #                        Build CNN Model \n",
        "    # -------------------------------------------------------------------------\n",
        "\n",
        "    \n",
        "    model = Sequential()\n",
        "    \n",
        "    #  First Block of CNN\n",
        "    model.add(Conv2D(8, (5, 5), padding='same', input_shape=(224, 224, 3)))  \n",
        "    model.add(Activation('relu'))\n",
        "    model.add(MaxPooling2D((2, 2)))\n",
        "    \n",
        "    #  Second Block of CNN\n",
        "    model.add(Conv2D(8, (3, 3),  padding='same'))  \n",
        "    model.add(Activation('relu'))\n",
        "    model.add(MaxPooling2D((2, 2)))\n",
        "\n",
        "    #  Third Block of CNN\n",
        "    model.add(Conv2D(16, (3, 3),  padding='same'))  \n",
        "    model.add(Activation('relu'))\n",
        "\n",
        "\n",
        "    #  Forth Block of CNN\n",
        "    model.add(Conv2D(16, (3, 3),  padding='same'))  \n",
        "    model.add(Activation('relu'))\n",
        "    model.add(MaxPooling2D((2, 2)))\n",
        "\n",
        "    \n",
        "    #  Flatten and Fully Connected Layer\n",
        "    model.add(Flatten())\n",
        "    model.add(Dense(10))\n",
        "    model.add(Activation('relu'))\n",
        "     \n",
        "    #  Softmax Classifier\n",
        "    model.add(Dense(2))\n",
        "    model.add(Activation('softmax'))\n",
        "        \n",
        "    #  Display model\n",
        "    model.summary()\n",
        "    \n",
        "\t  # compile model\n",
        "\n",
        "    opt = Adam(learning_rate=0.001, beta_1=0.9, beta_2=0.999)\n",
        "    model.compile(optimizer=opt, loss='categorical_crossentropy', metrics=['accuracy'])\n",
        "    \n",
        "    return model \n"
      ],
      "execution_count": 4,
      "outputs": []
    },
    {
      "cell_type": "markdown",
      "metadata": {
        "id": "EeLn5RJZPnKl"
      },
      "source": [
        "# **Train Sequential Adam CNN Model**\n"
      ]
    },
    {
      "cell_type": "code",
      "metadata": {
        "id": "iT6jo0OmquCL"
      },
      "source": [
        "# train and evaluate cnn model\n",
        "def Train_CNN_Model(model):\n",
        "    \n",
        "    # -------------------------------------------------------------------------\n",
        "    #                        Train CNN Model \n",
        "    # -------------------------------------------------------------------------\n",
        "    \n",
        "    # create data generators    \n",
        "    train_datagen = ImageDataGenerator(\n",
        "                                     rescale=1.0/255.0,\n",
        "                                     featurewise_center= True,\n",
        "                                     featurewise_std_normalization = True)\n",
        "    \n",
        "    valid_datagen = ImageDataGenerator(\n",
        "                                     rescale=1.0/255.0,\n",
        "                                     featurewise_center= True,\n",
        "                                     featurewise_std_normalization = True)\n",
        "    \n",
        "    \n",
        "   \n",
        "   \n",
        "    # prepare iterators\n",
        "    batch_size=32\n",
        "    train_it = train_datagen.flow_from_directory('/content/drive/MyDrive/COVID-19-Deep-Learning-Project-Colab/Dataset/train/',classes =('Normal','Covid'),batch_size=batch_size, target_size=(224, 224))\n",
        "    valid_it = valid_datagen.flow_from_directory('/content/drive/MyDrive/COVID-19-Deep-Learning-Project-Colab/Dataset/val/',classes =('Normal','Covid'),batch_size=batch_size, target_size=(224, 224))\n",
        "\n",
        "\n",
        "    epochs=100;\n",
        "    \n",
        "    history = model.fit_generator(train_it, steps_per_epoch=len(train_it),\n",
        "\t\tvalidation_data=valid_it, validation_steps=len(valid_it), epochs=epochs, verbose=1)\n",
        "    \n",
        "    \n",
        "    #  \"Accuracy\"\n",
        "    plt.plot(history.history['accuracy'])\n",
        "    plt.plot(history.history['val_accuracy'])\n",
        "    plt.title('model accuracy')\n",
        "    plt.ylabel('accuracy')\n",
        "    plt.xlabel('epoch')\n",
        "    plt.legend(['train', 'validation'], loc='upper left')\n",
        "    plt.show()\n",
        "    \n",
        "    # \"Loss\"\n",
        "    plt.plot(history.history['loss'])\n",
        "    plt.plot(history.history['val_loss'])\n",
        "    plt.title('model loss')\n",
        "    plt.ylabel('loss')\n",
        "    plt.xlabel('epoch')\n",
        "    plt.legend(['train', 'validation'], loc='upper left')\n",
        "    plt.show()\n",
        "\n",
        "\t# save model\n",
        "    model.save('/content/drive/MyDrive/COVID-19-Deep-Learning-Project-Colab/saved_models/CoVID19-sequential-adam_cnn_model.h5')\n"
      ],
      "execution_count": 5,
      "outputs": []
    },
    {
      "cell_type": "markdown",
      "metadata": {
        "id": "akk2CJw7Pp6O"
      },
      "source": [
        "# **Evaluate Sequential CNN Model**\n"
      ]
    },
    {
      "cell_type": "code",
      "metadata": {
        "id": "5eW1T2Ekq5MM"
      },
      "source": [
        "def Evaluate_CNN_Model():\n",
        "    # -------------------------------------------------------------------------\n",
        "    #                        Evaluate CNN Model \n",
        "    # -------------------------------------------------------------------------\n",
        "    \n",
        "    # load model\n",
        "    model = load_model('/content/drive/MyDrive/COVID-19-Deep-Learning-Project-Colab/saved_models/CoVID19-sequential-adam_cnn_model.h5')\n",
        "\n",
        "    \n",
        "    # load test data\n",
        "    batch_size=32\n",
        "    test_datagen = ImageDataGenerator(\n",
        "                                     rescale=1.0/255.0,\n",
        "                                     featurewise_center= True,\n",
        "                                     featurewise_std_normalization = True)\n",
        "    \n",
        "    test_it = test_datagen.flow_from_directory('/content/drive/MyDrive/COVID-19-Deep-Learning-Project-Colab/Dataset/test/',classes =('Normal','Covid'), \n",
        "                                               shuffle=False,batch_size=batch_size, target_size=(224, 224))\n",
        "    \n",
        "    \n",
        "    y_true = test_it.classes;\n",
        "\n",
        "    y_pred = model.predict_generator(test_it, steps=len(test_it), verbose=1)\n",
        "\n",
        "    \n",
        "    y_pred_prob = y_pred[:,1]\n",
        "\n",
        "     \n",
        "    y_pred_binary =  y_pred_prob > 0.5\n",
        "   \n",
        "    #Confution Matrix    \n",
        "    print('\\nConfusion Matrix\\n -------------------------')    \n",
        "    print(confusion_matrix(y_true,y_pred_binary));\n",
        "    \n",
        "    # accuracy: (tp + tn) / (p + n)\n",
        "    accuracy = accuracy_score(y_true, y_pred_binary)\n",
        "    print('Accuracy: %f' % accuracy)\n",
        "    \n",
        "    \n",
        "    # precision tp / (tp + fp)\n",
        "    precision = precision_score(y_true, y_pred_binary)\n",
        "    print('Precision: %f' % precision)\n",
        "    \n",
        "    # recall: tp / (tp + fn)\n",
        "    recall = recall_score(y_true, y_pred_binary)\n",
        "    print('Recall: %f' % recall)\n",
        "    \n",
        "    # f1: 2 tp / (2 tp + fp + fn)\n",
        "    f1 = f1_score(y_true, y_pred_binary)\n",
        "    print('F1 score: %f' % f1)    \n",
        "       \n",
        "    # ROC AUC\n",
        "    auc = roc_auc_score(y_true, y_pred_prob)\n",
        "    print('ROC AUC: %f' % auc)\n",
        "    \n",
        "    \n",
        "    # calculate roc curves\n",
        "    fpr, tpr, _ = roc_curve(y_true, y_pred_prob)\n",
        "        \n",
        "    # plot the roc curve for the model\n",
        "    plt.figure()\n",
        "    plt_False_Positive_vs_True_Positive.plot(fpr, tpr, linestyle='--', label='')\n",
        "    \n",
        "    # axis labels\n",
        "    plt_False_Positive_vs_True_Positive.xlabel('False Positive Rate')\n",
        "    plt_False_Positive_vs_True_Positive.ylabel('True Positive Rate')\n",
        "       \n",
        "    # show the legend\n",
        "    plt_False_Positive_vs_True_Positive.legend()\n",
        "    # show the plot\n",
        "    plt_False_Positive_vs_True_Positive.show()\n",
        "    \n",
        "          #for plotting CM graph\n",
        "    cm = confusion_matrix(y_true,y_pred_binary)\n",
        "\n",
        "    def plot_confusion_matrix(cm, classes,\n",
        "                        normalize=False,\n",
        "                        title='Confusion matrix for Adam Optimizer CNN',\n",
        "                        cmap=plt.cm.Oranges):\n",
        " \n",
        "      plt.imshow(cm, interpolation='nearest', cmap=cmap)\n",
        "      plt.title(title)\n",
        "      plt.colorbar()\n",
        "      tick_marks = np.arange(len(classes))\n",
        "      plt.xticks(tick_marks, classes, rotation=45)\n",
        "      plt.yticks(tick_marks, classes)\n",
        "\n",
        "\n",
        "\n",
        "    thresh = cm.max() / 2.\n",
        "    for i, j in itertools.product(range(cm.shape[0]), range(cm.shape[1])):\n",
        "        plt.text(j, i, cm[i, j],\n",
        "            horizontalalignment=\"center\",\n",
        "            color=\"white\" if cm[i, j] > thresh else \"black\")\n",
        "\n",
        "    plt.tight_layout()\n",
        "    plt.ylabel('Predicted Values')\n",
        "    plt.xlabel('True Values')\n",
        "    cm_plot_labels = ['No Covid','Has Covid']\n",
        "    plot_confusion_matrix(cm=cm, classes=cm_plot_labels, title='Confusion matrix for Adam Optimizer CNN')\n"
      ],
      "execution_count": 16,
      "outputs": []
    },
    {
      "cell_type": "code",
      "metadata": {
        "colab": {
          "base_uri": "https://localhost:8080/",
          "height": 1000
        },
        "id": "PqwwYBQsqysR",
        "outputId": "588788a0-6476-4472-d884-4e3c31456609"
      },
      "source": [
        "# main entry\n",
        "    \n",
        "model = Build_CNN_Model()\n",
        "\n",
        "Train_CNN_Model(model)"
      ],
      "execution_count": 7,
      "outputs": [
        {
          "output_type": "stream",
          "text": [
            "Model: \"sequential\"\n",
            "_________________________________________________________________\n",
            "Layer (type)                 Output Shape              Param #   \n",
            "=================================================================\n",
            "conv2d (Conv2D)              (None, 224, 224, 8)       608       \n",
            "_________________________________________________________________\n",
            "activation (Activation)      (None, 224, 224, 8)       0         \n",
            "_________________________________________________________________\n",
            "max_pooling2d (MaxPooling2D) (None, 112, 112, 8)       0         \n",
            "_________________________________________________________________\n",
            "conv2d_1 (Conv2D)            (None, 112, 112, 8)       584       \n",
            "_________________________________________________________________\n",
            "activation_1 (Activation)    (None, 112, 112, 8)       0         \n",
            "_________________________________________________________________\n",
            "max_pooling2d_1 (MaxPooling2 (None, 56, 56, 8)         0         \n",
            "_________________________________________________________________\n",
            "conv2d_2 (Conv2D)            (None, 56, 56, 16)        1168      \n",
            "_________________________________________________________________\n",
            "activation_2 (Activation)    (None, 56, 56, 16)        0         \n",
            "_________________________________________________________________\n",
            "conv2d_3 (Conv2D)            (None, 56, 56, 16)        2320      \n",
            "_________________________________________________________________\n",
            "activation_3 (Activation)    (None, 56, 56, 16)        0         \n",
            "_________________________________________________________________\n",
            "max_pooling2d_2 (MaxPooling2 (None, 28, 28, 16)        0         \n",
            "_________________________________________________________________\n",
            "flatten (Flatten)            (None, 12544)             0         \n",
            "_________________________________________________________________\n",
            "dense (Dense)                (None, 10)                125450    \n",
            "_________________________________________________________________\n",
            "activation_4 (Activation)    (None, 10)                0         \n",
            "_________________________________________________________________\n",
            "dense_1 (Dense)              (None, 2)                 22        \n",
            "_________________________________________________________________\n",
            "activation_5 (Activation)    (None, 2)                 0         \n",
            "=================================================================\n",
            "Total params: 130,152\n",
            "Trainable params: 130,152\n",
            "Non-trainable params: 0\n",
            "_________________________________________________________________\n",
            "Found 1463 images belonging to 2 classes.\n",
            "Found 365 images belonging to 2 classes.\n",
            "WARNING:tensorflow:From <ipython-input-5-c9036301da1a>:31: Model.fit_generator (from tensorflow.python.keras.engine.training) is deprecated and will be removed in a future version.\n",
            "Instructions for updating:\n",
            "Please use Model.fit, which supports generators.\n"
          ],
          "name": "stdout"
        },
        {
          "output_type": "stream",
          "text": [
            "/usr/local/lib/python3.6/dist-packages/keras_preprocessing/image/image_data_generator.py:720: UserWarning: This ImageDataGenerator specifies `featurewise_center`, but it hasn't been fit on any training data. Fit it first by calling `.fit(numpy_data)`.\n",
            "  warnings.warn('This ImageDataGenerator specifies '\n",
            "/usr/local/lib/python3.6/dist-packages/keras_preprocessing/image/image_data_generator.py:728: UserWarning: This ImageDataGenerator specifies `featurewise_std_normalization`, but it hasn't been fit on any training data. Fit it first by calling `.fit(numpy_data)`.\n",
            "  warnings.warn('This ImageDataGenerator specifies '\n"
          ],
          "name": "stderr"
        },
        {
          "output_type": "stream",
          "text": [
            "Epoch 1/100\n",
            "46/46 [==============================] - 586s 13s/step - loss: 0.4073 - accuracy: 0.8216 - val_loss: 0.1736 - val_accuracy: 0.9370\n",
            "Epoch 2/100\n",
            "46/46 [==============================] - 54s 1s/step - loss: 0.0969 - accuracy: 0.9610 - val_loss: 0.0512 - val_accuracy: 0.9781\n",
            "Epoch 3/100\n",
            "46/46 [==============================] - 55s 1s/step - loss: 0.0570 - accuracy: 0.9795 - val_loss: 0.0492 - val_accuracy: 0.9753\n",
            "Epoch 4/100\n",
            "46/46 [==============================] - 55s 1s/step - loss: 0.0832 - accuracy: 0.9672 - val_loss: 0.0496 - val_accuracy: 0.9863\n",
            "Epoch 5/100\n",
            "46/46 [==============================] - 55s 1s/step - loss: 0.0534 - accuracy: 0.9856 - val_loss: 0.0656 - val_accuracy: 0.9699\n",
            "Epoch 6/100\n",
            "46/46 [==============================] - 55s 1s/step - loss: 0.0393 - accuracy: 0.9897 - val_loss: 0.0487 - val_accuracy: 0.9671\n",
            "Epoch 7/100\n",
            "46/46 [==============================] - 55s 1s/step - loss: 0.0330 - accuracy: 0.9911 - val_loss: 0.0239 - val_accuracy: 0.9890\n",
            "Epoch 8/100\n",
            "46/46 [==============================] - 54s 1s/step - loss: 0.0376 - accuracy: 0.9870 - val_loss: 0.0590 - val_accuracy: 0.9726\n",
            "Epoch 9/100\n",
            "46/46 [==============================] - 55s 1s/step - loss: 0.0206 - accuracy: 0.9932 - val_loss: 0.0288 - val_accuracy: 0.9918\n",
            "Epoch 10/100\n",
            "46/46 [==============================] - 54s 1s/step - loss: 0.0221 - accuracy: 0.9952 - val_loss: 0.0747 - val_accuracy: 0.9753\n",
            "Epoch 11/100\n",
            "46/46 [==============================] - 54s 1s/step - loss: 0.0154 - accuracy: 0.9952 - val_loss: 0.0190 - val_accuracy: 0.9945\n",
            "Epoch 12/100\n",
            "46/46 [==============================] - 54s 1s/step - loss: 0.0070 - accuracy: 0.9986 - val_loss: 0.0404 - val_accuracy: 0.9863\n",
            "Epoch 13/100\n",
            "46/46 [==============================] - 55s 1s/step - loss: 0.0106 - accuracy: 0.9966 - val_loss: 0.0225 - val_accuracy: 0.9973\n",
            "Epoch 14/100\n",
            "46/46 [==============================] - 54s 1s/step - loss: 0.0058 - accuracy: 0.9986 - val_loss: 0.0236 - val_accuracy: 0.9945\n",
            "Epoch 15/100\n",
            "46/46 [==============================] - 54s 1s/step - loss: 0.0038 - accuracy: 0.9986 - val_loss: 0.0250 - val_accuracy: 0.9918\n",
            "Epoch 16/100\n",
            "46/46 [==============================] - 55s 1s/step - loss: 0.0032 - accuracy: 0.9986 - val_loss: 0.0382 - val_accuracy: 0.9808\n",
            "Epoch 17/100\n",
            "46/46 [==============================] - 55s 1s/step - loss: 0.0038 - accuracy: 0.9986 - val_loss: 0.0193 - val_accuracy: 0.9945\n",
            "Epoch 18/100\n",
            "46/46 [==============================] - 55s 1s/step - loss: 0.0017 - accuracy: 1.0000 - val_loss: 0.0299 - val_accuracy: 0.9918\n",
            "Epoch 19/100\n",
            "46/46 [==============================] - 54s 1s/step - loss: 8.3948e-04 - accuracy: 1.0000 - val_loss: 0.0361 - val_accuracy: 0.9918\n",
            "Epoch 20/100\n",
            "46/46 [==============================] - 55s 1s/step - loss: 9.4112e-04 - accuracy: 1.0000 - val_loss: 0.0319 - val_accuracy: 0.9945\n",
            "Epoch 21/100\n",
            "46/46 [==============================] - 54s 1s/step - loss: 3.4740e-04 - accuracy: 1.0000 - val_loss: 0.0294 - val_accuracy: 0.9945\n",
            "Epoch 22/100\n",
            "46/46 [==============================] - 54s 1s/step - loss: 2.5743e-04 - accuracy: 1.0000 - val_loss: 0.0280 - val_accuracy: 0.9945\n",
            "Epoch 23/100\n",
            "46/46 [==============================] - 55s 1s/step - loss: 1.8542e-04 - accuracy: 1.0000 - val_loss: 0.0292 - val_accuracy: 0.9945\n",
            "Epoch 24/100\n",
            "46/46 [==============================] - 55s 1s/step - loss: 1.5137e-04 - accuracy: 1.0000 - val_loss: 0.0275 - val_accuracy: 0.9945\n",
            "Epoch 25/100\n",
            "46/46 [==============================] - 55s 1s/step - loss: 1.4171e-04 - accuracy: 1.0000 - val_loss: 0.0299 - val_accuracy: 0.9945\n",
            "Epoch 26/100\n",
            "46/46 [==============================] - 55s 1s/step - loss: 1.1667e-04 - accuracy: 1.0000 - val_loss: 0.0285 - val_accuracy: 0.9945\n",
            "Epoch 27/100\n",
            "46/46 [==============================] - 55s 1s/step - loss: 9.1809e-05 - accuracy: 1.0000 - val_loss: 0.0285 - val_accuracy: 0.9945\n",
            "Epoch 28/100\n",
            "46/46 [==============================] - 55s 1s/step - loss: 8.5365e-05 - accuracy: 1.0000 - val_loss: 0.0282 - val_accuracy: 0.9945\n",
            "Epoch 29/100\n",
            "46/46 [==============================] - 55s 1s/step - loss: 7.8529e-05 - accuracy: 1.0000 - val_loss: 0.0291 - val_accuracy: 0.9945\n",
            "Epoch 30/100\n",
            "46/46 [==============================] - 55s 1s/step - loss: 6.9005e-05 - accuracy: 1.0000 - val_loss: 0.0293 - val_accuracy: 0.9945\n",
            "Epoch 31/100\n",
            "46/46 [==============================] - 55s 1s/step - loss: 6.4316e-05 - accuracy: 1.0000 - val_loss: 0.0296 - val_accuracy: 0.9945\n",
            "Epoch 32/100\n",
            "46/46 [==============================] - 54s 1s/step - loss: 5.6591e-05 - accuracy: 1.0000 - val_loss: 0.0301 - val_accuracy: 0.9945\n",
            "Epoch 33/100\n",
            "46/46 [==============================] - 54s 1s/step - loss: 5.2766e-05 - accuracy: 1.0000 - val_loss: 0.0300 - val_accuracy: 0.9945\n",
            "Epoch 34/100\n",
            "46/46 [==============================] - 54s 1s/step - loss: 4.8006e-05 - accuracy: 1.0000 - val_loss: 0.0306 - val_accuracy: 0.9945\n",
            "Epoch 35/100\n",
            "46/46 [==============================] - 54s 1s/step - loss: 4.4333e-05 - accuracy: 1.0000 - val_loss: 0.0313 - val_accuracy: 0.9945\n",
            "Epoch 36/100\n",
            "46/46 [==============================] - 54s 1s/step - loss: 4.1244e-05 - accuracy: 1.0000 - val_loss: 0.0319 - val_accuracy: 0.9945\n",
            "Epoch 37/100\n",
            "46/46 [==============================] - 54s 1s/step - loss: 3.6069e-05 - accuracy: 1.0000 - val_loss: 0.0320 - val_accuracy: 0.9945\n",
            "Epoch 38/100\n",
            "46/46 [==============================] - 54s 1s/step - loss: 3.3477e-05 - accuracy: 1.0000 - val_loss: 0.0323 - val_accuracy: 0.9945\n",
            "Epoch 39/100\n",
            "46/46 [==============================] - 55s 1s/step - loss: 3.1526e-05 - accuracy: 1.0000 - val_loss: 0.0328 - val_accuracy: 0.9945\n",
            "Epoch 40/100\n",
            "46/46 [==============================] - 55s 1s/step - loss: 2.9544e-05 - accuracy: 1.0000 - val_loss: 0.0331 - val_accuracy: 0.9945\n",
            "Epoch 41/100\n",
            "46/46 [==============================] - 54s 1s/step - loss: 2.7522e-05 - accuracy: 1.0000 - val_loss: 0.0334 - val_accuracy: 0.9945\n",
            "Epoch 42/100\n",
            "46/46 [==============================] - 55s 1s/step - loss: 2.5752e-05 - accuracy: 1.0000 - val_loss: 0.0340 - val_accuracy: 0.9945\n",
            "Epoch 43/100\n",
            "46/46 [==============================] - 55s 1s/step - loss: 2.5545e-05 - accuracy: 1.0000 - val_loss: 0.0342 - val_accuracy: 0.9945\n",
            "Epoch 44/100\n",
            "46/46 [==============================] - 54s 1s/step - loss: 2.3420e-05 - accuracy: 1.0000 - val_loss: 0.0347 - val_accuracy: 0.9945\n",
            "Epoch 45/100\n",
            "46/46 [==============================] - 54s 1s/step - loss: 2.2654e-05 - accuracy: 1.0000 - val_loss: 0.0350 - val_accuracy: 0.9945\n",
            "Epoch 46/100\n",
            "46/46 [==============================] - 54s 1s/step - loss: 2.1545e-05 - accuracy: 1.0000 - val_loss: 0.0353 - val_accuracy: 0.9945\n",
            "Epoch 47/100\n",
            "46/46 [==============================] - 54s 1s/step - loss: 1.9299e-05 - accuracy: 1.0000 - val_loss: 0.0357 - val_accuracy: 0.9945\n",
            "Epoch 48/100\n",
            "46/46 [==============================] - 54s 1s/step - loss: 1.7917e-05 - accuracy: 1.0000 - val_loss: 0.0360 - val_accuracy: 0.9945\n",
            "Epoch 49/100\n",
            "46/46 [==============================] - 54s 1s/step - loss: 1.7184e-05 - accuracy: 1.0000 - val_loss: 0.0361 - val_accuracy: 0.9945\n",
            "Epoch 50/100\n",
            "46/46 [==============================] - 54s 1s/step - loss: 1.6438e-05 - accuracy: 1.0000 - val_loss: 0.0366 - val_accuracy: 0.9945\n",
            "Epoch 51/100\n",
            "46/46 [==============================] - 55s 1s/step - loss: 1.5121e-05 - accuracy: 1.0000 - val_loss: 0.0369 - val_accuracy: 0.9945\n",
            "Epoch 52/100\n",
            "46/46 [==============================] - 54s 1s/step - loss: 1.4781e-05 - accuracy: 1.0000 - val_loss: 0.0372 - val_accuracy: 0.9945\n",
            "Epoch 53/100\n",
            "46/46 [==============================] - 55s 1s/step - loss: 1.4055e-05 - accuracy: 1.0000 - val_loss: 0.0375 - val_accuracy: 0.9945\n",
            "Epoch 54/100\n",
            "46/46 [==============================] - 54s 1s/step - loss: 1.3267e-05 - accuracy: 1.0000 - val_loss: 0.0378 - val_accuracy: 0.9945\n",
            "Epoch 55/100\n",
            "46/46 [==============================] - 55s 1s/step - loss: 1.2363e-05 - accuracy: 1.0000 - val_loss: 0.0380 - val_accuracy: 0.9945\n",
            "Epoch 56/100\n",
            "46/46 [==============================] - 54s 1s/step - loss: 1.2087e-05 - accuracy: 1.0000 - val_loss: 0.0383 - val_accuracy: 0.9945\n",
            "Epoch 57/100\n",
            "46/46 [==============================] - 54s 1s/step - loss: 1.2150e-05 - accuracy: 1.0000 - val_loss: 0.0384 - val_accuracy: 0.9945\n",
            "Epoch 58/100\n",
            "46/46 [==============================] - 54s 1s/step - loss: 1.1178e-05 - accuracy: 1.0000 - val_loss: 0.0387 - val_accuracy: 0.9945\n",
            "Epoch 59/100\n",
            "46/46 [==============================] - 54s 1s/step - loss: 1.0838e-05 - accuracy: 1.0000 - val_loss: 0.0390 - val_accuracy: 0.9945\n",
            "Epoch 60/100\n",
            "46/46 [==============================] - 54s 1s/step - loss: 1.0142e-05 - accuracy: 1.0000 - val_loss: 0.0392 - val_accuracy: 0.9945\n",
            "Epoch 61/100\n",
            "46/46 [==============================] - 54s 1s/step - loss: 9.8108e-06 - accuracy: 1.0000 - val_loss: 0.0397 - val_accuracy: 0.9945\n",
            "Epoch 62/100\n",
            "46/46 [==============================] - 54s 1s/step - loss: 9.3560e-06 - accuracy: 1.0000 - val_loss: 0.0397 - val_accuracy: 0.9945\n",
            "Epoch 63/100\n",
            "46/46 [==============================] - 54s 1s/step - loss: 8.9850e-06 - accuracy: 1.0000 - val_loss: 0.0399 - val_accuracy: 0.9945\n",
            "Epoch 64/100\n",
            "46/46 [==============================] - 53s 1s/step - loss: 8.6476e-06 - accuracy: 1.0000 - val_loss: 0.0401 - val_accuracy: 0.9945\n",
            "Epoch 65/100\n",
            "46/46 [==============================] - 54s 1s/step - loss: 8.2023e-06 - accuracy: 1.0000 - val_loss: 0.0403 - val_accuracy: 0.9945\n",
            "Epoch 66/100\n",
            "46/46 [==============================] - 55s 1s/step - loss: 7.7342e-06 - accuracy: 1.0000 - val_loss: 0.0405 - val_accuracy: 0.9945\n",
            "Epoch 67/100\n",
            "46/46 [==============================] - 54s 1s/step - loss: 7.6081e-06 - accuracy: 1.0000 - val_loss: 0.0408 - val_accuracy: 0.9945\n",
            "Epoch 68/100\n",
            "46/46 [==============================] - 54s 1s/step - loss: 7.2123e-06 - accuracy: 1.0000 - val_loss: 0.0411 - val_accuracy: 0.9945\n",
            "Epoch 69/100\n",
            "46/46 [==============================] - 54s 1s/step - loss: 6.9661e-06 - accuracy: 1.0000 - val_loss: 0.0414 - val_accuracy: 0.9945\n",
            "Epoch 70/100\n",
            "46/46 [==============================] - 54s 1s/step - loss: 6.8336e-06 - accuracy: 1.0000 - val_loss: 0.0416 - val_accuracy: 0.9945\n",
            "Epoch 71/100\n",
            "46/46 [==============================] - 54s 1s/step - loss: 6.3307e-06 - accuracy: 1.0000 - val_loss: 0.0418 - val_accuracy: 0.9945\n",
            "Epoch 72/100\n",
            "46/46 [==============================] - 55s 1s/step - loss: 6.1995e-06 - accuracy: 1.0000 - val_loss: 0.0418 - val_accuracy: 0.9945\n",
            "Epoch 73/100\n",
            "46/46 [==============================] - 54s 1s/step - loss: 5.9458e-06 - accuracy: 1.0000 - val_loss: 0.0420 - val_accuracy: 0.9945\n",
            "Epoch 74/100\n",
            "46/46 [==============================] - 54s 1s/step - loss: 5.5722e-06 - accuracy: 1.0000 - val_loss: 0.0422 - val_accuracy: 0.9945\n",
            "Epoch 75/100\n",
            "46/46 [==============================] - 54s 1s/step - loss: 5.3547e-06 - accuracy: 1.0000 - val_loss: 0.0423 - val_accuracy: 0.9945\n",
            "Epoch 76/100\n",
            "46/46 [==============================] - 53s 1s/step - loss: 5.1582e-06 - accuracy: 1.0000 - val_loss: 0.0425 - val_accuracy: 0.9945\n",
            "Epoch 77/100\n",
            "46/46 [==============================] - 55s 1s/step - loss: 4.9322e-06 - accuracy: 1.0000 - val_loss: 0.0426 - val_accuracy: 0.9945\n",
            "Epoch 78/100\n",
            "46/46 [==============================] - 55s 1s/step - loss: 4.9351e-06 - accuracy: 1.0000 - val_loss: 0.0429 - val_accuracy: 0.9945\n",
            "Epoch 79/100\n",
            "46/46 [==============================] - 55s 1s/step - loss: 4.7476e-06 - accuracy: 1.0000 - val_loss: 0.0432 - val_accuracy: 0.9945\n",
            "Epoch 80/100\n",
            "46/46 [==============================] - 55s 1s/step - loss: 4.4743e-06 - accuracy: 1.0000 - val_loss: 0.0432 - val_accuracy: 0.9945\n",
            "Epoch 81/100\n",
            "46/46 [==============================] - 55s 1s/step - loss: 4.2518e-06 - accuracy: 1.0000 - val_loss: 0.0433 - val_accuracy: 0.9945\n",
            "Epoch 82/100\n",
            "46/46 [==============================] - 55s 1s/step - loss: 4.1618e-06 - accuracy: 1.0000 - val_loss: 0.0433 - val_accuracy: 0.9945\n",
            "Epoch 83/100\n",
            "46/46 [==============================] - 55s 1s/step - loss: 3.9326e-06 - accuracy: 1.0000 - val_loss: 0.0435 - val_accuracy: 0.9945\n",
            "Epoch 84/100\n",
            "46/46 [==============================] - 55s 1s/step - loss: 3.8485e-06 - accuracy: 1.0000 - val_loss: 0.0438 - val_accuracy: 0.9945\n",
            "Epoch 85/100\n",
            "46/46 [==============================] - 55s 1s/step - loss: 3.6247e-06 - accuracy: 1.0000 - val_loss: 0.0438 - val_accuracy: 0.9945\n",
            "Epoch 86/100\n",
            "46/46 [==============================] - 55s 1s/step - loss: 3.5975e-06 - accuracy: 1.0000 - val_loss: 0.0441 - val_accuracy: 0.9945\n",
            "Epoch 87/100\n",
            "46/46 [==============================] - 55s 1s/step - loss: 3.4309e-06 - accuracy: 1.0000 - val_loss: 0.0442 - val_accuracy: 0.9945\n",
            "Epoch 88/100\n",
            "46/46 [==============================] - 55s 1s/step - loss: 3.2617e-06 - accuracy: 1.0000 - val_loss: 0.0443 - val_accuracy: 0.9945\n",
            "Epoch 89/100\n",
            "46/46 [==============================] - 55s 1s/step - loss: 3.1944e-06 - accuracy: 1.0000 - val_loss: 0.0445 - val_accuracy: 0.9945\n",
            "Epoch 90/100\n",
            "46/46 [==============================] - 55s 1s/step - loss: 3.0505e-06 - accuracy: 1.0000 - val_loss: 0.0447 - val_accuracy: 0.9945\n",
            "Epoch 91/100\n",
            "46/46 [==============================] - 55s 1s/step - loss: 2.9736e-06 - accuracy: 1.0000 - val_loss: 0.0449 - val_accuracy: 0.9945\n",
            "Epoch 92/100\n",
            "46/46 [==============================] - 55s 1s/step - loss: 2.9386e-06 - accuracy: 1.0000 - val_loss: 0.0451 - val_accuracy: 0.9945\n",
            "Epoch 93/100\n",
            "46/46 [==============================] - 55s 1s/step - loss: 2.9897e-06 - accuracy: 1.0000 - val_loss: 0.0451 - val_accuracy: 0.9945\n",
            "Epoch 94/100\n",
            "46/46 [==============================] - 56s 1s/step - loss: 2.6142e-06 - accuracy: 1.0000 - val_loss: 0.0452 - val_accuracy: 0.9945\n",
            "Epoch 95/100\n",
            "46/46 [==============================] - 55s 1s/step - loss: 2.6537e-06 - accuracy: 1.0000 - val_loss: 0.0455 - val_accuracy: 0.9945\n",
            "Epoch 96/100\n",
            "46/46 [==============================] - 55s 1s/step - loss: 2.4993e-06 - accuracy: 1.0000 - val_loss: 0.0456 - val_accuracy: 0.9945\n",
            "Epoch 97/100\n",
            "46/46 [==============================] - 55s 1s/step - loss: 2.4115e-06 - accuracy: 1.0000 - val_loss: 0.0458 - val_accuracy: 0.9945\n",
            "Epoch 98/100\n",
            "46/46 [==============================] - 55s 1s/step - loss: 2.3260e-06 - accuracy: 1.0000 - val_loss: 0.0460 - val_accuracy: 0.9945\n",
            "Epoch 99/100\n",
            "46/46 [==============================] - 55s 1s/step - loss: 2.2391e-06 - accuracy: 1.0000 - val_loss: 0.0460 - val_accuracy: 0.9945\n",
            "Epoch 100/100\n",
            "46/46 [==============================] - 55s 1s/step - loss: 2.1872e-06 - accuracy: 1.0000 - val_loss: 0.0462 - val_accuracy: 0.9945\n"
          ],
          "name": "stdout"
        },
        {
          "output_type": "display_data",
          "data": {
            "image/png": "[encoded data removed]",
            "text/plain": [
              "<Figure size 432x288 with 1 Axes>"
            ]
          },
          "metadata": {
            "tags": [],
            "needs_background": "light"
          }
        },
        {
          "output_type": "display_data",
          "data": {
            "image/png": "[encoded data removed]",
            "text/plain": [
              "<Figure size 432x288 with 1 Axes>"
            ]
          },
          "metadata": {
            "tags": [],
            "needs_background": "light"
          }
        }
      ]
    },
    {
      "cell_type": "code",
      "metadata": {
        "id": "34VSMWlCnYmY"
      },
      "source": [
        "    %matplotlib inline\n",
        "from sklearn.metrics import confusion_matrix\n",
        "import itertools\n",
        "import matplotlib.pyplot as plt\n",
        "import numpy as np"
      ],
      "execution_count": 17,
      "outputs": []
    },
    {
      "cell_type": "code",
      "metadata": {
        "colab": {
          "base_uri": "https://localhost:8080/",
          "height": 923
        },
        "id": "3Wup9UYJnYQp",
        "outputId": "06dd5019-6710-41ed-992c-7137f52ff1ae"
      },
      "source": [
        "Evaluate_CNN_Model()"
      ],
      "execution_count": 18,
      "outputs": [
        {
          "output_type": "stream",
          "text": [
            "Found 31 images belonging to 2 classes.\n"
          ],
          "name": "stdout"
        },
        {
          "output_type": "stream",
          "text": [
            "/usr/local/lib/python3.6/dist-packages/keras_preprocessing/image/image_data_generator.py:720: UserWarning: This ImageDataGenerator specifies `featurewise_center`, but it hasn't been fit on any training data. Fit it first by calling `.fit(numpy_data)`.\n",
            "  warnings.warn('This ImageDataGenerator specifies '\n",
            "/usr/local/lib/python3.6/dist-packages/keras_preprocessing/image/image_data_generator.py:728: UserWarning: This ImageDataGenerator specifies `featurewise_std_normalization`, but it hasn't been fit on any training data. Fit it first by calling `.fit(numpy_data)`.\n",
            "  warnings.warn('This ImageDataGenerator specifies '\n"
          ],
          "name": "stderr"
        },
        {
          "output_type": "stream",
          "text": [
            "1/1 [==============================] - 0s 5ms/step\n"
          ],
          "name": "stdout"
        },
        {
          "output_type": "stream",
          "text": [
            "No handles with labels found to put in legend.\n"
          ],
          "name": "stderr"
        },
        {
          "output_type": "stream",
          "text": [
            "\n",
            "Confusion Matrix\n",
            " -------------------------\n",
            "[[12  3]\n",
            " [ 0 16]]\n",
            "Accuracy: 0.903226\n",
            "Precision: 0.842105\n",
            "Recall: 1.000000\n",
            "F1 score: 0.914286\n",
            "ROC AUC: 0.995833\n"
          ],
          "name": "stdout"
        },
        {
          "output_type": "display_data",
          "data": {
            "image/png": "[encoded data removed]",
            "text/plain": [
              "<Figure size 432x288 with 1 Axes>"
            ]
          },
          "metadata": {
            "tags": [],
            "needs_background": "light"
          }
        },
        {
          "output_type": "display_data",
          "data": {
            "image/png": "[encoded data removed]",
            "text/plain": [
              "<Figure size 432x288 with 2 Axes>"
            ]
          },
          "metadata": {
            "tags": [],
            "needs_background": "light"
          }
        }
      ]
    }
  ]
}