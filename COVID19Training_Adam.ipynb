{
  "nbformat": 4,
  "nbformat_minor": 0,
  "metadata": {
    "colab": {
      "name": "COVID19Training_Adam.ipynb",
      "provenance": [],
      "collapsed_sections": [],
      "toc_visible": true,
      "include_colab_link": true
    },
    "kernelspec": {
      "name": "python3",
      "display_name": "Python 3"
    },
    "accelerator": "GPU"
  },
  "cells": [
    {
      "cell_type": "markdown",
      "metadata": {
        "id": "view-in-github",
        "colab_type": "text"
      },
      "source": [
        "<a href=\"https://colab.research.google.com/github/rachitgithub/Covid-Detection/blob/main/COVID19Training_Adam.ipynb\" target=\"_parent\"><img src=\"https://colab.research.google.com/assets/colab-badge.svg\" alt=\"Open In Colab\"/></a>"
      ]
    },
    {
      "cell_type": "markdown",
      "metadata": {
        "id": "-gyKOi8EPITT"
      },
      "source": [
        "# **Install TensorFlow GPU**"
      ]
    },
    {
      "cell_type": "code",
      "metadata": {
        "id": "UboFrn87qNVe"
      },
      "source": [
        "!pip install tensorflow-gpu"
      ],
      "execution_count": null,
      "outputs": []
    },
    {
      "cell_type": "markdown",
      "metadata": {
        "id": "FLc0x1XRPPVm"
      },
      "source": [
        "# **Import GDRIVE**"
      ]
    },
    {
      "cell_type": "code",
      "metadata": {
        "colab": {
          "base_uri": "https://localhost:8080/"
        },
        "id": "2SXklTJgqQyV",
        "outputId": "54be4c3c-eb47-427e-830e-52b952102958"
      },
      "source": [
        "from google.colab import drive\n",
        "drive.mount('/content/drive')"
      ],
      "execution_count": 1,
      "outputs": [
        {
          "output_type": "stream",
          "text": [
            "Mounted at /content/drive\n"
          ],
          "name": "stdout"
        }
      ]
    },
    {
      "cell_type": "markdown",
      "metadata": {
        "id": "M55jhmwBPTGp"
      },
      "source": [
        "# **Import Tensor Flow**"
      ]
    },
    {
      "cell_type": "code",
      "metadata": {
        "colab": {
          "base_uri": "https://localhost:8080/"
        },
        "id": "yPOllQPgqUky",
        "outputId": "385e2166-dd94-4df6-eac0-c089e797fd07"
      },
      "source": [
        "import tensorflow as tf\n",
        "tf.test.gpu_device_name()\n",
        "print(tf.__version__)"
      ],
      "execution_count": 2,
      "outputs": [
        {
          "output_type": "stream",
          "text": [
            "2.3.0\n"
          ],
          "name": "stdout"
        }
      ]
    },
    {
      "cell_type": "markdown",
      "metadata": {
        "id": "qf3UaO-sPXkz"
      },
      "source": [
        "# **Import Keras Libraries**"
      ]
    },
    {
      "cell_type": "code",
      "metadata": {
        "id": "O6d6JctTqdW2"
      },
      "source": [
        "from keras.models import Sequential,load_model\n",
        "from keras.layers import Conv2D,Activation, MaxPooling2D,Dense,Flatten\n",
        "from keras.optimizers import Adam\n",
        "from keras.preprocessing.image import ImageDataGenerator\n",
        "\n",
        "from sklearn.metrics import accuracy_score,roc_curve,confusion_matrix,precision_score,recall_score,f1_score,roc_auc_score\n",
        "import matplotlib.pyplot as plt\n",
        "import matplotlib.pyplot as plt_False_Positive_vs_True_Positive"
      ],
      "execution_count": 3,
      "outputs": []
    },
    {
      "cell_type": "markdown",
      "metadata": {
        "id": "BoGghyDrPcMl"
      },
      "source": [
        "# **Build Sequential Adam CNN Model**\n"
      ]
    },
    {
      "cell_type": "code",
      "metadata": {
        "id": "NHfmSsyapGlw"
      },
      "source": [
        "def Build_CNN_Model():\n",
        "\n",
        "    # -------------------------------------------------------------------------\n",
        "    #                        Build CNN Model \n",
        "    # -------------------------------------------------------------------------\n",
        "\n",
        "    \n",
        "    model = Sequential()\n",
        "    \n",
        "    #  First Block of CNN\n",
        "    model.add(Conv2D(8, (5, 5), padding='same', input_shape=(224, 224, 3)))  \n",
        "    model.add(Activation('relu'))\n",
        "    model.add(MaxPooling2D((2, 2)))\n",
        "    \n",
        "    #  Second Block of CNN\n",
        "    model.add(Conv2D(8, (3, 3),  padding='same'))  \n",
        "    model.add(Activation('relu'))\n",
        "    model.add(MaxPooling2D((2, 2)))\n",
        "\n",
        "    #  Third Block of CNN\n",
        "    model.add(Conv2D(16, (3, 3),  padding='same'))  \n",
        "    model.add(Activation('relu'))\n",
        "\n",
        "\n",
        "    #  Forth Block of CNN\n",
        "    model.add(Conv2D(16, (3, 3),  padding='same'))  \n",
        "    model.add(Activation('relu'))\n",
        "    model.add(MaxPooling2D((2, 2)))\n",
        "\n",
        "    \n",
        "    #  Flatten and Fully Connected Layer\n",
        "    model.add(Flatten())\n",
        "    model.add(Dense(10))\n",
        "    model.add(Activation('relu'))\n",
        "     \n",
        "    #  Softmax Classifier\n",
        "    model.add(Dense(2))\n",
        "    model.add(Activation('softmax'))\n",
        "        \n",
        "    #  Display model\n",
        "    model.summary()\n",
        "    \n",
        "\t  # compile model\n",
        "\n",
        "    opt = Adam(learning_rate=0.001, beta_1=0.9, beta_2=0.999)\n",
        "    model.compile(optimizer=opt, loss='categorical_crossentropy', metrics=['accuracy'])\n",
        "    \n",
        "    return model \n"
      ],
      "execution_count": null,
      "outputs": []
    },
    {
      "cell_type": "markdown",
      "metadata": {
        "id": "EeLn5RJZPnKl"
      },
      "source": [
        "# **Train Sequential Adam CNN Model**\n"
      ]
    },
    {
      "cell_type": "code",
      "metadata": {
        "id": "iT6jo0OmquCL"
      },
      "source": [
        "# train and evalluate cnn model\n",
        "def Train_CNN_Model(model):\n",
        "    \n",
        "    # -------------------------------------------------------------------------\n",
        "    #                        Train CNN Model \n",
        "    # -------------------------------------------------------------------------\n",
        "    \n",
        "    # create data generators    \n",
        "    train_datagen = ImageDataGenerator(\n",
        "                                     rescale=1.0/255.0,\n",
        "                                     featurewise_center= True,\n",
        "                                     featurewise_std_normalization = True)\n",
        "    \n",
        "    valid_datagen = ImageDataGenerator(\n",
        "                                     rescale=1.0/255.0,\n",
        "                                     featurewise_center= True,\n",
        "                                     featurewise_std_normalization = True)\n",
        "    \n",
        "    \n",
        "   \n",
        "   \n",
        "    # prepare iterators\n",
        "    batch_size=32\n",
        "    train_it = train_datagen.flow_from_directory('/content/drive/MyDrive/COVID-19-Deep-Learning-Project-Colab/Dataset/train/',classes =('Normal','Covid'),batch_size=batch_size, target_size=(224, 224))\n",
        "    valid_it = valid_datagen.flow_from_directory('/content/drive/MyDrive/COVID-19-Deep-Learning-Project-Colab/Dataset/val/',classes =('Normal','Covid'),batch_size=batch_size, target_size=(224, 224))\n",
        "\n",
        "\n",
        "    epochs=100;\n",
        "    \n",
        "    history = model.fit_generator(train_it, steps_per_epoch=len(train_it),\n",
        "\t\tvalidation_data=valid_it, validation_steps=len(valid_it), epochs=epochs, verbose=1)\n",
        "    \n",
        "    \n",
        "    #  \"Accuracy\"\n",
        "    plt.plot(history.history['accuracy'])\n",
        "    plt.plot(history.history['val_accuracy'])\n",
        "    plt.title('model accuracy')\n",
        "    plt.ylabel('accuracy')\n",
        "    plt.xlabel('epoch')\n",
        "    plt.legend(['train', 'validation'], loc='upper left')\n",
        "    plt.show()\n",
        "    \n",
        "    # \"Loss\"\n",
        "    plt.plot(history.history['loss'])\n",
        "    plt.plot(history.history['val_loss'])\n",
        "    plt.title('model loss')\n",
        "    plt.ylabel('loss')\n",
        "    plt.xlabel('epoch')\n",
        "    plt.legend(['train', 'validation'], loc='upper left')\n",
        "    plt.show()\n",
        "\n",
        "\t# save model\n",
        "    model.save('/content/drive/MyDrive/COVID-19-Deep-Learning-Project-Colab/saved_models/CoVID19-sequential-adam_cnn_model.h5')\n"
      ],
      "execution_count": null,
      "outputs": []
    },
    {
      "cell_type": "markdown",
      "metadata": {
        "id": "akk2CJw7Pp6O"
      },
      "source": [
        "# **Evaluate Sequential CNN Model**\n"
      ]
    },
    {
      "cell_type": "code",
      "metadata": {
        "id": "5eW1T2Ekq5MM"
      },
      "source": [
        "def Evaluate_CNN_Model():\n",
        "    # -------------------------------------------------------------------------\n",
        "    #                        Evaluate CNN Model \n",
        "    # -------------------------------------------------------------------------\n",
        "    \n",
        "    # load model\n",
        "    model = load_model('/content/drive/MyDrive/COVID-19-Deep-Learning-Project-Colab/saved_models/CoVID19-sequential-adam_cnn_model.h5')\n",
        "\n",
        "    \n",
        "    # load test data\n",
        "    batch_size=32\n",
        "    test_datagen = ImageDataGenerator(\n",
        "                                     rescale=1.0/255.0,\n",
        "                                     featurewise_center= True,\n",
        "                                     featurewise_std_normalization = True)\n",
        "    \n",
        "    test_it = test_datagen.flow_from_directory('/content/drive/MyDrive/COVID-19-Deep-Learning-Project-Colab/Dataset/test/',classes =('Normal','Covid'), \n",
        "                                               shuffle=False,batch_size=batch_size, target_size=(224, 224))\n",
        "    \n",
        "    \n",
        "    y_true = test_it.classes;\n",
        "\n",
        "    y_pred = model.predict_generator(test_it, steps=len(test_it), verbose=1)\n",
        "\n",
        "    \n",
        "    y_pred_prob = y_pred[:,1]\n",
        "\n",
        "     \n",
        "    y_pred_binary =  y_pred_prob > 0.5\n",
        "   \n",
        "    #Confution Matrix    \n",
        "    print('\\nConfusion Matrix\\n -------------------------')    \n",
        "    print(confusion_matrix(y_true,y_pred_binary));\n",
        "    \n",
        "    # accuracy: (tp + tn) / (p + n)\n",
        "    accuracy = accuracy_score(y_true, y_pred_binary)\n",
        "    print('Accuracy: %f' % accuracy)\n",
        "    \n",
        "    \n",
        "    # precision tp / (tp + fp)\n",
        "    precision = precision_score(y_true, y_pred_binary)\n",
        "    print('Precision: %f' % precision)\n",
        "    \n",
        "    # recall: tp / (tp + fn)\n",
        "    recall = recall_score(y_true, y_pred_binary)\n",
        "    print('Recall: %f' % recall)\n",
        "    \n",
        "    # f1: 2 tp / (2 tp + fp + fn)\n",
        "    f1 = f1_score(y_true, y_pred_binary)\n",
        "    print('F1 score: %f' % f1)    \n",
        "       \n",
        "    # ROC AUC\n",
        "    auc = roc_auc_score(y_true, y_pred_prob)\n",
        "    print('ROC AUC: %f' % auc)\n",
        "    \n",
        "    \n",
        "    # calculate roc curves\n",
        "    fpr, tpr, _ = roc_curve(y_true, y_pred_prob)\n",
        "        \n",
        "    # plot the roc curve for the model\n",
        "    plt.figure()\n",
        "    plt_False_Positive_vs_True_Positive.plot(fpr, tpr, linestyle='--', label='')\n",
        "    \n",
        "    # axis labels\n",
        "    plt_False_Positive_vs_True_Positive.xlabel('False Positive Rate')\n",
        "    plt_False_Positive_vs_True_Positive.ylabel('True Positive Rate')\n",
        "       \n",
        "    # show the legend\n",
        "    plt_False_Positive_vs_True_Positive.legend()\n",
        "    # show the plot\n",
        "    plt_False_Positive_vs_True_Positive.show()\n",
        "    \n",
        "          #for plotting CM graph\n",
        "    cm = confusion_matrix(y_true,y_pred_binary)\n",
        "\n",
        "    def plot_confusion_matrix(cm, classes,\n",
        "                        normalize=False,\n",
        "                        title='Confusion matrix for Adam Optimizer CNN',\n",
        "                        cmap=plt.cm.Oranges):\n",
        " \n",
        "      plt.imshow(cm, interpolation='nearest', cmap=cmap)\n",
        "      plt.title(title)\n",
        "      plt.colorbar()\n",
        "      tick_marks = np.arange(len(classes))\n",
        "      plt.xticks(tick_marks, classes, rotation=45)\n",
        "      plt.yticks(tick_marks, classes)\n",
        "\n",
        "\n",
        "\n",
        "    thresh = cm.max() / 2.\n",
        "    for i, j in itertools.product(range(cm.shape[0]), range(cm.shape[1])):\n",
        "        plt.text(j, i, cm[i, j],\n",
        "            horizontalalignment=\"center\",\n",
        "            color=\"white\" if cm[i, j] > thresh else \"black\")\n",
        "\n",
        "    plt.tight_layout()\n",
        "    plt.ylabel('Predicted Values')\n",
        "    plt.xlabel('True Values')\n",
        "    cm_plot_labels = ['No Covid','Has Covid']\n",
        "    plot_confusion_matrix(cm=cm, classes=cm_plot_labels, title='Confusion matrix for Adam Optimizer CNN')\n"
      ],
      "execution_count": 6,
      "outputs": []
    },
    {
      "cell_type": "code",
      "metadata": {
        "colab": {
          "base_uri": "https://localhost:8080/",
          "height": 1000
        },
        "id": "PqwwYBQsqysR",
        "outputId": "d317a4d1-f0e8-468e-871e-02d8e9ab66b9"
      },
      "source": [
        "# main entry\n",
        "    \n",
        "model = Build_CNN_Model()\n",
        "\n",
        "Train_CNN_Model(model)"
      ],
      "execution_count": null,
      "outputs": [
        {
          "output_type": "stream",
          "text": [
            "Model: \"sequential\"\n",
            "_________________________________________________________________\n",
            "Layer (type)                 Output Shape              Param #   \n",
            "=================================================================\n",
            "conv2d (Conv2D)              (None, 224, 224, 8)       608       \n",
            "_________________________________________________________________\n",
            "activation (Activation)      (None, 224, 224, 8)       0         \n",
            "_________________________________________________________________\n",
            "max_pooling2d (MaxPooling2D) (None, 112, 112, 8)       0         \n",
            "_________________________________________________________________\n",
            "conv2d_1 (Conv2D)            (None, 112, 112, 8)       584       \n",
            "_________________________________________________________________\n",
            "activation_1 (Activation)    (None, 112, 112, 8)       0         \n",
            "_________________________________________________________________\n",
            "max_pooling2d_1 (MaxPooling2 (None, 56, 56, 8)         0         \n",
            "_________________________________________________________________\n",
            "conv2d_2 (Conv2D)            (None, 56, 56, 16)        1168      \n",
            "_________________________________________________________________\n",
            "activation_2 (Activation)    (None, 56, 56, 16)        0         \n",
            "_________________________________________________________________\n",
            "conv2d_3 (Conv2D)            (None, 56, 56, 16)        2320      \n",
            "_________________________________________________________________\n",
            "activation_3 (Activation)    (None, 56, 56, 16)        0         \n",
            "_________________________________________________________________\n",
            "max_pooling2d_2 (MaxPooling2 (None, 28, 28, 16)        0         \n",
            "_________________________________________________________________\n",
            "flatten (Flatten)            (None, 12544)             0         \n",
            "_________________________________________________________________\n",
            "dense (Dense)                (None, 10)                125450    \n",
            "_________________________________________________________________\n",
            "activation_4 (Activation)    (None, 10)                0         \n",
            "_________________________________________________________________\n",
            "dense_1 (Dense)              (None, 2)                 22        \n",
            "_________________________________________________________________\n",
            "activation_5 (Activation)    (None, 2)                 0         \n",
            "=================================================================\n",
            "Total params: 130,152\n",
            "Trainable params: 130,152\n",
            "Non-trainable params: 0\n",
            "_________________________________________________________________\n",
            "Found 1463 images belonging to 2 classes.\n",
            "Found 365 images belonging to 2 classes.\n",
            "WARNING:tensorflow:From <ipython-input-6-0149ce577d07>:31: Model.fit_generator (from tensorflow.python.keras.engine.training) is deprecated and will be removed in a future version.\n",
            "Instructions for updating:\n",
            "Please use Model.fit, which supports generators.\n"
          ],
          "name": "stdout"
        },
        {
          "output_type": "stream",
          "text": [
            "/usr/local/lib/python3.6/dist-packages/keras_preprocessing/image/image_data_generator.py:720: UserWarning: This ImageDataGenerator specifies `featurewise_center`, but it hasn't been fit on any training data. Fit it first by calling `.fit(numpy_data)`.\n",
            "  warnings.warn('This ImageDataGenerator specifies '\n",
            "/usr/local/lib/python3.6/dist-packages/keras_preprocessing/image/image_data_generator.py:728: UserWarning: This ImageDataGenerator specifies `featurewise_std_normalization`, but it hasn't been fit on any training data. Fit it first by calling `.fit(numpy_data)`.\n",
            "  warnings.warn('This ImageDataGenerator specifies '\n"
          ],
          "name": "stderr"
        },
        {
          "output_type": "stream",
          "text": [
            "Epoch 1/100\n",
            "46/46 [==============================] - 488s 11s/step - loss: 0.3143 - accuracy: 0.8756 - val_loss: 0.0979 - val_accuracy: 0.9699\n",
            "Epoch 2/100\n",
            "46/46 [==============================] - 53s 1s/step - loss: 0.0936 - accuracy: 0.9638 - val_loss: 0.0358 - val_accuracy: 0.9918\n",
            "Epoch 3/100\n",
            "46/46 [==============================] - 51s 1s/step - loss: 0.0653 - accuracy: 0.9768 - val_loss: 0.0995 - val_accuracy: 0.9589\n",
            "Epoch 4/100\n",
            "46/46 [==============================] - 50s 1s/step - loss: 0.0769 - accuracy: 0.9720 - val_loss: 0.0419 - val_accuracy: 0.9863\n",
            "Epoch 5/100\n",
            "46/46 [==============================] - 50s 1s/step - loss: 0.0483 - accuracy: 0.9829 - val_loss: 0.0252 - val_accuracy: 0.9973\n",
            "Epoch 6/100\n",
            "46/46 [==============================] - 50s 1s/step - loss: 0.0405 - accuracy: 0.9897 - val_loss: 0.0388 - val_accuracy: 0.9890\n",
            "Epoch 7/100\n",
            "46/46 [==============================] - 50s 1s/step - loss: 0.0433 - accuracy: 0.9856 - val_loss: 0.0209 - val_accuracy: 0.9945\n",
            "Epoch 8/100\n",
            "46/46 [==============================] - 50s 1s/step - loss: 0.0243 - accuracy: 0.9932 - val_loss: 0.0149 - val_accuracy: 0.9973\n",
            "Epoch 9/100\n",
            "46/46 [==============================] - 49s 1s/step - loss: 0.0160 - accuracy: 0.9945 - val_loss: 0.0221 - val_accuracy: 0.9945\n",
            "Epoch 10/100\n",
            "46/46 [==============================] - 50s 1s/step - loss: 0.0149 - accuracy: 0.9959 - val_loss: 0.0134 - val_accuracy: 0.9945\n",
            "Epoch 11/100\n",
            "46/46 [==============================] - 49s 1s/step - loss: 0.0127 - accuracy: 0.9959 - val_loss: 0.0388 - val_accuracy: 0.9808\n",
            "Epoch 12/100\n",
            "46/46 [==============================] - 50s 1s/step - loss: 0.0094 - accuracy: 0.9979 - val_loss: 0.0425 - val_accuracy: 0.9781\n",
            "Epoch 13/100\n",
            "46/46 [==============================] - 49s 1s/step - loss: 0.0062 - accuracy: 0.9986 - val_loss: 0.0103 - val_accuracy: 0.9973\n",
            "Epoch 14/100\n",
            "46/46 [==============================] - 49s 1s/step - loss: 0.0025 - accuracy: 0.9993 - val_loss: 0.0165 - val_accuracy: 0.9945\n",
            "Epoch 15/100\n",
            "46/46 [==============================] - 48s 1s/step - loss: 0.0054 - accuracy: 0.9979 - val_loss: 0.0164 - val_accuracy: 0.9973\n",
            "Epoch 16/100\n",
            "46/46 [==============================] - 49s 1s/step - loss: 0.0013 - accuracy: 1.0000 - val_loss: 0.0138 - val_accuracy: 0.9945\n",
            "Epoch 17/100\n",
            "46/46 [==============================] - 49s 1s/step - loss: 7.6322e-04 - accuracy: 1.0000 - val_loss: 0.0104 - val_accuracy: 0.9973\n",
            "Epoch 18/100\n",
            "46/46 [==============================] - 49s 1s/step - loss: 5.1918e-04 - accuracy: 1.0000 - val_loss: 0.0133 - val_accuracy: 0.9918\n",
            "Epoch 19/100\n",
            "46/46 [==============================] - 48s 1s/step - loss: 6.3697e-04 - accuracy: 1.0000 - val_loss: 0.0134 - val_accuracy: 0.9945\n",
            "Epoch 20/100\n",
            "46/46 [==============================] - 50s 1s/step - loss: 4.1752e-04 - accuracy: 1.0000 - val_loss: 0.0070 - val_accuracy: 1.0000\n",
            "Epoch 21/100\n",
            "46/46 [==============================] - 49s 1s/step - loss: 3.1623e-04 - accuracy: 1.0000 - val_loss: 0.0068 - val_accuracy: 0.9973\n",
            "Epoch 22/100\n",
            "46/46 [==============================] - 48s 1s/step - loss: 1.9510e-04 - accuracy: 1.0000 - val_loss: 0.0068 - val_accuracy: 1.0000\n",
            "Epoch 23/100\n",
            "46/46 [==============================] - 49s 1s/step - loss: 1.4520e-04 - accuracy: 1.0000 - val_loss: 0.0061 - val_accuracy: 1.0000\n",
            "Epoch 24/100\n",
            "46/46 [==============================] - 48s 1s/step - loss: 1.3476e-04 - accuracy: 1.0000 - val_loss: 0.0054 - val_accuracy: 1.0000\n",
            "Epoch 25/100\n",
            "46/46 [==============================] - 48s 1s/step - loss: 1.1598e-04 - accuracy: 1.0000 - val_loss: 0.0056 - val_accuracy: 1.0000\n",
            "Epoch 26/100\n",
            "46/46 [==============================] - 48s 1s/step - loss: 9.5375e-05 - accuracy: 1.0000 - val_loss: 0.0056 - val_accuracy: 1.0000\n",
            "Epoch 27/100\n",
            "46/46 [==============================] - 48s 1s/step - loss: 9.0875e-05 - accuracy: 1.0000 - val_loss: 0.0051 - val_accuracy: 1.0000\n",
            "Epoch 28/100\n",
            "46/46 [==============================] - 48s 1s/step - loss: 8.2295e-05 - accuracy: 1.0000 - val_loss: 0.0052 - val_accuracy: 1.0000\n",
            "Epoch 29/100\n",
            "46/46 [==============================] - 48s 1s/step - loss: 7.2969e-05 - accuracy: 1.0000 - val_loss: 0.0050 - val_accuracy: 1.0000\n",
            "Epoch 30/100\n",
            "46/46 [==============================] - 47s 1s/step - loss: 7.5298e-05 - accuracy: 1.0000 - val_loss: 0.0048 - val_accuracy: 1.0000\n",
            "Epoch 31/100\n",
            "46/46 [==============================] - 48s 1s/step - loss: 6.4467e-05 - accuracy: 1.0000 - val_loss: 0.0047 - val_accuracy: 1.0000\n",
            "Epoch 32/100\n",
            "46/46 [==============================] - 48s 1s/step - loss: 5.7235e-05 - accuracy: 1.0000 - val_loss: 0.0049 - val_accuracy: 1.0000\n",
            "Epoch 33/100\n",
            "46/46 [==============================] - 49s 1s/step - loss: 5.3529e-05 - accuracy: 1.0000 - val_loss: 0.0046 - val_accuracy: 1.0000\n",
            "Epoch 34/100\n",
            "46/46 [==============================] - 48s 1s/step - loss: 5.5624e-05 - accuracy: 1.0000 - val_loss: 0.0049 - val_accuracy: 1.0000\n",
            "Epoch 35/100\n",
            "46/46 [==============================] - 48s 1s/step - loss: 5.3456e-05 - accuracy: 1.0000 - val_loss: 0.0052 - val_accuracy: 1.0000\n",
            "Epoch 36/100\n",
            "46/46 [==============================] - 48s 1s/step - loss: 4.5659e-05 - accuracy: 1.0000 - val_loss: 0.0046 - val_accuracy: 1.0000\n",
            "Epoch 37/100\n",
            "46/46 [==============================] - 48s 1s/step - loss: 4.4288e-05 - accuracy: 1.0000 - val_loss: 0.0049 - val_accuracy: 1.0000\n",
            "Epoch 38/100\n",
            "46/46 [==============================] - 49s 1s/step - loss: 4.0236e-05 - accuracy: 1.0000 - val_loss: 0.0047 - val_accuracy: 1.0000\n",
            "Epoch 39/100\n",
            "46/46 [==============================] - 49s 1s/step - loss: 3.6590e-05 - accuracy: 1.0000 - val_loss: 0.0048 - val_accuracy: 1.0000\n",
            "Epoch 40/100\n",
            "46/46 [==============================] - 48s 1s/step - loss: 3.3645e-05 - accuracy: 1.0000 - val_loss: 0.0048 - val_accuracy: 1.0000\n",
            "Epoch 41/100\n",
            "46/46 [==============================] - 49s 1s/step - loss: 3.3637e-05 - accuracy: 1.0000 - val_loss: 0.0047 - val_accuracy: 1.0000\n",
            "Epoch 42/100\n",
            "46/46 [==============================] - 48s 1s/step - loss: 3.0381e-05 - accuracy: 1.0000 - val_loss: 0.0051 - val_accuracy: 1.0000\n",
            "Epoch 43/100\n",
            "46/46 [==============================] - 49s 1s/step - loss: 3.0516e-05 - accuracy: 1.0000 - val_loss: 0.0046 - val_accuracy: 1.0000\n",
            "Epoch 44/100\n",
            "46/46 [==============================] - 49s 1s/step - loss: 2.9571e-05 - accuracy: 1.0000 - val_loss: 0.0046 - val_accuracy: 1.0000\n",
            "Epoch 45/100\n",
            "46/46 [==============================] - 49s 1s/step - loss: 2.6573e-05 - accuracy: 1.0000 - val_loss: 0.0045 - val_accuracy: 1.0000\n",
            "Epoch 46/100\n",
            "46/46 [==============================] - 49s 1s/step - loss: 2.5168e-05 - accuracy: 1.0000 - val_loss: 0.0043 - val_accuracy: 1.0000\n",
            "Epoch 47/100\n",
            "46/46 [==============================] - 49s 1s/step - loss: 2.3447e-05 - accuracy: 1.0000 - val_loss: 0.0045 - val_accuracy: 1.0000\n",
            "Epoch 48/100\n",
            "46/46 [==============================] - 48s 1s/step - loss: 2.2563e-05 - accuracy: 1.0000 - val_loss: 0.0045 - val_accuracy: 1.0000\n",
            "Epoch 49/100\n",
            "46/46 [==============================] - 48s 1s/step - loss: 1.9923e-05 - accuracy: 1.0000 - val_loss: 0.0050 - val_accuracy: 1.0000\n",
            "Epoch 50/100\n",
            "46/46 [==============================] - 48s 1s/step - loss: 2.0477e-05 - accuracy: 1.0000 - val_loss: 0.0049 - val_accuracy: 1.0000\n",
            "Epoch 51/100\n",
            "46/46 [==============================] - 49s 1s/step - loss: 1.8241e-05 - accuracy: 1.0000 - val_loss: 0.0044 - val_accuracy: 1.0000\n",
            "Epoch 52/100\n",
            "46/46 [==============================] - 48s 1s/step - loss: 1.7836e-05 - accuracy: 1.0000 - val_loss: 0.0048 - val_accuracy: 1.0000\n",
            "Epoch 53/100\n",
            "46/46 [==============================] - 49s 1s/step - loss: 1.7299e-05 - accuracy: 1.0000 - val_loss: 0.0044 - val_accuracy: 1.0000\n",
            "Epoch 54/100\n",
            "46/46 [==============================] - 48s 1s/step - loss: 1.6437e-05 - accuracy: 1.0000 - val_loss: 0.0044 - val_accuracy: 1.0000\n",
            "Epoch 55/100\n",
            "46/46 [==============================] - 49s 1s/step - loss: 1.4951e-05 - accuracy: 1.0000 - val_loss: 0.0045 - val_accuracy: 1.0000\n",
            "Epoch 56/100\n",
            "46/46 [==============================] - 49s 1s/step - loss: 1.4507e-05 - accuracy: 1.0000 - val_loss: 0.0042 - val_accuracy: 1.0000\n",
            "Epoch 57/100\n",
            "46/46 [==============================] - 48s 1s/step - loss: 1.3559e-05 - accuracy: 1.0000 - val_loss: 0.0045 - val_accuracy: 1.0000\n",
            "Epoch 58/100\n",
            "46/46 [==============================] - 49s 1s/step - loss: 1.4569e-05 - accuracy: 1.0000 - val_loss: 0.0044 - val_accuracy: 1.0000\n",
            "Epoch 59/100\n",
            "46/46 [==============================] - 48s 1s/step - loss: 1.2989e-05 - accuracy: 1.0000 - val_loss: 0.0046 - val_accuracy: 1.0000\n",
            "Epoch 60/100\n",
            "46/46 [==============================] - 48s 1s/step - loss: 1.1992e-05 - accuracy: 1.0000 - val_loss: 0.0047 - val_accuracy: 1.0000\n",
            "Epoch 61/100\n",
            "46/46 [==============================] - 49s 1s/step - loss: 1.1697e-05 - accuracy: 1.0000 - val_loss: 0.0044 - val_accuracy: 1.0000\n",
            "Epoch 62/100\n",
            "46/46 [==============================] - 48s 1s/step - loss: 1.1785e-05 - accuracy: 1.0000 - val_loss: 0.0043 - val_accuracy: 1.0000\n",
            "Epoch 63/100\n",
            "46/46 [==============================] - 48s 1s/step - loss: 1.0981e-05 - accuracy: 1.0000 - val_loss: 0.0041 - val_accuracy: 1.0000\n",
            "Epoch 64/100\n",
            "46/46 [==============================] - 49s 1s/step - loss: 9.9966e-06 - accuracy: 1.0000 - val_loss: 0.0050 - val_accuracy: 1.0000\n",
            "Epoch 65/100\n",
            "46/46 [==============================] - 49s 1s/step - loss: 1.0028e-05 - accuracy: 1.0000 - val_loss: 0.0041 - val_accuracy: 1.0000\n",
            "Epoch 66/100\n",
            "46/46 [==============================] - 49s 1s/step - loss: 9.1843e-06 - accuracy: 1.0000 - val_loss: 0.0041 - val_accuracy: 1.0000\n",
            "Epoch 67/100\n",
            "46/46 [==============================] - 49s 1s/step - loss: 8.7710e-06 - accuracy: 1.0000 - val_loss: 0.0044 - val_accuracy: 1.0000\n",
            "Epoch 68/100\n",
            "46/46 [==============================] - 48s 1s/step - loss: 8.5841e-06 - accuracy: 1.0000 - val_loss: 0.0040 - val_accuracy: 1.0000\n",
            "Epoch 69/100\n",
            "46/46 [==============================] - 48s 1s/step - loss: 8.0016e-06 - accuracy: 1.0000 - val_loss: 0.0040 - val_accuracy: 1.0000\n",
            "Epoch 70/100\n",
            "46/46 [==============================] - 49s 1s/step - loss: 7.6340e-06 - accuracy: 1.0000 - val_loss: 0.0039 - val_accuracy: 1.0000\n",
            "Epoch 71/100\n",
            "46/46 [==============================] - 48s 1s/step - loss: 7.3265e-06 - accuracy: 1.0000 - val_loss: 0.0039 - val_accuracy: 1.0000\n",
            "Epoch 72/100\n",
            "46/46 [==============================] - 48s 1s/step - loss: 7.1956e-06 - accuracy: 1.0000 - val_loss: 0.0043 - val_accuracy: 1.0000\n",
            "Epoch 73/100\n",
            "46/46 [==============================] - 49s 1s/step - loss: 7.2105e-06 - accuracy: 1.0000 - val_loss: 0.0046 - val_accuracy: 1.0000\n",
            "Epoch 74/100\n",
            "46/46 [==============================] - 49s 1s/step - loss: 6.4778e-06 - accuracy: 1.0000 - val_loss: 0.0041 - val_accuracy: 1.0000\n",
            "Epoch 75/100\n",
            "46/46 [==============================] - 49s 1s/step - loss: 6.6403e-06 - accuracy: 1.0000 - val_loss: 0.0041 - val_accuracy: 1.0000\n",
            "Epoch 76/100\n",
            "46/46 [==============================] - 49s 1s/step - loss: 6.1601e-06 - accuracy: 1.0000 - val_loss: 0.0042 - val_accuracy: 1.0000\n",
            "Epoch 77/100\n",
            "46/46 [==============================] - 49s 1s/step - loss: 5.8829e-06 - accuracy: 1.0000 - val_loss: 0.0043 - val_accuracy: 1.0000\n",
            "Epoch 78/100\n",
            "46/46 [==============================] - 49s 1s/step - loss: 5.4967e-06 - accuracy: 1.0000 - val_loss: 0.0042 - val_accuracy: 1.0000\n",
            "Epoch 79/100\n",
            "46/46 [==============================] - 49s 1s/step - loss: 5.4158e-06 - accuracy: 1.0000 - val_loss: 0.0041 - val_accuracy: 1.0000\n",
            "Epoch 80/100\n",
            "46/46 [==============================] - 49s 1s/step - loss: 5.4819e-06 - accuracy: 1.0000 - val_loss: 0.0043 - val_accuracy: 1.0000\n",
            "Epoch 81/100\n",
            "46/46 [==============================] - 48s 1s/step - loss: 5.0065e-06 - accuracy: 1.0000 - val_loss: 0.0040 - val_accuracy: 1.0000\n",
            "Epoch 82/100\n",
            "46/46 [==============================] - 48s 1s/step - loss: 4.9439e-06 - accuracy: 1.0000 - val_loss: 0.0042 - val_accuracy: 1.0000\n",
            "Epoch 83/100\n",
            "46/46 [==============================] - 49s 1s/step - loss: 4.8432e-06 - accuracy: 1.0000 - val_loss: 0.0044 - val_accuracy: 1.0000\n",
            "Epoch 84/100\n",
            "46/46 [==============================] - 48s 1s/step - loss: 4.4478e-06 - accuracy: 1.0000 - val_loss: 0.0043 - val_accuracy: 1.0000\n",
            "Epoch 85/100\n",
            "46/46 [==============================] - 48s 1s/step - loss: 4.3572e-06 - accuracy: 1.0000 - val_loss: 0.0043 - val_accuracy: 1.0000\n",
            "Epoch 86/100\n",
            "46/46 [==============================] - 48s 1s/step - loss: 4.2368e-06 - accuracy: 1.0000 - val_loss: 0.0046 - val_accuracy: 1.0000\n",
            "Epoch 87/100\n",
            "46/46 [==============================] - 49s 1s/step - loss: 4.1216e-06 - accuracy: 1.0000 - val_loss: 0.0043 - val_accuracy: 1.0000\n",
            "Epoch 88/100\n",
            "46/46 [==============================] - 49s 1s/step - loss: 3.9677e-06 - accuracy: 1.0000 - val_loss: 0.0043 - val_accuracy: 1.0000\n",
            "Epoch 89/100\n",
            "46/46 [==============================] - 49s 1s/step - loss: 3.8839e-06 - accuracy: 1.0000 - val_loss: 0.0045 - val_accuracy: 1.0000\n",
            "Epoch 90/100\n",
            "46/46 [==============================] - 49s 1s/step - loss: 3.6973e-06 - accuracy: 1.0000 - val_loss: 0.0044 - val_accuracy: 1.0000\n",
            "Epoch 91/100\n",
            "46/46 [==============================] - 48s 1s/step - loss: 3.8401e-06 - accuracy: 1.0000 - val_loss: 0.0045 - val_accuracy: 1.0000\n",
            "Epoch 92/100\n",
            "46/46 [==============================] - 48s 1s/step - loss: 3.4696e-06 - accuracy: 1.0000 - val_loss: 0.0045 - val_accuracy: 1.0000\n",
            "Epoch 93/100\n",
            "46/46 [==============================] - 48s 1s/step - loss: 3.3583e-06 - accuracy: 1.0000 - val_loss: 0.0043 - val_accuracy: 1.0000\n",
            "Epoch 94/100\n",
            "46/46 [==============================] - 48s 1s/step - loss: 3.3227e-06 - accuracy: 1.0000 - val_loss: 0.0049 - val_accuracy: 0.9973\n",
            "Epoch 95/100\n",
            "46/46 [==============================] - 49s 1s/step - loss: 3.1297e-06 - accuracy: 1.0000 - val_loss: 0.0045 - val_accuracy: 1.0000\n",
            "Epoch 96/100\n",
            "46/46 [==============================] - 49s 1s/step - loss: 3.1468e-06 - accuracy: 1.0000 - val_loss: 0.0046 - val_accuracy: 1.0000\n",
            "Epoch 97/100\n",
            "46/46 [==============================] - 49s 1s/step - loss: 2.9264e-06 - accuracy: 1.0000 - val_loss: 0.0047 - val_accuracy: 0.9973\n",
            "Epoch 98/100\n",
            "46/46 [==============================] - 49s 1s/step - loss: 2.8890e-06 - accuracy: 1.0000 - val_loss: 0.0047 - val_accuracy: 0.9973\n",
            "Epoch 99/100\n",
            "46/46 [==============================] - 48s 1s/step - loss: 2.8624e-06 - accuracy: 1.0000 - val_loss: 0.0048 - val_accuracy: 0.9973\n",
            "Epoch 100/100\n",
            "46/46 [==============================] - 48s 1s/step - loss: 2.6879e-06 - accuracy: 1.0000 - val_loss: 0.0045 - val_accuracy: 1.0000\n"
          ],
          "name": "stdout"
        },
        {
          "output_type": "display_data",
          "data": {
            "image/png": "[encoded data removed]",
            "text/plain": [
              "<Figure size 432x288 with 1 Axes>"
            ]
          },
          "metadata": {
            "tags": [],
            "needs_background": "light"
          }
        },
        {
          "output_type": "display_data",
          "data": {
            "image/png": "[encoded data removed]",
            "text/plain": [
              "<Figure size 432x288 with 1 Axes>"
            ]
          },
          "metadata": {
            "tags": [],
            "needs_background": "light"
          }
        },
        {
          "output_type": "stream",
          "text": [
            "Found 31 images belonging to 2 classes.\n",
            "WARNING:tensorflow:From <ipython-input-7-0a8ae4ebb836>:23: Model.predict_generator (from tensorflow.python.keras.engine.training) is deprecated and will be removed in a future version.\n",
            "Instructions for updating:\n",
            "Please use Model.predict, which supports generators.\n",
            "1/1 [==============================] - 0s 3ms/step\n"
          ],
          "name": "stdout"
        },
        {
          "output_type": "stream",
          "text": [
            "No handles with labels found to put in legend.\n"
          ],
          "name": "stderr"
        },
        {
          "output_type": "stream",
          "text": [
            "\n",
            "Confusion Matrix\n",
            " -------------------------\n",
            "[[11  4]\n",
            " [ 0 16]]\n",
            "Accuracy: 0.870968\n",
            "Precision: 0.800000\n",
            "Recall: 1.000000\n",
            "F1 score: 0.888889\n",
            "ROC AUC: 0.962500\n"
          ],
          "name": "stdout"
        },
        {
          "output_type": "display_data",
          "data": {
            "image/png": "[encoded data removed]",
            "text/plain": [
              "<Figure size 432x288 with 1 Axes>"
            ]
          },
          "metadata": {
            "tags": [],
            "needs_background": "light"
          }
        }
      ]
    },
    {
      "cell_type": "code",
      "metadata": {
        "id": "34VSMWlCnYmY"
      },
      "source": [
        "    %matplotlib inline\n",
        "from sklearn.metrics import confusion_matrix\n",
        "import itertools\n",
        "import matplotlib.pyplot as plt\n",
        "import numpy as np"
      ],
      "execution_count": 5,
      "outputs": []
    },
    {
      "cell_type": "code",
      "metadata": {
        "colab": {
          "base_uri": "https://localhost:8080/",
          "height": 974
        },
        "id": "3Wup9UYJnYQp",
        "outputId": "93bb3332-4d1e-4f63-a4b7-2cc9392e81d9"
      },
      "source": [
        "Evaluate_CNN_Model()"
      ],
      "execution_count": 7,
      "outputs": [
        {
          "output_type": "stream",
          "text": [
            "Found 31 images belonging to 2 classes.\n",
            "WARNING:tensorflow:From <ipython-input-6-4a0674acea36>:23: Model.predict_generator (from tensorflow.python.keras.engine.training) is deprecated and will be removed in a future version.\n",
            "Instructions for updating:\n",
            "Please use Model.predict, which supports generators.\n"
          ],
          "name": "stdout"
        },
        {
          "output_type": "stream",
          "text": [
            "/usr/local/lib/python3.6/dist-packages/keras_preprocessing/image/image_data_generator.py:720: UserWarning: This ImageDataGenerator specifies `featurewise_center`, but it hasn't been fit on any training data. Fit it first by calling `.fit(numpy_data)`.\n",
            "  warnings.warn('This ImageDataGenerator specifies '\n",
            "/usr/local/lib/python3.6/dist-packages/keras_preprocessing/image/image_data_generator.py:728: UserWarning: This ImageDataGenerator specifies `featurewise_std_normalization`, but it hasn't been fit on any training data. Fit it first by calling `.fit(numpy_data)`.\n",
            "  warnings.warn('This ImageDataGenerator specifies '\n"
          ],
          "name": "stderr"
        },
        {
          "output_type": "stream",
          "text": [
            "1/1 [==============================] - 0s 4ms/step\n"
          ],
          "name": "stdout"
        },
        {
          "output_type": "stream",
          "text": [
            "No handles with labels found to put in legend.\n"
          ],
          "name": "stderr"
        },
        {
          "output_type": "stream",
          "text": [
            "\n",
            "Confusion Matrix\n",
            " -------------------------\n",
            "[[11  4]\n",
            " [ 0 16]]\n",
            "Accuracy: 0.870968\n",
            "Precision: 0.800000\n",
            "Recall: 1.000000\n",
            "F1 score: 0.888889\n",
            "ROC AUC: 0.962500\n"
          ],
          "name": "stdout"
        },
        {
          "output_type": "display_data",
          "data": {
            "image/png": "[encoded data removed]",
            "text/plain": [
              "<Figure size 432x288 with 1 Axes>"
            ]
          },
          "metadata": {
            "tags": [],
            "needs_background": "light"
          }
        },
        {
          "output_type": "display_data",
          "data": {
            "image/png": "[encoded data removed]",
            "text/plain": [
              "<Figure size 432x288 with 2 Axes>"
            ]
          },
          "metadata": {
            "tags": [],
            "needs_background": "light"
          }
        }
      ]
    }
  ]
}