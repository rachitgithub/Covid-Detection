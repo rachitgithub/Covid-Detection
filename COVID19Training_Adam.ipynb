{
  "nbformat": 4,
  "nbformat_minor": 0,
  "metadata": {
    "colab": {
      "name": "COVID19Training_Adam.ipynb",
      "provenance": [],
      "collapsed_sections": [],
      "toc_visible": true,
      "include_colab_link": true
    },
    "kernelspec": {
      "name": "python3",
      "display_name": "Python 3"
    },
    "accelerator": "GPU"
  },
  "cells": [
    {
      "cell_type": "markdown",
      "metadata": {
        "id": "view-in-github",
        "colab_type": "text"
      },
      "source": [
        "<a href=\"https://colab.research.google.com/github/rachitgithub/Covid-Detection/blob/main/COVID19Training_Adam.ipynb\" target=\"_parent\"><img src=\"https://colab.research.google.com/assets/colab-badge.svg\" alt=\"Open In Colab\"/></a>"
      ]
    },
    {
      "cell_type": "markdown",
      "metadata": {
        "id": "-gyKOi8EPITT"
      },
      "source": [
        "# **Install TensorFlow GPU**"
      ]
    },
    {
      "cell_type": "code",
      "metadata": {
        "id": "UboFrn87qNVe"
      },
      "source": [
        "!pip install tensorflow-gpu"
      ],
      "execution_count": null,
      "outputs": []
    },
    {
      "cell_type": "markdown",
      "metadata": {
        "id": "FLc0x1XRPPVm"
      },
      "source": [
        "# **Import GDRIVE**"
      ]
    },
    {
      "cell_type": "code",
      "metadata": {
        "colab": {
          "base_uri": "https://localhost:8080/"
        },
        "id": "2SXklTJgqQyV",
        "outputId": "8628aeb2-a713-4445-9da2-efbbe502f142"
      },
      "source": [
        "from google.colab import drive\n",
        "drive.mount('/content/drive')"
      ],
      "execution_count": 2,
      "outputs": [
        {
          "output_type": "stream",
          "text": [
            "Mounted at /content/drive\n"
          ],
          "name": "stdout"
        }
      ]
    },
    {
      "cell_type": "markdown",
      "metadata": {
        "id": "M55jhmwBPTGp"
      },
      "source": [
        "# **Import Tensor Flow**"
      ]
    },
    {
      "cell_type": "code",
      "metadata": {
        "colab": {
          "base_uri": "https://localhost:8080/"
        },
        "id": "yPOllQPgqUky",
        "outputId": "71ab8fa1-a3bc-4353-cf3c-40910c8ddb03"
      },
      "source": [
        "import tensorflow as tf\n",
        "tf.test.gpu_device_name()\n",
        "print(tf.__version__)"
      ],
      "execution_count": 3,
      "outputs": [
        {
          "output_type": "stream",
          "text": [
            "2.3.1\n"
          ],
          "name": "stdout"
        }
      ]
    },
    {
      "cell_type": "markdown",
      "metadata": {
        "id": "qf3UaO-sPXkz"
      },
      "source": [
        "# **Import Keras Libraries**"
      ]
    },
    {
      "cell_type": "code",
      "metadata": {
        "id": "O6d6JctTqdW2"
      },
      "source": [
        "from keras.models import Sequential,load_model\n",
        "from keras.layers import Conv2D,Activation, MaxPooling2D,Dense,Flatten\n",
        "from keras.optimizers import Adam\n",
        "from keras.preprocessing.image import ImageDataGenerator\n",
        "\n",
        "from sklearn.metrics import accuracy_score,roc_curve,confusion_matrix,precision_score,recall_score,f1_score,roc_auc_score\n",
        "import matplotlib.pyplot as plt\n",
        "import matplotlib.pyplot as plt_False_Positive_vs_True_Positive"
      ],
      "execution_count": 4,
      "outputs": []
    },
    {
      "cell_type": "markdown",
      "metadata": {
        "id": "BoGghyDrPcMl"
      },
      "source": [
        "# **Build Sequential Adam CNN Model**\n"
      ]
    },
    {
      "cell_type": "code",
      "metadata": {
        "id": "NHfmSsyapGlw"
      },
      "source": [
        "def Build_CNN_Model():\n",
        "\n",
        "    # -------------------------------------------------------------------------\n",
        "    #                        Build CNN Model \n",
        "    # -------------------------------------------------------------------------\n",
        "\n",
        "    \n",
        "    model = Sequential()\n",
        "    \n",
        "    #  First Block of CNN\n",
        "    model.add(Conv2D(8, (5, 5), padding='same', input_shape=(224, 224, 3)))  \n",
        "    model.add(Activation('relu'))\n",
        "    model.add(MaxPooling2D((2, 2)))\n",
        "    \n",
        "    #  Second Block of CNN\n",
        "    model.add(Conv2D(8, (3, 3),  padding='same'))  \n",
        "    model.add(Activation('relu'))\n",
        "    model.add(MaxPooling2D((2, 2)))\n",
        "\n",
        "    #  Third Block of CNN\n",
        "    model.add(Conv2D(16, (3, 3),  padding='same'))  \n",
        "    model.add(Activation('relu'))\n",
        "\n",
        "\n",
        "    #  Forth Block of CNN\n",
        "    model.add(Conv2D(16, (3, 3),  padding='same'))  \n",
        "    model.add(Activation('relu'))\n",
        "    model.add(MaxPooling2D((2, 2)))\n",
        "\n",
        "    \n",
        "    #  Flatten and Fully Connected Layer\n",
        "    model.add(Flatten())\n",
        "    model.add(Dense(10))\n",
        "    model.add(Activation('relu'))\n",
        "     \n",
        "    #  Softmax Classifier\n",
        "    model.add(Dense(2))\n",
        "    model.add(Activation('softmax'))\n",
        "        \n",
        "    #  Display model\n",
        "    model.summary()\n",
        "    \n",
        "\t  # compile model\n",
        "\n",
        "    opt = Adam(learning_rate=0.001, beta_1=0.9, beta_2=0.999)\n",
        "    model.compile(optimizer=opt, loss='categorical_crossentropy', metrics=['accuracy'])\n",
        "    \n",
        "    return model \n"
      ],
      "execution_count": 5,
      "outputs": []
    },
    {
      "cell_type": "markdown",
      "metadata": {
        "id": "EeLn5RJZPnKl"
      },
      "source": [
        "# **Train Sequential Adam CNN Model**\n"
      ]
    },
    {
      "cell_type": "code",
      "metadata": {
        "id": "iT6jo0OmquCL"
      },
      "source": [
        "# train and evaluate cnn model\n",
        "def Train_CNN_Model(model):\n",
        "    \n",
        "    # -------------------------------------------------------------------------\n",
        "    #                        Train CNN Model \n",
        "    # -------------------------------------------------------------------------\n",
        "    \n",
        "    # create data generators    \n",
        "    train_datagen = ImageDataGenerator(\n",
        "                                     rescale=1.0/255.0,\n",
        "                                     featurewise_center= True,\n",
        "                                     featurewise_std_normalization = True)\n",
        "    \n",
        "    valid_datagen = ImageDataGenerator(\n",
        "                                     rescale=1.0/255.0,\n",
        "                                     featurewise_center= True,\n",
        "                                     featurewise_std_normalization = True)\n",
        "    \n",
        "    \n",
        "   \n",
        "   \n",
        "    # prepare iterators\n",
        "    batch_size=32\n",
        "    train_it = train_datagen.flow_from_directory('/content/drive/MyDrive/COVID-19-Deep-Learning-Project-Colab/Dataset/train/',classes =('Normal','Covid'),batch_size=batch_size, target_size=(224, 224))\n",
        "    valid_it = valid_datagen.flow_from_directory('/content/drive/MyDrive/COVID-19-Deep-Learning-Project-Colab/Dataset/val/',classes =('Normal','Covid'),batch_size=batch_size, target_size=(224, 224))\n",
        "\n",
        "\n",
        "    epochs=100;\n",
        "    \n",
        "    history = model.fit_generator(train_it, steps_per_epoch=len(train_it),\n",
        "\t\tvalidation_data=valid_it, validation_steps=len(valid_it), epochs=epochs, verbose=1)\n",
        "    \n",
        "    \n",
        "    #  \"Accuracy\"\n",
        "    plt.plot(history.history['accuracy'])\n",
        "    plt.plot(history.history['val_accuracy'])\n",
        "    plt.title('model accuracy')\n",
        "    plt.ylabel('accuracy')\n",
        "    plt.xlabel('epoch')\n",
        "    plt.legend(['train', 'validation'], loc='upper left')\n",
        "    plt.show()\n",
        "    \n",
        "    # \"Loss\"\n",
        "    plt.plot(history.history['loss'])\n",
        "    plt.plot(history.history['val_loss'])\n",
        "    plt.title('model loss')\n",
        "    plt.ylabel('loss')\n",
        "    plt.xlabel('epoch')\n",
        "    plt.legend(['train', 'validation'], loc='upper left')\n",
        "    plt.show()\n",
        "\n",
        "\t# save model\n",
        "    model.save('/content/drive/MyDrive/COVID-19-Deep-Learning-Project-Colab/saved_models/CoVID19-sequential-adam_cnn_model.h5')\n"
      ],
      "execution_count": 6,
      "outputs": []
    },
    {
      "cell_type": "markdown",
      "metadata": {
        "id": "akk2CJw7Pp6O"
      },
      "source": [
        "# **Evaluate Sequential CNN Model**\n"
      ]
    },
    {
      "cell_type": "code",
      "metadata": {
        "id": "5eW1T2Ekq5MM"
      },
      "source": [
        "def Evaluate_CNN_Model():\n",
        "    # -------------------------------------------------------------------------\n",
        "    #                        Evaluate CNN Model \n",
        "    # -------------------------------------------------------------------------\n",
        "    \n",
        "    # load model\n",
        "    model = load_model('/content/drive/MyDrive/COVID-19-Deep-Learning-Project-Colab/saved_models/CoVID19-sequential-adam_cnn_model.h5')\n",
        "\n",
        "    \n",
        "    # load test data\n",
        "    batch_size=32\n",
        "    test_datagen = ImageDataGenerator(\n",
        "                                     rescale=1.0/255.0,\n",
        "                                     featurewise_center= True,\n",
        "                                     featurewise_std_normalization = True)\n",
        "    \n",
        "    test_it = test_datagen.flow_from_directory('/content/drive/MyDrive/COVID-19-Deep-Learning-Project-Colab/Dataset/test/',classes =('Normal','Covid'), \n",
        "                                               shuffle=False,batch_size=batch_size, target_size=(224, 224))\n",
        "    \n",
        "    \n",
        "    y_true = test_it.classes;\n",
        "\n",
        "    y_pred = model.predict_generator(test_it, steps=len(test_it), verbose=1)\n",
        "\n",
        "    \n",
        "    y_pred_prob = y_pred[:,1]\n",
        "\n",
        "     \n",
        "    y_pred_binary =  y_pred_prob > 0.5\n",
        "   \n",
        "    #Confution Matrix    \n",
        "    print('\\nConfusion Matrix\\n -------------------------')    \n",
        "    print(confusion_matrix(y_true,y_pred_binary));\n",
        "    \n",
        "    # accuracy: (tp + tn) / (p + n)\n",
        "    accuracy = accuracy_score(y_true, y_pred_binary)\n",
        "    print('Accuracy: %f' % accuracy)\n",
        "    \n",
        "    \n",
        "    # precision tp / (tp + fp)\n",
        "    precision = precision_score(y_true, y_pred_binary)\n",
        "    print('Precision: %f' % precision)\n",
        "    \n",
        "    # recall: tp / (tp + fn)\n",
        "    recall = recall_score(y_true, y_pred_binary)\n",
        "    print('Recall: %f' % recall)\n",
        "    \n",
        "    # f1: 2 tp / (2 tp + fp + fn)\n",
        "    f1 = f1_score(y_true, y_pred_binary)\n",
        "    print('F1 score: %f' % f1)    \n",
        "       \n",
        "    # ROC AUC\n",
        "    auc = roc_auc_score(y_true, y_pred_prob)\n",
        "    print('ROC AUC: %f' % auc)\n",
        "    \n",
        "    \n",
        "    # calculate roc curves\n",
        "    fpr, tpr, _ = roc_curve(y_true, y_pred_prob)\n",
        "        \n",
        "    # plot the roc curve for the model\n",
        "    plt.figure()\n",
        "    plt_False_Positive_vs_True_Positive.plot(fpr, tpr, linestyle='--', label='')\n",
        "    \n",
        "    # axis labels\n",
        "    plt_False_Positive_vs_True_Positive.xlabel('False Positive Rate')\n",
        "    plt_False_Positive_vs_True_Positive.ylabel('True Positive Rate')\n",
        "       \n",
        "    # show the legend\n",
        "    plt_False_Positive_vs_True_Positive.legend()\n",
        "    # show the plot\n",
        "    plt_False_Positive_vs_True_Positive.show()\n",
        "    \n",
        "          #for plotting CM graph\n",
        "    cm = confusion_matrix(y_true,y_pred_binary)\n",
        "\n",
        "    def plot_confusion_matrix(cm, classes,\n",
        "                        normalize=False,\n",
        "                        title='Confusion matrix for Adam Optimizer CNN',\n",
        "                        cmap=plt.cm.Oranges):\n",
        " \n",
        "      plt.imshow(cm, interpolation='nearest', cmap=cmap)\n",
        "      plt.title(title)\n",
        "      plt.colorbar()\n",
        "      tick_marks = np.arange(len(classes))\n",
        "      plt.xticks(tick_marks, classes, rotation=45)\n",
        "      plt.yticks(tick_marks, classes)\n",
        "\n",
        "\n",
        "\n",
        "    thresh = cm.max() / 2.\n",
        "    for i, j in itertools.product(range(cm.shape[0]), range(cm.shape[1])):\n",
        "        plt.text(j, i, cm[i, j],\n",
        "            horizontalalignment=\"center\",\n",
        "            color=\"white\" if cm[i, j] > thresh else \"black\")\n",
        "\n",
        "    plt.tight_layout()\n",
        "    plt.ylabel('Predicted Values')\n",
        "    plt.xlabel('True Values')\n",
        "    cm_plot_labels = ['No Covid','Has Covid']\n",
        "    plot_confusion_matrix(cm=cm, classes=cm_plot_labels, title='Confusion matrix for Adam Optimizer CNN')\n"
      ],
      "execution_count": 10,
      "outputs": []
    },
    {
      "cell_type": "code",
      "metadata": {
        "colab": {
          "base_uri": "https://localhost:8080/",
          "height": 1000
        },
        "id": "PqwwYBQsqysR",
        "outputId": "b6b7a002-31e5-45ab-add6-08d04c7367b7"
      },
      "source": [
        "# main entry\n",
        "    \n",
        "model = Build_CNN_Model()\n",
        "\n",
        "Train_CNN_Model(model)"
      ],
      "execution_count": 8,
      "outputs": [
        {
          "output_type": "stream",
          "text": [
            "Model: \"sequential\"\n",
            "_________________________________________________________________\n",
            "Layer (type)                 Output Shape              Param #   \n",
            "=================================================================\n",
            "conv2d (Conv2D)              (None, 224, 224, 8)       608       \n",
            "_________________________________________________________________\n",
            "activation (Activation)      (None, 224, 224, 8)       0         \n",
            "_________________________________________________________________\n",
            "max_pooling2d (MaxPooling2D) (None, 112, 112, 8)       0         \n",
            "_________________________________________________________________\n",
            "conv2d_1 (Conv2D)            (None, 112, 112, 8)       584       \n",
            "_________________________________________________________________\n",
            "activation_1 (Activation)    (None, 112, 112, 8)       0         \n",
            "_________________________________________________________________\n",
            "max_pooling2d_1 (MaxPooling2 (None, 56, 56, 8)         0         \n",
            "_________________________________________________________________\n",
            "conv2d_2 (Conv2D)            (None, 56, 56, 16)        1168      \n",
            "_________________________________________________________________\n",
            "activation_2 (Activation)    (None, 56, 56, 16)        0         \n",
            "_________________________________________________________________\n",
            "conv2d_3 (Conv2D)            (None, 56, 56, 16)        2320      \n",
            "_________________________________________________________________\n",
            "activation_3 (Activation)    (None, 56, 56, 16)        0         \n",
            "_________________________________________________________________\n",
            "max_pooling2d_2 (MaxPooling2 (None, 28, 28, 16)        0         \n",
            "_________________________________________________________________\n",
            "flatten (Flatten)            (None, 12544)             0         \n",
            "_________________________________________________________________\n",
            "dense (Dense)                (None, 10)                125450    \n",
            "_________________________________________________________________\n",
            "activation_4 (Activation)    (None, 10)                0         \n",
            "_________________________________________________________________\n",
            "dense_1 (Dense)              (None, 2)                 22        \n",
            "_________________________________________________________________\n",
            "activation_5 (Activation)    (None, 2)                 0         \n",
            "=================================================================\n",
            "Total params: 130,152\n",
            "Trainable params: 130,152\n",
            "Non-trainable params: 0\n",
            "_________________________________________________________________\n",
            "Found 1846 images belonging to 2 classes.\n",
            "Found 461 images belonging to 2 classes.\n",
            "WARNING:tensorflow:From <ipython-input-6-c9036301da1a>:31: Model.fit_generator (from tensorflow.python.keras.engine.training) is deprecated and will be removed in a future version.\n",
            "Instructions for updating:\n",
            "Please use Model.fit, which supports generators.\n"
          ],
          "name": "stdout"
        },
        {
          "output_type": "stream",
          "text": [
            "/usr/local/lib/python3.6/dist-packages/keras_preprocessing/image/image_data_generator.py:720: UserWarning: This ImageDataGenerator specifies `featurewise_center`, but it hasn't been fit on any training data. Fit it first by calling `.fit(numpy_data)`.\n",
            "  warnings.warn('This ImageDataGenerator specifies '\n",
            "/usr/local/lib/python3.6/dist-packages/keras_preprocessing/image/image_data_generator.py:728: UserWarning: This ImageDataGenerator specifies `featurewise_std_normalization`, but it hasn't been fit on any training data. Fit it first by calling `.fit(numpy_data)`.\n",
            "  warnings.warn('This ImageDataGenerator specifies '\n"
          ],
          "name": "stderr"
        },
        {
          "output_type": "stream",
          "text": [
            "Epoch 1/100\n",
            "58/58 [==============================] - 782s 13s/step - loss: 0.3165 - accuracy: 0.8624 - val_loss: 0.0837 - val_accuracy: 0.9761\n",
            "Epoch 2/100\n",
            "58/58 [==============================] - 73s 1s/step - loss: 0.1072 - accuracy: 0.9653 - val_loss: 0.0987 - val_accuracy: 0.9631\n",
            "Epoch 3/100\n",
            "58/58 [==============================] - 72s 1s/step - loss: 0.0823 - accuracy: 0.9724 - val_loss: 0.0430 - val_accuracy: 0.9826\n",
            "Epoch 4/100\n",
            "58/58 [==============================] - 72s 1s/step - loss: 0.1176 - accuracy: 0.9540 - val_loss: 0.1097 - val_accuracy: 0.9718\n",
            "Epoch 5/100\n",
            "58/58 [==============================] - 73s 1s/step - loss: 0.0921 - accuracy: 0.9707 - val_loss: 0.0499 - val_accuracy: 0.9805\n",
            "Epoch 6/100\n",
            "58/58 [==============================] - 72s 1s/step - loss: 0.0798 - accuracy: 0.9713 - val_loss: 0.0516 - val_accuracy: 0.9805\n",
            "Epoch 7/100\n",
            "58/58 [==============================] - 71s 1s/step - loss: 0.0574 - accuracy: 0.9794 - val_loss: 0.0535 - val_accuracy: 0.9826\n",
            "Epoch 8/100\n",
            "58/58 [==============================] - 72s 1s/step - loss: 0.0548 - accuracy: 0.9816 - val_loss: 0.0886 - val_accuracy: 0.9523\n",
            "Epoch 9/100\n",
            "58/58 [==============================] - 71s 1s/step - loss: 0.0385 - accuracy: 0.9875 - val_loss: 0.0479 - val_accuracy: 0.9805\n",
            "Epoch 10/100\n",
            "58/58 [==============================] - 72s 1s/step - loss: 0.0426 - accuracy: 0.9859 - val_loss: 0.0514 - val_accuracy: 0.9826\n",
            "Epoch 11/100\n",
            "58/58 [==============================] - 72s 1s/step - loss: 0.0367 - accuracy: 0.9854 - val_loss: 0.0352 - val_accuracy: 0.9870\n",
            "Epoch 12/100\n",
            "58/58 [==============================] - 72s 1s/step - loss: 0.0264 - accuracy: 0.9930 - val_loss: 0.0298 - val_accuracy: 0.9892\n",
            "Epoch 13/100\n",
            "58/58 [==============================] - 72s 1s/step - loss: 0.0217 - accuracy: 0.9935 - val_loss: 0.0976 - val_accuracy: 0.9718\n",
            "Epoch 14/100\n",
            "58/58 [==============================] - 72s 1s/step - loss: 0.0112 - accuracy: 0.9957 - val_loss: 0.0428 - val_accuracy: 0.9848\n",
            "Epoch 15/100\n",
            "58/58 [==============================] - 72s 1s/step - loss: 0.0106 - accuracy: 0.9973 - val_loss: 0.0436 - val_accuracy: 0.9848\n",
            "Epoch 16/100\n",
            "58/58 [==============================] - 73s 1s/step - loss: 0.0046 - accuracy: 0.9995 - val_loss: 0.0557 - val_accuracy: 0.9805\n",
            "Epoch 17/100\n",
            "58/58 [==============================] - 74s 1s/step - loss: 0.0046 - accuracy: 0.9989 - val_loss: 0.0688 - val_accuracy: 0.9761\n",
            "Epoch 18/100\n",
            "58/58 [==============================] - 76s 1s/step - loss: 0.0042 - accuracy: 0.9995 - val_loss: 0.1071 - val_accuracy: 0.9718\n",
            "Epoch 19/100\n",
            "58/58 [==============================] - 74s 1s/step - loss: 0.0023 - accuracy: 1.0000 - val_loss: 0.0517 - val_accuracy: 0.9805\n",
            "Epoch 20/100\n",
            "58/58 [==============================] - 73s 1s/step - loss: 0.0049 - accuracy: 0.9984 - val_loss: 0.0662 - val_accuracy: 0.9826\n",
            "Epoch 21/100\n",
            "58/58 [==============================] - 74s 1s/step - loss: 0.0121 - accuracy: 0.9973 - val_loss: 0.0420 - val_accuracy: 0.9870\n",
            "Epoch 22/100\n",
            "58/58 [==============================] - 73s 1s/step - loss: 0.0055 - accuracy: 0.9978 - val_loss: 0.0318 - val_accuracy: 0.9892\n",
            "Epoch 23/100\n",
            "58/58 [==============================] - 75s 1s/step - loss: 0.0010 - accuracy: 1.0000 - val_loss: 0.0388 - val_accuracy: 0.9870\n",
            "Epoch 24/100\n",
            "58/58 [==============================] - 74s 1s/step - loss: 0.0015 - accuracy: 1.0000 - val_loss: 0.0232 - val_accuracy: 0.9892\n",
            "Epoch 25/100\n",
            "58/58 [==============================] - 74s 1s/step - loss: 0.0011 - accuracy: 1.0000 - val_loss: 0.0267 - val_accuracy: 0.9913\n",
            "Epoch 26/100\n",
            "58/58 [==============================] - 74s 1s/step - loss: 4.4117e-04 - accuracy: 1.0000 - val_loss: 0.0288 - val_accuracy: 0.9892\n",
            "Epoch 27/100\n",
            "58/58 [==============================] - 73s 1s/step - loss: 2.3013e-04 - accuracy: 1.0000 - val_loss: 0.0315 - val_accuracy: 0.9892\n",
            "Epoch 28/100\n",
            "58/58 [==============================] - 73s 1s/step - loss: 1.8383e-04 - accuracy: 1.0000 - val_loss: 0.0277 - val_accuracy: 0.9892\n",
            "Epoch 29/100\n",
            "58/58 [==============================] - 72s 1s/step - loss: 1.5903e-04 - accuracy: 1.0000 - val_loss: 0.0312 - val_accuracy: 0.9892\n",
            "Epoch 30/100\n",
            "58/58 [==============================] - 72s 1s/step - loss: 1.3728e-04 - accuracy: 1.0000 - val_loss: 0.0270 - val_accuracy: 0.9892\n",
            "Epoch 31/100\n",
            "58/58 [==============================] - 72s 1s/step - loss: 1.2831e-04 - accuracy: 1.0000 - val_loss: 0.0285 - val_accuracy: 0.9892\n",
            "Epoch 32/100\n",
            "58/58 [==============================] - 71s 1s/step - loss: 1.1423e-04 - accuracy: 1.0000 - val_loss: 0.0265 - val_accuracy: 0.9892\n",
            "Epoch 33/100\n",
            "58/58 [==============================] - 72s 1s/step - loss: 1.0470e-04 - accuracy: 1.0000 - val_loss: 0.0323 - val_accuracy: 0.9892\n",
            "Epoch 34/100\n",
            "58/58 [==============================] - 72s 1s/step - loss: 9.3684e-05 - accuracy: 1.0000 - val_loss: 0.0281 - val_accuracy: 0.9892\n",
            "Epoch 35/100\n",
            "58/58 [==============================] - 72s 1s/step - loss: 8.5483e-05 - accuracy: 1.0000 - val_loss: 0.0263 - val_accuracy: 0.9892\n",
            "Epoch 36/100\n",
            "58/58 [==============================] - 71s 1s/step - loss: 7.9559e-05 - accuracy: 1.0000 - val_loss: 0.0265 - val_accuracy: 0.9892\n",
            "Epoch 37/100\n",
            "58/58 [==============================] - 71s 1s/step - loss: 6.8904e-05 - accuracy: 1.0000 - val_loss: 0.0309 - val_accuracy: 0.9892\n",
            "Epoch 38/100\n",
            "58/58 [==============================] - 72s 1s/step - loss: 6.3488e-05 - accuracy: 1.0000 - val_loss: 0.0310 - val_accuracy: 0.9892\n",
            "Epoch 39/100\n",
            "58/58 [==============================] - 73s 1s/step - loss: 5.9141e-05 - accuracy: 1.0000 - val_loss: 0.0287 - val_accuracy: 0.9892\n",
            "Epoch 40/100\n",
            "58/58 [==============================] - 72s 1s/step - loss: 5.3936e-05 - accuracy: 1.0000 - val_loss: 0.0316 - val_accuracy: 0.9892\n",
            "Epoch 41/100\n",
            "58/58 [==============================] - 72s 1s/step - loss: 4.9824e-05 - accuracy: 1.0000 - val_loss: 0.0265 - val_accuracy: 0.9892\n",
            "Epoch 42/100\n",
            "58/58 [==============================] - 72s 1s/step - loss: 4.8001e-05 - accuracy: 1.0000 - val_loss: 0.0305 - val_accuracy: 0.9892\n",
            "Epoch 43/100\n",
            "58/58 [==============================] - 72s 1s/step - loss: 4.5482e-05 - accuracy: 1.0000 - val_loss: 0.0299 - val_accuracy: 0.9892\n",
            "Epoch 44/100\n",
            "58/58 [==============================] - 71s 1s/step - loss: 4.5122e-05 - accuracy: 1.0000 - val_loss: 0.0304 - val_accuracy: 0.9892\n",
            "Epoch 45/100\n",
            "58/58 [==============================] - 70s 1s/step - loss: 4.1127e-05 - accuracy: 1.0000 - val_loss: 0.0280 - val_accuracy: 0.9892\n",
            "Epoch 46/100\n",
            "58/58 [==============================] - 70s 1s/step - loss: 3.8269e-05 - accuracy: 1.0000 - val_loss: 0.0277 - val_accuracy: 0.9892\n",
            "Epoch 47/100\n",
            "58/58 [==============================] - 70s 1s/step - loss: 3.6016e-05 - accuracy: 1.0000 - val_loss: 0.0315 - val_accuracy: 0.9892\n",
            "Epoch 48/100\n",
            "58/58 [==============================] - 71s 1s/step - loss: 3.3900e-05 - accuracy: 1.0000 - val_loss: 0.0278 - val_accuracy: 0.9892\n",
            "Epoch 49/100\n",
            "58/58 [==============================] - 70s 1s/step - loss: 3.1352e-05 - accuracy: 1.0000 - val_loss: 0.0317 - val_accuracy: 0.9892\n",
            "Epoch 50/100\n",
            "58/58 [==============================] - 69s 1s/step - loss: 3.0257e-05 - accuracy: 1.0000 - val_loss: 0.0283 - val_accuracy: 0.9892\n",
            "Epoch 51/100\n",
            "58/58 [==============================] - 67s 1s/step - loss: 2.8143e-05 - accuracy: 1.0000 - val_loss: 0.0279 - val_accuracy: 0.9870\n",
            "Epoch 52/100\n",
            "58/58 [==============================] - 69s 1s/step - loss: 2.7656e-05 - accuracy: 1.0000 - val_loss: 0.0293 - val_accuracy: 0.9892\n",
            "Epoch 53/100\n",
            "58/58 [==============================] - 68s 1s/step - loss: 2.5123e-05 - accuracy: 1.0000 - val_loss: 0.0321 - val_accuracy: 0.9892\n",
            "Epoch 54/100\n",
            "58/58 [==============================] - 70s 1s/step - loss: 2.5341e-05 - accuracy: 1.0000 - val_loss: 0.0319 - val_accuracy: 0.9892\n",
            "Epoch 55/100\n",
            "58/58 [==============================] - 72s 1s/step - loss: 2.3255e-05 - accuracy: 1.0000 - val_loss: 0.0306 - val_accuracy: 0.9892\n",
            "Epoch 56/100\n",
            "58/58 [==============================] - 71s 1s/step - loss: 2.2232e-05 - accuracy: 1.0000 - val_loss: 0.0316 - val_accuracy: 0.9892\n",
            "Epoch 57/100\n",
            "58/58 [==============================] - 72s 1s/step - loss: 2.1073e-05 - accuracy: 1.0000 - val_loss: 0.0303 - val_accuracy: 0.9892\n",
            "Epoch 58/100\n",
            "58/58 [==============================] - 72s 1s/step - loss: 2.0207e-05 - accuracy: 1.0000 - val_loss: 0.0306 - val_accuracy: 0.9892\n",
            "Epoch 59/100\n",
            "58/58 [==============================] - 70s 1s/step - loss: 1.9311e-05 - accuracy: 1.0000 - val_loss: 0.0283 - val_accuracy: 0.9870\n",
            "Epoch 60/100\n",
            "58/58 [==============================] - 70s 1s/step - loss: 1.8425e-05 - accuracy: 1.0000 - val_loss: 0.0291 - val_accuracy: 0.9870\n",
            "Epoch 61/100\n",
            "58/58 [==============================] - 71s 1s/step - loss: 1.7821e-05 - accuracy: 1.0000 - val_loss: 0.0280 - val_accuracy: 0.9870\n",
            "Epoch 62/100\n",
            "58/58 [==============================] - 71s 1s/step - loss: 1.6862e-05 - accuracy: 1.0000 - val_loss: 0.0310 - val_accuracy: 0.9892\n",
            "Epoch 63/100\n",
            "58/58 [==============================] - 71s 1s/step - loss: 1.5995e-05 - accuracy: 1.0000 - val_loss: 0.0328 - val_accuracy: 0.9892\n",
            "Epoch 64/100\n",
            "58/58 [==============================] - 74s 1s/step - loss: 1.5616e-05 - accuracy: 1.0000 - val_loss: 0.0303 - val_accuracy: 0.9870\n",
            "Epoch 65/100\n",
            "58/58 [==============================] - 73s 1s/step - loss: 1.4596e-05 - accuracy: 1.0000 - val_loss: 0.0307 - val_accuracy: 0.9892\n",
            "Epoch 66/100\n",
            "58/58 [==============================] - 72s 1s/step - loss: 1.4143e-05 - accuracy: 1.0000 - val_loss: 0.0311 - val_accuracy: 0.9892\n",
            "Epoch 67/100\n",
            "58/58 [==============================] - 73s 1s/step - loss: 1.3511e-05 - accuracy: 1.0000 - val_loss: 0.0289 - val_accuracy: 0.9870\n",
            "Epoch 68/100\n",
            "58/58 [==============================] - 72s 1s/step - loss: 1.2795e-05 - accuracy: 1.0000 - val_loss: 0.0324 - val_accuracy: 0.9892\n",
            "Epoch 69/100\n",
            "58/58 [==============================] - 72s 1s/step - loss: 1.3061e-05 - accuracy: 1.0000 - val_loss: 0.0315 - val_accuracy: 0.9892\n",
            "Epoch 70/100\n",
            "58/58 [==============================] - 71s 1s/step - loss: 1.2246e-05 - accuracy: 1.0000 - val_loss: 0.0301 - val_accuracy: 0.9870\n",
            "Epoch 71/100\n",
            "58/58 [==============================] - 71s 1s/step - loss: 1.1459e-05 - accuracy: 1.0000 - val_loss: 0.0302 - val_accuracy: 0.9870\n",
            "Epoch 72/100\n",
            "58/58 [==============================] - 70s 1s/step - loss: 1.0942e-05 - accuracy: 1.0000 - val_loss: 0.0314 - val_accuracy: 0.9892\n",
            "Epoch 73/100\n",
            "58/58 [==============================] - 71s 1s/step - loss: 1.0712e-05 - accuracy: 1.0000 - val_loss: 0.0308 - val_accuracy: 0.9870\n",
            "Epoch 74/100\n",
            "58/58 [==============================] - 71s 1s/step - loss: 1.0221e-05 - accuracy: 1.0000 - val_loss: 0.0296 - val_accuracy: 0.9870\n",
            "Epoch 75/100\n",
            "58/58 [==============================] - 71s 1s/step - loss: 9.8550e-06 - accuracy: 1.0000 - val_loss: 0.0324 - val_accuracy: 0.9892\n",
            "Epoch 76/100\n",
            "58/58 [==============================] - 71s 1s/step - loss: 1.0072e-05 - accuracy: 1.0000 - val_loss: 0.0347 - val_accuracy: 0.9892\n",
            "Epoch 77/100\n",
            "58/58 [==============================] - 71s 1s/step - loss: 9.1334e-06 - accuracy: 1.0000 - val_loss: 0.0286 - val_accuracy: 0.9870\n",
            "Epoch 78/100\n",
            "58/58 [==============================] - 71s 1s/step - loss: 8.8226e-06 - accuracy: 1.0000 - val_loss: 0.0282 - val_accuracy: 0.9870\n",
            "Epoch 79/100\n",
            "58/58 [==============================] - 72s 1s/step - loss: 8.2652e-06 - accuracy: 1.0000 - val_loss: 0.0311 - val_accuracy: 0.9870\n",
            "Epoch 80/100\n",
            "58/58 [==============================] - 72s 1s/step - loss: 8.1469e-06 - accuracy: 1.0000 - val_loss: 0.0327 - val_accuracy: 0.9892\n",
            "Epoch 81/100\n",
            "58/58 [==============================] - 71s 1s/step - loss: 7.6557e-06 - accuracy: 1.0000 - val_loss: 0.0293 - val_accuracy: 0.9870\n",
            "Epoch 82/100\n",
            "58/58 [==============================] - 71s 1s/step - loss: 7.3619e-06 - accuracy: 1.0000 - val_loss: 0.0309 - val_accuracy: 0.9870\n",
            "Epoch 83/100\n",
            "58/58 [==============================] - 70s 1s/step - loss: 7.1738e-06 - accuracy: 1.0000 - val_loss: 0.0327 - val_accuracy: 0.9892\n",
            "Epoch 84/100\n",
            "58/58 [==============================] - 70s 1s/step - loss: 6.8205e-06 - accuracy: 1.0000 - val_loss: 0.0291 - val_accuracy: 0.9870\n",
            "Epoch 85/100\n",
            "58/58 [==============================] - 71s 1s/step - loss: 6.6160e-06 - accuracy: 1.0000 - val_loss: 0.0287 - val_accuracy: 0.9870\n",
            "Epoch 86/100\n",
            "58/58 [==============================] - 74s 1s/step - loss: 6.3169e-06 - accuracy: 1.0000 - val_loss: 0.0314 - val_accuracy: 0.9870\n",
            "Epoch 87/100\n",
            "58/58 [==============================] - 72s 1s/step - loss: 6.1747e-06 - accuracy: 1.0000 - val_loss: 0.0293 - val_accuracy: 0.9870\n",
            "Epoch 88/100\n",
            "58/58 [==============================] - 71s 1s/step - loss: 5.8071e-06 - accuracy: 1.0000 - val_loss: 0.0303 - val_accuracy: 0.9870\n",
            "Epoch 89/100\n",
            "58/58 [==============================] - 71s 1s/step - loss: 5.6045e-06 - accuracy: 1.0000 - val_loss: 0.0299 - val_accuracy: 0.9870\n",
            "Epoch 90/100\n",
            "58/58 [==============================] - 71s 1s/step - loss: 5.4094e-06 - accuracy: 1.0000 - val_loss: 0.0285 - val_accuracy: 0.9870\n",
            "Epoch 91/100\n",
            "58/58 [==============================] - 70s 1s/step - loss: 5.2744e-06 - accuracy: 1.0000 - val_loss: 0.0301 - val_accuracy: 0.9870\n",
            "Epoch 92/100\n",
            "58/58 [==============================] - 70s 1s/step - loss: 4.9788e-06 - accuracy: 1.0000 - val_loss: 0.0295 - val_accuracy: 0.9870\n",
            "Epoch 93/100\n",
            "58/58 [==============================] - 70s 1s/step - loss: 4.8388e-06 - accuracy: 1.0000 - val_loss: 0.0315 - val_accuracy: 0.9870\n",
            "Epoch 94/100\n",
            "58/58 [==============================] - 70s 1s/step - loss: 4.6769e-06 - accuracy: 1.0000 - val_loss: 0.0298 - val_accuracy: 0.9870\n",
            "Epoch 95/100\n",
            "58/58 [==============================] - 71s 1s/step - loss: 4.4812e-06 - accuracy: 1.0000 - val_loss: 0.0287 - val_accuracy: 0.9870\n",
            "Epoch 96/100\n",
            "58/58 [==============================] - 71s 1s/step - loss: 4.3068e-06 - accuracy: 1.0000 - val_loss: 0.0311 - val_accuracy: 0.9870\n",
            "Epoch 97/100\n",
            "58/58 [==============================] - 70s 1s/step - loss: 4.3138e-06 - accuracy: 1.0000 - val_loss: 0.0338 - val_accuracy: 0.9892\n",
            "Epoch 98/100\n",
            "58/58 [==============================] - 70s 1s/step - loss: 4.1824e-06 - accuracy: 1.0000 - val_loss: 0.0330 - val_accuracy: 0.9892\n",
            "Epoch 99/100\n",
            "58/58 [==============================] - 70s 1s/step - loss: 3.9751e-06 - accuracy: 1.0000 - val_loss: 0.0296 - val_accuracy: 0.9870\n",
            "Epoch 100/100\n",
            "58/58 [==============================] - 70s 1s/step - loss: 3.7600e-06 - accuracy: 1.0000 - val_loss: 0.0302 - val_accuracy: 0.9870\n"
          ],
          "name": "stdout"
        },
        {
          "output_type": "display_data",
          "data": {
            "image/png": "[encoded data removed]",
            "text/plain": [
              "<Figure size 432x288 with 1 Axes>"
            ]
          },
          "metadata": {
            "tags": [],
            "needs_background": "light"
          }
        },
        {
          "output_type": "display_data",
          "data": {
            "image/png": "[encoded data removed]",
            "text/plain": [
              "<Figure size 432x288 with 1 Axes>"
            ]
          },
          "metadata": {
            "tags": [],
            "needs_background": "light"
          }
        }
      ]
    },
    {
      "cell_type": "code",
      "metadata": {
        "id": "34VSMWlCnYmY"
      },
      "source": [
        "    %matplotlib inline\n",
        "from sklearn.metrics import confusion_matrix\n",
        "import itertools\n",
        "import matplotlib.pyplot as plt\n",
        "import numpy as np"
      ],
      "execution_count": 9,
      "outputs": []
    },
    {
      "cell_type": "code",
      "metadata": {
        "colab": {
          "base_uri": "https://localhost:8080/",
          "height": 974
        },
        "id": "3Wup9UYJnYQp",
        "outputId": "86cf588d-ea45-4dd8-af5c-acf1a6723ad5"
      },
      "source": [
        "Evaluate_CNN_Model()"
      ],
      "execution_count": 11,
      "outputs": [
        {
          "output_type": "stream",
          "text": [
            "Found 139 images belonging to 2 classes.\n",
            "WARNING:tensorflow:From <ipython-input-10-4a0674acea36>:23: Model.predict_generator (from tensorflow.python.keras.engine.training) is deprecated and will be removed in a future version.\n",
            "Instructions for updating:\n",
            "Please use Model.predict, which supports generators.\n"
          ],
          "name": "stdout"
        },
        {
          "output_type": "stream",
          "text": [
            "/usr/local/lib/python3.6/dist-packages/keras_preprocessing/image/image_data_generator.py:720: UserWarning: This ImageDataGenerator specifies `featurewise_center`, but it hasn't been fit on any training data. Fit it first by calling `.fit(numpy_data)`.\n",
            "  warnings.warn('This ImageDataGenerator specifies '\n",
            "/usr/local/lib/python3.6/dist-packages/keras_preprocessing/image/image_data_generator.py:728: UserWarning: This ImageDataGenerator specifies `featurewise_std_normalization`, but it hasn't been fit on any training data. Fit it first by calling `.fit(numpy_data)`.\n",
            "  warnings.warn('This ImageDataGenerator specifies '\n"
          ],
          "name": "stderr"
        },
        {
          "output_type": "stream",
          "text": [
            "5/5 [==============================] - 30s 6s/step\n"
          ],
          "name": "stdout"
        },
        {
          "output_type": "stream",
          "text": [
            "No handles with labels found to put in legend.\n"
          ],
          "name": "stderr"
        },
        {
          "output_type": "stream",
          "text": [
            "\n",
            "Confusion Matrix\n",
            " -------------------------\n",
            "[[65  5]\n",
            " [ 1 68]]\n",
            "Accuracy: 0.956835\n",
            "Precision: 0.931507\n",
            "Recall: 0.985507\n",
            "F1 score: 0.957746\n",
            "ROC AUC: 0.995031\n"
          ],
          "name": "stdout"
        },
        {
          "output_type": "display_data",
          "data": {
            "image/png": "[encoded data removed]",
            "text/plain": [
              "<Figure size 432x288 with 1 Axes>"
            ]
          },
          "metadata": {
            "tags": [],
            "needs_background": "light"
          }
        },
        {
          "output_type": "display_data",
          "data": {
            "image/png": "[encoded data removed]",
            "text/plain": [
              "<Figure size 432x288 with 2 Axes>"
            ]
          },
          "metadata": {
            "tags": [],
            "needs_background": "light"
          }
        }
      ]
    }
  ]
}