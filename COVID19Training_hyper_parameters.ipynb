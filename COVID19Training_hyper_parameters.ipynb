{
  "nbformat": 4,
  "nbformat_minor": 0,
  "metadata": {
    "colab": {
      "name": "COVID19Training_hyper parameters.ipynb",
      "provenance": [],
      "collapsed_sections": [],
      "toc_visible": true,
      "include_colab_link": true
    },
    "kernelspec": {
      "name": "python3",
      "display_name": "Python 3"
    },
    "accelerator": "GPU"
  },
  "cells": [
    {
      "cell_type": "markdown",
      "metadata": {
        "id": "view-in-github",
        "colab_type": "text"
      },
      "source": [
        "<a href=\"https://colab.research.google.com/github/rachitgithub/Covid-Detection/blob/main/COVID19Training_hyper_parameters.ipynb\" target=\"_parent\"><img src=\"https://colab.research.google.com/assets/colab-badge.svg\" alt=\"Open In Colab\"/></a>"
      ]
    },
    {
      "cell_type": "markdown",
      "metadata": {
        "id": "-gyKOi8EPITT"
      },
      "source": [
        "# **Install TensorFlow GPU**"
      ]
    },
    {
      "cell_type": "code",
      "metadata": {
        "id": "UboFrn87qNVe"
      },
      "source": [
        "!pip install tensorflow-gpu"
      ],
      "execution_count": null,
      "outputs": []
    },
    {
      "cell_type": "markdown",
      "metadata": {
        "id": "FLc0x1XRPPVm"
      },
      "source": [
        "# **Import GDRIVE**"
      ]
    },
    {
      "cell_type": "code",
      "metadata": {
        "colab": {
          "base_uri": "https://localhost:8080/"
        },
        "id": "2SXklTJgqQyV",
        "outputId": "61a9dabc-3559-46fe-fefe-7150bf75c722"
      },
      "source": [
        "from google.colab import drive\n",
        "drive.mount('/content/drive')"
      ],
      "execution_count": 1,
      "outputs": [
        {
          "output_type": "stream",
          "text": [
            "Mounted at /content/drive\n"
          ],
          "name": "stdout"
        }
      ]
    },
    {
      "cell_type": "markdown",
      "metadata": {
        "id": "M55jhmwBPTGp"
      },
      "source": [
        "# **Import Tensor Flow**"
      ]
    },
    {
      "cell_type": "code",
      "metadata": {
        "colab": {
          "base_uri": "https://localhost:8080/"
        },
        "id": "yPOllQPgqUky",
        "outputId": "1b9cd5a5-c44b-4672-e6d7-169b51428537"
      },
      "source": [
        "import tensorflow as tf\n",
        "tf.test.gpu_device_name()\n",
        "print(tf.__version__)"
      ],
      "execution_count": 2,
      "outputs": [
        {
          "output_type": "stream",
          "text": [
            "2.3.0\n"
          ],
          "name": "stdout"
        }
      ]
    },
    {
      "cell_type": "markdown",
      "metadata": {
        "id": "qf3UaO-sPXkz"
      },
      "source": [
        "# **Import Keras Libraries**"
      ]
    },
    {
      "cell_type": "code",
      "metadata": {
        "id": "O6d6JctTqdW2"
      },
      "source": [
        "from keras.models import Sequential,load_model\n",
        "from keras.layers import Conv2D,Activation, MaxPooling2D,Dense,Flatten\n",
        "from keras.optimizers import SGD\n",
        "from keras.preprocessing.image import ImageDataGenerator\n",
        "from sklearn.metrics import accuracy_score,roc_curve,confusion_matrix,precision_score,recall_score,f1_score,roc_auc_score\n",
        "import matplotlib.pyplot as plt\n",
        "import matplotlib.pyplot as plt_False_Positive_vs_True_Positive"
      ],
      "execution_count": 3,
      "outputs": []
    },
    {
      "cell_type": "markdown",
      "metadata": {
        "id": "BoGghyDrPcMl"
      },
      "source": [
        "# **Build Sequential CNN by tuning hyper parameters**\n"
      ]
    },
    {
      "cell_type": "code",
      "metadata": {
        "id": "NHfmSsyapGlw"
      },
      "source": [
        "def Build_CNN_Model():\n",
        "    \n",
        "    # -------------------------------------------------------------------------\n",
        "    #                        Build CNN Model \n",
        "    # -------------------------------------------------------------------------\n",
        "    model = Sequential()\n",
        "    \n",
        "    #  First Block of CNN\n",
        "    model.add(Conv2D(8, (5, 5), padding='same', input_shape=(224, 224, 3)))  \n",
        "    model.add(Activation('relu'))\n",
        "    model.add(MaxPooling2D((2, 2)))\n",
        "    \n",
        "    #  Second Block of CNN\n",
        "    model.add(Conv2D(8, (3, 3),  padding='same'))  \n",
        "    model.add(Activation('relu'))\n",
        "    model.add(MaxPooling2D((2, 2)))\n",
        "\n",
        "    #  Third Block of CNN\n",
        "    model.add(Conv2D(16, (3, 3),  padding='same'))  \n",
        "    model.add(Activation('relu'))\n",
        "\n",
        "\n",
        "    #  Forth Block of CNN\n",
        "    model.add(Conv2D(16, (3, 3),  padding='same'))  \n",
        "    model.add(Activation('relu'))\n",
        "    model.add(MaxPooling2D((2, 2)))\n",
        "\n",
        "    \n",
        "    #  Flatten and Fully Connected Layer\n",
        "    model.add(Flatten())\n",
        "    model.add(Dense(10))\n",
        "    model.add(Activation('relu'))\n",
        "     \n",
        "    #  Softmax Classifier\n",
        "    model.add(Dense(2))\n",
        "    model.add(Activation('softmax'))\n",
        "        \n",
        "    #  Display model\n",
        "    model.summary()\n",
        "    \n",
        "\t# compile model\n",
        "    \n",
        "    opt = SGD(learning_rate=0.001)\n",
        "    model.compile(optimizer=opt, loss='categorical_crossentropy', metrics=['accuracy'])\n",
        "    \n",
        "    return model\n"
      ],
      "execution_count": 4,
      "outputs": []
    },
    {
      "cell_type": "markdown",
      "metadata": {
        "id": "EeLn5RJZPnKl"
      },
      "source": [
        "# **Train Sequential CNN after tuning hyper parameters**\n"
      ]
    },
    {
      "cell_type": "code",
      "metadata": {
        "id": "iT6jo0OmquCL"
      },
      "source": [
        "# train and evalluate cnn model\n",
        "def Train_CNN_Model(model):\n",
        "    \n",
        "    # -------------------------------------------------------------------------\n",
        "    #                        Train CNN Model \n",
        "    # -------------------------------------------------------------------------\n",
        "    \n",
        "    train_datagen = ImageDataGenerator(\n",
        "                                     rescale=1.0/255.0,\n",
        "                                     featurewise_center= True,\n",
        "                                     featurewise_std_normalization = True)\n",
        "    \n",
        "    valid_datagen = ImageDataGenerator(\n",
        "                                     rescale=1.0/255.0,\n",
        "                                     featurewise_center= True,\n",
        "                                     featurewise_std_normalization = True)\n",
        "    \n",
        "   \n",
        "    # prepare iterators\n",
        "    batch_size=32\n",
        "    train_it = train_datagen.flow_from_directory('/content/drive/MyDrive/COVID-19-Deep-Learning-Project-Colab/Dataset/train/',classes =('Normal','Covid'),batch_size=batch_size, target_size=(224, 224))\n",
        "    valid_it = valid_datagen.flow_from_directory('/content/drive/MyDrive/COVID-19-Deep-Learning-Project-Colab/Dataset/val/',classes =('Normal','Covid'),batch_size=batch_size, target_size=(224, 224))\n",
        "\n",
        "\n",
        "    epochs=100;\n",
        "    \n",
        "    history = model.fit_generator(train_it, steps_per_epoch=len(train_it),\n",
        "\t\tvalidation_data=valid_it, validation_steps=len(valid_it), epochs=epochs, verbose=1)\n",
        "    \n",
        "    \n",
        "    #  \"Accuracy\"\n",
        "    plt.plot(history.history['accuracy'])\n",
        "    plt.plot(history.history['val_accuracy'])\n",
        "    plt.title('model accuracy')\n",
        "    plt.ylabel('accuracy')\n",
        "    plt.xlabel('epoch')\n",
        "    plt.legend(['train', 'validation'], loc='upper left')\n",
        "    plt.show()\n",
        "    \n",
        "    # \"Loss\"\n",
        "    plt.plot(history.history['loss'])\n",
        "    plt.plot(history.history['val_loss'])\n",
        "    plt.title('model loss')\n",
        "    plt.ylabel('loss')\n",
        "    plt.xlabel('epoch')\n",
        "    plt.legend(['train', 'validation'], loc='upper left')\n",
        "    plt.show()\n",
        "\n",
        "\t# save model\n",
        "    model.save('/content/drive/MyDrive/COVID-19-Deep-Learning-Project-Colab/saved_models/CoVID19-sequential-hyper_cnn_model.h5')"
      ],
      "execution_count": 5,
      "outputs": []
    },
    {
      "cell_type": "markdown",
      "metadata": {
        "id": "akk2CJw7Pp6O"
      },
      "source": [
        "# **Evaluate Sequential CNN after tuning hyper parameters**\n"
      ]
    },
    {
      "cell_type": "code",
      "metadata": {
        "id": "5eW1T2Ekq5MM"
      },
      "source": [
        "def Evaluate_CNN_Model():\n",
        "    # -------------------------------------------------------------------------\n",
        "    #                        Evaluate CNN Model \n",
        "    # -------------------------------------------------------------------------\n",
        "    \n",
        "    # load model\n",
        "    model = load_model('/content/drive/MyDrive/COVID-19-Deep-Learning-Project-Colab/saved_models/CoVID19-sequential-hyper_cnn_model.h5')\n",
        "\n",
        "    \n",
        "       # load test data\n",
        "    batch_size=32\n",
        "    test_datagen = ImageDataGenerator(\n",
        "                                     rescale=1.0/255.0,\n",
        "                                     featurewise_center= True,\n",
        "                                     featurewise_std_normalization = True)\n",
        "    \n",
        "    \n",
        "    test_it = test_datagen.flow_from_directory('/content/drive/MyDrive/COVID-19-Deep-Learning-Project-Colab/Dataset/test/',classes =('Normal','Covid'), \n",
        "                                               shuffle=False,batch_size=batch_size, target_size=(224, 224))\n",
        "    \n",
        "    \n",
        "    y_true = test_it.classes;\n",
        "\n",
        "    y_pred = model.predict_generator(test_it, steps=len(test_it), verbose=1)\n",
        "\n",
        "    \n",
        "    y_pred_prob = y_pred[:,1]\n",
        "\n",
        "     \n",
        "    y_pred_binary =  y_pred_prob > 0.5\n",
        "   \n",
        "    #Confution Matrix    \n",
        "    print('\\nConfusion Matrix\\n -------------------------')    \n",
        "    print(confusion_matrix(y_true,y_pred_binary));\n",
        "    \n",
        "    # accuracy: (tp + tn) / (p + n)\n",
        "    accuracy = accuracy_score(y_true, y_pred_binary)\n",
        "    print('Accuracy: %f' % accuracy)\n",
        "    \n",
        "    \n",
        "    # precision tp / (tp + fp)\n",
        "    precision = precision_score(y_true, y_pred_binary)\n",
        "    print('Precision: %f' % precision)\n",
        "    \n",
        "    # recall: tp / (tp + fn)\n",
        "    recall = recall_score(y_true, y_pred_binary)\n",
        "    print('Recall: %f' % recall)\n",
        "    \n",
        "    # f1: 2 tp / (2 tp + fp + fn)\n",
        "    f1 = f1_score(y_true, y_pred_binary)\n",
        "    print('F1 score: %f' % f1)    \n",
        "       \n",
        "    # ROC AUC\n",
        "    auc = roc_auc_score(y_true, y_pred_prob)\n",
        "    print('ROC AUC: %f' % auc)\n",
        "    \n",
        "    \n",
        "    # calculate roc curves\n",
        "    fpr, tpr, _ = roc_curve(y_true, y_pred_prob)\n",
        "        \n",
        "    # plot the roc curve for the model\n",
        "    plt.figure()\n",
        "    plt_False_Positive_vs_True_Positive.plot(fpr, tpr, linestyle='--', label='')\n",
        "    \n",
        "    # axis labels\n",
        "    plt_False_Positive_vs_True_Positive.xlabel('False Positive Rate')\n",
        "    plt_False_Positive_vs_True_Positive.ylabel('True Positive Rate')\n",
        "       \n",
        "    # show the legend\n",
        "    plt_False_Positive_vs_True_Positive.legend()\n",
        "    # show the plot\n",
        "    plt_False_Positive_vs_True_Positive.show()"
      ],
      "execution_count": 8,
      "outputs": []
    },
    {
      "cell_type": "code",
      "metadata": {
        "colab": {
          "base_uri": "https://localhost:8080/",
          "height": 1000
        },
        "id": "PqwwYBQsqysR",
        "outputId": "bd7478cf-a911-4252-d770-441bfcdb23c2"
      },
      "source": [
        "# main entry\n",
        "    \n",
        "model = Build_CNN_Model()\n",
        "\n",
        "Train_CNN_Model(model)\n",
        "    \n",
        "Evaluate_CNN_Model()"
      ],
      "execution_count": 9,
      "outputs": [
        {
          "output_type": "stream",
          "text": [
            "Model: \"sequential\"\n",
            "_________________________________________________________________\n",
            "Layer (type)                 Output Shape              Param #   \n",
            "=================================================================\n",
            "conv2d (Conv2D)              (None, 224, 224, 8)       608       \n",
            "_________________________________________________________________\n",
            "activation (Activation)      (None, 224, 224, 8)       0         \n",
            "_________________________________________________________________\n",
            "max_pooling2d (MaxPooling2D) (None, 112, 112, 8)       0         \n",
            "_________________________________________________________________\n",
            "conv2d_1 (Conv2D)            (None, 112, 112, 8)       584       \n",
            "_________________________________________________________________\n",
            "activation_1 (Activation)    (None, 112, 112, 8)       0         \n",
            "_________________________________________________________________\n",
            "max_pooling2d_1 (MaxPooling2 (None, 56, 56, 8)         0         \n",
            "_________________________________________________________________\n",
            "conv2d_2 (Conv2D)            (None, 56, 56, 16)        1168      \n",
            "_________________________________________________________________\n",
            "activation_2 (Activation)    (None, 56, 56, 16)        0         \n",
            "_________________________________________________________________\n",
            "conv2d_3 (Conv2D)            (None, 56, 56, 16)        2320      \n",
            "_________________________________________________________________\n",
            "activation_3 (Activation)    (None, 56, 56, 16)        0         \n",
            "_________________________________________________________________\n",
            "max_pooling2d_2 (MaxPooling2 (None, 28, 28, 16)        0         \n",
            "_________________________________________________________________\n",
            "flatten (Flatten)            (None, 12544)             0         \n",
            "_________________________________________________________________\n",
            "dense (Dense)                (None, 10)                125450    \n",
            "_________________________________________________________________\n",
            "activation_4 (Activation)    (None, 10)                0         \n",
            "_________________________________________________________________\n",
            "dense_1 (Dense)              (None, 2)                 22        \n",
            "_________________________________________________________________\n",
            "activation_5 (Activation)    (None, 2)                 0         \n",
            "=================================================================\n",
            "Total params: 130,152\n",
            "Trainable params: 130,152\n",
            "Non-trainable params: 0\n",
            "_________________________________________________________________\n",
            "Found 1463 images belonging to 2 classes.\n",
            "Found 365 images belonging to 2 classes.\n",
            "WARNING:tensorflow:From <ipython-input-5-90d9a90cb24d>:28: Model.fit_generator (from tensorflow.python.keras.engine.training) is deprecated and will be removed in a future version.\n",
            "Instructions for updating:\n",
            "Please use Model.fit, which supports generators.\n"
          ],
          "name": "stdout"
        },
        {
          "output_type": "stream",
          "text": [
            "/usr/local/lib/python3.6/dist-packages/keras_preprocessing/image/image_data_generator.py:720: UserWarning: This ImageDataGenerator specifies `featurewise_center`, but it hasn't been fit on any training data. Fit it first by calling `.fit(numpy_data)`.\n",
            "  warnings.warn('This ImageDataGenerator specifies '\n",
            "/usr/local/lib/python3.6/dist-packages/keras_preprocessing/image/image_data_generator.py:728: UserWarning: This ImageDataGenerator specifies `featurewise_std_normalization`, but it hasn't been fit on any training data. Fit it first by calling `.fit(numpy_data)`.\n",
            "  warnings.warn('This ImageDataGenerator specifies '\n"
          ],
          "name": "stderr"
        },
        {
          "output_type": "stream",
          "text": [
            "Epoch 1/100\n",
            "46/46 [==============================] - 386s 8s/step - loss: 0.6886 - accuracy: 0.5079 - val_loss: 0.6844 - val_accuracy: 0.5068\n",
            "Epoch 2/100\n",
            "46/46 [==============================] - 55s 1s/step - loss: 0.6780 - accuracy: 0.5079 - val_loss: 0.6733 - val_accuracy: 0.5068\n",
            "Epoch 3/100\n",
            "46/46 [==============================] - 55s 1s/step - loss: 0.6638 - accuracy: 0.5079 - val_loss: 0.6551 - val_accuracy: 0.5068\n",
            "Epoch 4/100\n",
            "46/46 [==============================] - 54s 1s/step - loss: 0.6351 - accuracy: 0.5079 - val_loss: 0.6172 - val_accuracy: 0.5068\n",
            "Epoch 5/100\n",
            "46/46 [==============================] - 54s 1s/step - loss: 0.5872 - accuracy: 0.6049 - val_loss: 0.5646 - val_accuracy: 0.6904\n",
            "Epoch 6/100\n",
            "46/46 [==============================] - 53s 1s/step - loss: 0.5362 - accuracy: 0.7560 - val_loss: 0.5185 - val_accuracy: 0.8110\n",
            "Epoch 7/100\n",
            "46/46 [==============================] - 53s 1s/step - loss: 0.4950 - accuracy: 0.8209 - val_loss: 0.4888 - val_accuracy: 0.8849\n",
            "Epoch 8/100\n",
            "46/46 [==============================] - 52s 1s/step - loss: 0.4668 - accuracy: 0.8667 - val_loss: 0.4589 - val_accuracy: 0.8712\n",
            "Epoch 9/100\n",
            "46/46 [==============================] - 51s 1s/step - loss: 0.4466 - accuracy: 0.8859 - val_loss: 0.4433 - val_accuracy: 0.8712\n",
            "Epoch 10/100\n",
            "46/46 [==============================] - 51s 1s/step - loss: 0.4312 - accuracy: 0.8961 - val_loss: 0.4290 - val_accuracy: 0.9260\n",
            "Epoch 11/100\n",
            "46/46 [==============================] - 51s 1s/step - loss: 0.4208 - accuracy: 0.9064 - val_loss: 0.4179 - val_accuracy: 0.9233\n",
            "Epoch 12/100\n",
            "46/46 [==============================] - 51s 1s/step - loss: 0.4112 - accuracy: 0.9207 - val_loss: 0.4087 - val_accuracy: 0.9315\n",
            "Epoch 13/100\n",
            "46/46 [==============================] - 50s 1s/step - loss: 0.4040 - accuracy: 0.9200 - val_loss: 0.4008 - val_accuracy: 0.9233\n",
            "Epoch 14/100\n",
            "46/46 [==============================] - 50s 1s/step - loss: 0.3968 - accuracy: 0.9262 - val_loss: 0.4020 - val_accuracy: 0.9397\n",
            "Epoch 15/100\n",
            "46/46 [==============================] - 50s 1s/step - loss: 0.3922 - accuracy: 0.9262 - val_loss: 0.3875 - val_accuracy: 0.9397\n",
            "Epoch 16/100\n",
            "46/46 [==============================] - 50s 1s/step - loss: 0.3871 - accuracy: 0.9337 - val_loss: 0.3812 - val_accuracy: 0.9425\n",
            "Epoch 17/100\n",
            "46/46 [==============================] - 51s 1s/step - loss: 0.3800 - accuracy: 0.9275 - val_loss: 0.3785 - val_accuracy: 0.9479\n",
            "Epoch 18/100\n",
            "46/46 [==============================] - 52s 1s/step - loss: 0.3751 - accuracy: 0.9351 - val_loss: 0.3747 - val_accuracy: 0.9534\n",
            "Epoch 19/100\n",
            "46/46 [==============================] - 53s 1s/step - loss: 0.3715 - accuracy: 0.9398 - val_loss: 0.3645 - val_accuracy: 0.9425\n",
            "Epoch 20/100\n",
            "46/46 [==============================] - 54s 1s/step - loss: 0.3618 - accuracy: 0.9378 - val_loss: 0.3801 - val_accuracy: 0.9425\n",
            "Epoch 21/100\n",
            "46/46 [==============================] - 55s 1s/step - loss: 0.3609 - accuracy: 0.9419 - val_loss: 0.3533 - val_accuracy: 0.9507\n",
            "Epoch 22/100\n",
            "46/46 [==============================] - 55s 1s/step - loss: 0.3564 - accuracy: 0.9405 - val_loss: 0.3483 - val_accuracy: 0.9562\n",
            "Epoch 23/100\n",
            "46/46 [==============================] - 55s 1s/step - loss: 0.3521 - accuracy: 0.9419 - val_loss: 0.3438 - val_accuracy: 0.9534\n",
            "Epoch 24/100\n",
            "46/46 [==============================] - 56s 1s/step - loss: 0.3458 - accuracy: 0.9453 - val_loss: 0.3372 - val_accuracy: 0.9644\n",
            "Epoch 25/100\n",
            "46/46 [==============================] - 55s 1s/step - loss: 0.3389 - accuracy: 0.9522 - val_loss: 0.3357 - val_accuracy: 0.9699\n",
            "Epoch 26/100\n",
            "46/46 [==============================] - 56s 1s/step - loss: 0.3354 - accuracy: 0.9528 - val_loss: 0.3344 - val_accuracy: 0.9726\n",
            "Epoch 27/100\n",
            "46/46 [==============================] - 56s 1s/step - loss: 0.3322 - accuracy: 0.9597 - val_loss: 0.3218 - val_accuracy: 0.9699\n",
            "Epoch 28/100\n",
            "46/46 [==============================] - 56s 1s/step - loss: 0.3277 - accuracy: 0.9576 - val_loss: 0.3174 - val_accuracy: 0.9808\n",
            "Epoch 29/100\n",
            "46/46 [==============================] - 56s 1s/step - loss: 0.3231 - accuracy: 0.9617 - val_loss: 0.3152 - val_accuracy: 0.9589\n",
            "Epoch 30/100\n",
            "46/46 [==============================] - 56s 1s/step - loss: 0.3189 - accuracy: 0.9624 - val_loss: 0.3094 - val_accuracy: 0.9699\n",
            "Epoch 31/100\n",
            "46/46 [==============================] - 56s 1s/step - loss: 0.3142 - accuracy: 0.9651 - val_loss: 0.3162 - val_accuracy: 0.9753\n",
            "Epoch 32/100\n",
            "46/46 [==============================] - 56s 1s/step - loss: 0.3100 - accuracy: 0.9604 - val_loss: 0.2997 - val_accuracy: 0.9699\n",
            "Epoch 33/100\n",
            "46/46 [==============================] - 56s 1s/step - loss: 0.3067 - accuracy: 0.9645 - val_loss: 0.2943 - val_accuracy: 0.9781\n",
            "Epoch 34/100\n",
            "46/46 [==============================] - 56s 1s/step - loss: 0.3023 - accuracy: 0.9658 - val_loss: 0.2909 - val_accuracy: 0.9836\n",
            "Epoch 35/100\n",
            "46/46 [==============================] - 56s 1s/step - loss: 0.2979 - accuracy: 0.9651 - val_loss: 0.3347 - val_accuracy: 0.9589\n",
            "Epoch 36/100\n",
            "46/46 [==============================] - 56s 1s/step - loss: 0.2980 - accuracy: 0.9624 - val_loss: 0.2840 - val_accuracy: 0.9781\n",
            "Epoch 37/100\n",
            "46/46 [==============================] - 56s 1s/step - loss: 0.2892 - accuracy: 0.9658 - val_loss: 0.2833 - val_accuracy: 0.9808\n",
            "Epoch 38/100\n",
            "46/46 [==============================] - 56s 1s/step - loss: 0.2875 - accuracy: 0.9686 - val_loss: 0.2966 - val_accuracy: 0.9726\n",
            "Epoch 39/100\n",
            "46/46 [==============================] - 56s 1s/step - loss: 0.2846 - accuracy: 0.9720 - val_loss: 0.2721 - val_accuracy: 0.9781\n",
            "Epoch 40/100\n",
            "46/46 [==============================] - 56s 1s/step - loss: 0.2827 - accuracy: 0.9686 - val_loss: 0.2833 - val_accuracy: 0.9753\n",
            "Epoch 41/100\n",
            "46/46 [==============================] - 56s 1s/step - loss: 0.2816 - accuracy: 0.9658 - val_loss: 0.2680 - val_accuracy: 0.9781\n",
            "Epoch 42/100\n",
            "46/46 [==============================] - 56s 1s/step - loss: 0.2780 - accuracy: 0.9651 - val_loss: 0.2766 - val_accuracy: 0.9753\n",
            "Epoch 43/100\n",
            "46/46 [==============================] - 56s 1s/step - loss: 0.2705 - accuracy: 0.9733 - val_loss: 0.2648 - val_accuracy: 0.9753\n",
            "Epoch 44/100\n",
            "46/46 [==============================] - 56s 1s/step - loss: 0.2671 - accuracy: 0.9699 - val_loss: 0.2831 - val_accuracy: 0.9781\n",
            "Epoch 45/100\n",
            "46/46 [==============================] - 56s 1s/step - loss: 0.2671 - accuracy: 0.9665 - val_loss: 0.2548 - val_accuracy: 0.9808\n",
            "Epoch 46/100\n",
            "46/46 [==============================] - 56s 1s/step - loss: 0.2635 - accuracy: 0.9754 - val_loss: 0.2503 - val_accuracy: 0.9781\n",
            "Epoch 47/100\n",
            "46/46 [==============================] - 55s 1s/step - loss: 0.2618 - accuracy: 0.9733 - val_loss: 0.2502 - val_accuracy: 0.9781\n",
            "Epoch 48/100\n",
            "46/46 [==============================] - 55s 1s/step - loss: 0.2575 - accuracy: 0.9727 - val_loss: 0.2453 - val_accuracy: 0.9808\n",
            "Epoch 49/100\n",
            "46/46 [==============================] - 54s 1s/step - loss: 0.2570 - accuracy: 0.9740 - val_loss: 0.2514 - val_accuracy: 0.9616\n",
            "Epoch 50/100\n",
            "46/46 [==============================] - 53s 1s/step - loss: 0.2551 - accuracy: 0.9713 - val_loss: 0.2426 - val_accuracy: 0.9753\n",
            "Epoch 51/100\n",
            "46/46 [==============================] - 54s 1s/step - loss: 0.2530 - accuracy: 0.9706 - val_loss: 0.2424 - val_accuracy: 0.9726\n",
            "Epoch 52/100\n",
            "46/46 [==============================] - 53s 1s/step - loss: 0.2483 - accuracy: 0.9733 - val_loss: 0.2369 - val_accuracy: 0.9753\n",
            "Epoch 53/100\n",
            "46/46 [==============================] - 52s 1s/step - loss: 0.2454 - accuracy: 0.9740 - val_loss: 0.2442 - val_accuracy: 0.9753\n",
            "Epoch 54/100\n",
            "46/46 [==============================] - 52s 1s/step - loss: 0.2486 - accuracy: 0.9706 - val_loss: 0.2333 - val_accuracy: 0.9781\n",
            "Epoch 55/100\n",
            "46/46 [==============================] - 51s 1s/step - loss: 0.2438 - accuracy: 0.9768 - val_loss: 0.2301 - val_accuracy: 0.9808\n",
            "Epoch 56/100\n",
            "46/46 [==============================] - 51s 1s/step - loss: 0.2405 - accuracy: 0.9733 - val_loss: 0.2333 - val_accuracy: 0.9671\n",
            "Epoch 57/100\n",
            "46/46 [==============================] - 51s 1s/step - loss: 0.2421 - accuracy: 0.9706 - val_loss: 0.2251 - val_accuracy: 0.9753\n",
            "Epoch 58/100\n",
            "46/46 [==============================] - 51s 1s/step - loss: 0.2348 - accuracy: 0.9727 - val_loss: 0.2596 - val_accuracy: 0.9726\n",
            "Epoch 59/100\n",
            "46/46 [==============================] - 51s 1s/step - loss: 0.2323 - accuracy: 0.9781 - val_loss: 0.2302 - val_accuracy: 0.9753\n",
            "Epoch 60/100\n",
            "46/46 [==============================] - 50s 1s/step - loss: 0.2355 - accuracy: 0.9713 - val_loss: 0.2172 - val_accuracy: 0.9781\n",
            "Epoch 61/100\n",
            "46/46 [==============================] - 49s 1s/step - loss: 0.2319 - accuracy: 0.9699 - val_loss: 0.2372 - val_accuracy: 0.9753\n",
            "Epoch 62/100\n",
            "46/46 [==============================] - 49s 1s/step - loss: 0.2309 - accuracy: 0.9679 - val_loss: 0.2174 - val_accuracy: 0.9753\n",
            "Epoch 63/100\n",
            "46/46 [==============================] - 49s 1s/step - loss: 0.2253 - accuracy: 0.9740 - val_loss: 0.2315 - val_accuracy: 0.9808\n",
            "Epoch 64/100\n",
            "46/46 [==============================] - 50s 1s/step - loss: 0.2258 - accuracy: 0.9727 - val_loss: 0.2248 - val_accuracy: 0.9808\n",
            "Epoch 65/100\n",
            "46/46 [==============================] - 51s 1s/step - loss: 0.2241 - accuracy: 0.9740 - val_loss: 0.2108 - val_accuracy: 0.9781\n",
            "Epoch 66/100\n",
            "46/46 [==============================] - 50s 1s/step - loss: 0.2192 - accuracy: 0.9747 - val_loss: 0.2206 - val_accuracy: 0.9808\n",
            "Epoch 67/100\n",
            "46/46 [==============================] - 50s 1s/step - loss: 0.2209 - accuracy: 0.9713 - val_loss: 0.2290 - val_accuracy: 0.9808\n",
            "Epoch 68/100\n",
            "46/46 [==============================] - 50s 1s/step - loss: 0.2140 - accuracy: 0.9747 - val_loss: 0.2071 - val_accuracy: 0.9781\n",
            "Epoch 69/100\n",
            "46/46 [==============================] - 50s 1s/step - loss: 0.2140 - accuracy: 0.9733 - val_loss: 0.2163 - val_accuracy: 0.9836\n",
            "Epoch 70/100\n",
            "46/46 [==============================] - 49s 1s/step - loss: 0.2128 - accuracy: 0.9747 - val_loss: 0.2047 - val_accuracy: 0.9753\n",
            "Epoch 71/100\n",
            "46/46 [==============================] - 50s 1s/step - loss: 0.2129 - accuracy: 0.9727 - val_loss: 0.2018 - val_accuracy: 0.9753\n",
            "Epoch 72/100\n",
            "46/46 [==============================] - 48s 1s/step - loss: 0.2088 - accuracy: 0.9747 - val_loss: 0.1958 - val_accuracy: 0.9753\n",
            "Epoch 73/100\n",
            "46/46 [==============================] - 49s 1s/step - loss: 0.2080 - accuracy: 0.9747 - val_loss: 0.1941 - val_accuracy: 0.9753\n",
            "Epoch 74/100\n",
            "46/46 [==============================] - 49s 1s/step - loss: 0.2080 - accuracy: 0.9727 - val_loss: 0.1921 - val_accuracy: 0.9808\n",
            "Epoch 75/100\n",
            "46/46 [==============================] - 49s 1s/step - loss: 0.2047 - accuracy: 0.9727 - val_loss: 0.1921 - val_accuracy: 0.9726\n",
            "Epoch 76/100\n",
            "46/46 [==============================] - 49s 1s/step - loss: 0.1979 - accuracy: 0.9788 - val_loss: 0.1901 - val_accuracy: 0.9753\n",
            "Epoch 77/100\n",
            "46/46 [==============================] - 48s 1s/step - loss: 0.1989 - accuracy: 0.9768 - val_loss: 0.1886 - val_accuracy: 0.9781\n",
            "Epoch 78/100\n",
            "46/46 [==============================] - 49s 1s/step - loss: 0.1968 - accuracy: 0.9822 - val_loss: 0.1929 - val_accuracy: 0.9836\n",
            "Epoch 79/100\n",
            "46/46 [==============================] - 51s 1s/step - loss: 0.1952 - accuracy: 0.9774 - val_loss: 0.1891 - val_accuracy: 0.9836\n",
            "Epoch 80/100\n",
            "46/46 [==============================] - 51s 1s/step - loss: 0.1992 - accuracy: 0.9733 - val_loss: 0.1868 - val_accuracy: 0.9781\n",
            "Epoch 81/100\n",
            "46/46 [==============================] - 50s 1s/step - loss: 0.1910 - accuracy: 0.9788 - val_loss: 0.1889 - val_accuracy: 0.9753\n",
            "Epoch 82/100\n",
            "46/46 [==============================] - 50s 1s/step - loss: 0.1909 - accuracy: 0.9815 - val_loss: 0.1803 - val_accuracy: 0.9726\n",
            "Epoch 83/100\n",
            "46/46 [==============================] - 50s 1s/step - loss: 0.1932 - accuracy: 0.9795 - val_loss: 0.1774 - val_accuracy: 0.9753\n",
            "Epoch 84/100\n",
            "46/46 [==============================] - 51s 1s/step - loss: 0.1894 - accuracy: 0.9781 - val_loss: 0.1782 - val_accuracy: 0.9808\n",
            "Epoch 85/100\n",
            "46/46 [==============================] - 50s 1s/step - loss: 0.1860 - accuracy: 0.9768 - val_loss: 0.1746 - val_accuracy: 0.9753\n",
            "Epoch 86/100\n",
            "46/46 [==============================] - 50s 1s/step - loss: 0.1822 - accuracy: 0.9829 - val_loss: 0.1788 - val_accuracy: 0.9836\n",
            "Epoch 87/100\n",
            "46/46 [==============================] - 51s 1s/step - loss: 0.1825 - accuracy: 0.9795 - val_loss: 0.1736 - val_accuracy: 0.9726\n",
            "Epoch 88/100\n",
            "46/46 [==============================] - 51s 1s/step - loss: 0.1833 - accuracy: 0.9740 - val_loss: 0.1686 - val_accuracy: 0.9781\n",
            "Epoch 89/100\n",
            "46/46 [==============================] - 52s 1s/step - loss: 0.1866 - accuracy: 0.9795 - val_loss: 0.1892 - val_accuracy: 0.9781\n",
            "Epoch 90/100\n",
            "46/46 [==============================] - 53s 1s/step - loss: 0.1848 - accuracy: 0.9768 - val_loss: 0.1698 - val_accuracy: 0.9781\n",
            "Epoch 91/100\n",
            "46/46 [==============================] - 52s 1s/step - loss: 0.1792 - accuracy: 0.9754 - val_loss: 0.1682 - val_accuracy: 0.9808\n",
            "Epoch 92/100\n",
            "46/46 [==============================] - 52s 1s/step - loss: 0.1766 - accuracy: 0.9802 - val_loss: 0.1637 - val_accuracy: 0.9781\n",
            "Epoch 93/100\n",
            "46/46 [==============================] - 53s 1s/step - loss: 0.1775 - accuracy: 0.9754 - val_loss: 0.1689 - val_accuracy: 0.9808\n",
            "Epoch 94/100\n",
            "46/46 [==============================] - 53s 1s/step - loss: 0.1763 - accuracy: 0.9781 - val_loss: 0.1755 - val_accuracy: 0.9808\n",
            "Epoch 95/100\n",
            "46/46 [==============================] - 54s 1s/step - loss: 0.1733 - accuracy: 0.9802 - val_loss: 0.1602 - val_accuracy: 0.9753\n",
            "Epoch 96/100\n",
            "46/46 [==============================] - 55s 1s/step - loss: 0.1705 - accuracy: 0.9809 - val_loss: 0.1682 - val_accuracy: 0.9808\n",
            "Epoch 97/100\n",
            "46/46 [==============================] - 55s 1s/step - loss: 0.1725 - accuracy: 0.9768 - val_loss: 0.1684 - val_accuracy: 0.9863\n",
            "Epoch 98/100\n",
            "46/46 [==============================] - 56s 1s/step - loss: 0.1671 - accuracy: 0.9802 - val_loss: 0.1918 - val_accuracy: 0.9726\n",
            "Epoch 99/100\n",
            "46/46 [==============================] - 56s 1s/step - loss: 0.1702 - accuracy: 0.9829 - val_loss: 0.4195 - val_accuracy: 0.8110\n",
            "Epoch 100/100\n",
            "46/46 [==============================] - 56s 1s/step - loss: 0.1697 - accuracy: 0.9774 - val_loss: 0.1603 - val_accuracy: 0.9808\n"
          ],
          "name": "stdout"
        },
        {
          "output_type": "display_data",
          "data": {
            "image/png": "[encoded data removed]",
            "text/plain": [
              "<Figure size 432x288 with 1 Axes>"
            ]
          },
          "metadata": {
            "tags": [],
            "needs_background": "light"
          }
        },
        {
          "output_type": "display_data",
          "data": {
            "image/png": "[encoded data removed]",
            "text/plain": [
              "<Figure size 432x288 with 1 Axes>"
            ]
          },
          "metadata": {
            "tags": [],
            "needs_background": "light"
          }
        },
        {
          "output_type": "stream",
          "text": [
            "Found 31 images belonging to 2 classes.\n",
            "WARNING:tensorflow:From <ipython-input-8-a7dfdad2f32a>:24: Model.predict_generator (from tensorflow.python.keras.engine.training) is deprecated and will be removed in a future version.\n",
            "Instructions for updating:\n",
            "Please use Model.predict, which supports generators.\n",
            "1/1 [==============================] - 0s 3ms/step\n"
          ],
          "name": "stdout"
        },
        {
          "output_type": "stream",
          "text": [
            "No handles with labels found to put in legend.\n"
          ],
          "name": "stderr"
        },
        {
          "output_type": "stream",
          "text": [
            "\n",
            "Confusion Matrix\n",
            " -------------------------\n",
            "[[ 4 11]\n",
            " [ 0 16]]\n",
            "Accuracy: 0.645161\n",
            "Precision: 0.592593\n",
            "Recall: 1.000000\n",
            "F1 score: 0.744186\n",
            "ROC AUC: 0.904167\n"
          ],
          "name": "stdout"
        },
        {
          "output_type": "display_data",
          "data": {
            "image/png": "[encoded data removed]",
            "text/plain": [
              "<Figure size 432x288 with 1 Axes>"
            ]
          },
          "metadata": {
            "tags": [],
            "needs_background": "light"
          }
        }
      ]
    }
  ]
}