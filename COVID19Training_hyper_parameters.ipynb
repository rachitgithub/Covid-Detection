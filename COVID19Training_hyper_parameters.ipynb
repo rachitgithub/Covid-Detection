{
  "nbformat": 4,
  "nbformat_minor": 0,
  "metadata": {
    "colab": {
      "name": "COVID19Training_hyper parameters.ipynb",
      "provenance": [],
      "collapsed_sections": [],
      "include_colab_link": true
    },
    "kernelspec": {
      "name": "python3",
      "display_name": "Python 3"
    },
    "accelerator": "GPU"
  },
  "cells": [
    {
      "cell_type": "markdown",
      "metadata": {
        "id": "view-in-github",
        "colab_type": "text"
      },
      "source": [
        "<a href=\"https://colab.research.google.com/github/rachitgithub/Covid-Detection/blob/main/COVID19Training_hyper_parameters.ipynb\" target=\"_parent\"><img src=\"https://colab.research.google.com/assets/colab-badge.svg\" alt=\"Open In Colab\"/></a>"
      ]
    },
    {
      "cell_type": "markdown",
      "metadata": {
        "id": "-gyKOi8EPITT"
      },
      "source": [
        "# **Install TensorFlow GPU**"
      ]
    },
    {
      "cell_type": "code",
      "metadata": {
        "id": "UboFrn87qNVe",
        "colab": {
          "base_uri": "https://localhost:8080/"
        },
        "outputId": "ce6dd4e6-09c6-47a6-c187-7ebee5542196"
      },
      "source": [
        "!pip install tensorflow-gpu"
      ],
      "execution_count": 1,
      "outputs": [
        {
          "output_type": "stream",
          "text": [
            "Collecting tensorflow-gpu\n",
            "\u001b[?25l  Downloading https://files.pythonhosted.org/packages/18/99/ac32fd13d56e40d4c3e6150030132519997c0bb1f06f448d970e81b177e5/tensorflow_gpu-2.3.1-cp36-cp36m-manylinux2010_x86_64.whl (320.4MB)\n",
            "\u001b[K     |████████████████████████████████| 320.4MB 46kB/s \n",
            "\u001b[?25hRequirement already satisfied: google-pasta>=0.1.8 in /usr/local/lib/python3.6/dist-packages (from tensorflow-gpu) (0.2.0)\n",
            "Requirement already satisfied: termcolor>=1.1.0 in /usr/local/lib/python3.6/dist-packages (from tensorflow-gpu) (1.1.0)\n",
            "Requirement already satisfied: astunparse==1.6.3 in /usr/local/lib/python3.6/dist-packages (from tensorflow-gpu) (1.6.3)\n",
            "Requirement already satisfied: opt-einsum>=2.3.2 in /usr/local/lib/python3.6/dist-packages (from tensorflow-gpu) (3.3.0)\n",
            "Requirement already satisfied: numpy<1.19.0,>=1.16.0 in /usr/local/lib/python3.6/dist-packages (from tensorflow-gpu) (1.18.5)\n",
            "Requirement already satisfied: tensorboard<3,>=2.3.0 in /usr/local/lib/python3.6/dist-packages (from tensorflow-gpu) (2.3.0)\n",
            "Requirement already satisfied: wrapt>=1.11.1 in /usr/local/lib/python3.6/dist-packages (from tensorflow-gpu) (1.12.1)\n",
            "Requirement already satisfied: keras-preprocessing<1.2,>=1.1.1 in /usr/local/lib/python3.6/dist-packages (from tensorflow-gpu) (1.1.2)\n",
            "Requirement already satisfied: wheel>=0.26 in /usr/local/lib/python3.6/dist-packages (from tensorflow-gpu) (0.35.1)\n",
            "Requirement already satisfied: grpcio>=1.8.6 in /usr/local/lib/python3.6/dist-packages (from tensorflow-gpu) (1.33.2)\n",
            "Requirement already satisfied: tensorflow-estimator<2.4.0,>=2.3.0 in /usr/local/lib/python3.6/dist-packages (from tensorflow-gpu) (2.3.0)\n",
            "Requirement already satisfied: h5py<2.11.0,>=2.10.0 in /usr/local/lib/python3.6/dist-packages (from tensorflow-gpu) (2.10.0)\n",
            "Requirement already satisfied: gast==0.3.3 in /usr/local/lib/python3.6/dist-packages (from tensorflow-gpu) (0.3.3)\n",
            "Requirement already satisfied: six>=1.12.0 in /usr/local/lib/python3.6/dist-packages (from tensorflow-gpu) (1.15.0)\n",
            "Requirement already satisfied: protobuf>=3.9.2 in /usr/local/lib/python3.6/dist-packages (from tensorflow-gpu) (3.12.4)\n",
            "Requirement already satisfied: absl-py>=0.7.0 in /usr/local/lib/python3.6/dist-packages (from tensorflow-gpu) (0.10.0)\n",
            "Requirement already satisfied: google-auth<2,>=1.6.3 in /usr/local/lib/python3.6/dist-packages (from tensorboard<3,>=2.3.0->tensorflow-gpu) (1.17.2)\n",
            "Requirement already satisfied: requests<3,>=2.21.0 in /usr/local/lib/python3.6/dist-packages (from tensorboard<3,>=2.3.0->tensorflow-gpu) (2.23.0)\n",
            "Requirement already satisfied: google-auth-oauthlib<0.5,>=0.4.1 in /usr/local/lib/python3.6/dist-packages (from tensorboard<3,>=2.3.0->tensorflow-gpu) (0.4.2)\n",
            "Requirement already satisfied: werkzeug>=0.11.15 in /usr/local/lib/python3.6/dist-packages (from tensorboard<3,>=2.3.0->tensorflow-gpu) (1.0.1)\n",
            "Requirement already satisfied: setuptools>=41.0.0 in /usr/local/lib/python3.6/dist-packages (from tensorboard<3,>=2.3.0->tensorflow-gpu) (50.3.2)\n",
            "Requirement already satisfied: markdown>=2.6.8 in /usr/local/lib/python3.6/dist-packages (from tensorboard<3,>=2.3.0->tensorflow-gpu) (3.3.3)\n",
            "Requirement already satisfied: tensorboard-plugin-wit>=1.6.0 in /usr/local/lib/python3.6/dist-packages (from tensorboard<3,>=2.3.0->tensorflow-gpu) (1.7.0)\n",
            "Requirement already satisfied: cachetools<5.0,>=2.0.0 in /usr/local/lib/python3.6/dist-packages (from google-auth<2,>=1.6.3->tensorboard<3,>=2.3.0->tensorflow-gpu) (4.1.1)\n",
            "Requirement already satisfied: pyasn1-modules>=0.2.1 in /usr/local/lib/python3.6/dist-packages (from google-auth<2,>=1.6.3->tensorboard<3,>=2.3.0->tensorflow-gpu) (0.2.8)\n",
            "Requirement already satisfied: rsa<5,>=3.1.4; python_version >= \"3\" in /usr/local/lib/python3.6/dist-packages (from google-auth<2,>=1.6.3->tensorboard<3,>=2.3.0->tensorflow-gpu) (4.6)\n",
            "Requirement already satisfied: chardet<4,>=3.0.2 in /usr/local/lib/python3.6/dist-packages (from requests<3,>=2.21.0->tensorboard<3,>=2.3.0->tensorflow-gpu) (3.0.4)\n",
            "Requirement already satisfied: idna<3,>=2.5 in /usr/local/lib/python3.6/dist-packages (from requests<3,>=2.21.0->tensorboard<3,>=2.3.0->tensorflow-gpu) (2.10)\n",
            "Requirement already satisfied: urllib3!=1.25.0,!=1.25.1,<1.26,>=1.21.1 in /usr/local/lib/python3.6/dist-packages (from requests<3,>=2.21.0->tensorboard<3,>=2.3.0->tensorflow-gpu) (1.24.3)\n",
            "Requirement already satisfied: certifi>=2017.4.17 in /usr/local/lib/python3.6/dist-packages (from requests<3,>=2.21.0->tensorboard<3,>=2.3.0->tensorflow-gpu) (2020.11.8)\n",
            "Requirement already satisfied: requests-oauthlib>=0.7.0 in /usr/local/lib/python3.6/dist-packages (from google-auth-oauthlib<0.5,>=0.4.1->tensorboard<3,>=2.3.0->tensorflow-gpu) (1.3.0)\n",
            "Requirement already satisfied: importlib-metadata; python_version < \"3.8\" in /usr/local/lib/python3.6/dist-packages (from markdown>=2.6.8->tensorboard<3,>=2.3.0->tensorflow-gpu) (2.0.0)\n",
            "Requirement already satisfied: pyasn1<0.5.0,>=0.4.6 in /usr/local/lib/python3.6/dist-packages (from pyasn1-modules>=0.2.1->google-auth<2,>=1.6.3->tensorboard<3,>=2.3.0->tensorflow-gpu) (0.4.8)\n",
            "Requirement already satisfied: oauthlib>=3.0.0 in /usr/local/lib/python3.6/dist-packages (from requests-oauthlib>=0.7.0->google-auth-oauthlib<0.5,>=0.4.1->tensorboard<3,>=2.3.0->tensorflow-gpu) (3.1.0)\n",
            "Requirement already satisfied: zipp>=0.5 in /usr/local/lib/python3.6/dist-packages (from importlib-metadata; python_version < \"3.8\"->markdown>=2.6.8->tensorboard<3,>=2.3.0->tensorflow-gpu) (3.4.0)\n",
            "Installing collected packages: tensorflow-gpu\n",
            "Successfully installed tensorflow-gpu-2.3.1\n"
          ],
          "name": "stdout"
        }
      ]
    },
    {
      "cell_type": "markdown",
      "metadata": {
        "id": "FLc0x1XRPPVm"
      },
      "source": [
        "# **Import GDRIVE**"
      ]
    },
    {
      "cell_type": "code",
      "metadata": {
        "colab": {
          "base_uri": "https://localhost:8080/"
        },
        "id": "2SXklTJgqQyV",
        "outputId": "07cdb820-9856-4066-cb53-2997fc8502fd"
      },
      "source": [
        "from google.colab import drive\n",
        "drive.mount('/content/drive')"
      ],
      "execution_count": 2,
      "outputs": [
        {
          "output_type": "stream",
          "text": [
            "Mounted at /content/drive\n"
          ],
          "name": "stdout"
        }
      ]
    },
    {
      "cell_type": "markdown",
      "metadata": {
        "id": "M55jhmwBPTGp"
      },
      "source": [
        "# **Import Tensor Flow**"
      ]
    },
    {
      "cell_type": "code",
      "metadata": {
        "colab": {
          "base_uri": "https://localhost:8080/"
        },
        "id": "yPOllQPgqUky",
        "outputId": "9141b042-5e67-4a27-f634-75a9a6a9704c"
      },
      "source": [
        "import tensorflow as tf\n",
        "tf.test.gpu_device_name()\n",
        "print(tf.__version__)"
      ],
      "execution_count": 3,
      "outputs": [
        {
          "output_type": "stream",
          "text": [
            "2.3.1\n"
          ],
          "name": "stdout"
        }
      ]
    },
    {
      "cell_type": "markdown",
      "metadata": {
        "id": "qf3UaO-sPXkz"
      },
      "source": [
        "# **Import Keras Libraries**"
      ]
    },
    {
      "cell_type": "code",
      "metadata": {
        "id": "O6d6JctTqdW2"
      },
      "source": [
        "from keras.models import Sequential,load_model\n",
        "from keras.layers import Conv2D,Activation, MaxPooling2D,Dense,Flatten\n",
        "from keras.optimizers import SGD\n",
        "from keras.preprocessing.image import ImageDataGenerator\n",
        "from sklearn.metrics import accuracy_score,roc_curve,confusion_matrix,precision_score,recall_score,f1_score,roc_auc_score\n",
        "import matplotlib.pyplot as plt\n",
        "import matplotlib.pyplot as plt_False_Positive_vs_True_Positive"
      ],
      "execution_count": 5,
      "outputs": []
    },
    {
      "cell_type": "markdown",
      "metadata": {
        "id": "BoGghyDrPcMl"
      },
      "source": [
        "# **Build Sequential CNN by tuning hyper parameters**\n"
      ]
    },
    {
      "cell_type": "code",
      "metadata": {
        "id": "NHfmSsyapGlw"
      },
      "source": [
        "def Build_CNN_Model():\n",
        "    \n",
        "    # -------------------------------------------------------------------------\n",
        "    #                        Build CNN Model \n",
        "    # -------------------------------------------------------------------------\n",
        "    model = Sequential()\n",
        "    \n",
        "    #  First Block of CNN\n",
        "    model.add(Conv2D(8, (5, 5), padding='same', input_shape=(224, 224, 3)))  \n",
        "    model.add(Activation('relu'))\n",
        "    model.add(MaxPooling2D((2, 2)))\n",
        "    \n",
        "    #  Second Block of CNN\n",
        "    model.add(Conv2D(8, (3, 3),  padding='same'))  \n",
        "    model.add(Activation('relu'))\n",
        "    model.add(MaxPooling2D((2, 2)))\n",
        "\n",
        "    #  Third Block of CNN\n",
        "    model.add(Conv2D(16, (3, 3),  padding='same'))  \n",
        "    model.add(Activation('relu'))\n",
        "\n",
        "\n",
        "    #  Forth Block of CNN\n",
        "    model.add(Conv2D(16, (3, 3),  padding='same'))  \n",
        "    model.add(Activation('relu'))\n",
        "    model.add(MaxPooling2D((2, 2)))\n",
        "\n",
        "    \n",
        "    #  Flatten and Fully Connected Layer\n",
        "    model.add(Flatten())\n",
        "    model.add(Dense(10))\n",
        "    model.add(Activation('relu'))\n",
        "     \n",
        "    #  Softmax Classifier\n",
        "    model.add(Dense(2))\n",
        "    model.add(Activation('softmax'))\n",
        "        \n",
        "    #  Display model\n",
        "    model.summary()\n",
        "    \n",
        "\t# compile model\n",
        "    \n",
        "    opt = SGD(learning_rate=0.001)\n",
        "    model.compile(optimizer=opt, loss='categorical_crossentropy', metrics=['accuracy'])\n",
        "    \n",
        "    return model\n"
      ],
      "execution_count": 6,
      "outputs": []
    },
    {
      "cell_type": "markdown",
      "metadata": {
        "id": "EeLn5RJZPnKl"
      },
      "source": [
        "# **Train Sequential CNN after tuning hyper parameters**\n"
      ]
    },
    {
      "cell_type": "code",
      "metadata": {
        "id": "iT6jo0OmquCL"
      },
      "source": [
        "# train and evalluate cnn model\n",
        "def Train_CNN_Model(model):\n",
        "    \n",
        "    # -------------------------------------------------------------------------\n",
        "    #                        Train CNN Model \n",
        "    # -------------------------------------------------------------------------\n",
        "    \n",
        "    train_datagen = ImageDataGenerator(\n",
        "                                     rescale=1.0/255.0,\n",
        "                                     featurewise_center= True,\n",
        "                                     featurewise_std_normalization = True)\n",
        "    \n",
        "    valid_datagen = ImageDataGenerator(\n",
        "                                     rescale=1.0/255.0,\n",
        "                                     featurewise_center= True,\n",
        "                                     featurewise_std_normalization = True)\n",
        "    \n",
        "   \n",
        "    # prepare iterators\n",
        "    batch_size=32\n",
        "    train_it = train_datagen.flow_from_directory('/content/drive/MyDrive/COVID-19-Deep-Learning-Project-Colab/Dataset/train/',classes =('Normal','Covid'),batch_size=batch_size, target_size=(224, 224))\n",
        "    valid_it = valid_datagen.flow_from_directory('/content/drive/MyDrive/COVID-19-Deep-Learning-Project-Colab/Dataset/val/',classes =('Normal','Covid'),batch_size=batch_size, target_size=(224, 224))\n",
        "\n",
        "\n",
        "    epochs=100;\n",
        "    \n",
        "    history = model.fit_generator(train_it, steps_per_epoch=len(train_it),\n",
        "\t\tvalidation_data=valid_it, validation_steps=len(valid_it), epochs=epochs, verbose=1)\n",
        "    \n",
        "    \n",
        "    #  \"Accuracy\"\n",
        "    plt.plot(history.history['accuracy'])\n",
        "    plt.plot(history.history['val_accuracy'])\n",
        "    plt.title('model accuracy')\n",
        "    plt.ylabel('accuracy')\n",
        "    plt.xlabel('epoch')\n",
        "    plt.legend(['train', 'validation'], loc='upper left')\n",
        "    plt.show()\n",
        "    \n",
        "    # \"Loss\"\n",
        "    plt.plot(history.history['loss'])\n",
        "    plt.plot(history.history['val_loss'])\n",
        "    plt.title('model loss')\n",
        "    plt.ylabel('loss')\n",
        "    plt.xlabel('epoch')\n",
        "    plt.legend(['train', 'validation'], loc='upper left')\n",
        "    plt.show()\n",
        "\n",
        "\t# save model\n",
        "    model.save('/content/drive/MyDrive/COVID-19-Deep-Learning-Project-Colab/saved_models/CoVID19-sequential-hyper_cnn_model.h5')"
      ],
      "execution_count": 7,
      "outputs": []
    },
    {
      "cell_type": "markdown",
      "metadata": {
        "id": "akk2CJw7Pp6O"
      },
      "source": [
        "# **Evaluate Sequential CNN after tuning hyper parameters**\n"
      ]
    },
    {
      "cell_type": "code",
      "metadata": {
        "id": "5eW1T2Ekq5MM"
      },
      "source": [
        "def Evaluate_CNN_Model():\n",
        "    # -------------------------------------------------------------------------\n",
        "    #                        Evaluate CNN Model \n",
        "    # -------------------------------------------------------------------------\n",
        "    \n",
        "    # load model\n",
        "    model = load_model('/content/drive/MyDrive/COVID-19-Deep-Learning-Project-Colab/saved_models/CoVID19-sequential-hyper_cnn_model.h5')\n",
        "\n",
        "    \n",
        "       # load test data\n",
        "    batch_size=32\n",
        "    test_datagen = ImageDataGenerator(\n",
        "                                     rescale=1.0/255.0,\n",
        "                                     featurewise_center= True,\n",
        "                                     featurewise_std_normalization = True)\n",
        "    \n",
        "    \n",
        "    test_it = test_datagen.flow_from_directory('/content/drive/MyDrive/COVID-19-Deep-Learning-Project-Colab/Dataset/test/',classes =('Normal','Covid'), \n",
        "                                               shuffle=False,batch_size=batch_size, target_size=(224, 224))\n",
        "    \n",
        "    \n",
        "    y_true = test_it.classes;\n",
        "\n",
        "    y_pred = model.predict_generator(test_it, steps=len(test_it), verbose=1)\n",
        "\n",
        "    \n",
        "    y_pred_prob = y_pred[:,1]\n",
        "\n",
        "     \n",
        "    y_pred_binary =  y_pred_prob > 0.5\n",
        "   \n",
        "    #Confution Matrix    \n",
        "    print('\\nConfusion Matrix\\n -------------------------')    \n",
        "    print(confusion_matrix(y_true,y_pred_binary));\n",
        "    \n",
        "    # accuracy: (tp + tn) / (p + n)\n",
        "    accuracy = accuracy_score(y_true, y_pred_binary)\n",
        "    print('Accuracy: %f' % accuracy)\n",
        "    \n",
        "    \n",
        "    # precision tp / (tp + fp)\n",
        "    precision = precision_score(y_true, y_pred_binary)\n",
        "    print('Precision: %f' % precision)\n",
        "    \n",
        "    # recall: tp / (tp + fn)\n",
        "    recall = recall_score(y_true, y_pred_binary)\n",
        "    print('Recall: %f' % recall)\n",
        "    \n",
        "    # f1: 2 tp / (2 tp + fp + fn)\n",
        "    f1 = f1_score(y_true, y_pred_binary)\n",
        "    print('F1 score: %f' % f1)    \n",
        "       \n",
        "    # ROC AUC\n",
        "    auc = roc_auc_score(y_true, y_pred_prob)\n",
        "    print('ROC AUC: %f' % auc)\n",
        "    \n",
        "    \n",
        "    # calculate roc curves\n",
        "    fpr, tpr, _ = roc_curve(y_true, y_pred_prob)\n",
        "        \n",
        "    # plot the roc curve for the model\n",
        "    plt.figure()\n",
        "    plt_False_Positive_vs_True_Positive.plot(fpr, tpr, linestyle='--', label='')\n",
        "    \n",
        "    # axis labels\n",
        "    plt_False_Positive_vs_True_Positive.xlabel('False Positive Rate')\n",
        "    plt_False_Positive_vs_True_Positive.ylabel('True Positive Rate')\n",
        "       \n",
        "    # show the legend\n",
        "    plt_False_Positive_vs_True_Positive.legend()\n",
        "    # show the plot\n",
        "    plt_False_Positive_vs_True_Positive.show()\n",
        "\n",
        "    cm = confusion_matrix(y_true,y_pred_binary)\n",
        "\n",
        "    def plot_confusion_matrix(cm, classes,\n",
        "                        normalize=False,\n",
        "                        title='Confusion matrix for Hyper Parameters CNN',\n",
        "                        cmap=plt.cm.Greys):\n",
        " \n",
        "      plt.imshow(cm, interpolation='nearest', cmap=cmap)\n",
        "      plt.title(title)\n",
        "      plt.colorbar()\n",
        "      tick_marks = np.arange(len(classes))\n",
        "      plt.xticks(tick_marks, classes, rotation=45)\n",
        "      plt.yticks(tick_marks, classes)\n",
        "\n",
        "\n",
        "\n",
        "    thresh = cm.max() / 2.\n",
        "    for i, j in itertools.product(range(cm.shape[0]), range(cm.shape[1])):\n",
        "        plt.text(j, i, cm[i, j],\n",
        "            horizontalalignment=\"center\",\n",
        "            color=\"white\" if cm[i, j] > thresh else \"black\")\n",
        "\n",
        "    plt.tight_layout()\n",
        "    plt.ylabel('Predicted Values')\n",
        "    plt.xlabel('True Values')\n",
        "    cm_plot_labels = ['No Covid','Has Covid']\n",
        "    plot_confusion_matrix(cm=cm, classes=cm_plot_labels, title='Confusion matrix for Hyper Parameters CNN')\n"
      ],
      "execution_count": 9,
      "outputs": []
    },
    {
      "cell_type": "code",
      "metadata": {
        "colab": {
          "base_uri": "https://localhost:8080/",
          "height": 1000
        },
        "id": "PqwwYBQsqysR",
        "outputId": "daefe51f-18ce-4324-d7d2-84c781ed84b5"
      },
      "source": [
        "%%time\n",
        "# main entry\n",
        "    \n",
        "model = Build_CNN_Model()\n",
        "\n",
        "Train_CNN_Model(model)"
      ],
      "execution_count": 10,
      "outputs": [
        {
          "output_type": "stream",
          "text": [
            "Model: \"sequential\"\n",
            "_________________________________________________________________\n",
            "Layer (type)                 Output Shape              Param #   \n",
            "=================================================================\n",
            "conv2d (Conv2D)              (None, 224, 224, 8)       608       \n",
            "_________________________________________________________________\n",
            "activation (Activation)      (None, 224, 224, 8)       0         \n",
            "_________________________________________________________________\n",
            "max_pooling2d (MaxPooling2D) (None, 112, 112, 8)       0         \n",
            "_________________________________________________________________\n",
            "conv2d_1 (Conv2D)            (None, 112, 112, 8)       584       \n",
            "_________________________________________________________________\n",
            "activation_1 (Activation)    (None, 112, 112, 8)       0         \n",
            "_________________________________________________________________\n",
            "max_pooling2d_1 (MaxPooling2 (None, 56, 56, 8)         0         \n",
            "_________________________________________________________________\n",
            "conv2d_2 (Conv2D)            (None, 56, 56, 16)        1168      \n",
            "_________________________________________________________________\n",
            "activation_2 (Activation)    (None, 56, 56, 16)        0         \n",
            "_________________________________________________________________\n",
            "conv2d_3 (Conv2D)            (None, 56, 56, 16)        2320      \n",
            "_________________________________________________________________\n",
            "activation_3 (Activation)    (None, 56, 56, 16)        0         \n",
            "_________________________________________________________________\n",
            "max_pooling2d_2 (MaxPooling2 (None, 28, 28, 16)        0         \n",
            "_________________________________________________________________\n",
            "flatten (Flatten)            (None, 12544)             0         \n",
            "_________________________________________________________________\n",
            "dense (Dense)                (None, 10)                125450    \n",
            "_________________________________________________________________\n",
            "activation_4 (Activation)    (None, 10)                0         \n",
            "_________________________________________________________________\n",
            "dense_1 (Dense)              (None, 2)                 22        \n",
            "_________________________________________________________________\n",
            "activation_5 (Activation)    (None, 2)                 0         \n",
            "=================================================================\n",
            "Total params: 130,152\n",
            "Trainable params: 130,152\n",
            "Non-trainable params: 0\n",
            "_________________________________________________________________\n",
            "Found 1846 images belonging to 2 classes.\n",
            "Found 461 images belonging to 2 classes.\n",
            "WARNING:tensorflow:From <ipython-input-7-90d9a90cb24d>:28: Model.fit_generator (from tensorflow.python.keras.engine.training) is deprecated and will be removed in a future version.\n",
            "Instructions for updating:\n",
            "Please use Model.fit, which supports generators.\n"
          ],
          "name": "stdout"
        },
        {
          "output_type": "stream",
          "text": [
            "/usr/local/lib/python3.6/dist-packages/keras_preprocessing/image/image_data_generator.py:720: UserWarning: This ImageDataGenerator specifies `featurewise_center`, but it hasn't been fit on any training data. Fit it first by calling `.fit(numpy_data)`.\n",
            "  warnings.warn('This ImageDataGenerator specifies '\n",
            "/usr/local/lib/python3.6/dist-packages/keras_preprocessing/image/image_data_generator.py:728: UserWarning: This ImageDataGenerator specifies `featurewise_std_normalization`, but it hasn't been fit on any training data. Fit it first by calling `.fit(numpy_data)`.\n",
            "  warnings.warn('This ImageDataGenerator specifies '\n"
          ],
          "name": "stderr"
        },
        {
          "output_type": "stream",
          "text": [
            "Epoch 1/100\n",
            "58/58 [==============================] - 1269s 22s/step - loss: 0.6688 - accuracy: 0.7205 - val_loss: 0.6374 - val_accuracy: 0.8568\n",
            "Epoch 2/100\n",
            "58/58 [==============================] - 149s 3s/step - loss: 0.5997 - accuracy: 0.8906 - val_loss: 0.5482 - val_accuracy: 0.8829\n",
            "Epoch 3/100\n",
            "58/58 [==============================] - 146s 3s/step - loss: 0.4778 - accuracy: 0.9063 - val_loss: 0.3950 - val_accuracy: 0.9154\n",
            "Epoch 4/100\n",
            "58/58 [==============================] - 144s 2s/step - loss: 0.3341 - accuracy: 0.9095 - val_loss: 0.2780 - val_accuracy: 0.9154\n",
            "Epoch 5/100\n",
            "58/58 [==============================] - 145s 3s/step - loss: 0.2566 - accuracy: 0.9209 - val_loss: 0.2379 - val_accuracy: 0.9284\n",
            "Epoch 6/100\n",
            "58/58 [==============================] - 143s 2s/step - loss: 0.2214 - accuracy: 0.9187 - val_loss: 0.1950 - val_accuracy: 0.9393\n",
            "Epoch 7/100\n",
            "58/58 [==============================] - 143s 2s/step - loss: 0.1934 - accuracy: 0.9334 - val_loss: 0.1774 - val_accuracy: 0.9458\n",
            "Epoch 8/100\n",
            "58/58 [==============================] - 142s 2s/step - loss: 0.1839 - accuracy: 0.9345 - val_loss: 0.1544 - val_accuracy: 0.9523\n",
            "Epoch 9/100\n",
            "58/58 [==============================] - 136s 2s/step - loss: 0.1699 - accuracy: 0.9328 - val_loss: 0.1747 - val_accuracy: 0.9371\n",
            "Epoch 10/100\n",
            "58/58 [==============================] - 132s 2s/step - loss: 0.1554 - accuracy: 0.9410 - val_loss: 0.1353 - val_accuracy: 0.9479\n",
            "Epoch 11/100\n",
            "58/58 [==============================] - 133s 2s/step - loss: 0.1582 - accuracy: 0.9410 - val_loss: 0.1205 - val_accuracy: 0.9566\n",
            "Epoch 12/100\n",
            "58/58 [==============================] - 132s 2s/step - loss: 0.1481 - accuracy: 0.9442 - val_loss: 0.1294 - val_accuracy: 0.9414\n",
            "Epoch 13/100\n",
            "58/58 [==============================] - 134s 2s/step - loss: 0.1387 - accuracy: 0.9453 - val_loss: 0.1014 - val_accuracy: 0.9675\n",
            "Epoch 14/100\n",
            "58/58 [==============================] - 131s 2s/step - loss: 0.1443 - accuracy: 0.9420 - val_loss: 0.1061 - val_accuracy: 0.9610\n",
            "Epoch 15/100\n",
            "58/58 [==============================] - 129s 2s/step - loss: 0.1354 - accuracy: 0.9485 - val_loss: 0.0973 - val_accuracy: 0.9675\n",
            "Epoch 16/100\n",
            "58/58 [==============================] - 129s 2s/step - loss: 0.1297 - accuracy: 0.9518 - val_loss: 0.0884 - val_accuracy: 0.9718\n",
            "Epoch 17/100\n",
            "58/58 [==============================] - 127s 2s/step - loss: 0.1423 - accuracy: 0.9491 - val_loss: 0.1053 - val_accuracy: 0.9588\n",
            "Epoch 18/100\n",
            "58/58 [==============================] - 132s 2s/step - loss: 0.1180 - accuracy: 0.9583 - val_loss: 0.0846 - val_accuracy: 0.9675\n",
            "Epoch 19/100\n",
            "58/58 [==============================] - 131s 2s/step - loss: 0.1174 - accuracy: 0.9518 - val_loss: 0.0797 - val_accuracy: 0.9696\n",
            "Epoch 20/100\n",
            "58/58 [==============================] - 130s 2s/step - loss: 0.1134 - accuracy: 0.9572 - val_loss: 0.0971 - val_accuracy: 0.9610\n",
            "Epoch 21/100\n",
            "58/58 [==============================] - 128s 2s/step - loss: 0.1085 - accuracy: 0.9556 - val_loss: 0.1060 - val_accuracy: 0.9566\n",
            "Epoch 22/100\n",
            "58/58 [==============================] - 127s 2s/step - loss: 0.1077 - accuracy: 0.9561 - val_loss: 0.0842 - val_accuracy: 0.9631\n",
            "Epoch 23/100\n",
            "58/58 [==============================] - 128s 2s/step - loss: 0.1159 - accuracy: 0.9507 - val_loss: 0.0938 - val_accuracy: 0.9631\n",
            "Epoch 24/100\n",
            "58/58 [==============================] - 127s 2s/step - loss: 0.1041 - accuracy: 0.9594 - val_loss: 0.0674 - val_accuracy: 0.9718\n",
            "Epoch 25/100\n",
            "58/58 [==============================] - 128s 2s/step - loss: 0.1135 - accuracy: 0.9518 - val_loss: 0.0748 - val_accuracy: 0.9696\n",
            "Epoch 26/100\n",
            "58/58 [==============================] - 129s 2s/step - loss: 0.1035 - accuracy: 0.9577 - val_loss: 0.0685 - val_accuracy: 0.9740\n",
            "Epoch 27/100\n",
            "58/58 [==============================] - 131s 2s/step - loss: 0.1001 - accuracy: 0.9599 - val_loss: 0.0642 - val_accuracy: 0.9740\n",
            "Epoch 28/100\n",
            "58/58 [==============================] - 131s 2s/step - loss: 0.0988 - accuracy: 0.9637 - val_loss: 0.0634 - val_accuracy: 0.9740\n",
            "Epoch 29/100\n",
            "58/58 [==============================] - 129s 2s/step - loss: 0.0984 - accuracy: 0.9653 - val_loss: 0.0630 - val_accuracy: 0.9761\n",
            "Epoch 30/100\n",
            "58/58 [==============================] - 131s 2s/step - loss: 0.1081 - accuracy: 0.9594 - val_loss: 0.0607 - val_accuracy: 0.9740\n",
            "Epoch 31/100\n",
            "58/58 [==============================] - 132s 2s/step - loss: 0.1078 - accuracy: 0.9550 - val_loss: 0.0948 - val_accuracy: 0.9631\n",
            "Epoch 32/100\n",
            "58/58 [==============================] - 130s 2s/step - loss: 0.0972 - accuracy: 0.9648 - val_loss: 0.0579 - val_accuracy: 0.9783\n",
            "Epoch 33/100\n",
            "58/58 [==============================] - 130s 2s/step - loss: 0.0982 - accuracy: 0.9621 - val_loss: 0.0577 - val_accuracy: 0.9783\n",
            "Epoch 34/100\n",
            "58/58 [==============================] - 131s 2s/step - loss: 0.0884 - accuracy: 0.9626 - val_loss: 0.0574 - val_accuracy: 0.9783\n",
            "Epoch 35/100\n",
            "58/58 [==============================] - 131s 2s/step - loss: 0.0885 - accuracy: 0.9664 - val_loss: 0.0568 - val_accuracy: 0.9783\n",
            "Epoch 36/100\n",
            "58/58 [==============================] - 148s 3s/step - loss: 0.0909 - accuracy: 0.9632 - val_loss: 0.0627 - val_accuracy: 0.9740\n",
            "Epoch 37/100\n",
            "58/58 [==============================] - 156s 3s/step - loss: 0.0850 - accuracy: 0.9670 - val_loss: 0.0615 - val_accuracy: 0.9740\n",
            "Epoch 38/100\n",
            "58/58 [==============================] - 156s 3s/step - loss: 0.0872 - accuracy: 0.9653 - val_loss: 0.0706 - val_accuracy: 0.9718\n",
            "Epoch 39/100\n",
            "58/58 [==============================] - 156s 3s/step - loss: 0.0872 - accuracy: 0.9642 - val_loss: 0.0552 - val_accuracy: 0.9740\n",
            "Epoch 40/100\n",
            "58/58 [==============================] - 156s 3s/step - loss: 0.0906 - accuracy: 0.9632 - val_loss: 0.0538 - val_accuracy: 0.9761\n",
            "Epoch 41/100\n",
            "58/58 [==============================] - 156s 3s/step - loss: 0.0829 - accuracy: 0.9680 - val_loss: 0.0725 - val_accuracy: 0.9761\n",
            "Epoch 42/100\n",
            "58/58 [==============================] - 156s 3s/step - loss: 0.0794 - accuracy: 0.9691 - val_loss: 0.0564 - val_accuracy: 0.9740\n",
            "Epoch 43/100\n",
            "58/58 [==============================] - 156s 3s/step - loss: 0.0885 - accuracy: 0.9680 - val_loss: 0.0683 - val_accuracy: 0.9740\n",
            "Epoch 44/100\n",
            "58/58 [==============================] - 158s 3s/step - loss: 0.0892 - accuracy: 0.9642 - val_loss: 0.0563 - val_accuracy: 0.9740\n",
            "Epoch 45/100\n",
            "58/58 [==============================] - 156s 3s/step - loss: 0.0759 - accuracy: 0.9702 - val_loss: 0.0650 - val_accuracy: 0.9718\n",
            "Epoch 46/100\n",
            "58/58 [==============================] - 159s 3s/step - loss: 0.0799 - accuracy: 0.9707 - val_loss: 0.0534 - val_accuracy: 0.9783\n",
            "Epoch 47/100\n",
            "58/58 [==============================] - 157s 3s/step - loss: 0.0879 - accuracy: 0.9659 - val_loss: 0.0650 - val_accuracy: 0.9740\n",
            "Epoch 48/100\n",
            "58/58 [==============================] - 158s 3s/step - loss: 0.0806 - accuracy: 0.9718 - val_loss: 0.0487 - val_accuracy: 0.9805\n",
            "Epoch 49/100\n",
            "58/58 [==============================] - 157s 3s/step - loss: 0.0766 - accuracy: 0.9680 - val_loss: 0.0481 - val_accuracy: 0.9805\n",
            "Epoch 50/100\n",
            "58/58 [==============================] - 157s 3s/step - loss: 0.0748 - accuracy: 0.9697 - val_loss: 0.0475 - val_accuracy: 0.9826\n",
            "Epoch 51/100\n",
            "58/58 [==============================] - 157s 3s/step - loss: 0.0820 - accuracy: 0.9680 - val_loss: 0.0493 - val_accuracy: 0.9805\n",
            "Epoch 52/100\n",
            "58/58 [==============================] - 162s 3s/step - loss: 0.0805 - accuracy: 0.9675 - val_loss: 0.0532 - val_accuracy: 0.9826\n",
            "Epoch 53/100\n",
            "58/58 [==============================] - 157s 3s/step - loss: 0.0708 - accuracy: 0.9735 - val_loss: 0.0781 - val_accuracy: 0.9696\n",
            "Epoch 54/100\n",
            "58/58 [==============================] - 157s 3s/step - loss: 0.0778 - accuracy: 0.9670 - val_loss: 0.0623 - val_accuracy: 0.9783\n",
            "Epoch 55/100\n",
            "58/58 [==============================] - 157s 3s/step - loss: 0.0767 - accuracy: 0.9697 - val_loss: 0.0613 - val_accuracy: 0.9783\n",
            "Epoch 56/100\n",
            "58/58 [==============================] - 158s 3s/step - loss: 0.0681 - accuracy: 0.9735 - val_loss: 0.1119 - val_accuracy: 0.9544\n",
            "Epoch 57/100\n",
            "58/58 [==============================] - 156s 3s/step - loss: 0.0824 - accuracy: 0.9675 - val_loss: 0.0591 - val_accuracy: 0.9783\n",
            "Epoch 58/100\n",
            "58/58 [==============================] - 158s 3s/step - loss: 0.0784 - accuracy: 0.9664 - val_loss: 0.1064 - val_accuracy: 0.9544\n",
            "Epoch 59/100\n",
            "58/58 [==============================] - 157s 3s/step - loss: 0.0786 - accuracy: 0.9670 - val_loss: 0.0460 - val_accuracy: 0.9805\n",
            "Epoch 60/100\n",
            "58/58 [==============================] - 157s 3s/step - loss: 0.0719 - accuracy: 0.9740 - val_loss: 0.0470 - val_accuracy: 0.9826\n",
            "Epoch 61/100\n",
            "58/58 [==============================] - 157s 3s/step - loss: 0.0688 - accuracy: 0.9756 - val_loss: 0.0477 - val_accuracy: 0.9805\n",
            "Epoch 62/100\n",
            "58/58 [==============================] - 157s 3s/step - loss: 0.0771 - accuracy: 0.9718 - val_loss: 0.0480 - val_accuracy: 0.9783\n",
            "Epoch 63/100\n",
            "58/58 [==============================] - 158s 3s/step - loss: 0.0673 - accuracy: 0.9718 - val_loss: 0.0526 - val_accuracy: 0.9826\n",
            "Epoch 64/100\n",
            "58/58 [==============================] - 158s 3s/step - loss: 0.0835 - accuracy: 0.9675 - val_loss: 0.0451 - val_accuracy: 0.9805\n",
            "Epoch 65/100\n",
            "58/58 [==============================] - 157s 3s/step - loss: 0.0751 - accuracy: 0.9729 - val_loss: 0.0465 - val_accuracy: 0.9848\n",
            "Epoch 66/100\n",
            "58/58 [==============================] - 158s 3s/step - loss: 0.0690 - accuracy: 0.9718 - val_loss: 0.1370 - val_accuracy: 0.9371\n",
            "Epoch 67/100\n",
            "58/58 [==============================] - 157s 3s/step - loss: 0.0729 - accuracy: 0.9718 - val_loss: 0.0502 - val_accuracy: 0.9826\n",
            "Epoch 68/100\n",
            "58/58 [==============================] - 157s 3s/step - loss: 0.0690 - accuracy: 0.9718 - val_loss: 0.0430 - val_accuracy: 0.9805\n",
            "Epoch 69/100\n",
            "58/58 [==============================] - 157s 3s/step - loss: 0.0622 - accuracy: 0.9740 - val_loss: 0.0514 - val_accuracy: 0.9783\n",
            "Epoch 70/100\n",
            "58/58 [==============================] - 158s 3s/step - loss: 0.0658 - accuracy: 0.9767 - val_loss: 0.0441 - val_accuracy: 0.9870\n",
            "Epoch 71/100\n",
            "58/58 [==============================] - 158s 3s/step - loss: 0.0714 - accuracy: 0.9713 - val_loss: 0.0565 - val_accuracy: 0.9783\n",
            "Epoch 72/100\n",
            "58/58 [==============================] - 157s 3s/step - loss: 0.0666 - accuracy: 0.9751 - val_loss: 0.0707 - val_accuracy: 0.9696\n",
            "Epoch 73/100\n",
            "58/58 [==============================] - 158s 3s/step - loss: 0.0632 - accuracy: 0.9745 - val_loss: 0.0487 - val_accuracy: 0.9870\n",
            "Epoch 74/100\n",
            "58/58 [==============================] - 158s 3s/step - loss: 0.0598 - accuracy: 0.9778 - val_loss: 0.0420 - val_accuracy: 0.9826\n",
            "Epoch 75/100\n",
            "58/58 [==============================] - 158s 3s/step - loss: 0.0668 - accuracy: 0.9745 - val_loss: 0.0433 - val_accuracy: 0.9805\n",
            "Epoch 76/100\n",
            "58/58 [==============================] - 157s 3s/step - loss: 0.0765 - accuracy: 0.9707 - val_loss: 0.0440 - val_accuracy: 0.9783\n",
            "Epoch 77/100\n",
            "58/58 [==============================] - 157s 3s/step - loss: 0.0569 - accuracy: 0.9767 - val_loss: 0.0457 - val_accuracy: 0.9805\n",
            "Epoch 78/100\n",
            "58/58 [==============================] - 157s 3s/step - loss: 0.0618 - accuracy: 0.9794 - val_loss: 0.0434 - val_accuracy: 0.9783\n",
            "Epoch 79/100\n",
            "58/58 [==============================] - 158s 3s/step - loss: 0.0547 - accuracy: 0.9810 - val_loss: 0.0425 - val_accuracy: 0.9805\n",
            "Epoch 80/100\n",
            "58/58 [==============================] - 158s 3s/step - loss: 0.0601 - accuracy: 0.9767 - val_loss: 0.0537 - val_accuracy: 0.9805\n",
            "Epoch 81/100\n",
            "58/58 [==============================] - 158s 3s/step - loss: 0.0588 - accuracy: 0.9756 - val_loss: 0.0602 - val_accuracy: 0.9740\n",
            "Epoch 82/100\n",
            "58/58 [==============================] - 158s 3s/step - loss: 0.0630 - accuracy: 0.9767 - val_loss: 0.0421 - val_accuracy: 0.9805\n",
            "Epoch 83/100\n",
            "58/58 [==============================] - 158s 3s/step - loss: 0.0651 - accuracy: 0.9724 - val_loss: 0.0409 - val_accuracy: 0.9848\n",
            "Epoch 84/100\n",
            "58/58 [==============================] - 158s 3s/step - loss: 0.0623 - accuracy: 0.9767 - val_loss: 0.0517 - val_accuracy: 0.9783\n",
            "Epoch 85/100\n",
            "58/58 [==============================] - 158s 3s/step - loss: 0.0595 - accuracy: 0.9767 - val_loss: 0.0466 - val_accuracy: 0.9783\n",
            "Epoch 86/100\n",
            "58/58 [==============================] - 156s 3s/step - loss: 0.0578 - accuracy: 0.9800 - val_loss: 0.0424 - val_accuracy: 0.9805\n",
            "Epoch 87/100\n",
            "58/58 [==============================] - 159s 3s/step - loss: 0.0613 - accuracy: 0.9745 - val_loss: 0.0463 - val_accuracy: 0.9848\n",
            "Epoch 88/100\n",
            "58/58 [==============================] - 158s 3s/step - loss: 0.0532 - accuracy: 0.9783 - val_loss: 0.0401 - val_accuracy: 0.9848\n",
            "Epoch 89/100\n",
            "58/58 [==============================] - 159s 3s/step - loss: 0.0604 - accuracy: 0.9778 - val_loss: 0.0589 - val_accuracy: 0.9783\n",
            "Epoch 90/100\n",
            "58/58 [==============================] - 158s 3s/step - loss: 0.0643 - accuracy: 0.9740 - val_loss: 0.0535 - val_accuracy: 0.9783\n",
            "Epoch 91/100\n",
            "58/58 [==============================] - 159s 3s/step - loss: 0.0733 - accuracy: 0.9707 - val_loss: 0.0396 - val_accuracy: 0.9848\n",
            "Epoch 92/100\n",
            "58/58 [==============================] - 158s 3s/step - loss: 0.0537 - accuracy: 0.9810 - val_loss: 0.0519 - val_accuracy: 0.9826\n",
            "Epoch 93/100\n",
            "58/58 [==============================] - 159s 3s/step - loss: 0.0552 - accuracy: 0.9778 - val_loss: 0.0414 - val_accuracy: 0.9870\n",
            "Epoch 94/100\n",
            "58/58 [==============================] - 159s 3s/step - loss: 0.0515 - accuracy: 0.9794 - val_loss: 0.0490 - val_accuracy: 0.9783\n",
            "Epoch 95/100\n",
            "58/58 [==============================] - 159s 3s/step - loss: 0.0632 - accuracy: 0.9751 - val_loss: 0.0401 - val_accuracy: 0.9848\n",
            "Epoch 96/100\n",
            "58/58 [==============================] - 157s 3s/step - loss: 0.0533 - accuracy: 0.9800 - val_loss: 0.0712 - val_accuracy: 0.9718\n",
            "Epoch 97/100\n",
            "58/58 [==============================] - 159s 3s/step - loss: 0.0532 - accuracy: 0.9772 - val_loss: 0.1487 - val_accuracy: 0.9371\n",
            "Epoch 98/100\n",
            "58/58 [==============================] - 159s 3s/step - loss: 0.0545 - accuracy: 0.9789 - val_loss: 0.0412 - val_accuracy: 0.9848\n",
            "Epoch 99/100\n",
            "58/58 [==============================] - 158s 3s/step - loss: 0.0571 - accuracy: 0.9805 - val_loss: 0.0840 - val_accuracy: 0.9675\n",
            "Epoch 100/100\n",
            "58/58 [==============================] - 159s 3s/step - loss: 0.0615 - accuracy: 0.9762 - val_loss: 0.0382 - val_accuracy: 0.9848\n"
          ],
          "name": "stdout"
        },
        {
          "output_type": "display_data",
          "data": {
            "image/png": "[encoded data removed]",
            "text/plain": [
              "<Figure size 432x288 with 1 Axes>"
            ]
          },
          "metadata": {
            "tags": [],
            "needs_background": "light"
          }
        },
        {
          "output_type": "display_data",
          "data": {
            "image/png": "[encoded data removed]",
            "text/plain": [
              "<Figure size 432x288 with 1 Axes>"
            ]
          },
          "metadata": {
            "tags": [],
            "needs_background": "light"
          }
        },
        {
          "output_type": "stream",
          "text": [
            "CPU times: user 7h 16min 51s, sys: 8min 57s, total: 7h 25min 48s\n",
            "Wall time: 4h 33min 15s\n"
          ],
          "name": "stdout"
        }
      ]
    },
    {
      "cell_type": "code",
      "metadata": {
        "id": "ajo7NIO7K3zS"
      },
      "source": [
        "%matplotlib inline\n",
        "from sklearn.metrics import confusion_matrix\n",
        "import itertools\n",
        "import matplotlib.pyplot as plt\n",
        "import numpy as np"
      ],
      "execution_count": 11,
      "outputs": []
    },
    {
      "cell_type": "code",
      "metadata": {
        "colab": {
          "base_uri": "https://localhost:8080/",
          "height": 974
        },
        "id": "YqDkvVqEK3T-",
        "outputId": "79b43101-9619-4860-b866-e89c1114c174"
      },
      "source": [
        "Evaluate_CNN_Model()"
      ],
      "execution_count": 12,
      "outputs": [
        {
          "output_type": "stream",
          "text": [
            "Found 139 images belonging to 2 classes.\n",
            "WARNING:tensorflow:From <ipython-input-9-43136d1ad748>:24: Model.predict_generator (from tensorflow.python.keras.engine.training) is deprecated and will be removed in a future version.\n",
            "Instructions for updating:\n",
            "Please use Model.predict, which supports generators.\n"
          ],
          "name": "stdout"
        },
        {
          "output_type": "stream",
          "text": [
            "/usr/local/lib/python3.6/dist-packages/keras_preprocessing/image/image_data_generator.py:720: UserWarning: This ImageDataGenerator specifies `featurewise_center`, but it hasn't been fit on any training data. Fit it first by calling `.fit(numpy_data)`.\n",
            "  warnings.warn('This ImageDataGenerator specifies '\n",
            "/usr/local/lib/python3.6/dist-packages/keras_preprocessing/image/image_data_generator.py:728: UserWarning: This ImageDataGenerator specifies `featurewise_std_normalization`, but it hasn't been fit on any training data. Fit it first by calling `.fit(numpy_data)`.\n",
            "  warnings.warn('This ImageDataGenerator specifies '\n"
          ],
          "name": "stderr"
        },
        {
          "output_type": "stream",
          "text": [
            "5/5 [==============================] - 55s 11s/step\n"
          ],
          "name": "stdout"
        },
        {
          "output_type": "stream",
          "text": [
            "No handles with labels found to put in legend.\n"
          ],
          "name": "stderr"
        },
        {
          "output_type": "stream",
          "text": [
            "\n",
            "Confusion Matrix\n",
            " -------------------------\n",
            "[[58 12]\n",
            " [ 2 67]]\n",
            "Accuracy: 0.899281\n",
            "Precision: 0.848101\n",
            "Recall: 0.971014\n",
            "F1 score: 0.905405\n",
            "ROC AUC: 0.987992\n"
          ],
          "name": "stdout"
        },
        {
          "output_type": "display_data",
          "data": {
            "image/png": "[encoded data removed]",
            "text/plain": [
              "<Figure size 432x288 with 1 Axes>"
            ]
          },
          "metadata": {
            "tags": [],
            "needs_background": "light"
          }
        },
        {
          "output_type": "display_data",
          "data": {
            "image/png": "[encoded data removed]",
            "text/plain": [
              "<Figure size 432x288 with 2 Axes>"
            ]
          },
          "metadata": {
            "tags": [],
            "needs_background": "light"
          }
        }
      ]
    }
  ]
}