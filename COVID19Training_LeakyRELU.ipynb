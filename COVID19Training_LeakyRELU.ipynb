{
  "nbformat": 4,
  "nbformat_minor": 0,
  "metadata": {
    "colab": {
      "name": "COVID19Training_LeakyRELU.ipynb",
      "provenance": [],
      "collapsed_sections": [],
      "toc_visible": true,
      "include_colab_link": true
    },
    "kernelspec": {
      "name": "python3",
      "display_name": "Python 3"
    },
    "accelerator": "GPU"
  },
  "cells": [
    {
      "cell_type": "markdown",
      "metadata": {
        "id": "view-in-github",
        "colab_type": "text"
      },
      "source": [
        "<a href=\"https://colab.research.google.com/github/rachitgithub/Covid-Detection/blob/main/COVID19Training_LeakyRELU.ipynb\" target=\"_parent\"><img src=\"https://colab.research.google.com/assets/colab-badge.svg\" alt=\"Open In Colab\"/></a>"
      ]
    },
    {
      "cell_type": "markdown",
      "metadata": {
        "id": "-gyKOi8EPITT"
      },
      "source": [
        "# **Install TensorFlow GPU**"
      ]
    },
    {
      "cell_type": "code",
      "metadata": {
        "id": "UboFrn87qNVe"
      },
      "source": [
        "!pip install tensorflow-gpu"
      ],
      "execution_count": null,
      "outputs": []
    },
    {
      "cell_type": "markdown",
      "metadata": {
        "id": "FLc0x1XRPPVm"
      },
      "source": [
        "# **Import GDRIVE**"
      ]
    },
    {
      "cell_type": "code",
      "metadata": {
        "colab": {
          "base_uri": "https://localhost:8080/"
        },
        "id": "2SXklTJgqQyV",
        "outputId": "d24e3eea-0e32-4b08-9a03-bfc160aef990"
      },
      "source": [
        "from google.colab import drive\n",
        "drive.mount('/content/drive')"
      ],
      "execution_count": 2,
      "outputs": [
        {
          "output_type": "stream",
          "text": [
            "Mounted at /content/drive\n"
          ],
          "name": "stdout"
        }
      ]
    },
    {
      "cell_type": "markdown",
      "metadata": {
        "id": "M55jhmwBPTGp"
      },
      "source": [
        "# **Import Tensor Flow**"
      ]
    },
    {
      "cell_type": "code",
      "metadata": {
        "colab": {
          "base_uri": "https://localhost:8080/"
        },
        "id": "yPOllQPgqUky",
        "outputId": "3ab4722b-f7e2-4adc-9466-5a5beca9b5f7"
      },
      "source": [
        "import tensorflow as tf\n",
        "tf.test.gpu_device_name()\n",
        "print(tf.__version__)"
      ],
      "execution_count": 3,
      "outputs": [
        {
          "output_type": "stream",
          "text": [
            "2.3.0\n"
          ],
          "name": "stdout"
        }
      ]
    },
    {
      "cell_type": "markdown",
      "metadata": {
        "id": "qf3UaO-sPXkz"
      },
      "source": [
        "# **Import Keras Libraries**"
      ]
    },
    {
      "cell_type": "code",
      "metadata": {
        "id": "O6d6JctTqdW2"
      },
      "source": [
        "from keras.models import Sequential,load_model\n",
        "from keras.layers import LeakyReLU,Conv2D,Activation, MaxPooling2D,Dense,Flatten\n",
        "from keras.optimizers import Adam\n",
        "from keras.preprocessing.image import ImageDataGenerator\n",
        "from sklearn.metrics import accuracy_score,roc_curve,confusion_matrix,precision_score,recall_score,f1_score,roc_auc_score\n",
        "import matplotlib.pyplot as plt\n",
        "import matplotlib.pyplot as plt_False_Positive_vs_True_Positive"
      ],
      "execution_count": 4,
      "outputs": []
    },
    {
      "cell_type": "markdown",
      "metadata": {
        "id": "BoGghyDrPcMl"
      },
      "source": [
        "# **Build Sequential CNN Model with Leaky RELU**\n"
      ]
    },
    {
      "cell_type": "code",
      "metadata": {
        "id": "NHfmSsyapGlw"
      },
      "source": [
        "def Build_CNN_Model():\n",
        "    \n",
        "    # -------------------------------------------------------------------------\n",
        "    #                        Build CNN Model \n",
        "    # -------------------------------------------------------------------------\n",
        "    model = Sequential()\n",
        "    \n",
        "    #  First Block of CNN\n",
        "    model.add(Conv2D(8, (5, 5), padding='same', input_shape=(224, 224, 3)))  \n",
        "    model.add(LeakyReLU(alpha=0.1))\n",
        "    model.add(MaxPooling2D((2, 2)))\n",
        "    \n",
        "    #  Second Block of CNN\n",
        "    model.add(Conv2D(8, (3, 3),  padding='same'))  \n",
        "    model.add(LeakyReLU(alpha=0.1))\n",
        "    model.add(MaxPooling2D((2, 2)))\n",
        "\n",
        "    #  Third Block of CNN\n",
        "    model.add(Conv2D(16, (3, 3),  padding='same'))  \n",
        "    model.add(LeakyReLU(alpha=0.1))\n",
        "\n",
        "\n",
        "    #  Forth Block of CNN\n",
        "    model.add(Conv2D(16, (3, 3),  padding='same'))  \n",
        "    model.add(LeakyReLU(alpha=0.1))\n",
        "    model.add(MaxPooling2D((2, 2)))\n",
        "\n",
        "    \n",
        "    #  Flatten and Fully Connected Layer\n",
        "    model.add(Flatten())\n",
        "    model.add(Dense(10))\n",
        "    model.add(LeakyReLU(alpha=0.1))\n",
        "     \n",
        "    #  Softmax Classifier\n",
        "    model.add(Dense(2))\n",
        "    model.add(Activation('softmax'))\n",
        "        \n",
        "    #  Display model\n",
        "    model.summary()\n",
        "    \n",
        "\t# compile model\n",
        "\n",
        "    opt = Adam(learning_rate=0.001, beta_1=0.9, beta_2=0.999)\n",
        "    model.compile(optimizer=opt, loss='categorical_crossentropy', metrics=['accuracy'])\n",
        "    \n",
        "    return model\n"
      ],
      "execution_count": 5,
      "outputs": []
    },
    {
      "cell_type": "markdown",
      "metadata": {
        "id": "EeLn5RJZPnKl"
      },
      "source": [
        "# **Train Sequential CNN Model with Leaky RELU**\n"
      ]
    },
    {
      "cell_type": "code",
      "metadata": {
        "id": "iT6jo0OmquCL"
      },
      "source": [
        "# train and evalluate cnn model\n",
        "def Train_CNN_Model(model):\n",
        "    \n",
        "    # -------------------------------------------------------------------------\n",
        "    #                        Train CNN Model \n",
        "    # -------------------------------------------------------------------------\n",
        "    \n",
        "    \n",
        "    # create data generators    \n",
        "    train_datagen = ImageDataGenerator(\n",
        "                                     rescale=1.0/255.0,\n",
        "                                     featurewise_center= True,\n",
        "                                     featurewise_std_normalization = True,\n",
        "                                     rotation_range=10,\n",
        "                                     width_shift_range=0.1,\n",
        "                                     height_shift_range=0.1,\n",
        "                                     zoom_range=0.2,                                     \n",
        "                                     brightness_range=[0.2,1.0],\n",
        "                                     )\n",
        "    \n",
        "    valid_datagen = ImageDataGenerator(\n",
        "                                     rescale=1.0/255.0,\n",
        "                                     featurewise_center= True,\n",
        "                                     featurewise_std_normalization = True)\n",
        "    \n",
        "    \n",
        "   \n",
        "   \n",
        "    # prepare iterators\n",
        "    batch_size=32\n",
        "    train_it = train_datagen.flow_from_directory('/content/drive/MyDrive/COVID-19-Deep-Learning-Project-Colab/Dataset/train/',classes =('Normal','Covid'),batch_size=batch_size, target_size=(224, 224))\n",
        "    valid_it = valid_datagen.flow_from_directory('/content/drive/MyDrive/COVID-19-Deep-Learning-Project-Colab/Dataset/val/',classes =('Normal','Covid'),batch_size=batch_size, target_size=(224, 224))\n",
        "\n",
        "\n",
        "    epochs=100;\n",
        "    \n",
        "    history = model.fit_generator(train_it, steps_per_epoch=len(train_it),\n",
        "\t\tvalidation_data=valid_it, validation_steps=len(valid_it), epochs=epochs, verbose=1)\n",
        "    \n",
        "    \n",
        "    #  \"Accuracy\"\n",
        "    plt.plot(history.history['accuracy'])\n",
        "    plt.plot(history.history['val_accuracy'])\n",
        "    plt.title('model accuracy')\n",
        "    plt.ylabel('accuracy')\n",
        "    plt.xlabel('epoch')\n",
        "    plt.legend(['train', 'validation'], loc='upper left')\n",
        "    plt.show()\n",
        "    \n",
        "    # \"Loss\"\n",
        "    plt.plot(history.history['loss'])\n",
        "    plt.plot(history.history['val_loss'])\n",
        "    plt.title('model loss')\n",
        "    plt.ylabel('loss')\n",
        "    plt.xlabel('epoch')\n",
        "    plt.legend(['train', 'validation'], loc='upper left')\n",
        "    plt.show()\n",
        "\n",
        "\t# save model\n",
        "    model.save('/content/drive/MyDrive/COVID-19-Deep-Learning-Project-Colab/saved_models/CoVID19-sequential-LeakyRELU_cnn_model.h5')"
      ],
      "execution_count": 6,
      "outputs": []
    },
    {
      "cell_type": "code",
      "metadata": {
        "id": "6aIG5skmLDx0"
      },
      "source": [
        "%matplotlib inline\n",
        "from sklearn.metrics import confusion_matrix\n",
        "import itertools\n",
        "import matplotlib.pyplot as plt\n",
        "import numpy as np"
      ],
      "execution_count": 8,
      "outputs": []
    },
    {
      "cell_type": "markdown",
      "metadata": {
        "id": "akk2CJw7Pp6O"
      },
      "source": [
        "# **Evaluate Sequential CNN Model with Leaky RELU**\n"
      ]
    },
    {
      "cell_type": "code",
      "metadata": {
        "id": "5eW1T2Ekq5MM"
      },
      "source": [
        "def Evaluate_CNN_Model():\n",
        "    # -------------------------------------------------------------------------\n",
        "    #                        Evaluate CNN Model \n",
        "    # -------------------------------------------------------------------------\n",
        "    \n",
        "    # load model\n",
        "    model = load_model('/content/drive/MyDrive/COVID-19-Deep-Learning-Project-Colab/saved_models/CoVID19-sequential-LeakyRELU_cnn_model.h5')\n",
        "\n",
        "    \n",
        "     # load test data\n",
        "    batch_size=32\n",
        "    test_datagen = ImageDataGenerator(\n",
        "                                     rescale=1.0/255.0,\n",
        "                                     featurewise_center= True,\n",
        "                                     featurewise_std_normalization = True)\n",
        "    \n",
        "    test_it = test_datagen.flow_from_directory('/content/drive/MyDrive/COVID-19-Deep-Learning-Project-Colab/Dataset/test/',classes =('Normal','Covid'), \n",
        "                                               shuffle=False,batch_size=batch_size, target_size=(224, 224))\n",
        "    \n",
        "    \n",
        "    y_true = test_it.classes;\n",
        "\n",
        "    y_pred = model.predict_generator(test_it, steps=len(test_it), verbose=1)\n",
        "\n",
        "    \n",
        "    y_pred_prob = y_pred[:,1]\n",
        "\n",
        "     \n",
        "    y_pred_binary =  y_pred_prob > 0.5\n",
        "   \n",
        "    #Confution Matrix    \n",
        "    print('\\nConfusion Matrix\\n -------------------------')    \n",
        "    print(confusion_matrix(y_true,y_pred_binary));\n",
        "    #for plotting CM graph\n",
        "    #cm = confusion_matrix(y_true,y_pred_binary)\n",
        "\n",
        "    \n",
        "    # accuracy: (tp + tn) / (p + n)\n",
        "    accuracy = accuracy_score(y_true, y_pred_binary)\n",
        "    print('Accuracy: %f' % accuracy)\n",
        "    \n",
        "    \n",
        "    # precision tp / (tp + fp)\n",
        "    precision = precision_score(y_true, y_pred_binary)\n",
        "    print('Precision: %f' % precision)\n",
        "    \n",
        "    # recall: tp / (tp + fn)\n",
        "    recall = recall_score(y_true, y_pred_binary)\n",
        "    print('Recall: %f' % recall)\n",
        "    \n",
        "    # f1: 2 tp / (2 tp + fp + fn)\n",
        "    f1 = f1_score(y_true, y_pred_binary)\n",
        "    print('F1 score: %f' % f1)    \n",
        "       \n",
        "    # ROC AUC\n",
        "    auc = roc_auc_score(y_true, y_pred_prob)\n",
        "    print('ROC AUC: %f' % auc)\n",
        "    \n",
        "    \n",
        "    # calculate roc curves\n",
        "    fpr, tpr, _ = roc_curve(y_true, y_pred_prob)\n",
        "        \n",
        "    # plot the roc curve for the model\n",
        "    plt.figure()\n",
        "    plt_False_Positive_vs_True_Positive.plot(fpr, tpr, linestyle='--', label='')\n",
        "    \n",
        "    # axis labels\n",
        "    plt_False_Positive_vs_True_Positive.xlabel('False Positive Rate')\n",
        "    plt_False_Positive_vs_True_Positive.ylabel('True Positive Rate')\n",
        "       \n",
        "    # show the legend\n",
        "    plt_False_Positive_vs_True_Positive.legend()\n",
        "    # show the plot\n",
        "    plt_False_Positive_vs_True_Positive.show()\n",
        "    #cm = confusion_matrix(y_true,y_pred_binary)\n",
        "\n",
        "      #for plotting CM graph\n",
        "    cm = confusion_matrix(y_true,y_pred_binary)\n",
        "\n",
        "    def plot_confusion_matrix(cm, classes,\n",
        "                        normalize=False,\n",
        "                        title='Confusion matrix for RELU Activated CNN',\n",
        "                        cmap=plt.cm.Greens):\n",
        " \n",
        "      plt.imshow(cm, interpolation='nearest', cmap=cmap)\n",
        "      plt.title(title)\n",
        "      plt.colorbar()\n",
        "      tick_marks = np.arange(len(classes))\n",
        "      plt.xticks(tick_marks, classes, rotation=45)\n",
        "      plt.yticks(tick_marks, classes)\n",
        "\n",
        "\n",
        "\n",
        "    thresh = cm.max() / 2.\n",
        "    for i, j in itertools.product(range(cm.shape[0]), range(cm.shape[1])):\n",
        "        plt.text(j, i, cm[i, j],\n",
        "            horizontalalignment=\"center\",\n",
        "            color=\"white\" if cm[i, j] > thresh else \"black\")\n",
        "\n",
        "    plt.tight_layout()\n",
        "    plt.ylabel('Predicted Values')\n",
        "    plt.xlabel('True Values')\n",
        "    cm_plot_labels = ['No Covid','Has Covid']\n",
        "    plot_confusion_matrix(cm=cm, classes=cm_plot_labels, title='Confusion matrix for RELU Activated CNN')"
      ],
      "execution_count": 7,
      "outputs": []
    },
    {
      "cell_type": "code",
      "metadata": {
        "id": "Ad7gwfsJSaVp"
      },
      "source": [
        "%matplotlib inline\n",
        "from sklearn.metrics import confusion_matrix\n",
        "import itertools\n",
        "import matplotlib.pyplot as plt\n",
        "import numpy as np"
      ],
      "execution_count": 9,
      "outputs": []
    },
    {
      "cell_type": "code",
      "metadata": {
        "colab": {
          "base_uri": "https://localhost:8080/",
          "height": 1000
        },
        "id": "PqwwYBQsqysR",
        "outputId": "03c389ac-3e52-439b-9729-d8fc83a5f9ac"
      },
      "source": [
        "%%time\n",
        "# main entry\n",
        "    \n",
        "model = Build_CNN_Model()\n",
        "Train_CNN_Model(model)\n"
      ],
      "execution_count": 8,
      "outputs": [
        {
          "output_type": "stream",
          "text": [
            "Model: \"sequential\"\n",
            "_________________________________________________________________\n",
            "Layer (type)                 Output Shape              Param #   \n",
            "=================================================================\n",
            "conv2d (Conv2D)              (None, 224, 224, 8)       608       \n",
            "_________________________________________________________________\n",
            "leaky_re_lu (LeakyReLU)      (None, 224, 224, 8)       0         \n",
            "_________________________________________________________________\n",
            "max_pooling2d (MaxPooling2D) (None, 112, 112, 8)       0         \n",
            "_________________________________________________________________\n",
            "conv2d_1 (Conv2D)            (None, 112, 112, 8)       584       \n",
            "_________________________________________________________________\n",
            "leaky_re_lu_1 (LeakyReLU)    (None, 112, 112, 8)       0         \n",
            "_________________________________________________________________\n",
            "max_pooling2d_1 (MaxPooling2 (None, 56, 56, 8)         0         \n",
            "_________________________________________________________________\n",
            "conv2d_2 (Conv2D)            (None, 56, 56, 16)        1168      \n",
            "_________________________________________________________________\n",
            "leaky_re_lu_2 (LeakyReLU)    (None, 56, 56, 16)        0         \n",
            "_________________________________________________________________\n",
            "conv2d_3 (Conv2D)            (None, 56, 56, 16)        2320      \n",
            "_________________________________________________________________\n",
            "leaky_re_lu_3 (LeakyReLU)    (None, 56, 56, 16)        0         \n",
            "_________________________________________________________________\n",
            "max_pooling2d_2 (MaxPooling2 (None, 28, 28, 16)        0         \n",
            "_________________________________________________________________\n",
            "flatten (Flatten)            (None, 12544)             0         \n",
            "_________________________________________________________________\n",
            "dense (Dense)                (None, 10)                125450    \n",
            "_________________________________________________________________\n",
            "leaky_re_lu_4 (LeakyReLU)    (None, 10)                0         \n",
            "_________________________________________________________________\n",
            "dense_1 (Dense)              (None, 2)                 22        \n",
            "_________________________________________________________________\n",
            "activation (Activation)      (None, 2)                 0         \n",
            "=================================================================\n",
            "Total params: 130,152\n",
            "Trainable params: 130,152\n",
            "Non-trainable params: 0\n",
            "_________________________________________________________________\n",
            "Found 1846 images belonging to 2 classes.\n",
            "Found 461 images belonging to 2 classes.\n",
            "WARNING:tensorflow:From <ipython-input-6-961307a3cb07>:38: Model.fit_generator (from tensorflow.python.keras.engine.training) is deprecated and will be removed in a future version.\n",
            "Instructions for updating:\n",
            "Please use Model.fit, which supports generators.\n"
          ],
          "name": "stdout"
        },
        {
          "output_type": "stream",
          "text": [
            "/usr/local/lib/python3.6/dist-packages/keras_preprocessing/image/image_data_generator.py:720: UserWarning: This ImageDataGenerator specifies `featurewise_center`, but it hasn't been fit on any training data. Fit it first by calling `.fit(numpy_data)`.\n",
            "  warnings.warn('This ImageDataGenerator specifies '\n",
            "/usr/local/lib/python3.6/dist-packages/keras_preprocessing/image/image_data_generator.py:728: UserWarning: This ImageDataGenerator specifies `featurewise_std_normalization`, but it hasn't been fit on any training data. Fit it first by calling `.fit(numpy_data)`.\n",
            "  warnings.warn('This ImageDataGenerator specifies '\n"
          ],
          "name": "stderr"
        },
        {
          "output_type": "stream",
          "text": [
            "Epoch 1/100\n",
            "58/58 [==============================] - 595s 10s/step - loss: 0.5207 - accuracy: 0.7730 - val_loss: 0.2458 - val_accuracy: 0.9176\n",
            "Epoch 2/100\n",
            "58/58 [==============================] - 91s 2s/step - loss: 0.3229 - accuracy: 0.8722 - val_loss: 0.2176 - val_accuracy: 0.9284\n",
            "Epoch 3/100\n",
            "58/58 [==============================] - 92s 2s/step - loss: 0.2268 - accuracy: 0.9209 - val_loss: 0.1270 - val_accuracy: 0.9501\n",
            "Epoch 4/100\n",
            "58/58 [==============================] - 93s 2s/step - loss: 0.1782 - accuracy: 0.9317 - val_loss: 0.1177 - val_accuracy: 0.9479\n",
            "Epoch 5/100\n",
            "58/58 [==============================] - 92s 2s/step - loss: 0.1833 - accuracy: 0.9334 - val_loss: 0.2083 - val_accuracy: 0.9241\n",
            "Epoch 6/100\n",
            "58/58 [==============================] - 91s 2s/step - loss: 0.1528 - accuracy: 0.9431 - val_loss: 0.1901 - val_accuracy: 0.9393\n",
            "Epoch 7/100\n",
            "58/58 [==============================] - 92s 2s/step - loss: 0.1517 - accuracy: 0.9469 - val_loss: 0.0961 - val_accuracy: 0.9653\n",
            "Epoch 8/100\n",
            "58/58 [==============================] - 90s 2s/step - loss: 0.1144 - accuracy: 0.9540 - val_loss: 0.1888 - val_accuracy: 0.9241\n",
            "Epoch 9/100\n",
            "58/58 [==============================] - 88s 2s/step - loss: 0.1330 - accuracy: 0.9523 - val_loss: 0.0726 - val_accuracy: 0.9783\n",
            "Epoch 10/100\n",
            "58/58 [==============================] - 90s 2s/step - loss: 0.1295 - accuracy: 0.9588 - val_loss: 0.0776 - val_accuracy: 0.9675\n",
            "Epoch 11/100\n",
            "58/58 [==============================] - 91s 2s/step - loss: 0.1258 - accuracy: 0.9534 - val_loss: 0.0960 - val_accuracy: 0.9653\n",
            "Epoch 12/100\n",
            "58/58 [==============================] - 90s 2s/step - loss: 0.1165 - accuracy: 0.9545 - val_loss: 0.0770 - val_accuracy: 0.9740\n",
            "Epoch 13/100\n",
            "58/58 [==============================] - 90s 2s/step - loss: 0.0980 - accuracy: 0.9707 - val_loss: 0.1248 - val_accuracy: 0.9631\n",
            "Epoch 14/100\n",
            "58/58 [==============================] - 91s 2s/step - loss: 0.0975 - accuracy: 0.9680 - val_loss: 0.1812 - val_accuracy: 0.9241\n",
            "Epoch 15/100\n",
            "58/58 [==============================] - 90s 2s/step - loss: 0.1080 - accuracy: 0.9567 - val_loss: 0.0652 - val_accuracy: 0.9805\n",
            "Epoch 16/100\n",
            "58/58 [==============================] - 90s 2s/step - loss: 0.0970 - accuracy: 0.9702 - val_loss: 0.0546 - val_accuracy: 0.9826\n",
            "Epoch 17/100\n",
            "58/58 [==============================] - 90s 2s/step - loss: 0.0934 - accuracy: 0.9675 - val_loss: 0.0709 - val_accuracy: 0.9696\n",
            "Epoch 18/100\n",
            "58/58 [==============================] - 96s 2s/step - loss: 0.0872 - accuracy: 0.9713 - val_loss: 0.1007 - val_accuracy: 0.9588\n",
            "Epoch 19/100\n",
            "58/58 [==============================] - 94s 2s/step - loss: 0.1021 - accuracy: 0.9653 - val_loss: 0.1244 - val_accuracy: 0.9501\n",
            "Epoch 20/100\n",
            "58/58 [==============================] - 93s 2s/step - loss: 0.0735 - accuracy: 0.9800 - val_loss: 0.0485 - val_accuracy: 0.9870\n",
            "Epoch 21/100\n",
            "58/58 [==============================] - 91s 2s/step - loss: 0.0938 - accuracy: 0.9680 - val_loss: 0.0637 - val_accuracy: 0.9761\n",
            "Epoch 22/100\n",
            "58/58 [==============================] - 90s 2s/step - loss: 0.0990 - accuracy: 0.9670 - val_loss: 0.0444 - val_accuracy: 0.9805\n",
            "Epoch 23/100\n",
            "58/58 [==============================] - 88s 2s/step - loss: 0.0836 - accuracy: 0.9735 - val_loss: 0.0493 - val_accuracy: 0.9826\n",
            "Epoch 24/100\n",
            "58/58 [==============================] - 88s 2s/step - loss: 0.0813 - accuracy: 0.9724 - val_loss: 0.0517 - val_accuracy: 0.9848\n",
            "Epoch 25/100\n",
            "58/58 [==============================] - 87s 2s/step - loss: 0.1005 - accuracy: 0.9659 - val_loss: 0.0807 - val_accuracy: 0.9740\n",
            "Epoch 26/100\n",
            "58/58 [==============================] - 87s 1s/step - loss: 0.0783 - accuracy: 0.9740 - val_loss: 0.0449 - val_accuracy: 0.9761\n",
            "Epoch 27/100\n",
            "58/58 [==============================] - 87s 1s/step - loss: 0.0687 - accuracy: 0.9713 - val_loss: 0.0643 - val_accuracy: 0.9675\n",
            "Epoch 28/100\n",
            "58/58 [==============================] - 87s 1s/step - loss: 0.0827 - accuracy: 0.9740 - val_loss: 0.0933 - val_accuracy: 0.9653\n",
            "Epoch 29/100\n",
            "58/58 [==============================] - 86s 1s/step - loss: 0.0830 - accuracy: 0.9691 - val_loss: 0.0382 - val_accuracy: 0.9870\n",
            "Epoch 30/100\n",
            "58/58 [==============================] - 89s 2s/step - loss: 0.0858 - accuracy: 0.9702 - val_loss: 0.0613 - val_accuracy: 0.9740\n",
            "Epoch 31/100\n",
            "58/58 [==============================] - 90s 2s/step - loss: 0.0948 - accuracy: 0.9642 - val_loss: 0.1598 - val_accuracy: 0.9610\n",
            "Epoch 32/100\n",
            "58/58 [==============================] - 90s 2s/step - loss: 0.0998 - accuracy: 0.9626 - val_loss: 0.0354 - val_accuracy: 0.9870\n",
            "Epoch 33/100\n",
            "58/58 [==============================] - 90s 2s/step - loss: 0.0838 - accuracy: 0.9724 - val_loss: 0.0882 - val_accuracy: 0.9566\n",
            "Epoch 34/100\n",
            "58/58 [==============================] - 87s 2s/step - loss: 0.0723 - accuracy: 0.9756 - val_loss: 0.0499 - val_accuracy: 0.9805\n",
            "Epoch 35/100\n",
            "58/58 [==============================] - 86s 1s/step - loss: 0.0796 - accuracy: 0.9735 - val_loss: 0.0610 - val_accuracy: 0.9805\n",
            "Epoch 36/100\n",
            "58/58 [==============================] - 85s 1s/step - loss: 0.0825 - accuracy: 0.9702 - val_loss: 0.1880 - val_accuracy: 0.9284\n",
            "Epoch 37/100\n",
            "58/58 [==============================] - 85s 1s/step - loss: 0.0792 - accuracy: 0.9713 - val_loss: 0.0510 - val_accuracy: 0.9805\n",
            "Epoch 38/100\n",
            "58/58 [==============================] - 85s 1s/step - loss: 0.0571 - accuracy: 0.9772 - val_loss: 0.0455 - val_accuracy: 0.9870\n",
            "Epoch 39/100\n",
            "58/58 [==============================] - 85s 1s/step - loss: 0.0612 - accuracy: 0.9778 - val_loss: 0.0758 - val_accuracy: 0.9631\n",
            "Epoch 40/100\n",
            "58/58 [==============================] - 85s 1s/step - loss: 0.0545 - accuracy: 0.9827 - val_loss: 0.0484 - val_accuracy: 0.9892\n",
            "Epoch 41/100\n",
            "58/58 [==============================] - 85s 1s/step - loss: 0.0485 - accuracy: 0.9848 - val_loss: 0.0569 - val_accuracy: 0.9783\n",
            "Epoch 42/100\n",
            "58/58 [==============================] - 85s 1s/step - loss: 0.0662 - accuracy: 0.9772 - val_loss: 0.0343 - val_accuracy: 0.9913\n",
            "Epoch 43/100\n",
            "58/58 [==============================] - 84s 1s/step - loss: 0.0647 - accuracy: 0.9789 - val_loss: 0.0452 - val_accuracy: 0.9826\n",
            "Epoch 44/100\n",
            "58/58 [==============================] - 84s 1s/step - loss: 0.0616 - accuracy: 0.9794 - val_loss: 0.0390 - val_accuracy: 0.9892\n",
            "Epoch 45/100\n",
            "58/58 [==============================] - 85s 1s/step - loss: 0.0568 - accuracy: 0.9783 - val_loss: 0.0393 - val_accuracy: 0.9892\n",
            "Epoch 46/100\n",
            "58/58 [==============================] - 85s 1s/step - loss: 0.0452 - accuracy: 0.9875 - val_loss: 0.0766 - val_accuracy: 0.9675\n",
            "Epoch 47/100\n",
            "58/58 [==============================] - 85s 1s/step - loss: 0.0453 - accuracy: 0.9837 - val_loss: 0.0523 - val_accuracy: 0.9848\n",
            "Epoch 48/100\n",
            "58/58 [==============================] - 85s 1s/step - loss: 0.0603 - accuracy: 0.9794 - val_loss: 0.0398 - val_accuracy: 0.9870\n",
            "Epoch 49/100\n",
            "58/58 [==============================] - 85s 1s/step - loss: 0.0502 - accuracy: 0.9821 - val_loss: 0.0595 - val_accuracy: 0.9740\n",
            "Epoch 50/100\n",
            "58/58 [==============================] - 85s 1s/step - loss: 0.0534 - accuracy: 0.9827 - val_loss: 0.0393 - val_accuracy: 0.9935\n",
            "Epoch 51/100\n",
            "58/58 [==============================] - 85s 1s/step - loss: 0.0493 - accuracy: 0.9848 - val_loss: 0.0617 - val_accuracy: 0.9718\n",
            "Epoch 52/100\n",
            "58/58 [==============================] - 85s 1s/step - loss: 0.0512 - accuracy: 0.9794 - val_loss: 0.0340 - val_accuracy: 0.9870\n",
            "Epoch 53/100\n",
            "58/58 [==============================] - 86s 1s/step - loss: 0.0689 - accuracy: 0.9772 - val_loss: 0.0476 - val_accuracy: 0.9783\n",
            "Epoch 54/100\n",
            "58/58 [==============================] - 86s 1s/step - loss: 0.0424 - accuracy: 0.9837 - val_loss: 0.0407 - val_accuracy: 0.9870\n",
            "Epoch 55/100\n",
            "58/58 [==============================] - 85s 1s/step - loss: 0.0481 - accuracy: 0.9837 - val_loss: 0.0381 - val_accuracy: 0.9870\n",
            "Epoch 56/100\n",
            "58/58 [==============================] - 88s 2s/step - loss: 0.0362 - accuracy: 0.9902 - val_loss: 0.0353 - val_accuracy: 0.9870\n",
            "Epoch 57/100\n",
            "58/58 [==============================] - 87s 2s/step - loss: 0.0537 - accuracy: 0.9832 - val_loss: 0.0356 - val_accuracy: 0.9913\n",
            "Epoch 58/100\n",
            "58/58 [==============================] - 88s 2s/step - loss: 0.0586 - accuracy: 0.9837 - val_loss: 0.0432 - val_accuracy: 0.9826\n",
            "Epoch 59/100\n",
            "58/58 [==============================] - 87s 1s/step - loss: 0.0472 - accuracy: 0.9832 - val_loss: 0.0552 - val_accuracy: 0.9805\n",
            "Epoch 60/100\n",
            "58/58 [==============================] - 87s 2s/step - loss: 0.0356 - accuracy: 0.9897 - val_loss: 0.0336 - val_accuracy: 0.9913\n",
            "Epoch 61/100\n",
            "58/58 [==============================] - 87s 2s/step - loss: 0.0427 - accuracy: 0.9859 - val_loss: 0.0618 - val_accuracy: 0.9761\n",
            "Epoch 62/100\n",
            "58/58 [==============================] - 89s 2s/step - loss: 0.0494 - accuracy: 0.9870 - val_loss: 0.0469 - val_accuracy: 0.9892\n",
            "Epoch 63/100\n",
            "58/58 [==============================] - 88s 2s/step - loss: 0.0367 - accuracy: 0.9870 - val_loss: 0.0438 - val_accuracy: 0.9848\n",
            "Epoch 64/100\n",
            "58/58 [==============================] - 88s 2s/step - loss: 0.0546 - accuracy: 0.9865 - val_loss: 0.0544 - val_accuracy: 0.9805\n",
            "Epoch 65/100\n",
            "58/58 [==============================] - 87s 2s/step - loss: 0.0435 - accuracy: 0.9843 - val_loss: 0.1238 - val_accuracy: 0.9523\n",
            "Epoch 66/100\n",
            "58/58 [==============================] - 88s 2s/step - loss: 0.0609 - accuracy: 0.9762 - val_loss: 0.0427 - val_accuracy: 0.9913\n",
            "Epoch 67/100\n",
            "58/58 [==============================] - 88s 2s/step - loss: 0.0436 - accuracy: 0.9859 - val_loss: 0.0412 - val_accuracy: 0.9913\n",
            "Epoch 68/100\n",
            "58/58 [==============================] - 87s 2s/step - loss: 0.0467 - accuracy: 0.9832 - val_loss: 0.0492 - val_accuracy: 0.9826\n",
            "Epoch 69/100\n",
            "58/58 [==============================] - 87s 2s/step - loss: 0.0473 - accuracy: 0.9859 - val_loss: 0.0502 - val_accuracy: 0.9870\n",
            "Epoch 70/100\n",
            "58/58 [==============================] - 88s 2s/step - loss: 0.0480 - accuracy: 0.9854 - val_loss: 0.0781 - val_accuracy: 0.9631\n",
            "Epoch 71/100\n",
            "58/58 [==============================] - 88s 2s/step - loss: 0.0387 - accuracy: 0.9859 - val_loss: 0.0569 - val_accuracy: 0.9783\n",
            "Epoch 72/100\n",
            "58/58 [==============================] - 88s 2s/step - loss: 0.0455 - accuracy: 0.9854 - val_loss: 0.0662 - val_accuracy: 0.9740\n",
            "Epoch 73/100\n",
            "58/58 [==============================] - 86s 1s/step - loss: 0.0389 - accuracy: 0.9870 - val_loss: 0.0498 - val_accuracy: 0.9826\n",
            "Epoch 74/100\n",
            "58/58 [==============================] - 88s 2s/step - loss: 0.0356 - accuracy: 0.9854 - val_loss: 0.0628 - val_accuracy: 0.9870\n",
            "Epoch 75/100\n",
            "58/58 [==============================] - 88s 2s/step - loss: 0.0655 - accuracy: 0.9794 - val_loss: 0.0443 - val_accuracy: 0.9870\n",
            "Epoch 76/100\n",
            "58/58 [==============================] - 87s 2s/step - loss: 0.0440 - accuracy: 0.9832 - val_loss: 0.1660 - val_accuracy: 0.9436\n",
            "Epoch 77/100\n",
            "58/58 [==============================] - 88s 2s/step - loss: 0.0442 - accuracy: 0.9832 - val_loss: 0.0505 - val_accuracy: 0.9848\n",
            "Epoch 78/100\n",
            "58/58 [==============================] - 87s 1s/step - loss: 0.0389 - accuracy: 0.9859 - val_loss: 0.0360 - val_accuracy: 0.9826\n",
            "Epoch 79/100\n",
            "58/58 [==============================] - 85s 1s/step - loss: 0.0291 - accuracy: 0.9897 - val_loss: 0.0386 - val_accuracy: 0.9892\n",
            "Epoch 80/100\n",
            "58/58 [==============================] - 85s 1s/step - loss: 0.0362 - accuracy: 0.9870 - val_loss: 0.0377 - val_accuracy: 0.9870\n",
            "Epoch 81/100\n",
            "58/58 [==============================] - 85s 1s/step - loss: 0.0417 - accuracy: 0.9843 - val_loss: 0.0425 - val_accuracy: 0.9848\n",
            "Epoch 82/100\n",
            "58/58 [==============================] - 85s 1s/step - loss: 0.0391 - accuracy: 0.9865 - val_loss: 0.0494 - val_accuracy: 0.9913\n",
            "Epoch 83/100\n",
            "58/58 [==============================] - 85s 1s/step - loss: 0.0430 - accuracy: 0.9837 - val_loss: 0.0517 - val_accuracy: 0.9848\n",
            "Epoch 84/100\n",
            "58/58 [==============================] - 85s 1s/step - loss: 0.0335 - accuracy: 0.9859 - val_loss: 0.0508 - val_accuracy: 0.9783\n",
            "Epoch 85/100\n",
            "58/58 [==============================] - 85s 1s/step - loss: 0.0436 - accuracy: 0.9827 - val_loss: 0.0750 - val_accuracy: 0.9718\n",
            "Epoch 86/100\n",
            "58/58 [==============================] - 85s 1s/step - loss: 0.0368 - accuracy: 0.9870 - val_loss: 0.1225 - val_accuracy: 0.9566\n",
            "Epoch 87/100\n",
            "58/58 [==============================] - 85s 1s/step - loss: 0.0271 - accuracy: 0.9919 - val_loss: 0.1419 - val_accuracy: 0.9566\n",
            "Epoch 88/100\n",
            "58/58 [==============================] - 88s 2s/step - loss: 0.0409 - accuracy: 0.9859 - val_loss: 0.0789 - val_accuracy: 0.9783\n",
            "Epoch 89/100\n",
            "58/58 [==============================] - 88s 2s/step - loss: 0.0254 - accuracy: 0.9930 - val_loss: 0.1088 - val_accuracy: 0.9653\n",
            "Epoch 90/100\n",
            "58/58 [==============================] - 88s 2s/step - loss: 0.0501 - accuracy: 0.9832 - val_loss: 0.0937 - val_accuracy: 0.9653\n",
            "Epoch 91/100\n",
            "58/58 [==============================] - 88s 2s/step - loss: 0.0502 - accuracy: 0.9832 - val_loss: 0.0433 - val_accuracy: 0.9848\n",
            "Epoch 92/100\n",
            "58/58 [==============================] - 87s 2s/step - loss: 0.0329 - accuracy: 0.9854 - val_loss: 0.0679 - val_accuracy: 0.9740\n",
            "Epoch 93/100\n",
            "58/58 [==============================] - 88s 2s/step - loss: 0.0418 - accuracy: 0.9848 - val_loss: 0.0668 - val_accuracy: 0.9740\n",
            "Epoch 94/100\n",
            "58/58 [==============================] - 88s 2s/step - loss: 0.0278 - accuracy: 0.9908 - val_loss: 0.0357 - val_accuracy: 0.9913\n",
            "Epoch 95/100\n",
            "58/58 [==============================] - 88s 2s/step - loss: 0.0276 - accuracy: 0.9919 - val_loss: 0.0423 - val_accuracy: 0.9913\n",
            "Epoch 96/100\n",
            "58/58 [==============================] - 88s 2s/step - loss: 0.0374 - accuracy: 0.9875 - val_loss: 0.0336 - val_accuracy: 0.9935\n",
            "Epoch 97/100\n",
            "58/58 [==============================] - 88s 2s/step - loss: 0.0253 - accuracy: 0.9930 - val_loss: 0.0566 - val_accuracy: 0.9783\n",
            "Epoch 98/100\n",
            "58/58 [==============================] - 88s 2s/step - loss: 0.0417 - accuracy: 0.9870 - val_loss: 0.0309 - val_accuracy: 0.9935\n",
            "Epoch 99/100\n",
            "58/58 [==============================] - 87s 2s/step - loss: 0.0256 - accuracy: 0.9924 - val_loss: 0.0407 - val_accuracy: 0.9848\n",
            "Epoch 100/100\n",
            "58/58 [==============================] - 87s 2s/step - loss: 0.0319 - accuracy: 0.9930 - val_loss: 0.0369 - val_accuracy: 0.9870\n"
          ],
          "name": "stdout"
        },
        {
          "output_type": "display_data",
          "data": {
            "image/png": "[encoded data removed]",
            "text/plain": [
              "<Figure size 432x288 with 1 Axes>"
            ]
          },
          "metadata": {
            "tags": [],
            "needs_background": "light"
          }
        },
        {
          "output_type": "display_data",
          "data": {
            "image/png": "[encoded data removed]",
            "text/plain": [
              "<Figure size 432x288 with 1 Axes>"
            ]
          },
          "metadata": {
            "tags": [],
            "needs_background": "light"
          }
        },
        {
          "output_type": "stream",
          "text": [
            "Found 139 images belonging to 2 classes.\n",
            "WARNING:tensorflow:From <ipython-input-7-b1817f6b73e9>:23: Model.predict_generator (from tensorflow.python.keras.engine.training) is deprecated and will be removed in a future version.\n",
            "Instructions for updating:\n",
            "Please use Model.predict, which supports generators.\n",
            "5/5 [==============================] - 24s 5s/step\n"
          ],
          "name": "stdout"
        },
        {
          "output_type": "stream",
          "text": [
            "No handles with labels found to put in legend.\n"
          ],
          "name": "stderr"
        },
        {
          "output_type": "stream",
          "text": [
            "\n",
            "Confusion Matrix\n",
            " -------------------------\n",
            "[[69  1]\n",
            " [ 2 67]]\n",
            "Accuracy: 0.978417\n",
            "Precision: 0.985294\n",
            "Recall: 0.971014\n",
            "F1 score: 0.978102\n",
            "ROC AUC: 0.993996\n"
          ],
          "name": "stdout"
        },
        {
          "output_type": "display_data",
          "data": {
            "image/png": "[encoded data removed]",
            "text/plain": [
              "<Figure size 432x288 with 1 Axes>"
            ]
          },
          "metadata": {
            "tags": [],
            "needs_background": "light"
          }
        },
        {
          "output_type": "error",
          "ename": "NameError",
          "evalue": "ignored",
          "traceback": [
            "\u001b[0;31m---------------------------------------------------------------------------\u001b[0m",
            "\u001b[0;31mNameError\u001b[0m                                 Traceback (most recent call last)",
            "\u001b[0;32m<ipython-input-8-4975d15feae4>\u001b[0m in \u001b[0;36m<module>\u001b[0;34m()\u001b[0m\n\u001b[0;32m----> 1\u001b[0;31m \u001b[0mget_ipython\u001b[0m\u001b[0;34m(\u001b[0m\u001b[0;34m)\u001b[0m\u001b[0;34m.\u001b[0m\u001b[0mrun_cell_magic\u001b[0m\u001b[0;34m(\u001b[0m\u001b[0;34m'time'\u001b[0m\u001b[0;34m,\u001b[0m \u001b[0;34m''\u001b[0m\u001b[0;34m,\u001b[0m \u001b[0;34m'# main entry\\n    \\nmodel = Build_CNN_Model()\\nTrain_CNN_Model(model)\\nEvaluate_CNN_Model()'\u001b[0m\u001b[0;34m)\u001b[0m\u001b[0;34m\u001b[0m\u001b[0;34m\u001b[0m\u001b[0m\n\u001b[0m",
            "\u001b[0;32m/usr/local/lib/python3.6/dist-packages/IPython/core/interactiveshell.py\u001b[0m in \u001b[0;36mrun_cell_magic\u001b[0;34m(self, magic_name, line, cell)\u001b[0m\n\u001b[1;32m   2115\u001b[0m             \u001b[0mmagic_arg_s\u001b[0m \u001b[0;34m=\u001b[0m \u001b[0mself\u001b[0m\u001b[0;34m.\u001b[0m\u001b[0mvar_expand\u001b[0m\u001b[0;34m(\u001b[0m\u001b[0mline\u001b[0m\u001b[0;34m,\u001b[0m \u001b[0mstack_depth\u001b[0m\u001b[0;34m)\u001b[0m\u001b[0;34m\u001b[0m\u001b[0;34m\u001b[0m\u001b[0m\n\u001b[1;32m   2116\u001b[0m             \u001b[0;32mwith\u001b[0m \u001b[0mself\u001b[0m\u001b[0;34m.\u001b[0m\u001b[0mbuiltin_trap\u001b[0m\u001b[0;34m:\u001b[0m\u001b[0;34m\u001b[0m\u001b[0;34m\u001b[0m\u001b[0m\n\u001b[0;32m-> 2117\u001b[0;31m                 \u001b[0mresult\u001b[0m \u001b[0;34m=\u001b[0m \u001b[0mfn\u001b[0m\u001b[0;34m(\u001b[0m\u001b[0mmagic_arg_s\u001b[0m\u001b[0;34m,\u001b[0m \u001b[0mcell\u001b[0m\u001b[0;34m)\u001b[0m\u001b[0;34m\u001b[0m\u001b[0;34m\u001b[0m\u001b[0m\n\u001b[0m\u001b[1;32m   2118\u001b[0m             \u001b[0;32mreturn\u001b[0m \u001b[0mresult\u001b[0m\u001b[0;34m\u001b[0m\u001b[0;34m\u001b[0m\u001b[0m\n\u001b[1;32m   2119\u001b[0m \u001b[0;34m\u001b[0m\u001b[0m\n",
            "\u001b[0;32m<decorator-gen-60>\u001b[0m in \u001b[0;36mtime\u001b[0;34m(self, line, cell, local_ns)\u001b[0m\n",
            "\u001b[0;32m/usr/local/lib/python3.6/dist-packages/IPython/core/magic.py\u001b[0m in \u001b[0;36m<lambda>\u001b[0;34m(f, *a, **k)\u001b[0m\n\u001b[1;32m    186\u001b[0m     \u001b[0;31m# but it's overkill for just that one bit of state.\u001b[0m\u001b[0;34m\u001b[0m\u001b[0;34m\u001b[0m\u001b[0;34m\u001b[0m\u001b[0m\n\u001b[1;32m    187\u001b[0m     \u001b[0;32mdef\u001b[0m \u001b[0mmagic_deco\u001b[0m\u001b[0;34m(\u001b[0m\u001b[0marg\u001b[0m\u001b[0;34m)\u001b[0m\u001b[0;34m:\u001b[0m\u001b[0;34m\u001b[0m\u001b[0;34m\u001b[0m\u001b[0m\n\u001b[0;32m--> 188\u001b[0;31m         \u001b[0mcall\u001b[0m \u001b[0;34m=\u001b[0m \u001b[0;32mlambda\u001b[0m \u001b[0mf\u001b[0m\u001b[0;34m,\u001b[0m \u001b[0;34m*\u001b[0m\u001b[0ma\u001b[0m\u001b[0;34m,\u001b[0m \u001b[0;34m**\u001b[0m\u001b[0mk\u001b[0m\u001b[0;34m:\u001b[0m \u001b[0mf\u001b[0m\u001b[0;34m(\u001b[0m\u001b[0;34m*\u001b[0m\u001b[0ma\u001b[0m\u001b[0;34m,\u001b[0m \u001b[0;34m**\u001b[0m\u001b[0mk\u001b[0m\u001b[0;34m)\u001b[0m\u001b[0;34m\u001b[0m\u001b[0;34m\u001b[0m\u001b[0m\n\u001b[0m\u001b[1;32m    189\u001b[0m \u001b[0;34m\u001b[0m\u001b[0m\n\u001b[1;32m    190\u001b[0m         \u001b[0;32mif\u001b[0m \u001b[0mcallable\u001b[0m\u001b[0;34m(\u001b[0m\u001b[0marg\u001b[0m\u001b[0;34m)\u001b[0m\u001b[0;34m:\u001b[0m\u001b[0;34m\u001b[0m\u001b[0;34m\u001b[0m\u001b[0m\n",
            "\u001b[0;32m/usr/local/lib/python3.6/dist-packages/IPython/core/magics/execution.py\u001b[0m in \u001b[0;36mtime\u001b[0;34m(self, line, cell, local_ns)\u001b[0m\n\u001b[1;32m   1191\u001b[0m         \u001b[0;32melse\u001b[0m\u001b[0;34m:\u001b[0m\u001b[0;34m\u001b[0m\u001b[0;34m\u001b[0m\u001b[0m\n\u001b[1;32m   1192\u001b[0m             \u001b[0mst\u001b[0m \u001b[0;34m=\u001b[0m \u001b[0mclock2\u001b[0m\u001b[0;34m(\u001b[0m\u001b[0;34m)\u001b[0m\u001b[0;34m\u001b[0m\u001b[0;34m\u001b[0m\u001b[0m\n\u001b[0;32m-> 1193\u001b[0;31m             \u001b[0mexec\u001b[0m\u001b[0;34m(\u001b[0m\u001b[0mcode\u001b[0m\u001b[0;34m,\u001b[0m \u001b[0mglob\u001b[0m\u001b[0;34m,\u001b[0m \u001b[0mlocal_ns\u001b[0m\u001b[0;34m)\u001b[0m\u001b[0;34m\u001b[0m\u001b[0;34m\u001b[0m\u001b[0m\n\u001b[0m\u001b[1;32m   1194\u001b[0m             \u001b[0mend\u001b[0m \u001b[0;34m=\u001b[0m \u001b[0mclock2\u001b[0m\u001b[0;34m(\u001b[0m\u001b[0;34m)\u001b[0m\u001b[0;34m\u001b[0m\u001b[0;34m\u001b[0m\u001b[0m\n\u001b[1;32m   1195\u001b[0m             \u001b[0mout\u001b[0m \u001b[0;34m=\u001b[0m \u001b[0;32mNone\u001b[0m\u001b[0;34m\u001b[0m\u001b[0;34m\u001b[0m\u001b[0m\n",
            "\u001b[0;32m<timed exec>\u001b[0m in \u001b[0;36m<module>\u001b[0;34m()\u001b[0m\n",
            "\u001b[0;32m<ipython-input-7-b1817f6b73e9>\u001b[0m in \u001b[0;36mEvaluate_CNN_Model\u001b[0;34m()\u001b[0m\n\u001b[1;32m     93\u001b[0m \u001b[0;34m\u001b[0m\u001b[0m\n\u001b[1;32m     94\u001b[0m     \u001b[0mthresh\u001b[0m \u001b[0;34m=\u001b[0m \u001b[0mcm\u001b[0m\u001b[0;34m.\u001b[0m\u001b[0mmax\u001b[0m\u001b[0;34m(\u001b[0m\u001b[0;34m)\u001b[0m \u001b[0;34m/\u001b[0m \u001b[0;36m2.\u001b[0m\u001b[0;34m\u001b[0m\u001b[0;34m\u001b[0m\u001b[0m\n\u001b[0;32m---> 95\u001b[0;31m     \u001b[0;32mfor\u001b[0m \u001b[0mi\u001b[0m\u001b[0;34m,\u001b[0m \u001b[0mj\u001b[0m \u001b[0;32min\u001b[0m \u001b[0mitertools\u001b[0m\u001b[0;34m.\u001b[0m\u001b[0mproduct\u001b[0m\u001b[0;34m(\u001b[0m\u001b[0mrange\u001b[0m\u001b[0;34m(\u001b[0m\u001b[0mcm\u001b[0m\u001b[0;34m.\u001b[0m\u001b[0mshape\u001b[0m\u001b[0;34m[\u001b[0m\u001b[0;36m0\u001b[0m\u001b[0;34m]\u001b[0m\u001b[0;34m)\u001b[0m\u001b[0;34m,\u001b[0m \u001b[0mrange\u001b[0m\u001b[0;34m(\u001b[0m\u001b[0mcm\u001b[0m\u001b[0;34m.\u001b[0m\u001b[0mshape\u001b[0m\u001b[0;34m[\u001b[0m\u001b[0;36m1\u001b[0m\u001b[0;34m]\u001b[0m\u001b[0;34m)\u001b[0m\u001b[0;34m)\u001b[0m\u001b[0;34m:\u001b[0m\u001b[0;34m\u001b[0m\u001b[0;34m\u001b[0m\u001b[0m\n\u001b[0m\u001b[1;32m     96\u001b[0m         plt.text(j, i, cm[i, j],\n\u001b[1;32m     97\u001b[0m             \u001b[0mhorizontalalignment\u001b[0m\u001b[0;34m=\u001b[0m\u001b[0;34m\"center\"\u001b[0m\u001b[0;34m,\u001b[0m\u001b[0;34m\u001b[0m\u001b[0;34m\u001b[0m\u001b[0m\n",
            "\u001b[0;31mNameError\u001b[0m: name 'itertools' is not defined"
          ]
        }
      ]
    },
    {
      "cell_type": "code",
      "metadata": {
        "id": "Ce1MKgyI2p5Z"
      },
      "source": [
        ""
      ],
      "execution_count": null,
      "outputs": []
    },
    {
      "cell_type": "code",
      "metadata": {
        "colab": {
          "base_uri": "https://localhost:8080/",
          "height": 923
        },
        "id": "aI9ZZCkx2pe8",
        "outputId": "9b4f65e1-8a55-4a4d-8dc4-10f9dd86c404"
      },
      "source": [
        "Evaluate_CNN_Model()"
      ],
      "execution_count": 10,
      "outputs": [
        {
          "output_type": "stream",
          "text": [
            "Found 139 images belonging to 2 classes.\n"
          ],
          "name": "stdout"
        },
        {
          "output_type": "stream",
          "text": [
            "/usr/local/lib/python3.6/dist-packages/keras_preprocessing/image/image_data_generator.py:720: UserWarning: This ImageDataGenerator specifies `featurewise_center`, but it hasn't been fit on any training data. Fit it first by calling `.fit(numpy_data)`.\n",
            "  warnings.warn('This ImageDataGenerator specifies '\n",
            "/usr/local/lib/python3.6/dist-packages/keras_preprocessing/image/image_data_generator.py:728: UserWarning: This ImageDataGenerator specifies `featurewise_std_normalization`, but it hasn't been fit on any training data. Fit it first by calling `.fit(numpy_data)`.\n",
            "  warnings.warn('This ImageDataGenerator specifies '\n"
          ],
          "name": "stderr"
        },
        {
          "output_type": "stream",
          "text": [
            "5/5 [==============================] - 2s 401ms/step\n"
          ],
          "name": "stdout"
        },
        {
          "output_type": "stream",
          "text": [
            "No handles with labels found to put in legend.\n"
          ],
          "name": "stderr"
        },
        {
          "output_type": "stream",
          "text": [
            "\n",
            "Confusion Matrix\n",
            " -------------------------\n",
            "[[69  1]\n",
            " [ 2 67]]\n",
            "Accuracy: 0.978417\n",
            "Precision: 0.985294\n",
            "Recall: 0.971014\n",
            "F1 score: 0.978102\n",
            "ROC AUC: 0.993996\n"
          ],
          "name": "stdout"
        },
        {
          "output_type": "display_data",
          "data": {
            "image/png": "[encoded data removed]",
            "text/plain": [
              "<Figure size 432x288 with 1 Axes>"
            ]
          },
          "metadata": {
            "tags": [],
            "needs_background": "light"
          }
        },
        {
          "output_type": "display_data",
          "data": {
            "image/png": "[encoded data removed]",
            "text/plain": [
              "<Figure size 432x288 with 2 Axes>"
            ]
          },
          "metadata": {
            "tags": [],
            "needs_background": "light"
          }
        }
      ]
    }
  ]
}