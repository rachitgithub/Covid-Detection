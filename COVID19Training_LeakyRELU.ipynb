{
  "nbformat": 4,
  "nbformat_minor": 0,
  "metadata": {
    "colab": {
      "name": "COVID19Training_LeakyRELU.ipynb",
      "provenance": [],
      "collapsed_sections": [],
      "toc_visible": true,
      "include_colab_link": true
    },
    "kernelspec": {
      "name": "python3",
      "display_name": "Python 3"
    },
    "accelerator": "GPU"
  },
  "cells": [
    {
      "cell_type": "markdown",
      "metadata": {
        "id": "view-in-github",
        "colab_type": "text"
      },
      "source": [
        "<a href=\"https://colab.research.google.com/github/rachitgithub/Covid-Detection/blob/main/COVID19Training_LeakyRELU.ipynb\" target=\"_parent\"><img src=\"https://colab.research.google.com/assets/colab-badge.svg\" alt=\"Open In Colab\"/></a>"
      ]
    },
    {
      "cell_type": "markdown",
      "metadata": {
        "id": "-gyKOi8EPITT"
      },
      "source": [
        "# **Install TensorFlow GPU**"
      ]
    },
    {
      "cell_type": "code",
      "metadata": {
        "colab": {
          "base_uri": "https://localhost:8080/"
        },
        "id": "UboFrn87qNVe",
        "outputId": "301ca925-289f-4602-8aae-f3f19856b776"
      },
      "source": [
        "!pip install tensorflow-gpu"
      ],
      "execution_count": null,
      "outputs": [
        {
          "output_type": "stream",
          "text": [
            "Collecting tensorflow-gpu\n",
            "\u001b[?25l  Downloading https://files.pythonhosted.org/packages/18/99/ac32fd13d56e40d4c3e6150030132519997c0bb1f06f448d970e81b177e5/tensorflow_gpu-2.3.1-cp36-cp36m-manylinux2010_x86_64.whl (320.4MB)\n",
            "\u001b[K     |████████████████████████████████| 320.4MB 50kB/s \n",
            "\u001b[?25hRequirement already satisfied: wheel>=0.26 in /usr/local/lib/python3.6/dist-packages (from tensorflow-gpu) (0.35.1)\n",
            "Requirement already satisfied: tensorboard<3,>=2.3.0 in /usr/local/lib/python3.6/dist-packages (from tensorflow-gpu) (2.3.0)\n",
            "Requirement already satisfied: wrapt>=1.11.1 in /usr/local/lib/python3.6/dist-packages (from tensorflow-gpu) (1.12.1)\n",
            "Requirement already satisfied: keras-preprocessing<1.2,>=1.1.1 in /usr/local/lib/python3.6/dist-packages (from tensorflow-gpu) (1.1.2)\n",
            "Requirement already satisfied: absl-py>=0.7.0 in /usr/local/lib/python3.6/dist-packages (from tensorflow-gpu) (0.10.0)\n",
            "Requirement already satisfied: protobuf>=3.9.2 in /usr/local/lib/python3.6/dist-packages (from tensorflow-gpu) (3.12.4)\n",
            "Requirement already satisfied: h5py<2.11.0,>=2.10.0 in /usr/local/lib/python3.6/dist-packages (from tensorflow-gpu) (2.10.0)\n",
            "Requirement already satisfied: google-pasta>=0.1.8 in /usr/local/lib/python3.6/dist-packages (from tensorflow-gpu) (0.2.0)\n",
            "Requirement already satisfied: termcolor>=1.1.0 in /usr/local/lib/python3.6/dist-packages (from tensorflow-gpu) (1.1.0)\n",
            "Requirement already satisfied: astunparse==1.6.3 in /usr/local/lib/python3.6/dist-packages (from tensorflow-gpu) (1.6.3)\n",
            "Requirement already satisfied: six>=1.12.0 in /usr/local/lib/python3.6/dist-packages (from tensorflow-gpu) (1.15.0)\n",
            "Requirement already satisfied: tensorflow-estimator<2.4.0,>=2.3.0 in /usr/local/lib/python3.6/dist-packages (from tensorflow-gpu) (2.3.0)\n",
            "Requirement already satisfied: opt-einsum>=2.3.2 in /usr/local/lib/python3.6/dist-packages (from tensorflow-gpu) (3.3.0)\n",
            "Requirement already satisfied: grpcio>=1.8.6 in /usr/local/lib/python3.6/dist-packages (from tensorflow-gpu) (1.33.2)\n",
            "Requirement already satisfied: gast==0.3.3 in /usr/local/lib/python3.6/dist-packages (from tensorflow-gpu) (0.3.3)\n",
            "Requirement already satisfied: numpy<1.19.0,>=1.16.0 in /usr/local/lib/python3.6/dist-packages (from tensorflow-gpu) (1.18.5)\n",
            "Requirement already satisfied: setuptools>=41.0.0 in /usr/local/lib/python3.6/dist-packages (from tensorboard<3,>=2.3.0->tensorflow-gpu) (50.3.2)\n",
            "Requirement already satisfied: tensorboard-plugin-wit>=1.6.0 in /usr/local/lib/python3.6/dist-packages (from tensorboard<3,>=2.3.0->tensorflow-gpu) (1.7.0)\n",
            "Requirement already satisfied: markdown>=2.6.8 in /usr/local/lib/python3.6/dist-packages (from tensorboard<3,>=2.3.0->tensorflow-gpu) (3.3.3)\n",
            "Requirement already satisfied: werkzeug>=0.11.15 in /usr/local/lib/python3.6/dist-packages (from tensorboard<3,>=2.3.0->tensorflow-gpu) (1.0.1)\n",
            "Requirement already satisfied: google-auth<2,>=1.6.3 in /usr/local/lib/python3.6/dist-packages (from tensorboard<3,>=2.3.0->tensorflow-gpu) (1.17.2)\n",
            "Requirement already satisfied: google-auth-oauthlib<0.5,>=0.4.1 in /usr/local/lib/python3.6/dist-packages (from tensorboard<3,>=2.3.0->tensorflow-gpu) (0.4.2)\n",
            "Requirement already satisfied: requests<3,>=2.21.0 in /usr/local/lib/python3.6/dist-packages (from tensorboard<3,>=2.3.0->tensorflow-gpu) (2.23.0)\n",
            "Requirement already satisfied: importlib-metadata; python_version < \"3.8\" in /usr/local/lib/python3.6/dist-packages (from markdown>=2.6.8->tensorboard<3,>=2.3.0->tensorflow-gpu) (2.0.0)\n",
            "Requirement already satisfied: pyasn1-modules>=0.2.1 in /usr/local/lib/python3.6/dist-packages (from google-auth<2,>=1.6.3->tensorboard<3,>=2.3.0->tensorflow-gpu) (0.2.8)\n",
            "Requirement already satisfied: cachetools<5.0,>=2.0.0 in /usr/local/lib/python3.6/dist-packages (from google-auth<2,>=1.6.3->tensorboard<3,>=2.3.0->tensorflow-gpu) (4.1.1)\n",
            "Requirement already satisfied: rsa<5,>=3.1.4; python_version >= \"3\" in /usr/local/lib/python3.6/dist-packages (from google-auth<2,>=1.6.3->tensorboard<3,>=2.3.0->tensorflow-gpu) (4.6)\n",
            "Requirement already satisfied: requests-oauthlib>=0.7.0 in /usr/local/lib/python3.6/dist-packages (from google-auth-oauthlib<0.5,>=0.4.1->tensorboard<3,>=2.3.0->tensorflow-gpu) (1.3.0)\n",
            "Requirement already satisfied: urllib3!=1.25.0,!=1.25.1,<1.26,>=1.21.1 in /usr/local/lib/python3.6/dist-packages (from requests<3,>=2.21.0->tensorboard<3,>=2.3.0->tensorflow-gpu) (1.24.3)\n",
            "Requirement already satisfied: certifi>=2017.4.17 in /usr/local/lib/python3.6/dist-packages (from requests<3,>=2.21.0->tensorboard<3,>=2.3.0->tensorflow-gpu) (2020.6.20)\n",
            "Requirement already satisfied: idna<3,>=2.5 in /usr/local/lib/python3.6/dist-packages (from requests<3,>=2.21.0->tensorboard<3,>=2.3.0->tensorflow-gpu) (2.10)\n",
            "Requirement already satisfied: chardet<4,>=3.0.2 in /usr/local/lib/python3.6/dist-packages (from requests<3,>=2.21.0->tensorboard<3,>=2.3.0->tensorflow-gpu) (3.0.4)\n",
            "Requirement already satisfied: zipp>=0.5 in /usr/local/lib/python3.6/dist-packages (from importlib-metadata; python_version < \"3.8\"->markdown>=2.6.8->tensorboard<3,>=2.3.0->tensorflow-gpu) (3.4.0)\n",
            "Requirement already satisfied: pyasn1<0.5.0,>=0.4.6 in /usr/local/lib/python3.6/dist-packages (from pyasn1-modules>=0.2.1->google-auth<2,>=1.6.3->tensorboard<3,>=2.3.0->tensorflow-gpu) (0.4.8)\n",
            "Requirement already satisfied: oauthlib>=3.0.0 in /usr/local/lib/python3.6/dist-packages (from requests-oauthlib>=0.7.0->google-auth-oauthlib<0.5,>=0.4.1->tensorboard<3,>=2.3.0->tensorflow-gpu) (3.1.0)\n",
            "Installing collected packages: tensorflow-gpu\n",
            "Successfully installed tensorflow-gpu-2.3.1\n"
          ],
          "name": "stdout"
        }
      ]
    },
    {
      "cell_type": "markdown",
      "metadata": {
        "id": "FLc0x1XRPPVm"
      },
      "source": [
        "# **Import GDRIVE**"
      ]
    },
    {
      "cell_type": "code",
      "metadata": {
        "colab": {
          "base_uri": "https://localhost:8080/"
        },
        "id": "2SXklTJgqQyV",
        "outputId": "03a83963-23aa-45e9-8c68-06e06c9129f9"
      },
      "source": [
        "from google.colab import drive\n",
        "drive.mount('/content/drive')"
      ],
      "execution_count": 3,
      "outputs": [
        {
          "output_type": "stream",
          "text": [
            "Mounted at /content/drive\n"
          ],
          "name": "stdout"
        }
      ]
    },
    {
      "cell_type": "markdown",
      "metadata": {
        "id": "M55jhmwBPTGp"
      },
      "source": [
        "# **Import Tensor Flow**"
      ]
    },
    {
      "cell_type": "code",
      "metadata": {
        "colab": {
          "base_uri": "https://localhost:8080/"
        },
        "id": "yPOllQPgqUky",
        "outputId": "e4788b3d-fefa-4941-92be-e142cf9a527c"
      },
      "source": [
        "import tensorflow as tf\n",
        "tf.test.gpu_device_name()\n",
        "print(tf.__version__)"
      ],
      "execution_count": 4,
      "outputs": [
        {
          "output_type": "stream",
          "text": [
            "2.3.0\n"
          ],
          "name": "stdout"
        }
      ]
    },
    {
      "cell_type": "markdown",
      "metadata": {
        "id": "qf3UaO-sPXkz"
      },
      "source": [
        "# **Import Keras Libraries**"
      ]
    },
    {
      "cell_type": "code",
      "metadata": {
        "id": "O6d6JctTqdW2"
      },
      "source": [
        "from keras.models import Sequential,load_model\n",
        "from keras.layers import LeakyReLU,Conv2D,Activation, MaxPooling2D,Dense,Flatten\n",
        "from keras.optimizers import Adam\n",
        "from keras.preprocessing.image import ImageDataGenerator\n",
        "from sklearn.metrics import accuracy_score,roc_curve,confusion_matrix,precision_score,recall_score,f1_score,roc_auc_score\n",
        "import matplotlib.pyplot as plt\n",
        "import matplotlib.pyplot as plt_False_Positive_vs_True_Positive"
      ],
      "execution_count": 5,
      "outputs": []
    },
    {
      "cell_type": "markdown",
      "metadata": {
        "id": "BoGghyDrPcMl"
      },
      "source": [
        "# **Build Sequential CNN Model with Leaky RELU**\n"
      ]
    },
    {
      "cell_type": "code",
      "metadata": {
        "id": "NHfmSsyapGlw"
      },
      "source": [
        "def Build_CNN_Model():\n",
        "    \n",
        "    # -------------------------------------------------------------------------\n",
        "    #                        Build CNN Model \n",
        "    # -------------------------------------------------------------------------\n",
        "    model = Sequential()\n",
        "    \n",
        "    #  First Block of CNN\n",
        "    model.add(Conv2D(8, (5, 5), padding='same', input_shape=(224, 224, 3)))  \n",
        "    model.add(LeakyReLU(alpha=0.1))\n",
        "    model.add(MaxPooling2D((2, 2)))\n",
        "    \n",
        "    #  Second Block of CNN\n",
        "    model.add(Conv2D(8, (3, 3),  padding='same'))  \n",
        "    model.add(LeakyReLU(alpha=0.1))\n",
        "    model.add(MaxPooling2D((2, 2)))\n",
        "\n",
        "    #  Third Block of CNN\n",
        "    model.add(Conv2D(16, (3, 3),  padding='same'))  \n",
        "    model.add(LeakyReLU(alpha=0.1))\n",
        "\n",
        "\n",
        "    #  Forth Block of CNN\n",
        "    model.add(Conv2D(16, (3, 3),  padding='same'))  \n",
        "    model.add(LeakyReLU(alpha=0.1))\n",
        "    model.add(MaxPooling2D((2, 2)))\n",
        "\n",
        "    \n",
        "    #  Flatten and Fully Connected Layer\n",
        "    model.add(Flatten())\n",
        "    model.add(Dense(10))\n",
        "    model.add(LeakyReLU(alpha=0.1))\n",
        "     \n",
        "    #  Softmax Classifier\n",
        "    model.add(Dense(2))\n",
        "    model.add(Activation('softmax'))\n",
        "        \n",
        "    #  Display model\n",
        "    model.summary()\n",
        "    \n",
        "\t# compile model\n",
        "\n",
        "    opt = Adam(learning_rate=0.001, beta_1=0.9, beta_2=0.999)\n",
        "    model.compile(optimizer=opt, loss='categorical_crossentropy', metrics=['accuracy'])\n",
        "    \n",
        "    return model\n"
      ],
      "execution_count": 6,
      "outputs": []
    },
    {
      "cell_type": "markdown",
      "metadata": {
        "id": "EeLn5RJZPnKl"
      },
      "source": [
        "# **Train Sequential CNN Model with Leaky RELU**\n"
      ]
    },
    {
      "cell_type": "code",
      "metadata": {
        "id": "iT6jo0OmquCL"
      },
      "source": [
        "# train and evalluate cnn model\n",
        "def Train_CNN_Model(model):\n",
        "    \n",
        "    # -------------------------------------------------------------------------\n",
        "    #                        Train CNN Model \n",
        "    # -------------------------------------------------------------------------\n",
        "    \n",
        "    \n",
        "    # create data generators    \n",
        "    train_datagen = ImageDataGenerator(\n",
        "                                     rescale=1.0/255.0,\n",
        "                                     featurewise_center= True,\n",
        "                                     featurewise_std_normalization = True,\n",
        "                                     rotation_range=10,\n",
        "                                     width_shift_range=0.1,\n",
        "                                     height_shift_range=0.1,\n",
        "                                     zoom_range=0.2,                                     \n",
        "                                     brightness_range=[0.2,1.0],\n",
        "                                     )\n",
        "    \n",
        "    valid_datagen = ImageDataGenerator(\n",
        "                                     rescale=1.0/255.0,\n",
        "                                     featurewise_center= True,\n",
        "                                     featurewise_std_normalization = True)\n",
        "    \n",
        "    \n",
        "   \n",
        "   \n",
        "    # prepare iterators\n",
        "    batch_size=32\n",
        "    train_it = train_datagen.flow_from_directory('/content/drive/MyDrive/COVID-19-Deep-Learning-Project-Colab/Dataset/train/',classes =('Normal','Covid'),batch_size=batch_size, target_size=(224, 224))\n",
        "    valid_it = valid_datagen.flow_from_directory('/content/drive/MyDrive/COVID-19-Deep-Learning-Project-Colab/Dataset/val/',classes =('Normal','Covid'),batch_size=batch_size, target_size=(224, 224))\n",
        "\n",
        "\n",
        "    epochs=100;\n",
        "    \n",
        "    history = model.fit_generator(train_it, steps_per_epoch=len(train_it),\n",
        "\t\tvalidation_data=valid_it, validation_steps=len(valid_it), epochs=epochs, verbose=1)\n",
        "    \n",
        "    \n",
        "    #  \"Accuracy\"\n",
        "    plt.plot(history.history['accuracy'])\n",
        "    plt.plot(history.history['val_accuracy'])\n",
        "    plt.title('model accuracy')\n",
        "    plt.ylabel('accuracy')\n",
        "    plt.xlabel('epoch')\n",
        "    plt.legend(['train', 'validation'], loc='upper left')\n",
        "    plt.show()\n",
        "    \n",
        "    # \"Loss\"\n",
        "    plt.plot(history.history['loss'])\n",
        "    plt.plot(history.history['val_loss'])\n",
        "    plt.title('model loss')\n",
        "    plt.ylabel('loss')\n",
        "    plt.xlabel('epoch')\n",
        "    plt.legend(['train', 'validation'], loc='upper left')\n",
        "    plt.show()\n",
        "\n",
        "\t# save model\n",
        "    model.save('/content/drive/MyDrive/COVID-19-Deep-Learning-Project-Colab/saved_models/CoVID19-sequential-LeakyRELU_cnn_model.h5')"
      ],
      "execution_count": 7,
      "outputs": []
    },
    {
      "cell_type": "code",
      "metadata": {
        "id": "6aIG5skmLDx0"
      },
      "source": [
        "%matplotlib inline\n",
        "from sklearn.metrics import confusion_matrix\n",
        "import itertools\n",
        "import matplotlib.pyplot as plt\n",
        "import numpy as np"
      ],
      "execution_count": 42,
      "outputs": []
    },
    {
      "cell_type": "markdown",
      "metadata": {
        "id": "akk2CJw7Pp6O"
      },
      "source": [
        "# **Evaluate Sequential CNN Model with Leaky RELU**\n"
      ]
    },
    {
      "cell_type": "code",
      "metadata": {
        "id": "5eW1T2Ekq5MM"
      },
      "source": [
        "def Evaluate_CNN_Model():\n",
        "    # -------------------------------------------------------------------------\n",
        "    #                        Evaluate CNN Model \n",
        "    # -------------------------------------------------------------------------\n",
        "    \n",
        "    # load model\n",
        "    model = load_model('/content/drive/MyDrive/COVID-19-Deep-Learning-Project-Colab/saved_models/CoVID19-sequential-LeakyRELU_cnn_model.h5')\n",
        "\n",
        "    \n",
        "     # load test data\n",
        "    batch_size=32\n",
        "    test_datagen = ImageDataGenerator(\n",
        "                                     rescale=1.0/255.0,\n",
        "                                     featurewise_center= True,\n",
        "                                     featurewise_std_normalization = True)\n",
        "    \n",
        "    test_it = test_datagen.flow_from_directory('/content/drive/MyDrive/COVID-19-Deep-Learning-Project-Colab/Dataset/test/',classes =('Normal','Covid'), \n",
        "                                               shuffle=False,batch_size=batch_size, target_size=(224, 224))\n",
        "    \n",
        "    \n",
        "    y_true = test_it.classes;\n",
        "\n",
        "    y_pred = model.predict_generator(test_it, steps=len(test_it), verbose=1)\n",
        "\n",
        "    \n",
        "    y_pred_prob = y_pred[:,1]\n",
        "\n",
        "     \n",
        "    y_pred_binary =  y_pred_prob > 0.5\n",
        "   \n",
        "    #Confution Matrix    \n",
        "    print('\\nConfusion Matrix\\n -------------------------')    \n",
        "    print(confusion_matrix(y_true,y_pred_binary));\n",
        "    #for plotting CM graph\n",
        "    #cm = confusion_matrix(y_true,y_pred_binary)\n",
        "\n",
        "    \n",
        "    # accuracy: (tp + tn) / (p + n)\n",
        "    accuracy = accuracy_score(y_true, y_pred_binary)\n",
        "    print('Accuracy: %f' % accuracy)\n",
        "    \n",
        "    \n",
        "    # precision tp / (tp + fp)\n",
        "    precision = precision_score(y_true, y_pred_binary)\n",
        "    print('Precision: %f' % precision)\n",
        "    \n",
        "    # recall: tp / (tp + fn)\n",
        "    recall = recall_score(y_true, y_pred_binary)\n",
        "    print('Recall: %f' % recall)\n",
        "    \n",
        "    # f1: 2 tp / (2 tp + fp + fn)\n",
        "    f1 = f1_score(y_true, y_pred_binary)\n",
        "    print('F1 score: %f' % f1)    \n",
        "       \n",
        "    # ROC AUC\n",
        "    auc = roc_auc_score(y_true, y_pred_prob)\n",
        "    print('ROC AUC: %f' % auc)\n",
        "    \n",
        "    \n",
        "    # calculate roc curves\n",
        "    fpr, tpr, _ = roc_curve(y_true, y_pred_prob)\n",
        "        \n",
        "    # plot the roc curve for the model\n",
        "    plt.figure()\n",
        "    plt_False_Positive_vs_True_Positive.plot(fpr, tpr, linestyle='--', label='')\n",
        "    \n",
        "    # axis labels\n",
        "    plt_False_Positive_vs_True_Positive.xlabel('False Positive Rate')\n",
        "    plt_False_Positive_vs_True_Positive.ylabel('True Positive Rate')\n",
        "       \n",
        "    # show the legend\n",
        "    plt_False_Positive_vs_True_Positive.legend()\n",
        "    # show the plot\n",
        "    plt_False_Positive_vs_True_Positive.show()\n",
        "    #cm = confusion_matrix(y_true,y_pred_binary)\n",
        "\n",
        "      #for plotting CM graph\n",
        "    cm = confusion_matrix(y_true,y_pred_binary)\n",
        "\n",
        "    def plot_confusion_matrix(cm, classes,\n",
        "                        normalize=False,\n",
        "                        title='Confusion matrix',\n",
        "                        cmap=plt.cm.Greens):\n",
        " \n",
        "      plt.imshow(cm, interpolation='nearest', cmap=cmap)\n",
        "      plt.title(title)\n",
        "      plt.colorbar()\n",
        "      tick_marks = np.arange(len(classes))\n",
        "      plt.xticks(tick_marks, classes, rotation=45)\n",
        "      plt.yticks(tick_marks, classes)\n",
        "\n",
        "\n",
        "\n",
        "    thresh = cm.max() / 2.\n",
        "    for i, j in itertools.product(range(cm.shape[0]), range(cm.shape[1])):\n",
        "        plt.text(j, i, cm[i, j],\n",
        "            horizontalalignment=\"center\",\n",
        "            color=\"white\" if cm[i, j] > thresh else \"black\")\n",
        "\n",
        "    plt.tight_layout()\n",
        "    plt.ylabel('Predicted Values')\n",
        "    plt.xlabel('True Values')\n",
        "    cm_plot_labels = ['No Covid','Has Covid']\n",
        "    plot_confusion_matrix(cm=cm, classes=cm_plot_labels, title='Confusion Matrix')"
      ],
      "execution_count": 52,
      "outputs": []
    },
    {
      "cell_type": "code",
      "metadata": {
        "id": "Ad7gwfsJSaVp"
      },
      "source": [
        "%matplotlib inline\n",
        "from sklearn.metrics import confusion_matrix\n",
        "import itertools\n",
        "import matplotlib.pyplot as plt\n",
        "import numpy as np"
      ],
      "execution_count": 53,
      "outputs": []
    },
    {
      "cell_type": "code",
      "metadata": {
        "colab": {
          "base_uri": "https://localhost:8080/",
          "height": 1000
        },
        "id": "PqwwYBQsqysR",
        "outputId": "3a8289d2-8bed-405f-819d-fc41ffd2a6e4"
      },
      "source": [
        "# main entry\n",
        "    \n",
        "model = Build_CNN_Model()\n",
        "Train_CNN_Model(model)"
      ],
      "execution_count": 9,
      "outputs": [
        {
          "output_type": "stream",
          "text": [
            "Model: \"sequential\"\n",
            "_________________________________________________________________\n",
            "Layer (type)                 Output Shape              Param #   \n",
            "=================================================================\n",
            "conv2d (Conv2D)              (None, 224, 224, 8)       608       \n",
            "_________________________________________________________________\n",
            "leaky_re_lu (LeakyReLU)      (None, 224, 224, 8)       0         \n",
            "_________________________________________________________________\n",
            "max_pooling2d (MaxPooling2D) (None, 112, 112, 8)       0         \n",
            "_________________________________________________________________\n",
            "conv2d_1 (Conv2D)            (None, 112, 112, 8)       584       \n",
            "_________________________________________________________________\n",
            "leaky_re_lu_1 (LeakyReLU)    (None, 112, 112, 8)       0         \n",
            "_________________________________________________________________\n",
            "max_pooling2d_1 (MaxPooling2 (None, 56, 56, 8)         0         \n",
            "_________________________________________________________________\n",
            "conv2d_2 (Conv2D)            (None, 56, 56, 16)        1168      \n",
            "_________________________________________________________________\n",
            "leaky_re_lu_2 (LeakyReLU)    (None, 56, 56, 16)        0         \n",
            "_________________________________________________________________\n",
            "conv2d_3 (Conv2D)            (None, 56, 56, 16)        2320      \n",
            "_________________________________________________________________\n",
            "leaky_re_lu_3 (LeakyReLU)    (None, 56, 56, 16)        0         \n",
            "_________________________________________________________________\n",
            "max_pooling2d_2 (MaxPooling2 (None, 28, 28, 16)        0         \n",
            "_________________________________________________________________\n",
            "flatten (Flatten)            (None, 12544)             0         \n",
            "_________________________________________________________________\n",
            "dense (Dense)                (None, 10)                125450    \n",
            "_________________________________________________________________\n",
            "leaky_re_lu_4 (LeakyReLU)    (None, 10)                0         \n",
            "_________________________________________________________________\n",
            "dense_1 (Dense)              (None, 2)                 22        \n",
            "_________________________________________________________________\n",
            "activation (Activation)      (None, 2)                 0         \n",
            "=================================================================\n",
            "Total params: 130,152\n",
            "Trainable params: 130,152\n",
            "Non-trainable params: 0\n",
            "_________________________________________________________________\n",
            "Found 1463 images belonging to 2 classes.\n",
            "Found 365 images belonging to 2 classes.\n",
            "WARNING:tensorflow:From <ipython-input-7-961307a3cb07>:38: Model.fit_generator (from tensorflow.python.keras.engine.training) is deprecated and will be removed in a future version.\n",
            "Instructions for updating:\n",
            "Please use Model.fit, which supports generators.\n"
          ],
          "name": "stdout"
        },
        {
          "output_type": "stream",
          "text": [
            "/usr/local/lib/python3.6/dist-packages/keras_preprocessing/image/image_data_generator.py:720: UserWarning: This ImageDataGenerator specifies `featurewise_center`, but it hasn't been fit on any training data. Fit it first by calling `.fit(numpy_data)`.\n",
            "  warnings.warn('This ImageDataGenerator specifies '\n",
            "/usr/local/lib/python3.6/dist-packages/keras_preprocessing/image/image_data_generator.py:728: UserWarning: This ImageDataGenerator specifies `featurewise_std_normalization`, but it hasn't been fit on any training data. Fit it first by calling `.fit(numpy_data)`.\n",
            "  warnings.warn('This ImageDataGenerator specifies '\n"
          ],
          "name": "stderr"
        },
        {
          "output_type": "stream",
          "text": [
            "Epoch 1/100\n",
            "46/46 [==============================] - 588s 13s/step - loss: 0.4379 - accuracy: 0.8257 - val_loss: 0.2132 - val_accuracy: 0.9342\n",
            "Epoch 2/100\n",
            "46/46 [==============================] - 66s 1s/step - loss: 0.2615 - accuracy: 0.9057 - val_loss: 0.1297 - val_accuracy: 0.9507\n",
            "Epoch 3/100\n",
            "46/46 [==============================] - 66s 1s/step - loss: 0.2532 - accuracy: 0.9118 - val_loss: 0.0752 - val_accuracy: 0.9699\n",
            "Epoch 4/100\n",
            "46/46 [==============================] - 65s 1s/step - loss: 0.1903 - accuracy: 0.9316 - val_loss: 0.0580 - val_accuracy: 0.9781\n",
            "Epoch 5/100\n",
            "46/46 [==============================] - 64s 1s/step - loss: 0.2073 - accuracy: 0.9323 - val_loss: 0.1530 - val_accuracy: 0.9589\n",
            "Epoch 6/100\n",
            "46/46 [==============================] - 64s 1s/step - loss: 0.1911 - accuracy: 0.9289 - val_loss: 0.1191 - val_accuracy: 0.9507\n",
            "Epoch 7/100\n",
            "46/46 [==============================] - 65s 1s/step - loss: 0.1483 - accuracy: 0.9460 - val_loss: 0.0947 - val_accuracy: 0.9589\n",
            "Epoch 8/100\n",
            "46/46 [==============================] - 64s 1s/step - loss: 0.1196 - accuracy: 0.9604 - val_loss: 0.1349 - val_accuracy: 0.9452\n",
            "Epoch 9/100\n",
            "46/46 [==============================] - 65s 1s/step - loss: 0.1340 - accuracy: 0.9542 - val_loss: 0.0652 - val_accuracy: 0.9726\n",
            "Epoch 10/100\n",
            "46/46 [==============================] - 65s 1s/step - loss: 0.1428 - accuracy: 0.9515 - val_loss: 0.0628 - val_accuracy: 0.9781\n",
            "Epoch 11/100\n",
            "46/46 [==============================] - 65s 1s/step - loss: 0.1346 - accuracy: 0.9515 - val_loss: 0.1419 - val_accuracy: 0.9452\n",
            "Epoch 12/100\n",
            "46/46 [==============================] - 65s 1s/step - loss: 0.1423 - accuracy: 0.9508 - val_loss: 0.0609 - val_accuracy: 0.9863\n",
            "Epoch 13/100\n",
            "46/46 [==============================] - 65s 1s/step - loss: 0.1157 - accuracy: 0.9563 - val_loss: 0.0270 - val_accuracy: 0.9890\n",
            "Epoch 14/100\n",
            "46/46 [==============================] - 65s 1s/step - loss: 0.1181 - accuracy: 0.9645 - val_loss: 0.0312 - val_accuracy: 0.9945\n",
            "Epoch 15/100\n",
            "46/46 [==============================] - 65s 1s/step - loss: 0.0998 - accuracy: 0.9651 - val_loss: 0.0317 - val_accuracy: 0.9890\n",
            "Epoch 16/100\n",
            "46/46 [==============================] - 64s 1s/step - loss: 0.0920 - accuracy: 0.9686 - val_loss: 0.0395 - val_accuracy: 0.9890\n",
            "Epoch 17/100\n",
            "46/46 [==============================] - 64s 1s/step - loss: 0.1096 - accuracy: 0.9597 - val_loss: 0.0300 - val_accuracy: 0.9918\n",
            "Epoch 18/100\n",
            "46/46 [==============================] - 65s 1s/step - loss: 0.0950 - accuracy: 0.9631 - val_loss: 0.0607 - val_accuracy: 0.9726\n",
            "Epoch 19/100\n",
            "46/46 [==============================] - 65s 1s/step - loss: 0.0942 - accuracy: 0.9713 - val_loss: 0.0341 - val_accuracy: 0.9918\n",
            "Epoch 20/100\n",
            "46/46 [==============================] - 64s 1s/step - loss: 0.1063 - accuracy: 0.9665 - val_loss: 0.1082 - val_accuracy: 0.9507\n",
            "Epoch 21/100\n",
            "46/46 [==============================] - 65s 1s/step - loss: 0.0819 - accuracy: 0.9713 - val_loss: 0.0573 - val_accuracy: 0.9726\n",
            "Epoch 22/100\n",
            "46/46 [==============================] - 64s 1s/step - loss: 0.0709 - accuracy: 0.9795 - val_loss: 0.0200 - val_accuracy: 0.9973\n",
            "Epoch 23/100\n",
            "46/46 [==============================] - 63s 1s/step - loss: 0.0755 - accuracy: 0.9747 - val_loss: 0.0448 - val_accuracy: 0.9836\n",
            "Epoch 24/100\n",
            "46/46 [==============================] - 64s 1s/step - loss: 0.0818 - accuracy: 0.9747 - val_loss: 0.0257 - val_accuracy: 0.9918\n",
            "Epoch 25/100\n",
            "46/46 [==============================] - 64s 1s/step - loss: 0.0713 - accuracy: 0.9781 - val_loss: 0.0388 - val_accuracy: 0.9945\n",
            "Epoch 26/100\n",
            "46/46 [==============================] - 64s 1s/step - loss: 0.0739 - accuracy: 0.9747 - val_loss: 0.0448 - val_accuracy: 0.9836\n",
            "Epoch 27/100\n",
            "46/46 [==============================] - 64s 1s/step - loss: 0.0711 - accuracy: 0.9740 - val_loss: 0.0385 - val_accuracy: 0.9918\n",
            "Epoch 28/100\n",
            "46/46 [==============================] - 64s 1s/step - loss: 0.0821 - accuracy: 0.9699 - val_loss: 0.0242 - val_accuracy: 0.9973\n",
            "Epoch 29/100\n",
            "46/46 [==============================] - 65s 1s/step - loss: 0.0616 - accuracy: 0.9788 - val_loss: 0.0297 - val_accuracy: 0.9890\n",
            "Epoch 30/100\n",
            "46/46 [==============================] - 64s 1s/step - loss: 0.0771 - accuracy: 0.9754 - val_loss: 0.0421 - val_accuracy: 0.9890\n",
            "Epoch 31/100\n",
            "46/46 [==============================] - 65s 1s/step - loss: 0.0735 - accuracy: 0.9747 - val_loss: 0.0401 - val_accuracy: 0.9863\n",
            "Epoch 32/100\n",
            "46/46 [==============================] - 65s 1s/step - loss: 0.0813 - accuracy: 0.9774 - val_loss: 0.0266 - val_accuracy: 0.9945\n",
            "Epoch 33/100\n",
            "46/46 [==============================] - 65s 1s/step - loss: 0.0556 - accuracy: 0.9829 - val_loss: 0.0337 - val_accuracy: 0.9918\n",
            "Epoch 34/100\n",
            "46/46 [==============================] - 65s 1s/step - loss: 0.0465 - accuracy: 0.9877 - val_loss: 0.0329 - val_accuracy: 0.9808\n",
            "Epoch 35/100\n",
            "46/46 [==============================] - 64s 1s/step - loss: 0.0640 - accuracy: 0.9740 - val_loss: 0.0190 - val_accuracy: 0.9918\n",
            "Epoch 36/100\n",
            "46/46 [==============================] - 65s 1s/step - loss: 0.0651 - accuracy: 0.9809 - val_loss: 0.0201 - val_accuracy: 0.9918\n",
            "Epoch 37/100\n",
            "46/46 [==============================] - 65s 1s/step - loss: 0.0523 - accuracy: 0.9822 - val_loss: 0.0274 - val_accuracy: 0.9945\n",
            "Epoch 38/100\n",
            "46/46 [==============================] - 65s 1s/step - loss: 0.0547 - accuracy: 0.9774 - val_loss: 0.0275 - val_accuracy: 0.9918\n",
            "Epoch 39/100\n",
            "46/46 [==============================] - 65s 1s/step - loss: 0.0497 - accuracy: 0.9809 - val_loss: 0.0247 - val_accuracy: 0.9918\n",
            "Epoch 40/100\n",
            "46/46 [==============================] - 65s 1s/step - loss: 0.0520 - accuracy: 0.9856 - val_loss: 0.0131 - val_accuracy: 0.9973\n",
            "Epoch 41/100\n",
            "46/46 [==============================] - 63s 1s/step - loss: 0.0763 - accuracy: 0.9781 - val_loss: 0.0182 - val_accuracy: 0.9945\n",
            "Epoch 42/100\n",
            "46/46 [==============================] - 64s 1s/step - loss: 0.0697 - accuracy: 0.9754 - val_loss: 0.0153 - val_accuracy: 0.9945\n",
            "Epoch 43/100\n",
            "46/46 [==============================] - 64s 1s/step - loss: 0.0367 - accuracy: 0.9843 - val_loss: 0.0196 - val_accuracy: 0.9918\n",
            "Epoch 44/100\n",
            "46/46 [==============================] - 64s 1s/step - loss: 0.0372 - accuracy: 0.9877 - val_loss: 0.0171 - val_accuracy: 0.9945\n",
            "Epoch 45/100\n",
            "46/46 [==============================] - 64s 1s/step - loss: 0.0542 - accuracy: 0.9815 - val_loss: 0.0234 - val_accuracy: 0.9918\n",
            "Epoch 46/100\n",
            "46/46 [==============================] - 65s 1s/step - loss: 0.0556 - accuracy: 0.9809 - val_loss: 0.0282 - val_accuracy: 0.9918\n",
            "Epoch 47/100\n",
            "46/46 [==============================] - 65s 1s/step - loss: 0.0508 - accuracy: 0.9795 - val_loss: 0.0269 - val_accuracy: 0.9918\n",
            "Epoch 48/100\n",
            "46/46 [==============================] - 65s 1s/step - loss: 0.0622 - accuracy: 0.9843 - val_loss: 0.0518 - val_accuracy: 0.9808\n",
            "Epoch 49/100\n",
            "46/46 [==============================] - 65s 1s/step - loss: 0.0349 - accuracy: 0.9904 - val_loss: 0.0215 - val_accuracy: 0.9890\n",
            "Epoch 50/100\n",
            "46/46 [==============================] - 64s 1s/step - loss: 0.0465 - accuracy: 0.9856 - val_loss: 0.0357 - val_accuracy: 0.9836\n",
            "Epoch 51/100\n",
            "46/46 [==============================] - 64s 1s/step - loss: 0.0335 - accuracy: 0.9897 - val_loss: 0.0179 - val_accuracy: 0.9973\n",
            "Epoch 52/100\n",
            "46/46 [==============================] - 65s 1s/step - loss: 0.0394 - accuracy: 0.9836 - val_loss: 0.0124 - val_accuracy: 0.9973\n",
            "Epoch 53/100\n",
            "46/46 [==============================] - 64s 1s/step - loss: 0.0442 - accuracy: 0.9877 - val_loss: 0.0158 - val_accuracy: 0.9973\n",
            "Epoch 54/100\n",
            "46/46 [==============================] - 64s 1s/step - loss: 0.0394 - accuracy: 0.9897 - val_loss: 0.0096 - val_accuracy: 0.9973\n",
            "Epoch 55/100\n",
            "46/46 [==============================] - 64s 1s/step - loss: 0.0276 - accuracy: 0.9884 - val_loss: 0.0184 - val_accuracy: 0.9973\n",
            "Epoch 56/100\n",
            "46/46 [==============================] - 65s 1s/step - loss: 0.0316 - accuracy: 0.9877 - val_loss: 0.0363 - val_accuracy: 0.9836\n",
            "Epoch 57/100\n",
            "46/46 [==============================] - 66s 1s/step - loss: 0.0294 - accuracy: 0.9904 - val_loss: 0.0234 - val_accuracy: 0.9918\n",
            "Epoch 58/100\n",
            "46/46 [==============================] - 65s 1s/step - loss: 0.0458 - accuracy: 0.9870 - val_loss: 0.0647 - val_accuracy: 0.9699\n",
            "Epoch 59/100\n",
            "46/46 [==============================] - 65s 1s/step - loss: 0.0395 - accuracy: 0.9884 - val_loss: 0.0193 - val_accuracy: 0.9945\n",
            "Epoch 60/100\n",
            "46/46 [==============================] - 66s 1s/step - loss: 0.0392 - accuracy: 0.9870 - val_loss: 0.0351 - val_accuracy: 0.9863\n",
            "Epoch 61/100\n",
            "46/46 [==============================] - 65s 1s/step - loss: 0.0318 - accuracy: 0.9897 - val_loss: 0.0238 - val_accuracy: 0.9918\n",
            "Epoch 62/100\n",
            "46/46 [==============================] - 66s 1s/step - loss: 0.0250 - accuracy: 0.9932 - val_loss: 0.0329 - val_accuracy: 0.9863\n",
            "Epoch 63/100\n",
            "46/46 [==============================] - 66s 1s/step - loss: 0.0412 - accuracy: 0.9850 - val_loss: 0.0356 - val_accuracy: 0.9863\n",
            "Epoch 64/100\n",
            "46/46 [==============================] - 65s 1s/step - loss: 0.0416 - accuracy: 0.9856 - val_loss: 0.0315 - val_accuracy: 0.9918\n",
            "Epoch 65/100\n",
            "46/46 [==============================] - 66s 1s/step - loss: 0.0392 - accuracy: 0.9891 - val_loss: 0.0124 - val_accuracy: 0.9973\n",
            "Epoch 66/100\n",
            "46/46 [==============================] - 66s 1s/step - loss: 0.0264 - accuracy: 0.9897 - val_loss: 0.0216 - val_accuracy: 0.9890\n",
            "Epoch 67/100\n",
            "46/46 [==============================] - 65s 1s/step - loss: 0.0512 - accuracy: 0.9856 - val_loss: 0.0234 - val_accuracy: 0.9863\n",
            "Epoch 68/100\n",
            "46/46 [==============================] - 65s 1s/step - loss: 0.0338 - accuracy: 0.9884 - val_loss: 0.0085 - val_accuracy: 0.9973\n",
            "Epoch 69/100\n",
            "46/46 [==============================] - 65s 1s/step - loss: 0.0388 - accuracy: 0.9884 - val_loss: 0.0634 - val_accuracy: 0.9726\n",
            "Epoch 70/100\n",
            "46/46 [==============================] - 65s 1s/step - loss: 0.0273 - accuracy: 0.9904 - val_loss: 0.0247 - val_accuracy: 0.9863\n",
            "Epoch 71/100\n",
            "46/46 [==============================] - 65s 1s/step - loss: 0.0279 - accuracy: 0.9891 - val_loss: 0.0452 - val_accuracy: 0.9863\n",
            "Epoch 72/100\n",
            "46/46 [==============================] - 64s 1s/step - loss: 0.0232 - accuracy: 0.9952 - val_loss: 0.0282 - val_accuracy: 0.9890\n",
            "Epoch 73/100\n",
            "46/46 [==============================] - 64s 1s/step - loss: 0.0208 - accuracy: 0.9938 - val_loss: 0.0182 - val_accuracy: 0.9973\n",
            "Epoch 74/100\n",
            "46/46 [==============================] - 64s 1s/step - loss: 0.0372 - accuracy: 0.9904 - val_loss: 0.0365 - val_accuracy: 0.9836\n",
            "Epoch 75/100\n",
            "46/46 [==============================] - 64s 1s/step - loss: 0.0308 - accuracy: 0.9891 - val_loss: 0.0269 - val_accuracy: 0.9945\n",
            "Epoch 76/100\n",
            "46/46 [==============================] - 64s 1s/step - loss: 0.0290 - accuracy: 0.9891 - val_loss: 0.0134 - val_accuracy: 0.9973\n",
            "Epoch 77/100\n",
            "46/46 [==============================] - 64s 1s/step - loss: 0.0306 - accuracy: 0.9918 - val_loss: 0.0175 - val_accuracy: 0.9918\n",
            "Epoch 78/100\n",
            "46/46 [==============================] - 65s 1s/step - loss: 0.0355 - accuracy: 0.9891 - val_loss: 0.0227 - val_accuracy: 0.9973\n",
            "Epoch 79/100\n",
            "46/46 [==============================] - 65s 1s/step - loss: 0.0392 - accuracy: 0.9897 - val_loss: 0.0210 - val_accuracy: 0.9945\n",
            "Epoch 80/100\n",
            "46/46 [==============================] - 66s 1s/step - loss: 0.0377 - accuracy: 0.9877 - val_loss: 0.0143 - val_accuracy: 0.9973\n",
            "Epoch 81/100\n",
            "46/46 [==============================] - 65s 1s/step - loss: 0.0294 - accuracy: 0.9897 - val_loss: 0.0258 - val_accuracy: 0.9918\n",
            "Epoch 82/100\n",
            "46/46 [==============================] - 65s 1s/step - loss: 0.0295 - accuracy: 0.9932 - val_loss: 0.0160 - val_accuracy: 0.9945\n",
            "Epoch 83/100\n",
            "46/46 [==============================] - 65s 1s/step - loss: 0.0296 - accuracy: 0.9918 - val_loss: 0.0341 - val_accuracy: 0.9890\n",
            "Epoch 84/100\n",
            "46/46 [==============================] - 64s 1s/step - loss: 0.0243 - accuracy: 0.9932 - val_loss: 0.0456 - val_accuracy: 0.9836\n",
            "Epoch 85/100\n",
            "46/46 [==============================] - 65s 1s/step - loss: 0.0352 - accuracy: 0.9891 - val_loss: 0.0233 - val_accuracy: 0.9890\n",
            "Epoch 86/100\n",
            "46/46 [==============================] - 65s 1s/step - loss: 0.0224 - accuracy: 0.9932 - val_loss: 0.0230 - val_accuracy: 0.9890\n",
            "Epoch 87/100\n",
            "46/46 [==============================] - 65s 1s/step - loss: 0.0175 - accuracy: 0.9959 - val_loss: 0.0466 - val_accuracy: 0.9836\n",
            "Epoch 88/100\n",
            "46/46 [==============================] - 66s 1s/step - loss: 0.0177 - accuracy: 0.9938 - val_loss: 0.0390 - val_accuracy: 0.9918\n",
            "Epoch 89/100\n",
            "46/46 [==============================] - 66s 1s/step - loss: 0.0382 - accuracy: 0.9836 - val_loss: 0.0073 - val_accuracy: 0.9945\n",
            "Epoch 90/100\n",
            "46/46 [==============================] - 64s 1s/step - loss: 0.0226 - accuracy: 0.9904 - val_loss: 0.0197 - val_accuracy: 0.9918\n",
            "Epoch 92/100\n",
            "46/46 [==============================] - 65s 1s/step - loss: 0.0250 - accuracy: 0.9938 - val_loss: 0.0361 - val_accuracy: 0.9836\n",
            "Epoch 93/100\n",
            "46/46 [==============================] - 65s 1s/step - loss: 0.0185 - accuracy: 0.9925 - val_loss: 0.0376 - val_accuracy: 0.9890\n",
            "Epoch 94/100\n",
            "46/46 [==============================] - 65s 1s/step - loss: 0.0204 - accuracy: 0.9932 - val_loss: 0.0256 - val_accuracy: 0.9918\n",
            "Epoch 95/100\n",
            "46/46 [==============================] - 65s 1s/step - loss: 0.0351 - accuracy: 0.9870 - val_loss: 0.0418 - val_accuracy: 0.9918\n",
            "Epoch 96/100\n",
            "46/46 [==============================] - 64s 1s/step - loss: 0.0276 - accuracy: 0.9911 - val_loss: 0.0237 - val_accuracy: 0.9890\n",
            "Epoch 97/100\n",
            "46/46 [==============================] - 66s 1s/step - loss: 0.0137 - accuracy: 0.9938 - val_loss: 0.0294 - val_accuracy: 0.9863\n",
            "Epoch 98/100\n",
            "46/46 [==============================] - 64s 1s/step - loss: 0.0248 - accuracy: 0.9918 - val_loss: 0.0053 - val_accuracy: 1.0000\n",
            "Epoch 99/100\n",
            "46/46 [==============================] - 65s 1s/step - loss: 0.0206 - accuracy: 0.9918 - val_loss: 0.0072 - val_accuracy: 0.9973\n",
            "Epoch 100/100\n",
            "46/46 [==============================] - 65s 1s/step - loss: 0.0208 - accuracy: 0.9918 - val_loss: 0.0178 - val_accuracy: 0.9945\n"
          ],
          "name": "stdout"
        },
        {
          "output_type": "display_data",
          "data": {
            "image/png": "[encoded data removed]",
            "text/plain": [
              "<Figure size 432x288 with 1 Axes>"
            ]
          },
          "metadata": {
            "tags": [],
            "needs_background": "light"
          }
        },
        {
          "output_type": "display_data",
          "data": {
            "image/png": "[encoded data removed]",
            "text/plain": [
              "<Figure size 432x288 with 1 Axes>"
            ]
          },
          "metadata": {
            "tags": [],
            "needs_background": "light"
          }
        },
        {
          "output_type": "stream",
          "text": [
            "Found 31 images belonging to 2 classes.\n",
            "WARNING:tensorflow:From <ipython-input-8-0b98772aee68>:23: Model.predict_generator (from tensorflow.python.keras.engine.training) is deprecated and will be removed in a future version.\n",
            "Instructions for updating:\n",
            "Please use Model.predict, which supports generators.\n",
            "1/1 [==============================] - 0s 3ms/step\n"
          ],
          "name": "stdout"
        },
        {
          "output_type": "stream",
          "text": [
            "No handles with labels found to put in legend.\n"
          ],
          "name": "stderr"
        },
        {
          "output_type": "stream",
          "text": [
            "\n",
            "Confusion Matrix\n",
            " -------------------------\n",
            "[[14  1]\n",
            " [ 0 16]]\n",
            "Accuracy: 0.967742\n",
            "Precision: 0.941176\n",
            "Recall: 1.000000\n",
            "F1 score: 0.969697\n",
            "ROC AUC: 0.995833\n"
          ],
          "name": "stdout"
        },
        {
          "output_type": "display_data",
          "data": {
            "image/png": "[encoded data removed]",
            "text/plain": [
              "<Figure size 432x288 with 1 Axes>"
            ]
          },
          "metadata": {
            "tags": [],
            "needs_background": "light"
          }
        }
      ]
    },
    {
      "cell_type": "code",
      "metadata": {
        "colab": {
          "base_uri": "https://localhost:8080/",
          "height": 940
        },
        "id": "FUjCk2STKMf3",
        "outputId": "c7203182-dc23-45a4-c51c-5bc777e3d69b"
      },
      "source": [
        "Evaluate_CNN_Model()"
      ],
      "execution_count": 54,
      "outputs": [
        {
          "output_type": "stream",
          "text": [
            "Found 31 images belonging to 2 classes.\n"
          ],
          "name": "stdout"
        },
        {
          "output_type": "stream",
          "text": [
            "/usr/local/lib/python3.6/dist-packages/keras_preprocessing/image/image_data_generator.py:720: UserWarning: This ImageDataGenerator specifies `featurewise_center`, but it hasn't been fit on any training data. Fit it first by calling `.fit(numpy_data)`.\n",
            "  warnings.warn('This ImageDataGenerator specifies '\n",
            "/usr/local/lib/python3.6/dist-packages/keras_preprocessing/image/image_data_generator.py:728: UserWarning: This ImageDataGenerator specifies `featurewise_std_normalization`, but it hasn't been fit on any training data. Fit it first by calling `.fit(numpy_data)`.\n",
            "  warnings.warn('This ImageDataGenerator specifies '\n"
          ],
          "name": "stderr"
        },
        {
          "output_type": "stream",
          "text": [
            "WARNING:tensorflow:11 out of the last 11 calls to <function Model.make_predict_function.<locals>.predict_function at 0x7f2728d0b7b8> triggered tf.function retracing. Tracing is expensive and the excessive number of tracings could be due to (1) creating @tf.function repeatedly in a loop, (2) passing tensors with different shapes, (3) passing Python objects instead of tensors. For (1), please define your @tf.function outside of the loop. For (2), @tf.function has experimental_relax_shapes=True option that relaxes argument shapes that can avoid unnecessary retracing. For (3), please refer to https://www.tensorflow.org/tutorials/customization/performance#python_or_tensor_args and https://www.tensorflow.org/api_docs/python/tf/function for  more details.\n",
            "1/1 [==============================] - 0s 9ms/step\n"
          ],
          "name": "stdout"
        },
        {
          "output_type": "stream",
          "text": [
            "No handles with labels found to put in legend.\n"
          ],
          "name": "stderr"
        },
        {
          "output_type": "stream",
          "text": [
            "\n",
            "Confusion Matrix\n",
            " -------------------------\n",
            "[[14  1]\n",
            " [ 0 16]]\n",
            "Accuracy: 0.967742\n",
            "Precision: 0.941176\n",
            "Recall: 1.000000\n",
            "F1 score: 0.969697\n",
            "ROC AUC: 0.995833\n"
          ],
          "name": "stdout"
        },
        {
          "output_type": "display_data",
          "data": {
            "image/png": "[encoded data removed]",
            "text/plain": [
              "<Figure size 432x288 with 1 Axes>"
            ]
          },
          "metadata": {
            "tags": [],
            "needs_background": "light"
          }
        },
        {
          "output_type": "display_data",
          "data": {
            "image/png": "[encoded data removed]",
            "text/plain": [
              "<Figure size 432x288 with 2 Axes>"
            ]
          },
          "metadata": {
            "tags": [],
            "needs_background": "light"
          }
        }
      ]
    }
  ]
}