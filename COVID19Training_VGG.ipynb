{
  "nbformat": 4,
  "nbformat_minor": 0,
  "metadata": {
    "colab": {
      "name": "COVID19Training_VGG.ipynb",
      "provenance": [],
      "collapsed_sections": [],
      "toc_visible": true,
      "include_colab_link": true
    },
    "kernelspec": {
      "name": "python3",
      "display_name": "Python 3"
    },
    "accelerator": "GPU"
  },
  "cells": [
    {
      "cell_type": "markdown",
      "metadata": {
        "id": "view-in-github",
        "colab_type": "text"
      },
      "source": [
        "<a href=\"https://colab.research.google.com/github/rachitgithub/Covid-Detection/blob/main/COVID19Training_VGG.ipynb\" target=\"_parent\"><img src=\"https://colab.research.google.com/assets/colab-badge.svg\" alt=\"Open In Colab\"/></a>"
      ]
    },
    {
      "cell_type": "markdown",
      "metadata": {
        "id": "-gyKOi8EPITT"
      },
      "source": [
        "# **Install TensorFlow GPU**"
      ]
    },
    {
      "cell_type": "code",
      "metadata": {
        "id": "UboFrn87qNVe"
      },
      "source": [
        "!pip install tensorflow-gpu"
      ],
      "execution_count": null,
      "outputs": []
    },
    {
      "cell_type": "markdown",
      "metadata": {
        "id": "FLc0x1XRPPVm"
      },
      "source": [
        "# **Import GDRIVE**"
      ]
    },
    {
      "cell_type": "code",
      "metadata": {
        "colab": {
          "base_uri": "https://localhost:8080/"
        },
        "id": "2SXklTJgqQyV",
        "outputId": "f5363025-969a-4d4e-a58f-43c35c418342"
      },
      "source": [
        "from google.colab import drive\n",
        "drive.mount('/content/drive')"
      ],
      "execution_count": 1,
      "outputs": [
        {
          "output_type": "stream",
          "text": [
            "Mounted at /content/drive\n"
          ],
          "name": "stdout"
        }
      ]
    },
    {
      "cell_type": "markdown",
      "metadata": {
        "id": "M55jhmwBPTGp"
      },
      "source": [
        "# **Import Tensor Flow**"
      ]
    },
    {
      "cell_type": "code",
      "metadata": {
        "colab": {
          "base_uri": "https://localhost:8080/"
        },
        "id": "yPOllQPgqUky",
        "outputId": "fd5f273c-8fce-4fda-c075-5adeffbc710c"
      },
      "source": [
        "import tensorflow as tf\n",
        "tf.test.gpu_device_name()\n",
        "print(tf.__version__)"
      ],
      "execution_count": 2,
      "outputs": [
        {
          "output_type": "stream",
          "text": [
            "2.3.0\n"
          ],
          "name": "stdout"
        }
      ]
    },
    {
      "cell_type": "markdown",
      "metadata": {
        "id": "qf3UaO-sPXkz"
      },
      "source": [
        "# **Import Keras Libraries**"
      ]
    },
    {
      "cell_type": "code",
      "metadata": {
        "id": "O6d6JctTqdW2"
      },
      "source": [
        "from keras.models import load_model\n",
        "from keras.layers import Activation,Dense,Flatten\n",
        "from keras.optimizers import Adam\n",
        "from keras.preprocessing.image import ImageDataGenerator\n",
        "\n",
        "from sklearn.metrics import accuracy_score,roc_curve,confusion_matrix,precision_score,recall_score,f1_score,roc_auc_score\n",
        "import matplotlib.pyplot as plt\n",
        "import matplotlib.pyplot as plt_False_Positive_vs_True_Positive\n",
        "\n",
        "from keras.applications.vgg19 import VGG19\n",
        "from keras.models import Model"
      ],
      "execution_count": 3,
      "outputs": []
    },
    {
      "cell_type": "markdown",
      "metadata": {
        "id": "BoGghyDrPcMl"
      },
      "source": [
        "# **Build VGG CNN Model**\n"
      ]
    },
    {
      "cell_type": "code",
      "metadata": {
        "id": "NHfmSsyapGlw"
      },
      "source": [
        "def Build_CNN_Model():\n",
        "    \n",
        "    # -------------------------------------------------------------------------\n",
        "    #                        VGG Model \n",
        "    # -------------------------------------------------------------------------\n",
        "    # load VGG model\n",
        "    vgg = VGG19(include_top=True, input_shape=(224, 224, 3))\n",
        "\n",
        "    # mark loaded layers as trainable\n",
        "    for layer in vgg.layers:\n",
        "\t    layer.trainable = True      \n",
        "\t\n",
        "  \n",
        "    #  Flatten and Fully Connected Layer\n",
        "    Flat_layer = Flatten()(vgg.layers[11].output)\n",
        "\n",
        "    FC_layer = Dense(100)(Flat_layer)    \n",
        "       \n",
        "    Act_layer = Activation('relu')(FC_layer)\n",
        "    \n",
        "    #  Softmax Classifier\n",
        "    Class_layer = Dense(2)(Act_layer)\n",
        "    \n",
        "    Softmax_layer = Activation('softmax')(Class_layer)\n",
        "        \n",
        "\t# define new model    \n",
        "    model = Model(inputs=vgg.inputs, outputs=Softmax_layer)\n",
        "            \n",
        "    #  Display model\n",
        "    model.summary()\n",
        "    \n",
        "\t# compile model\n",
        "\n",
        "    opt = Adam(learning_rate=0.001, beta_1=0.9, beta_2=0.999)\n",
        "    model.compile(optimizer=opt, loss='categorical_crossentropy', metrics=['accuracy'])\n",
        "    \n",
        "    return model \n",
        "\n"
      ],
      "execution_count": null,
      "outputs": []
    },
    {
      "cell_type": "markdown",
      "metadata": {
        "id": "EeLn5RJZPnKl"
      },
      "source": [
        "# **Train VGG CNN Model**\n"
      ]
    },
    {
      "cell_type": "code",
      "metadata": {
        "id": "iT6jo0OmquCL"
      },
      "source": [
        "# train and evalluate cnn model\n",
        "def Train_CNN_Model(model):\n",
        "    \n",
        "    # -------------------------------------------------------------------------\n",
        "    #                        Train CNN Model \n",
        "    # -------------------------------------------------------------------------\n",
        "    \n",
        "    # create data generators    \n",
        "    # create data generators    \n",
        "    # create data generators    \n",
        "    train_datagen = ImageDataGenerator(\n",
        "                                     rescale=1.0/255.0,\n",
        "                                     featurewise_center= True,\n",
        "                                     featurewise_std_normalization = True,\n",
        "                                     rotation_range=10,\n",
        "                                     width_shift_range=0.1,\n",
        "                                     height_shift_range=0.1,\n",
        "                                     zoom_range=0.2,                                     \n",
        "                                     brightness_range=[0.2,1.0],\n",
        "                                     )\n",
        "    valid_datagen = ImageDataGenerator(\n",
        "                                     rescale=1.0/255.0,\n",
        "                                     featurewise_center= True,\n",
        "                                     featurewise_std_normalization = True)\n",
        "    \n",
        "   \n",
        "   \n",
        "    # prepare iterators\n",
        "    batch_size=32\n",
        "    train_it = train_datagen.flow_from_directory('/content/drive/MyDrive/COVID-19-Deep-Learning-Project-Colab/Dataset/train/',classes =('Normal','Covid'),batch_size=batch_size, target_size=(224, 224))\n",
        "    valid_it = valid_datagen.flow_from_directory('/content/drive/MyDrive/COVID-19-Deep-Learning-Project-Colab/Dataset/val/',classes =('Normal','Covid'),batch_size=batch_size, target_size=(224, 224))\n",
        "\n",
        "\n",
        "    epochs=100;\n",
        "    \n",
        "    history = model.fit_generator(train_it, steps_per_epoch=len(train_it),\n",
        "\t\tvalidation_data=valid_it, validation_steps=len(valid_it), epochs=epochs, verbose=1)\n",
        "   \n",
        "    \n",
        "    #  \"Accuracy\"\n",
        "    plt.plot(history.history['accuracy'])\n",
        "    plt.plot(history.history['val_accuracy'])\n",
        "    plt.title('model accuracy')\n",
        "    plt.ylabel('accuracy')\n",
        "    plt.xlabel('epoch')\n",
        "    plt.legend(['train', 'validation'], loc='upper left')\n",
        "    plt.show()\n",
        "    \n",
        "    # \"Loss\"\n",
        "    plt.plot(history.history['loss'])\n",
        "    plt.plot(history.history['val_loss'])\n",
        "    plt.title('model loss')\n",
        "    plt.ylabel('loss')\n",
        "    plt.xlabel('epoch')\n",
        "    plt.legend(['train', 'validation'], loc='upper left')\n",
        "    plt.show()\n",
        "\n",
        "\t# save model\n",
        "    model.save('/content/drive/MyDrive/COVID-19-Deep-Learning-Project-Colab/saved_models/CoVID19-VGG_cnn_model.h5')"
      ],
      "execution_count": null,
      "outputs": []
    },
    {
      "cell_type": "markdown",
      "metadata": {
        "id": "akk2CJw7Pp6O"
      },
      "source": [
        "# **Evaluate VGG CNN Model**\n"
      ]
    },
    {
      "cell_type": "code",
      "metadata": {
        "id": "5eW1T2Ekq5MM"
      },
      "source": [
        "def Evaluate_CNN_Model():\n",
        "    # -------------------------------------------------------------------------\n",
        "    #                        Evaluate CNN Model \n",
        "    # -------------------------------------------------------------------------\n",
        "    \n",
        "    # load model\n",
        "    model = load_model('/content/drive/MyDrive/COVID-19-Deep-Learning-Project-Colab/saved_models/CoVID19-VGG_cnn_model.h5')\n",
        "\n",
        "    \n",
        "       # load test data\n",
        "    batch_size=32\n",
        "    test_datagen = ImageDataGenerator(\n",
        "                                     rescale=1.0/255.0,\n",
        "                                     featurewise_center= True,\n",
        "                                     featurewise_std_normalization = True)\n",
        "    \n",
        "    test_it = test_datagen.flow_from_directory('/content/drive/MyDrive/COVID-19-Deep-Learning-Project-Colab/data-COVID/test',classes =('Normal','Covid'), \n",
        "                                               shuffle=False,batch_size=batch_size, target_size=(224, 224))\n",
        "    \n",
        "    y_true = test_it.classes;\n",
        "\n",
        "    y_pred = model.predict_generator(test_it, steps=len(test_it), verbose=1)\n",
        "\n",
        "    \n",
        "    y_pred_prob = y_pred[:,1]\n",
        "\n",
        "     \n",
        "    y_pred_binary =  y_pred_prob > 0.5\n",
        "   \n",
        "    #Confution Matrix    \n",
        "    print('\\nConfusion Matrix\\n -------------------------')    \n",
        "    print(confusion_matrix(y_true,y_pred_binary));\n",
        "    \n",
        "    # accuracy: (tp + tn) / (p + n)\n",
        "    accuracy = accuracy_score(y_true, y_pred_binary)\n",
        "    print('Accuracy: %f' % accuracy)\n",
        "    \n",
        "    \n",
        "    # precision tp / (tp + fp)\n",
        "    precision = precision_score(y_true, y_pred_binary)\n",
        "    print('Precision: %f' % precision)\n",
        "    \n",
        "    # recall: tp / (tp + fn)\n",
        "    recall = recall_score(y_true, y_pred_binary)\n",
        "    print('Recall: %f' % recall)\n",
        "    \n",
        "    # f1: 2 tp / (2 tp + fp + fn)\n",
        "    f1 = f1_score(y_true, y_pred_binary)\n",
        "    print('F1 score: %f' % f1)    \n",
        "       \n",
        "    # ROC AUC\n",
        "    auc = roc_auc_score(y_true, y_pred_prob)\n",
        "    print('ROC AUC: %f' % auc)\n",
        "    \n",
        "    \n",
        "    # calculate roc curves\n",
        "    fpr, tpr, _ = roc_curve(y_true, y_pred_prob)\n",
        "        \n",
        "    # plot the roc curve for the model\n",
        "    plt.figure()\n",
        "    plt_False_Positive_vs_True_Positive.plot(fpr, tpr, linestyle='--', label='')\n",
        "    \n",
        "    # axis labels\n",
        "    plt_False_Positive_vs_True_Positive.xlabel('False Positive Rate')\n",
        "    plt_False_Positive_vs_True_Positive.ylabel('True Positive Rate')\n",
        "       \n",
        "    # show the legend\n",
        "    plt_False_Positive_vs_True_Positive.legend()\n",
        "    # show the plot\n",
        "    plt_False_Positive_vs_True_Positive.show()\n",
        "\n",
        "    #for plotting CM graph\n",
        "    cm = confusion_matrix(y_true,y_pred_binary)\n",
        "\n",
        "    def plot_confusion_matrix(cm, classes,\n",
        "                        normalize=False,\n",
        "                        title='Confusion matrix for VGG CNN',\n",
        "                        cmap=plt.cm.Wistia):\n",
        " \n",
        "      plt.imshow(cm, interpolation='nearest', cmap=cmap)\n",
        "      plt.title(title)\n",
        "      plt.colorbar()\n",
        "      tick_marks = np.arange(len(classes))\n",
        "      plt.xticks(tick_marks, classes, rotation=45)\n",
        "      plt.yticks(tick_marks, classes)\n",
        "\n",
        "\n",
        "\n",
        "    thresh = cm.max() / 2.\n",
        "    for i, j in itertools.product(range(cm.shape[0]), range(cm.shape[1])):\n",
        "        plt.text(j, i, cm[i, j],\n",
        "            horizontalalignment=\"center\",\n",
        "            color=\"white\" if cm[i, j] > thresh else \"black\")\n",
        "\n",
        "    plt.tight_layout()\n",
        "    plt.ylabel('Predicted Values')\n",
        "    plt.xlabel('True Values')\n",
        "    cm_plot_labels = ['No Covid','Has Covid']\n",
        "    plot_confusion_matrix(cm=cm, classes=cm_plot_labels, title='Confusion matrix for VGG CNN')\n",
        "\n",
        "    "
      ],
      "execution_count": 8,
      "outputs": []
    },
    {
      "cell_type": "code",
      "metadata": {
        "colab": {
          "base_uri": "https://localhost:8080/",
          "height": 1000
        },
        "id": "PqwwYBQsqysR",
        "outputId": "3db6c517-26bf-4ba2-f14b-26e4e4a02f9b"
      },
      "source": [
        "# main entry\n",
        "    \n",
        "model = Build_CNN_Model()\n",
        "\n",
        "Train_CNN_Model(model)"
      ],
      "execution_count": null,
      "outputs": [
        {
          "output_type": "stream",
          "text": [
            "Downloading data from https://storage.googleapis.com/tensorflow/keras-applications/vgg19/vgg19_weights_tf_dim_ordering_tf_kernels.h5\n",
            "574717952/574710816 [==============================] - 5s 0us/step\n",
            "Model: \"functional_1\"\n",
            "_________________________________________________________________\n",
            "Layer (type)                 Output Shape              Param #   \n",
            "=================================================================\n",
            "input_1 (InputLayer)         [(None, 224, 224, 3)]     0         \n",
            "_________________________________________________________________\n",
            "block1_conv1 (Conv2D)        (None, 224, 224, 64)      1792      \n",
            "_________________________________________________________________\n",
            "block1_conv2 (Conv2D)        (None, 224, 224, 64)      36928     \n",
            "_________________________________________________________________\n",
            "block1_pool (MaxPooling2D)   (None, 112, 112, 64)      0         \n",
            "_________________________________________________________________\n",
            "block2_conv1 (Conv2D)        (None, 112, 112, 128)     73856     \n",
            "_________________________________________________________________\n",
            "block2_conv2 (Conv2D)        (None, 112, 112, 128)     147584    \n",
            "_________________________________________________________________\n",
            "block2_pool (MaxPooling2D)   (None, 56, 56, 128)       0         \n",
            "_________________________________________________________________\n",
            "block3_conv1 (Conv2D)        (None, 56, 56, 256)       295168    \n",
            "_________________________________________________________________\n",
            "block3_conv2 (Conv2D)        (None, 56, 56, 256)       590080    \n",
            "_________________________________________________________________\n",
            "block3_conv3 (Conv2D)        (None, 56, 56, 256)       590080    \n",
            "_________________________________________________________________\n",
            "block3_conv4 (Conv2D)        (None, 56, 56, 256)       590080    \n",
            "_________________________________________________________________\n",
            "block3_pool (MaxPooling2D)   (None, 28, 28, 256)       0         \n",
            "_________________________________________________________________\n",
            "flatten (Flatten)            (None, 200704)            0         \n",
            "_________________________________________________________________\n",
            "dense (Dense)                (None, 100)               20070500  \n",
            "_________________________________________________________________\n",
            "activation (Activation)      (None, 100)               0         \n",
            "_________________________________________________________________\n",
            "dense_1 (Dense)              (None, 2)                 202       \n",
            "_________________________________________________________________\n",
            "activation_1 (Activation)    (None, 2)                 0         \n",
            "=================================================================\n",
            "Total params: 22,396,270\n",
            "Trainable params: 22,396,270\n",
            "Non-trainable params: 0\n",
            "_________________________________________________________________\n",
            "Found 1463 images belonging to 2 classes.\n",
            "Found 365 images belonging to 2 classes.\n",
            "WARNING:tensorflow:From <ipython-input-7-9b2e2f1693e7>:37: Model.fit_generator (from tensorflow.python.keras.engine.training) is deprecated and will be removed in a future version.\n",
            "Instructions for updating:\n",
            "Please use Model.fit, which supports generators.\n"
          ],
          "name": "stdout"
        },
        {
          "output_type": "stream",
          "text": [
            "/usr/local/lib/python3.6/dist-packages/keras_preprocessing/image/image_data_generator.py:720: UserWarning: This ImageDataGenerator specifies `featurewise_center`, but it hasn't been fit on any training data. Fit it first by calling `.fit(numpy_data)`.\n",
            "  warnings.warn('This ImageDataGenerator specifies '\n",
            "/usr/local/lib/python3.6/dist-packages/keras_preprocessing/image/image_data_generator.py:728: UserWarning: This ImageDataGenerator specifies `featurewise_std_normalization`, but it hasn't been fit on any training data. Fit it first by calling `.fit(numpy_data)`.\n",
            "  warnings.warn('This ImageDataGenerator specifies '\n"
          ],
          "name": "stderr"
        },
        {
          "output_type": "stream",
          "text": [
            "Epoch 1/100\n",
            "46/46 [==============================] - 485s 11s/step - loss: 134.5653 - accuracy: 0.5024 - val_loss: 0.6932 - val_accuracy: 0.4932\n",
            "Epoch 2/100\n",
            "46/46 [==============================] - 69s 1s/step - loss: 0.6929 - accuracy: 0.5010 - val_loss: 0.6909 - val_accuracy: 0.5068\n",
            "Epoch 3/100\n",
            "46/46 [==============================] - 68s 1s/step - loss: 0.6928 - accuracy: 0.5079 - val_loss: 0.6913 - val_accuracy: 0.5068\n",
            "Epoch 4/100\n",
            "46/46 [==============================] - 68s 1s/step - loss: 0.6921 - accuracy: 0.5079 - val_loss: 0.6887 - val_accuracy: 0.5068\n",
            "Epoch 5/100\n",
            "46/46 [==============================] - 67s 1s/step - loss: 0.6915 - accuracy: 0.5079 - val_loss: 0.6861 - val_accuracy: 0.5068\n",
            "Epoch 6/100\n",
            "46/46 [==============================] - 68s 1s/step - loss: 0.6915 - accuracy: 0.5079 - val_loss: 0.6841 - val_accuracy: 0.5068\n",
            "Epoch 7/100\n",
            "46/46 [==============================] - 68s 1s/step - loss: 0.6899 - accuracy: 0.5079 - val_loss: 0.6777 - val_accuracy: 0.5068\n",
            "Epoch 8/100\n",
            "46/46 [==============================] - 68s 1s/step - loss: 0.6797 - accuracy: 0.5256 - val_loss: 0.5869 - val_accuracy: 0.8521\n",
            "Epoch 9/100\n",
            "46/46 [==============================] - 68s 1s/step - loss: 0.5886 - accuracy: 0.7177 - val_loss: 0.5034 - val_accuracy: 0.8027\n",
            "Epoch 10/100\n",
            "46/46 [==============================] - 68s 1s/step - loss: 0.6017 - accuracy: 0.7068 - val_loss: 0.3911 - val_accuracy: 0.7973\n",
            "Epoch 11/100\n",
            "46/46 [==============================] - 68s 1s/step - loss: 0.5667 - accuracy: 0.7266 - val_loss: 0.4051 - val_accuracy: 0.8110\n",
            "Epoch 12/100\n",
            "46/46 [==============================] - 67s 1s/step - loss: 0.4760 - accuracy: 0.7922 - val_loss: 0.2793 - val_accuracy: 0.9041\n",
            "Epoch 13/100\n",
            "46/46 [==============================] - 68s 1s/step - loss: 1.6924 - accuracy: 0.7040 - val_loss: 0.3679 - val_accuracy: 0.8575\n",
            "Epoch 14/100\n",
            "46/46 [==============================] - 68s 1s/step - loss: 0.5268 - accuracy: 0.7485 - val_loss: 0.2934 - val_accuracy: 0.8932\n",
            "Epoch 15/100\n",
            "46/46 [==============================] - 68s 1s/step - loss: 0.6750 - accuracy: 0.7040 - val_loss: 0.3776 - val_accuracy: 0.8301\n",
            "Epoch 16/100\n",
            "46/46 [==============================] - 68s 1s/step - loss: 0.4656 - accuracy: 0.7902 - val_loss: 0.3258 - val_accuracy: 0.8767\n",
            "Epoch 17/100\n",
            "46/46 [==============================] - 68s 1s/step - loss: 0.3785 - accuracy: 0.8387 - val_loss: 0.2759 - val_accuracy: 0.8904\n",
            "Epoch 18/100\n",
            "46/46 [==============================] - 68s 1s/step - loss: 0.3247 - accuracy: 0.8626 - val_loss: 0.2079 - val_accuracy: 0.9178\n",
            "Epoch 19/100\n",
            "46/46 [==============================] - 68s 1s/step - loss: 0.2740 - accuracy: 0.8893 - val_loss: 0.2483 - val_accuracy: 0.8904\n",
            "Epoch 20/100\n",
            "46/46 [==============================] - 68s 1s/step - loss: 0.2875 - accuracy: 0.8906 - val_loss: 0.3021 - val_accuracy: 0.8658\n",
            "Epoch 21/100\n",
            "46/46 [==============================] - 68s 1s/step - loss: 0.2270 - accuracy: 0.9118 - val_loss: 0.1673 - val_accuracy: 0.9178\n",
            "Epoch 22/100\n",
            "46/46 [==============================] - 69s 1s/step - loss: 0.2622 - accuracy: 0.9036 - val_loss: 0.2422 - val_accuracy: 0.9014\n",
            "Epoch 23/100\n",
            "46/46 [==============================] - 68s 1s/step - loss: 0.2866 - accuracy: 0.8859 - val_loss: 0.1215 - val_accuracy: 0.9397\n",
            "Epoch 24/100\n",
            "46/46 [==============================] - 68s 1s/step - loss: 0.2036 - accuracy: 0.9330 - val_loss: 0.1262 - val_accuracy: 0.9452\n",
            "Epoch 25/100\n",
            "46/46 [==============================] - 68s 1s/step - loss: 0.1891 - accuracy: 0.9337 - val_loss: 0.0870 - val_accuracy: 0.9671\n",
            "Epoch 26/100\n",
            "46/46 [==============================] - 68s 1s/step - loss: 0.1622 - accuracy: 0.9357 - val_loss: 0.0803 - val_accuracy: 0.9808\n",
            "Epoch 27/100\n",
            "46/46 [==============================] - 68s 1s/step - loss: 0.1429 - accuracy: 0.9440 - val_loss: 0.1219 - val_accuracy: 0.9507\n",
            "Epoch 28/100\n",
            "46/46 [==============================] - 68s 1s/step - loss: 0.1414 - accuracy: 0.9481 - val_loss: 0.0756 - val_accuracy: 0.9644\n",
            "Epoch 29/100\n",
            "46/46 [==============================] - 68s 1s/step - loss: 0.1019 - accuracy: 0.9638 - val_loss: 0.0771 - val_accuracy: 0.9781\n",
            "Epoch 30/100\n",
            "46/46 [==============================] - 67s 1s/step - loss: 0.1325 - accuracy: 0.9583 - val_loss: 0.1175 - val_accuracy: 0.9507\n",
            "Epoch 31/100\n",
            "46/46 [==============================] - 68s 1s/step - loss: 0.1021 - accuracy: 0.9617 - val_loss: 0.1104 - val_accuracy: 0.9534\n",
            "Epoch 32/100\n",
            "46/46 [==============================] - 68s 1s/step - loss: 0.1010 - accuracy: 0.9686 - val_loss: 0.0456 - val_accuracy: 0.9808\n",
            "Epoch 33/100\n",
            "46/46 [==============================] - 68s 1s/step - loss: 0.0751 - accuracy: 0.9754 - val_loss: 0.0578 - val_accuracy: 0.9671\n",
            "Epoch 34/100\n",
            "46/46 [==============================] - 68s 1s/step - loss: 0.0966 - accuracy: 0.9617 - val_loss: 0.0449 - val_accuracy: 0.9836\n",
            "Epoch 35/100\n",
            "46/46 [==============================] - 68s 1s/step - loss: 0.1012 - accuracy: 0.9658 - val_loss: 0.0384 - val_accuracy: 0.9863\n",
            "Epoch 36/100\n",
            "46/46 [==============================] - 68s 1s/step - loss: 0.0905 - accuracy: 0.9665 - val_loss: 0.0302 - val_accuracy: 0.9918\n",
            "Epoch 37/100\n",
            "46/46 [==============================] - 68s 1s/step - loss: 0.0762 - accuracy: 0.9727 - val_loss: 0.0627 - val_accuracy: 0.9726\n",
            "Epoch 38/100\n",
            "46/46 [==============================] - 68s 1s/step - loss: 0.0806 - accuracy: 0.9768 - val_loss: 0.0190 - val_accuracy: 0.9945\n",
            "Epoch 39/100\n",
            "46/46 [==============================] - 68s 1s/step - loss: 0.0744 - accuracy: 0.9747 - val_loss: 0.0419 - val_accuracy: 0.9863\n",
            "Epoch 40/100\n",
            "46/46 [==============================] - 68s 1s/step - loss: 0.0650 - accuracy: 0.9795 - val_loss: 0.0123 - val_accuracy: 0.9973\n",
            "Epoch 41/100\n",
            "46/46 [==============================] - 67s 1s/step - loss: 0.1626 - accuracy: 0.9426 - val_loss: 0.1379 - val_accuracy: 0.9507\n",
            "Epoch 42/100\n",
            "46/46 [==============================] - 68s 1s/step - loss: 0.1093 - accuracy: 0.9617 - val_loss: 0.0159 - val_accuracy: 0.9973\n",
            "Epoch 43/100\n",
            "46/46 [==============================] - 68s 1s/step - loss: 0.0640 - accuracy: 0.9781 - val_loss: 0.0202 - val_accuracy: 0.9918\n",
            "Epoch 44/100\n",
            "46/46 [==============================] - 68s 1s/step - loss: 0.0594 - accuracy: 0.9781 - val_loss: 0.0236 - val_accuracy: 0.9918\n",
            "Epoch 45/100\n",
            "46/46 [==============================] - 68s 1s/step - loss: 0.0752 - accuracy: 0.9788 - val_loss: 0.0260 - val_accuracy: 0.9890\n",
            "Epoch 46/100\n",
            "46/46 [==============================] - 68s 1s/step - loss: 0.0685 - accuracy: 0.9781 - val_loss: 0.0307 - val_accuracy: 0.9890\n",
            "Epoch 47/100\n",
            "46/46 [==============================] - 68s 1s/step - loss: 0.0624 - accuracy: 0.9788 - val_loss: 0.0290 - val_accuracy: 0.9918\n",
            "Epoch 48/100\n",
            "46/46 [==============================] - 68s 1s/step - loss: 0.0605 - accuracy: 0.9754 - val_loss: 0.0381 - val_accuracy: 0.9836\n",
            "Epoch 49/100\n",
            "46/46 [==============================] - 68s 1s/step - loss: 0.0761 - accuracy: 0.9747 - val_loss: 0.0848 - val_accuracy: 0.9644\n",
            "Epoch 50/100\n",
            "46/46 [==============================] - 68s 1s/step - loss: 0.0607 - accuracy: 0.9768 - val_loss: 0.0240 - val_accuracy: 0.9918\n",
            "Epoch 51/100\n",
            "46/46 [==============================] - 69s 1s/step - loss: 0.0495 - accuracy: 0.9836 - val_loss: 0.0244 - val_accuracy: 0.9918\n",
            "Epoch 52/100\n",
            "46/46 [==============================] - 69s 1s/step - loss: 0.0399 - accuracy: 0.9877 - val_loss: 0.0240 - val_accuracy: 0.9918\n",
            "Epoch 53/100\n",
            "46/46 [==============================] - 68s 1s/step - loss: 0.0463 - accuracy: 0.9829 - val_loss: 0.0183 - val_accuracy: 0.9918\n",
            "Epoch 54/100\n",
            "46/46 [==============================] - 68s 1s/step - loss: 0.0424 - accuracy: 0.9850 - val_loss: 0.0955 - val_accuracy: 0.9699\n",
            "Epoch 55/100\n",
            "46/46 [==============================] - 68s 1s/step - loss: 0.0685 - accuracy: 0.9781 - val_loss: 0.0142 - val_accuracy: 0.9973\n",
            "Epoch 56/100\n",
            "46/46 [==============================] - 68s 1s/step - loss: 0.0468 - accuracy: 0.9836 - val_loss: 0.0268 - val_accuracy: 0.9890\n",
            "Epoch 57/100\n",
            "46/46 [==============================] - 68s 1s/step - loss: 0.0462 - accuracy: 0.9856 - val_loss: 0.0091 - val_accuracy: 1.0000\n",
            "Epoch 58/100\n",
            "46/46 [==============================] - 68s 1s/step - loss: 0.0400 - accuracy: 0.9870 - val_loss: 0.0073 - val_accuracy: 1.0000\n",
            "Epoch 59/100\n",
            "46/46 [==============================] - 68s 1s/step - loss: 0.0613 - accuracy: 0.9809 - val_loss: 0.0516 - val_accuracy: 0.9863\n",
            "Epoch 60/100\n",
            "46/46 [==============================] - 68s 1s/step - loss: 0.0446 - accuracy: 0.9836 - val_loss: 0.0044 - val_accuracy: 1.0000\n",
            "Epoch 61/100\n",
            "46/46 [==============================] - 68s 1s/step - loss: 0.0552 - accuracy: 0.9843 - val_loss: 0.0140 - val_accuracy: 0.9973\n",
            "Epoch 62/100\n",
            "46/46 [==============================] - 68s 1s/step - loss: 0.0515 - accuracy: 0.9809 - val_loss: 0.0163 - val_accuracy: 0.9973\n",
            "Epoch 63/100\n",
            "46/46 [==============================] - 68s 1s/step - loss: 0.0494 - accuracy: 0.9843 - val_loss: 0.0083 - val_accuracy: 0.9973\n",
            "Epoch 64/100\n",
            "46/46 [==============================] - 68s 1s/step - loss: 0.0390 - accuracy: 0.9877 - val_loss: 0.0393 - val_accuracy: 0.9836\n",
            "Epoch 65/100\n",
            "46/46 [==============================] - 69s 2s/step - loss: 0.0410 - accuracy: 0.9877 - val_loss: 0.0554 - val_accuracy: 0.9808\n",
            "Epoch 66/100\n",
            "46/46 [==============================] - 68s 1s/step - loss: 0.0351 - accuracy: 0.9884 - val_loss: 0.0115 - val_accuracy: 0.9973\n",
            "Epoch 67/100\n",
            "46/46 [==============================] - 69s 1s/step - loss: 0.0518 - accuracy: 0.9850 - val_loss: 0.0141 - val_accuracy: 0.9973\n",
            "Epoch 68/100\n",
            "46/46 [==============================] - 69s 1s/step - loss: 0.0453 - accuracy: 0.9822 - val_loss: 0.0504 - val_accuracy: 0.9781\n",
            "Epoch 69/100\n",
            "46/46 [==============================] - 69s 1s/step - loss: 0.0749 - accuracy: 0.9802 - val_loss: 0.0415 - val_accuracy: 0.9836\n",
            "Epoch 70/100\n",
            "46/46 [==============================] - 69s 1s/step - loss: 0.0675 - accuracy: 0.9788 - val_loss: 0.0086 - val_accuracy: 0.9973\n",
            "Epoch 71/100\n",
            "46/46 [==============================] - 70s 2s/step - loss: 0.0483 - accuracy: 0.9856 - val_loss: 0.0230 - val_accuracy: 0.9973\n",
            "Epoch 72/100\n",
            "46/46 [==============================] - 70s 2s/step - loss: 0.0444 - accuracy: 0.9843 - val_loss: 0.0114 - val_accuracy: 0.9973\n",
            "Epoch 73/100\n",
            "46/46 [==============================] - 70s 2s/step - loss: 0.0610 - accuracy: 0.9761 - val_loss: 0.0498 - val_accuracy: 0.9781\n",
            "Epoch 74/100\n",
            "46/46 [==============================] - 71s 2s/step - loss: 0.0268 - accuracy: 0.9904 - val_loss: 0.0120 - val_accuracy: 0.9918\n",
            "Epoch 75/100\n",
            "46/46 [==============================] - 70s 2s/step - loss: 0.0352 - accuracy: 0.9918 - val_loss: 0.0233 - val_accuracy: 0.9945\n",
            "Epoch 76/100\n",
            "46/46 [==============================] - 71s 2s/step - loss: 0.0332 - accuracy: 0.9884 - val_loss: 0.0591 - val_accuracy: 0.9753\n",
            "Epoch 77/100\n",
            "46/46 [==============================] - 71s 2s/step - loss: 0.0442 - accuracy: 0.9843 - val_loss: 0.0237 - val_accuracy: 0.9918\n",
            "Epoch 78/100\n",
            "46/46 [==============================] - 72s 2s/step - loss: 0.0541 - accuracy: 0.9795 - val_loss: 0.0140 - val_accuracy: 0.9945\n",
            "Epoch 79/100\n",
            "46/46 [==============================] - 71s 2s/step - loss: 0.0497 - accuracy: 0.9795 - val_loss: 0.0177 - val_accuracy: 0.9945\n",
            "Epoch 80/100\n",
            "46/46 [==============================] - 72s 2s/step - loss: 0.0705 - accuracy: 0.9740 - val_loss: 0.0237 - val_accuracy: 0.9890\n",
            "Epoch 81/100\n",
            "46/46 [==============================] - 71s 2s/step - loss: 0.0509 - accuracy: 0.9836 - val_loss: 0.0204 - val_accuracy: 0.9918\n",
            "Epoch 82/100\n",
            "46/46 [==============================] - 72s 2s/step - loss: 0.0485 - accuracy: 0.9836 - val_loss: 0.0176 - val_accuracy: 0.9945\n",
            "Epoch 83/100\n",
            "46/46 [==============================] - 72s 2s/step - loss: 0.0395 - accuracy: 0.9829 - val_loss: 0.0434 - val_accuracy: 0.9890\n",
            "Epoch 84/100\n",
            "46/46 [==============================] - 72s 2s/step - loss: 0.0405 - accuracy: 0.9884 - val_loss: 0.0186 - val_accuracy: 0.9918\n",
            "Epoch 85/100\n",
            "46/46 [==============================] - 72s 2s/step - loss: 0.0714 - accuracy: 0.9761 - val_loss: 0.0516 - val_accuracy: 0.9808\n",
            "Epoch 86/100\n",
            "46/46 [==============================] - 73s 2s/step - loss: 0.0685 - accuracy: 0.9822 - val_loss: 0.0765 - val_accuracy: 0.9808\n",
            "Epoch 87/100\n",
            "46/46 [==============================] - 73s 2s/step - loss: 0.0548 - accuracy: 0.9829 - val_loss: 0.0193 - val_accuracy: 0.9945\n",
            "Epoch 88/100\n",
            "46/46 [==============================] - 73s 2s/step - loss: 0.0417 - accuracy: 0.9884 - val_loss: 0.0321 - val_accuracy: 0.9890\n",
            "Epoch 89/100\n",
            "46/46 [==============================] - 73s 2s/step - loss: 0.0324 - accuracy: 0.9911 - val_loss: 0.0340 - val_accuracy: 0.9836\n",
            "Epoch 90/100\n",
            "46/46 [==============================] - 72s 2s/step - loss: 0.0374 - accuracy: 0.9891 - val_loss: 0.0342 - val_accuracy: 0.9890\n",
            "Epoch 91/100\n",
            "46/46 [==============================] - 75s 2s/step - loss: 0.0354 - accuracy: 0.9863 - val_loss: 0.0225 - val_accuracy: 0.9890\n",
            "Epoch 92/100\n",
            "46/46 [==============================] - 72s 2s/step - loss: 0.0210 - accuracy: 0.9938 - val_loss: 0.0254 - val_accuracy: 0.9863\n",
            "Epoch 93/100\n",
            "46/46 [==============================] - 73s 2s/step - loss: 0.0268 - accuracy: 0.9918 - val_loss: 0.0192 - val_accuracy: 0.9973\n",
            "Epoch 94/100\n",
            "46/46 [==============================] - 73s 2s/step - loss: 0.0288 - accuracy: 0.9891 - val_loss: 0.0097 - val_accuracy: 0.9973\n",
            "Epoch 95/100\n",
            "46/46 [==============================] - 73s 2s/step - loss: 0.0330 - accuracy: 0.9911 - val_loss: 0.0058 - val_accuracy: 1.0000\n",
            "Epoch 96/100\n",
            "46/46 [==============================] - 73s 2s/step - loss: 0.0342 - accuracy: 0.9884 - val_loss: 0.1095 - val_accuracy: 0.9671\n",
            "Epoch 97/100\n",
            "46/46 [==============================] - 73s 2s/step - loss: 0.0371 - accuracy: 0.9911 - val_loss: 0.0084 - val_accuracy: 1.0000\n",
            "Epoch 98/100\n",
            "46/46 [==============================] - 74s 2s/step - loss: 0.0236 - accuracy: 0.9911 - val_loss: 0.0042 - val_accuracy: 1.0000\n",
            "Epoch 99/100\n",
            "46/46 [==============================] - 74s 2s/step - loss: 0.0493 - accuracy: 0.9836 - val_loss: 0.0142 - val_accuracy: 0.9918\n",
            "Epoch 100/100\n",
            "46/46 [==============================] - 74s 2s/step - loss: 0.0304 - accuracy: 0.9870 - val_loss: 0.0216 - val_accuracy: 0.9836\n"
          ],
          "name": "stdout"
        },
        {
          "output_type": "display_data",
          "data": {
            "image/png": "[encoded data removed]",
            "text/plain": [
              "<Figure size 432x288 with 1 Axes>"
            ]
          },
          "metadata": {
            "tags": [],
            "needs_background": "light"
          }
        },
        {
          "output_type": "display_data",
          "data": {
            "image/png": "[encoded data removed]",
            "text/plain": [
              "<Figure size 432x288 with 1 Axes>"
            ]
          },
          "metadata": {
            "tags": [],
            "needs_background": "light"
          }
        },
        {
          "output_type": "stream",
          "text": [
            "Found 0 images belonging to 2 classes.\n",
            "WARNING:tensorflow:From <ipython-input-8-be65cee4aeab>:22: Model.predict_generator (from tensorflow.python.keras.engine.training) is deprecated and will be removed in a future version.\n",
            "Instructions for updating:\n",
            "Please use Model.predict, which supports generators.\n"
          ],
          "name": "stdout"
        },
        {
          "output_type": "error",
          "ename": "ValueError",
          "evalue": "ignored",
          "traceback": [
            "\u001b[0;31m---------------------------------------------------------------------------\u001b[0m",
            "\u001b[0;31mValueError\u001b[0m                                Traceback (most recent call last)",
            "\u001b[0;32m<ipython-input-9-3119050f7a58>\u001b[0m in \u001b[0;36m<module>\u001b[0;34m()\u001b[0m\n\u001b[1;32m      5\u001b[0m \u001b[0mTrain_CNN_Model\u001b[0m\u001b[0;34m(\u001b[0m\u001b[0mmodel\u001b[0m\u001b[0;34m)\u001b[0m\u001b[0;34m\u001b[0m\u001b[0;34m\u001b[0m\u001b[0m\n\u001b[1;32m      6\u001b[0m \u001b[0;34m\u001b[0m\u001b[0m\n\u001b[0;32m----> 7\u001b[0;31m \u001b[0mEvaluate_CNN_Model\u001b[0m\u001b[0;34m(\u001b[0m\u001b[0;34m)\u001b[0m\u001b[0;34m\u001b[0m\u001b[0;34m\u001b[0m\u001b[0m\n\u001b[0m",
            "\u001b[0;32m<ipython-input-8-be65cee4aeab>\u001b[0m in \u001b[0;36mEvaluate_CNN_Model\u001b[0;34m()\u001b[0m\n\u001b[1;32m     20\u001b[0m     \u001b[0my_true\u001b[0m \u001b[0;34m=\u001b[0m \u001b[0mtest_it\u001b[0m\u001b[0;34m.\u001b[0m\u001b[0mclasses\u001b[0m\u001b[0;34m;\u001b[0m\u001b[0;34m\u001b[0m\u001b[0;34m\u001b[0m\u001b[0m\n\u001b[1;32m     21\u001b[0m \u001b[0;34m\u001b[0m\u001b[0m\n\u001b[0;32m---> 22\u001b[0;31m     \u001b[0my_pred\u001b[0m \u001b[0;34m=\u001b[0m \u001b[0mmodel\u001b[0m\u001b[0;34m.\u001b[0m\u001b[0mpredict_generator\u001b[0m\u001b[0;34m(\u001b[0m\u001b[0mtest_it\u001b[0m\u001b[0;34m,\u001b[0m \u001b[0msteps\u001b[0m\u001b[0;34m=\u001b[0m\u001b[0mlen\u001b[0m\u001b[0;34m(\u001b[0m\u001b[0mtest_it\u001b[0m\u001b[0;34m)\u001b[0m\u001b[0;34m,\u001b[0m \u001b[0mverbose\u001b[0m\u001b[0;34m=\u001b[0m\u001b[0;36m1\u001b[0m\u001b[0;34m)\u001b[0m\u001b[0;34m\u001b[0m\u001b[0;34m\u001b[0m\u001b[0m\n\u001b[0m\u001b[1;32m     23\u001b[0m \u001b[0;34m\u001b[0m\u001b[0m\n\u001b[1;32m     24\u001b[0m \u001b[0;34m\u001b[0m\u001b[0m\n",
            "\u001b[0;32m/usr/local/lib/python3.6/dist-packages/tensorflow/python/util/deprecation.py\u001b[0m in \u001b[0;36mnew_func\u001b[0;34m(*args, **kwargs)\u001b[0m\n\u001b[1;32m    322\u001b[0m               \u001b[0;34m'in a future version'\u001b[0m \u001b[0;32mif\u001b[0m \u001b[0mdate\u001b[0m \u001b[0;32mis\u001b[0m \u001b[0;32mNone\u001b[0m \u001b[0;32melse\u001b[0m \u001b[0;34m(\u001b[0m\u001b[0;34m'after %s'\u001b[0m \u001b[0;34m%\u001b[0m \u001b[0mdate\u001b[0m\u001b[0;34m)\u001b[0m\u001b[0;34m,\u001b[0m\u001b[0;34m\u001b[0m\u001b[0;34m\u001b[0m\u001b[0m\n\u001b[1;32m    323\u001b[0m               instructions)\n\u001b[0;32m--> 324\u001b[0;31m       \u001b[0;32mreturn\u001b[0m \u001b[0mfunc\u001b[0m\u001b[0;34m(\u001b[0m\u001b[0;34m*\u001b[0m\u001b[0margs\u001b[0m\u001b[0;34m,\u001b[0m \u001b[0;34m**\u001b[0m\u001b[0mkwargs\u001b[0m\u001b[0;34m)\u001b[0m\u001b[0;34m\u001b[0m\u001b[0;34m\u001b[0m\u001b[0m\n\u001b[0m\u001b[1;32m    325\u001b[0m     return tf_decorator.make_decorator(\n\u001b[1;32m    326\u001b[0m         \u001b[0mfunc\u001b[0m\u001b[0;34m,\u001b[0m \u001b[0mnew_func\u001b[0m\u001b[0;34m,\u001b[0m \u001b[0;34m'deprecated'\u001b[0m\u001b[0;34m,\u001b[0m\u001b[0;34m\u001b[0m\u001b[0;34m\u001b[0m\u001b[0m\n",
            "\u001b[0;32m/usr/local/lib/python3.6/dist-packages/tensorflow/python/keras/engine/training.py\u001b[0m in \u001b[0;36mpredict_generator\u001b[0;34m(self, generator, steps, callbacks, max_queue_size, workers, use_multiprocessing, verbose)\u001b[0m\n\u001b[1;32m   1881\u001b[0m         \u001b[0muse_multiprocessing\u001b[0m\u001b[0;34m=\u001b[0m\u001b[0muse_multiprocessing\u001b[0m\u001b[0;34m,\u001b[0m\u001b[0;34m\u001b[0m\u001b[0;34m\u001b[0m\u001b[0m\n\u001b[1;32m   1882\u001b[0m         \u001b[0mverbose\u001b[0m\u001b[0;34m=\u001b[0m\u001b[0mverbose\u001b[0m\u001b[0;34m,\u001b[0m\u001b[0;34m\u001b[0m\u001b[0;34m\u001b[0m\u001b[0m\n\u001b[0;32m-> 1883\u001b[0;31m         callbacks=callbacks)\n\u001b[0m\u001b[1;32m   1884\u001b[0m \u001b[0;34m\u001b[0m\u001b[0m\n\u001b[1;32m   1885\u001b[0m   \u001b[0;31m######################################################################\u001b[0m\u001b[0;34m\u001b[0m\u001b[0;34m\u001b[0m\u001b[0;34m\u001b[0m\u001b[0m\n",
            "\u001b[0;32m/usr/local/lib/python3.6/dist-packages/tensorflow/python/keras/engine/training.py\u001b[0m in \u001b[0;36m_method_wrapper\u001b[0;34m(self, *args, **kwargs)\u001b[0m\n\u001b[1;32m    128\u001b[0m       raise ValueError('{} is not supported in multi-worker mode.'.format(\n\u001b[1;32m    129\u001b[0m           method.__name__))\n\u001b[0;32m--> 130\u001b[0;31m     \u001b[0;32mreturn\u001b[0m \u001b[0mmethod\u001b[0m\u001b[0;34m(\u001b[0m\u001b[0mself\u001b[0m\u001b[0;34m,\u001b[0m \u001b[0;34m*\u001b[0m\u001b[0margs\u001b[0m\u001b[0;34m,\u001b[0m \u001b[0;34m**\u001b[0m\u001b[0mkwargs\u001b[0m\u001b[0;34m)\u001b[0m\u001b[0;34m\u001b[0m\u001b[0;34m\u001b[0m\u001b[0m\n\u001b[0m\u001b[1;32m    131\u001b[0m \u001b[0;34m\u001b[0m\u001b[0m\n\u001b[1;32m    132\u001b[0m   return tf_decorator.make_decorator(\n",
            "\u001b[0;32m/usr/local/lib/python3.6/dist-packages/tensorflow/python/keras/engine/training.py\u001b[0m in \u001b[0;36mpredict\u001b[0;34m(self, x, batch_size, verbose, steps, callbacks, max_queue_size, workers, use_multiprocessing)\u001b[0m\n\u001b[1;32m   1577\u001b[0m           \u001b[0muse_multiprocessing\u001b[0m\u001b[0;34m=\u001b[0m\u001b[0muse_multiprocessing\u001b[0m\u001b[0;34m,\u001b[0m\u001b[0;34m\u001b[0m\u001b[0;34m\u001b[0m\u001b[0m\n\u001b[1;32m   1578\u001b[0m           \u001b[0mmodel\u001b[0m\u001b[0;34m=\u001b[0m\u001b[0mself\u001b[0m\u001b[0;34m,\u001b[0m\u001b[0;34m\u001b[0m\u001b[0;34m\u001b[0m\u001b[0m\n\u001b[0;32m-> 1579\u001b[0;31m           steps_per_execution=self._steps_per_execution)\n\u001b[0m\u001b[1;32m   1580\u001b[0m \u001b[0;34m\u001b[0m\u001b[0m\n\u001b[1;32m   1581\u001b[0m       \u001b[0;31m# Container that configures and calls `tf.keras.Callback`s.\u001b[0m\u001b[0;34m\u001b[0m\u001b[0;34m\u001b[0m\u001b[0;34m\u001b[0m\u001b[0m\n",
            "\u001b[0;32m/usr/local/lib/python3.6/dist-packages/tensorflow/python/keras/engine/data_adapter.py\u001b[0m in \u001b[0;36m__init__\u001b[0;34m(self, x, y, sample_weight, batch_size, steps_per_epoch, initial_epoch, epochs, shuffle, class_weight, max_queue_size, workers, use_multiprocessing, model, steps_per_execution)\u001b[0m\n\u001b[1;32m   1115\u001b[0m         \u001b[0muse_multiprocessing\u001b[0m\u001b[0;34m=\u001b[0m\u001b[0muse_multiprocessing\u001b[0m\u001b[0;34m,\u001b[0m\u001b[0;34m\u001b[0m\u001b[0;34m\u001b[0m\u001b[0m\n\u001b[1;32m   1116\u001b[0m         \u001b[0mdistribution_strategy\u001b[0m\u001b[0;34m=\u001b[0m\u001b[0mds_context\u001b[0m\u001b[0;34m.\u001b[0m\u001b[0mget_strategy\u001b[0m\u001b[0;34m(\u001b[0m\u001b[0;34m)\u001b[0m\u001b[0;34m,\u001b[0m\u001b[0;34m\u001b[0m\u001b[0;34m\u001b[0m\u001b[0m\n\u001b[0;32m-> 1117\u001b[0;31m         model=model)\n\u001b[0m\u001b[1;32m   1118\u001b[0m \u001b[0;34m\u001b[0m\u001b[0m\n\u001b[1;32m   1119\u001b[0m     \u001b[0mstrategy\u001b[0m \u001b[0;34m=\u001b[0m \u001b[0mds_context\u001b[0m\u001b[0;34m.\u001b[0m\u001b[0mget_strategy\u001b[0m\u001b[0;34m(\u001b[0m\u001b[0;34m)\u001b[0m\u001b[0;34m\u001b[0m\u001b[0;34m\u001b[0m\u001b[0m\n",
            "\u001b[0;32m/usr/local/lib/python3.6/dist-packages/tensorflow/python/keras/engine/data_adapter.py\u001b[0m in \u001b[0;36m__init__\u001b[0;34m(self, x, y, sample_weights, shuffle, workers, use_multiprocessing, max_queue_size, model, **kwargs)\u001b[0m\n\u001b[1;32m    914\u001b[0m         \u001b[0mmax_queue_size\u001b[0m\u001b[0;34m=\u001b[0m\u001b[0mmax_queue_size\u001b[0m\u001b[0;34m,\u001b[0m\u001b[0;34m\u001b[0m\u001b[0;34m\u001b[0m\u001b[0m\n\u001b[1;32m    915\u001b[0m         \u001b[0mmodel\u001b[0m\u001b[0;34m=\u001b[0m\u001b[0mmodel\u001b[0m\u001b[0;34m,\u001b[0m\u001b[0;34m\u001b[0m\u001b[0;34m\u001b[0m\u001b[0m\n\u001b[0;32m--> 916\u001b[0;31m         **kwargs)\n\u001b[0m\u001b[1;32m    917\u001b[0m \u001b[0;34m\u001b[0m\u001b[0m\n\u001b[1;32m    918\u001b[0m   \u001b[0;34m@\u001b[0m\u001b[0mstaticmethod\u001b[0m\u001b[0;34m\u001b[0m\u001b[0;34m\u001b[0m\u001b[0m\n",
            "\u001b[0;32m/usr/local/lib/python3.6/dist-packages/tensorflow/python/keras/engine/data_adapter.py\u001b[0m in \u001b[0;36m__init__\u001b[0;34m(self, x, y, sample_weights, workers, use_multiprocessing, max_queue_size, model, **kwargs)\u001b[0m\n\u001b[1;32m    784\u001b[0m     \u001b[0;31m# Since we have to know the dtype of the python generator when we build the\u001b[0m\u001b[0;34m\u001b[0m\u001b[0;34m\u001b[0m\u001b[0;34m\u001b[0m\u001b[0m\n\u001b[1;32m    785\u001b[0m     \u001b[0;31m# dataset, we have to look at a batch to infer the structure.\u001b[0m\u001b[0;34m\u001b[0m\u001b[0;34m\u001b[0m\u001b[0;34m\u001b[0m\u001b[0m\n\u001b[0;32m--> 786\u001b[0;31m     \u001b[0mpeek\u001b[0m\u001b[0;34m,\u001b[0m \u001b[0mx\u001b[0m \u001b[0;34m=\u001b[0m \u001b[0mself\u001b[0m\u001b[0;34m.\u001b[0m\u001b[0m_peek_and_restore\u001b[0m\u001b[0;34m(\u001b[0m\u001b[0mx\u001b[0m\u001b[0;34m)\u001b[0m\u001b[0;34m\u001b[0m\u001b[0;34m\u001b[0m\u001b[0m\n\u001b[0m\u001b[1;32m    787\u001b[0m     \u001b[0mpeek\u001b[0m \u001b[0;34m=\u001b[0m \u001b[0mself\u001b[0m\u001b[0;34m.\u001b[0m\u001b[0m_standardize_batch\u001b[0m\u001b[0;34m(\u001b[0m\u001b[0mpeek\u001b[0m\u001b[0;34m)\u001b[0m\u001b[0;34m\u001b[0m\u001b[0;34m\u001b[0m\u001b[0m\n\u001b[1;32m    788\u001b[0m     \u001b[0mpeek\u001b[0m \u001b[0;34m=\u001b[0m \u001b[0m_process_tensorlike\u001b[0m\u001b[0;34m(\u001b[0m\u001b[0mpeek\u001b[0m\u001b[0;34m)\u001b[0m\u001b[0;34m\u001b[0m\u001b[0;34m\u001b[0m\u001b[0m\n",
            "\u001b[0;32m/usr/local/lib/python3.6/dist-packages/tensorflow/python/keras/engine/data_adapter.py\u001b[0m in \u001b[0;36m_peek_and_restore\u001b[0;34m(x)\u001b[0m\n\u001b[1;32m    918\u001b[0m   \u001b[0;34m@\u001b[0m\u001b[0mstaticmethod\u001b[0m\u001b[0;34m\u001b[0m\u001b[0;34m\u001b[0m\u001b[0m\n\u001b[1;32m    919\u001b[0m   \u001b[0;32mdef\u001b[0m \u001b[0m_peek_and_restore\u001b[0m\u001b[0;34m(\u001b[0m\u001b[0mx\u001b[0m\u001b[0;34m)\u001b[0m\u001b[0;34m:\u001b[0m\u001b[0;34m\u001b[0m\u001b[0;34m\u001b[0m\u001b[0m\n\u001b[0;32m--> 920\u001b[0;31m     \u001b[0;32mreturn\u001b[0m \u001b[0mx\u001b[0m\u001b[0;34m[\u001b[0m\u001b[0;36m0\u001b[0m\u001b[0;34m]\u001b[0m\u001b[0;34m,\u001b[0m \u001b[0mx\u001b[0m\u001b[0;34m\u001b[0m\u001b[0;34m\u001b[0m\u001b[0m\n\u001b[0m\u001b[1;32m    921\u001b[0m \u001b[0;34m\u001b[0m\u001b[0m\n\u001b[1;32m    922\u001b[0m   def _handle_multiprocessing(self, x, workers, use_multiprocessing,\n",
            "\u001b[0;32m/usr/local/lib/python3.6/dist-packages/keras_preprocessing/image/iterator.py\u001b[0m in \u001b[0;36m__getitem__\u001b[0;34m(self, idx)\u001b[0m\n\u001b[1;32m     55\u001b[0m                              \u001b[0;34m'but the Sequence '\u001b[0m\u001b[0;34m\u001b[0m\u001b[0;34m\u001b[0m\u001b[0m\n\u001b[1;32m     56\u001b[0m                              'has length {length}'.format(idx=idx,\n\u001b[0;32m---> 57\u001b[0;31m                                                           length=len(self)))\n\u001b[0m\u001b[1;32m     58\u001b[0m         \u001b[0;32mif\u001b[0m \u001b[0mself\u001b[0m\u001b[0;34m.\u001b[0m\u001b[0mseed\u001b[0m \u001b[0;32mis\u001b[0m \u001b[0;32mnot\u001b[0m \u001b[0;32mNone\u001b[0m\u001b[0;34m:\u001b[0m\u001b[0;34m\u001b[0m\u001b[0;34m\u001b[0m\u001b[0m\n\u001b[1;32m     59\u001b[0m             \u001b[0mnp\u001b[0m\u001b[0;34m.\u001b[0m\u001b[0mrandom\u001b[0m\u001b[0;34m.\u001b[0m\u001b[0mseed\u001b[0m\u001b[0;34m(\u001b[0m\u001b[0mself\u001b[0m\u001b[0;34m.\u001b[0m\u001b[0mseed\u001b[0m \u001b[0;34m+\u001b[0m \u001b[0mself\u001b[0m\u001b[0;34m.\u001b[0m\u001b[0mtotal_batches_seen\u001b[0m\u001b[0;34m)\u001b[0m\u001b[0;34m\u001b[0m\u001b[0;34m\u001b[0m\u001b[0m\n",
            "\u001b[0;31mValueError\u001b[0m: Asked to retrieve element 0, but the Sequence has length 0"
          ]
        }
      ]
    },
    {
      "cell_type": "code",
      "metadata": {
        "id": "87S56l1JIjxB"
      },
      "source": [
        "%matplotlib inline\n",
        "from sklearn.metrics import confusion_matrix\n",
        "import itertools\n",
        "import matplotlib.pyplot as plt\n",
        "import numpy as np"
      ],
      "execution_count": 9,
      "outputs": []
    },
    {
      "cell_type": "markdown",
      "metadata": {
        "id": "UFsL4ZFVXmy7"
      },
      "source": [
        "# **Evaluating VGG Model**"
      ]
    },
    {
      "cell_type": "code",
      "metadata": {
        "colab": {
          "base_uri": "https://localhost:8080/",
          "height": 923
        },
        "id": "Gvwlfw8JXU9g",
        "outputId": "84b3b1b2-27b9-4e80-8b1d-3061ebc45b86"
      },
      "source": [
        "Evaluate_CNN_Model()"
      ],
      "execution_count": 10,
      "outputs": [
        {
          "output_type": "stream",
          "text": [
            "Found 38 images belonging to 2 classes.\n"
          ],
          "name": "stdout"
        },
        {
          "output_type": "stream",
          "text": [
            "/usr/local/lib/python3.6/dist-packages/keras_preprocessing/image/image_data_generator.py:720: UserWarning: This ImageDataGenerator specifies `featurewise_center`, but it hasn't been fit on any training data. Fit it first by calling `.fit(numpy_data)`.\n",
            "  warnings.warn('This ImageDataGenerator specifies '\n",
            "/usr/local/lib/python3.6/dist-packages/keras_preprocessing/image/image_data_generator.py:728: UserWarning: This ImageDataGenerator specifies `featurewise_std_normalization`, but it hasn't been fit on any training data. Fit it first by calling `.fit(numpy_data)`.\n",
            "  warnings.warn('This ImageDataGenerator specifies '\n"
          ],
          "name": "stderr"
        },
        {
          "output_type": "stream",
          "text": [
            "2/2 [==============================] - 2s 1s/step\n"
          ],
          "name": "stdout"
        },
        {
          "output_type": "stream",
          "text": [
            "No handles with labels found to put in legend.\n"
          ],
          "name": "stderr"
        },
        {
          "output_type": "stream",
          "text": [
            "\n",
            "Confusion Matrix\n",
            " -------------------------\n",
            "[[25  2]\n",
            " [ 1 10]]\n",
            "Accuracy: 0.921053\n",
            "Precision: 0.833333\n",
            "Recall: 0.909091\n",
            "F1 score: 0.869565\n",
            "ROC AUC: 0.986532\n"
          ],
          "name": "stdout"
        },
        {
          "output_type": "display_data",
          "data": {
            "image/png": "[encoded data removed]",
            "text/plain": [
              "<Figure size 432x288 with 1 Axes>"
            ]
          },
          "metadata": {
            "tags": [],
            "needs_background": "light"
          }
        },
        {
          "output_type": "display_data",
          "data": {
            "image/png": "[encoded data removed]",
            "text/plain": [
              "<Figure size 432x288 with 2 Axes>"
            ]
          },
          "metadata": {
            "tags": [],
            "needs_background": "light"
          }
        }
      ]
    }
  ]
}